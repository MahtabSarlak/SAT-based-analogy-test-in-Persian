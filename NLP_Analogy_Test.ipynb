{
  "nbformat": 4,
  "nbformat_minor": 0,
  "metadata": {
    "colab": {
      "name": "NLP_PROJECT_CODE_220220.ipynb",
      "provenance": [],
      "collapsed_sections": [
        "LlGZcLC7ufjy",
        "zwSbjqBH_GFY",
        "RF9b_PVN_JZ7",
        "f93Hb4xMfRvq",
        "lnwS9fgC_L_l",
        "F_O5s9bOi0eC",
        "SNVcT642bldf",
        "FjCNVV1ajJyM",
        "9PWBmAABcu9E",
        "RAb-YOrmjaWC",
        "IYMKExEPB5YX"
      ]
    },
    "kernelspec": {
      "name": "python3",
      "display_name": "Python 3"
    },
    "language_info": {
      "name": "python"
    },
    "accelerator": "GPU",
    "widgets": {
      "application/vnd.jupyter.widget-state+json": {
        "76966669f36a4c80addbc191d9f67626": {
          "model_module": "@jupyter-widgets/controls",
          "model_name": "HBoxModel",
          "model_module_version": "1.5.0",
          "state": {
            "_view_name": "HBoxView",
            "_dom_classes": [],
            "_model_name": "HBoxModel",
            "_view_module": "@jupyter-widgets/controls",
            "_model_module_version": "1.5.0",
            "_view_count": null,
            "_view_module_version": "1.5.0",
            "box_style": "",
            "layout": "IPY_MODEL_dd08cc35224246d88ea28e90b9032c07",
            "_model_module": "@jupyter-widgets/controls",
            "children": [
              "IPY_MODEL_08cabb11127b40859a5704984eed6286",
              "IPY_MODEL_481417df2636428dbd7cde5c7e637839",
              "IPY_MODEL_54ef23275f2349f48cc1ab8c858b653e"
            ]
          }
        },
        "dd08cc35224246d88ea28e90b9032c07": {
          "model_module": "@jupyter-widgets/base",
          "model_name": "LayoutModel",
          "model_module_version": "1.2.0",
          "state": {
            "_view_name": "LayoutView",
            "grid_template_rows": null,
            "right": null,
            "justify_content": null,
            "_view_module": "@jupyter-widgets/base",
            "overflow": null,
            "_model_module_version": "1.2.0",
            "_view_count": null,
            "flex_flow": null,
            "width": null,
            "min_width": null,
            "border": null,
            "align_items": null,
            "bottom": null,
            "_model_module": "@jupyter-widgets/base",
            "top": null,
            "grid_column": null,
            "overflow_y": null,
            "overflow_x": null,
            "grid_auto_flow": null,
            "grid_area": null,
            "grid_template_columns": null,
            "flex": null,
            "_model_name": "LayoutModel",
            "justify_items": null,
            "grid_row": null,
            "max_height": null,
            "align_content": null,
            "visibility": null,
            "align_self": null,
            "height": null,
            "min_height": null,
            "padding": null,
            "grid_auto_rows": null,
            "grid_gap": null,
            "max_width": null,
            "order": null,
            "_view_module_version": "1.2.0",
            "grid_template_areas": null,
            "object_position": null,
            "object_fit": null,
            "grid_auto_columns": null,
            "margin": null,
            "display": null,
            "left": null
          }
        },
        "08cabb11127b40859a5704984eed6286": {
          "model_module": "@jupyter-widgets/controls",
          "model_name": "HTMLModel",
          "model_module_version": "1.5.0",
          "state": {
            "_view_name": "HTMLView",
            "style": "IPY_MODEL_a1b27ee24db3476a8c8d8b6c8f280739",
            "_dom_classes": [],
            "description": "",
            "_model_name": "HTMLModel",
            "placeholder": "​",
            "_view_module": "@jupyter-widgets/controls",
            "_model_module_version": "1.5.0",
            "value": "Downloading: 100%",
            "_view_count": null,
            "_view_module_version": "1.5.0",
            "description_tooltip": null,
            "_model_module": "@jupyter-widgets/controls",
            "layout": "IPY_MODEL_77e737aeece84941858caf34e6a22b86"
          }
        },
        "481417df2636428dbd7cde5c7e637839": {
          "model_module": "@jupyter-widgets/controls",
          "model_name": "FloatProgressModel",
          "model_module_version": "1.5.0",
          "state": {
            "_view_name": "ProgressView",
            "style": "IPY_MODEL_819c6f7f014d4f6287f0e56f374d6502",
            "_dom_classes": [],
            "description": "",
            "_model_name": "FloatProgressModel",
            "bar_style": "success",
            "max": 1198122,
            "_view_module": "@jupyter-widgets/controls",
            "_model_module_version": "1.5.0",
            "value": 1198122,
            "_view_count": null,
            "_view_module_version": "1.5.0",
            "orientation": "horizontal",
            "min": 0,
            "description_tooltip": null,
            "_model_module": "@jupyter-widgets/controls",
            "layout": "IPY_MODEL_8b51ad8d3733415d917f8eb3ec9b0dc3"
          }
        },
        "54ef23275f2349f48cc1ab8c858b653e": {
          "model_module": "@jupyter-widgets/controls",
          "model_name": "HTMLModel",
          "model_module_version": "1.5.0",
          "state": {
            "_view_name": "HTMLView",
            "style": "IPY_MODEL_5cf11cac61d64961a68f83eb58d0a2ea",
            "_dom_classes": [],
            "description": "",
            "_model_name": "HTMLModel",
            "placeholder": "​",
            "_view_module": "@jupyter-widgets/controls",
            "_model_module_version": "1.5.0",
            "value": " 1.14M/1.14M [00:00&lt;00:00, 2.05MB/s]",
            "_view_count": null,
            "_view_module_version": "1.5.0",
            "description_tooltip": null,
            "_model_module": "@jupyter-widgets/controls",
            "layout": "IPY_MODEL_6e963f19ea754424ba41e1c97ed63210"
          }
        },
        "a1b27ee24db3476a8c8d8b6c8f280739": {
          "model_module": "@jupyter-widgets/controls",
          "model_name": "DescriptionStyleModel",
          "model_module_version": "1.5.0",
          "state": {
            "_view_name": "StyleView",
            "_model_name": "DescriptionStyleModel",
            "description_width": "",
            "_view_module": "@jupyter-widgets/base",
            "_model_module_version": "1.5.0",
            "_view_count": null,
            "_view_module_version": "1.2.0",
            "_model_module": "@jupyter-widgets/controls"
          }
        },
        "77e737aeece84941858caf34e6a22b86": {
          "model_module": "@jupyter-widgets/base",
          "model_name": "LayoutModel",
          "model_module_version": "1.2.0",
          "state": {
            "_view_name": "LayoutView",
            "grid_template_rows": null,
            "right": null,
            "justify_content": null,
            "_view_module": "@jupyter-widgets/base",
            "overflow": null,
            "_model_module_version": "1.2.0",
            "_view_count": null,
            "flex_flow": null,
            "width": null,
            "min_width": null,
            "border": null,
            "align_items": null,
            "bottom": null,
            "_model_module": "@jupyter-widgets/base",
            "top": null,
            "grid_column": null,
            "overflow_y": null,
            "overflow_x": null,
            "grid_auto_flow": null,
            "grid_area": null,
            "grid_template_columns": null,
            "flex": null,
            "_model_name": "LayoutModel",
            "justify_items": null,
            "grid_row": null,
            "max_height": null,
            "align_content": null,
            "visibility": null,
            "align_self": null,
            "height": null,
            "min_height": null,
            "padding": null,
            "grid_auto_rows": null,
            "grid_gap": null,
            "max_width": null,
            "order": null,
            "_view_module_version": "1.2.0",
            "grid_template_areas": null,
            "object_position": null,
            "object_fit": null,
            "grid_auto_columns": null,
            "margin": null,
            "display": null,
            "left": null
          }
        },
        "819c6f7f014d4f6287f0e56f374d6502": {
          "model_module": "@jupyter-widgets/controls",
          "model_name": "ProgressStyleModel",
          "model_module_version": "1.5.0",
          "state": {
            "_view_name": "StyleView",
            "_model_name": "ProgressStyleModel",
            "description_width": "",
            "_view_module": "@jupyter-widgets/base",
            "_model_module_version": "1.5.0",
            "_view_count": null,
            "_view_module_version": "1.2.0",
            "bar_color": null,
            "_model_module": "@jupyter-widgets/controls"
          }
        },
        "8b51ad8d3733415d917f8eb3ec9b0dc3": {
          "model_module": "@jupyter-widgets/base",
          "model_name": "LayoutModel",
          "model_module_version": "1.2.0",
          "state": {
            "_view_name": "LayoutView",
            "grid_template_rows": null,
            "right": null,
            "justify_content": null,
            "_view_module": "@jupyter-widgets/base",
            "overflow": null,
            "_model_module_version": "1.2.0",
            "_view_count": null,
            "flex_flow": null,
            "width": null,
            "min_width": null,
            "border": null,
            "align_items": null,
            "bottom": null,
            "_model_module": "@jupyter-widgets/base",
            "top": null,
            "grid_column": null,
            "overflow_y": null,
            "overflow_x": null,
            "grid_auto_flow": null,
            "grid_area": null,
            "grid_template_columns": null,
            "flex": null,
            "_model_name": "LayoutModel",
            "justify_items": null,
            "grid_row": null,
            "max_height": null,
            "align_content": null,
            "visibility": null,
            "align_self": null,
            "height": null,
            "min_height": null,
            "padding": null,
            "grid_auto_rows": null,
            "grid_gap": null,
            "max_width": null,
            "order": null,
            "_view_module_version": "1.2.0",
            "grid_template_areas": null,
            "object_position": null,
            "object_fit": null,
            "grid_auto_columns": null,
            "margin": null,
            "display": null,
            "left": null
          }
        },
        "5cf11cac61d64961a68f83eb58d0a2ea": {
          "model_module": "@jupyter-widgets/controls",
          "model_name": "DescriptionStyleModel",
          "model_module_version": "1.5.0",
          "state": {
            "_view_name": "StyleView",
            "_model_name": "DescriptionStyleModel",
            "description_width": "",
            "_view_module": "@jupyter-widgets/base",
            "_model_module_version": "1.5.0",
            "_view_count": null,
            "_view_module_version": "1.2.0",
            "_model_module": "@jupyter-widgets/controls"
          }
        },
        "6e963f19ea754424ba41e1c97ed63210": {
          "model_module": "@jupyter-widgets/base",
          "model_name": "LayoutModel",
          "model_module_version": "1.2.0",
          "state": {
            "_view_name": "LayoutView",
            "grid_template_rows": null,
            "right": null,
            "justify_content": null,
            "_view_module": "@jupyter-widgets/base",
            "overflow": null,
            "_model_module_version": "1.2.0",
            "_view_count": null,
            "flex_flow": null,
            "width": null,
            "min_width": null,
            "border": null,
            "align_items": null,
            "bottom": null,
            "_model_module": "@jupyter-widgets/base",
            "top": null,
            "grid_column": null,
            "overflow_y": null,
            "overflow_x": null,
            "grid_auto_flow": null,
            "grid_area": null,
            "grid_template_columns": null,
            "flex": null,
            "_model_name": "LayoutModel",
            "justify_items": null,
            "grid_row": null,
            "max_height": null,
            "align_content": null,
            "visibility": null,
            "align_self": null,
            "height": null,
            "min_height": null,
            "padding": null,
            "grid_auto_rows": null,
            "grid_gap": null,
            "max_width": null,
            "order": null,
            "_view_module_version": "1.2.0",
            "grid_template_areas": null,
            "object_position": null,
            "object_fit": null,
            "grid_auto_columns": null,
            "margin": null,
            "display": null,
            "left": null
          }
        },
        "0c4bae9aaca84efe80298f4c062ab15f": {
          "model_module": "@jupyter-widgets/controls",
          "model_name": "HBoxModel",
          "model_module_version": "1.5.0",
          "state": {
            "_view_name": "HBoxView",
            "_dom_classes": [],
            "_model_name": "HBoxModel",
            "_view_module": "@jupyter-widgets/controls",
            "_model_module_version": "1.5.0",
            "_view_count": null,
            "_view_module_version": "1.5.0",
            "box_style": "",
            "layout": "IPY_MODEL_e7a12d7d7ef14ff5be118cd0f8b93e69",
            "_model_module": "@jupyter-widgets/controls",
            "children": [
              "IPY_MODEL_465046381ce743a585c5737a752a525a",
              "IPY_MODEL_336a96ba4f4646249035e45b528dbeaa",
              "IPY_MODEL_9e0ad1a941074af28c8acb8c8b0031ab"
            ]
          }
        },
        "e7a12d7d7ef14ff5be118cd0f8b93e69": {
          "model_module": "@jupyter-widgets/base",
          "model_name": "LayoutModel",
          "model_module_version": "1.2.0",
          "state": {
            "_view_name": "LayoutView",
            "grid_template_rows": null,
            "right": null,
            "justify_content": null,
            "_view_module": "@jupyter-widgets/base",
            "overflow": null,
            "_model_module_version": "1.2.0",
            "_view_count": null,
            "flex_flow": null,
            "width": null,
            "min_width": null,
            "border": null,
            "align_items": null,
            "bottom": null,
            "_model_module": "@jupyter-widgets/base",
            "top": null,
            "grid_column": null,
            "overflow_y": null,
            "overflow_x": null,
            "grid_auto_flow": null,
            "grid_area": null,
            "grid_template_columns": null,
            "flex": null,
            "_model_name": "LayoutModel",
            "justify_items": null,
            "grid_row": null,
            "max_height": null,
            "align_content": null,
            "visibility": null,
            "align_self": null,
            "height": null,
            "min_height": null,
            "padding": null,
            "grid_auto_rows": null,
            "grid_gap": null,
            "max_width": null,
            "order": null,
            "_view_module_version": "1.2.0",
            "grid_template_areas": null,
            "object_position": null,
            "object_fit": null,
            "grid_auto_columns": null,
            "margin": null,
            "display": null,
            "left": null
          }
        },
        "465046381ce743a585c5737a752a525a": {
          "model_module": "@jupyter-widgets/controls",
          "model_name": "HTMLModel",
          "model_module_version": "1.5.0",
          "state": {
            "_view_name": "HTMLView",
            "style": "IPY_MODEL_7db6dba31677429caed1093f4fcbc8a4",
            "_dom_classes": [],
            "description": "",
            "_model_name": "HTMLModel",
            "placeholder": "​",
            "_view_module": "@jupyter-widgets/controls",
            "_model_module_version": "1.5.0",
            "value": "Downloading: 100%",
            "_view_count": null,
            "_view_module_version": "1.5.0",
            "description_tooltip": null,
            "_model_module": "@jupyter-widgets/controls",
            "layout": "IPY_MODEL_b8f8a81f8a4e4571a6bffd4c4ca3d899"
          }
        },
        "336a96ba4f4646249035e45b528dbeaa": {
          "model_module": "@jupyter-widgets/controls",
          "model_name": "FloatProgressModel",
          "model_module_version": "1.5.0",
          "state": {
            "_view_name": "ProgressView",
            "style": "IPY_MODEL_bb551798448f48a7b5370d3476a81671",
            "_dom_classes": [],
            "description": "",
            "_model_name": "FloatProgressModel",
            "bar_style": "success",
            "max": 440,
            "_view_module": "@jupyter-widgets/controls",
            "_model_module_version": "1.5.0",
            "value": 440,
            "_view_count": null,
            "_view_module_version": "1.5.0",
            "orientation": "horizontal",
            "min": 0,
            "description_tooltip": null,
            "_model_module": "@jupyter-widgets/controls",
            "layout": "IPY_MODEL_e1a7e97c73be4cb39f6e94b2b3ce2472"
          }
        },
        "9e0ad1a941074af28c8acb8c8b0031ab": {
          "model_module": "@jupyter-widgets/controls",
          "model_name": "HTMLModel",
          "model_module_version": "1.5.0",
          "state": {
            "_view_name": "HTMLView",
            "style": "IPY_MODEL_bc8467f929ad40aaadf156982b32e626",
            "_dom_classes": [],
            "description": "",
            "_model_name": "HTMLModel",
            "placeholder": "​",
            "_view_module": "@jupyter-widgets/controls",
            "_model_module_version": "1.5.0",
            "value": " 440/440 [00:00&lt;00:00, 10.8kB/s]",
            "_view_count": null,
            "_view_module_version": "1.5.0",
            "description_tooltip": null,
            "_model_module": "@jupyter-widgets/controls",
            "layout": "IPY_MODEL_22528b56a2794cf39f9c34910dda0e5f"
          }
        },
        "7db6dba31677429caed1093f4fcbc8a4": {
          "model_module": "@jupyter-widgets/controls",
          "model_name": "DescriptionStyleModel",
          "model_module_version": "1.5.0",
          "state": {
            "_view_name": "StyleView",
            "_model_name": "DescriptionStyleModel",
            "description_width": "",
            "_view_module": "@jupyter-widgets/base",
            "_model_module_version": "1.5.0",
            "_view_count": null,
            "_view_module_version": "1.2.0",
            "_model_module": "@jupyter-widgets/controls"
          }
        },
        "b8f8a81f8a4e4571a6bffd4c4ca3d899": {
          "model_module": "@jupyter-widgets/base",
          "model_name": "LayoutModel",
          "model_module_version": "1.2.0",
          "state": {
            "_view_name": "LayoutView",
            "grid_template_rows": null,
            "right": null,
            "justify_content": null,
            "_view_module": "@jupyter-widgets/base",
            "overflow": null,
            "_model_module_version": "1.2.0",
            "_view_count": null,
            "flex_flow": null,
            "width": null,
            "min_width": null,
            "border": null,
            "align_items": null,
            "bottom": null,
            "_model_module": "@jupyter-widgets/base",
            "top": null,
            "grid_column": null,
            "overflow_y": null,
            "overflow_x": null,
            "grid_auto_flow": null,
            "grid_area": null,
            "grid_template_columns": null,
            "flex": null,
            "_model_name": "LayoutModel",
            "justify_items": null,
            "grid_row": null,
            "max_height": null,
            "align_content": null,
            "visibility": null,
            "align_self": null,
            "height": null,
            "min_height": null,
            "padding": null,
            "grid_auto_rows": null,
            "grid_gap": null,
            "max_width": null,
            "order": null,
            "_view_module_version": "1.2.0",
            "grid_template_areas": null,
            "object_position": null,
            "object_fit": null,
            "grid_auto_columns": null,
            "margin": null,
            "display": null,
            "left": null
          }
        },
        "bb551798448f48a7b5370d3476a81671": {
          "model_module": "@jupyter-widgets/controls",
          "model_name": "ProgressStyleModel",
          "model_module_version": "1.5.0",
          "state": {
            "_view_name": "StyleView",
            "_model_name": "ProgressStyleModel",
            "description_width": "",
            "_view_module": "@jupyter-widgets/base",
            "_model_module_version": "1.5.0",
            "_view_count": null,
            "_view_module_version": "1.2.0",
            "bar_color": null,
            "_model_module": "@jupyter-widgets/controls"
          }
        },
        "e1a7e97c73be4cb39f6e94b2b3ce2472": {
          "model_module": "@jupyter-widgets/base",
          "model_name": "LayoutModel",
          "model_module_version": "1.2.0",
          "state": {
            "_view_name": "LayoutView",
            "grid_template_rows": null,
            "right": null,
            "justify_content": null,
            "_view_module": "@jupyter-widgets/base",
            "overflow": null,
            "_model_module_version": "1.2.0",
            "_view_count": null,
            "flex_flow": null,
            "width": null,
            "min_width": null,
            "border": null,
            "align_items": null,
            "bottom": null,
            "_model_module": "@jupyter-widgets/base",
            "top": null,
            "grid_column": null,
            "overflow_y": null,
            "overflow_x": null,
            "grid_auto_flow": null,
            "grid_area": null,
            "grid_template_columns": null,
            "flex": null,
            "_model_name": "LayoutModel",
            "justify_items": null,
            "grid_row": null,
            "max_height": null,
            "align_content": null,
            "visibility": null,
            "align_self": null,
            "height": null,
            "min_height": null,
            "padding": null,
            "grid_auto_rows": null,
            "grid_gap": null,
            "max_width": null,
            "order": null,
            "_view_module_version": "1.2.0",
            "grid_template_areas": null,
            "object_position": null,
            "object_fit": null,
            "grid_auto_columns": null,
            "margin": null,
            "display": null,
            "left": null
          }
        },
        "bc8467f929ad40aaadf156982b32e626": {
          "model_module": "@jupyter-widgets/controls",
          "model_name": "DescriptionStyleModel",
          "model_module_version": "1.5.0",
          "state": {
            "_view_name": "StyleView",
            "_model_name": "DescriptionStyleModel",
            "description_width": "",
            "_view_module": "@jupyter-widgets/base",
            "_model_module_version": "1.5.0",
            "_view_count": null,
            "_view_module_version": "1.2.0",
            "_model_module": "@jupyter-widgets/controls"
          }
        },
        "22528b56a2794cf39f9c34910dda0e5f": {
          "model_module": "@jupyter-widgets/base",
          "model_name": "LayoutModel",
          "model_module_version": "1.2.0",
          "state": {
            "_view_name": "LayoutView",
            "grid_template_rows": null,
            "right": null,
            "justify_content": null,
            "_view_module": "@jupyter-widgets/base",
            "overflow": null,
            "_model_module_version": "1.2.0",
            "_view_count": null,
            "flex_flow": null,
            "width": null,
            "min_width": null,
            "border": null,
            "align_items": null,
            "bottom": null,
            "_model_module": "@jupyter-widgets/base",
            "top": null,
            "grid_column": null,
            "overflow_y": null,
            "overflow_x": null,
            "grid_auto_flow": null,
            "grid_area": null,
            "grid_template_columns": null,
            "flex": null,
            "_model_name": "LayoutModel",
            "justify_items": null,
            "grid_row": null,
            "max_height": null,
            "align_content": null,
            "visibility": null,
            "align_self": null,
            "height": null,
            "min_height": null,
            "padding": null,
            "grid_auto_rows": null,
            "grid_gap": null,
            "max_width": null,
            "order": null,
            "_view_module_version": "1.2.0",
            "grid_template_areas": null,
            "object_position": null,
            "object_fit": null,
            "grid_auto_columns": null,
            "margin": null,
            "display": null,
            "left": null
          }
        },
        "1666a95204164788b6f5747946c39928": {
          "model_module": "@jupyter-widgets/controls",
          "model_name": "HBoxModel",
          "model_module_version": "1.5.0",
          "state": {
            "_view_name": "HBoxView",
            "_dom_classes": [],
            "_model_name": "HBoxModel",
            "_view_module": "@jupyter-widgets/controls",
            "_model_module_version": "1.5.0",
            "_view_count": null,
            "_view_module_version": "1.5.0",
            "box_style": "",
            "layout": "IPY_MODEL_e5886ca1d30140fe9aa38bb2dc4adab1",
            "_model_module": "@jupyter-widgets/controls",
            "children": [
              "IPY_MODEL_39f453e34b39403eba2153398a72478a",
              "IPY_MODEL_4ed9039e880e4df98f785bab6130fa8e",
              "IPY_MODEL_b97368447fa64060aa54b8bef3d1dd20"
            ]
          }
        },
        "e5886ca1d30140fe9aa38bb2dc4adab1": {
          "model_module": "@jupyter-widgets/base",
          "model_name": "LayoutModel",
          "model_module_version": "1.2.0",
          "state": {
            "_view_name": "LayoutView",
            "grid_template_rows": null,
            "right": null,
            "justify_content": null,
            "_view_module": "@jupyter-widgets/base",
            "overflow": null,
            "_model_module_version": "1.2.0",
            "_view_count": null,
            "flex_flow": null,
            "width": null,
            "min_width": null,
            "border": null,
            "align_items": null,
            "bottom": null,
            "_model_module": "@jupyter-widgets/base",
            "top": null,
            "grid_column": null,
            "overflow_y": null,
            "overflow_x": null,
            "grid_auto_flow": null,
            "grid_area": null,
            "grid_template_columns": null,
            "flex": null,
            "_model_name": "LayoutModel",
            "justify_items": null,
            "grid_row": null,
            "max_height": null,
            "align_content": null,
            "visibility": null,
            "align_self": null,
            "height": null,
            "min_height": null,
            "padding": null,
            "grid_auto_rows": null,
            "grid_gap": null,
            "max_width": null,
            "order": null,
            "_view_module_version": "1.2.0",
            "grid_template_areas": null,
            "object_position": null,
            "object_fit": null,
            "grid_auto_columns": null,
            "margin": null,
            "display": null,
            "left": null
          }
        },
        "39f453e34b39403eba2153398a72478a": {
          "model_module": "@jupyter-widgets/controls",
          "model_name": "HTMLModel",
          "model_module_version": "1.5.0",
          "state": {
            "_view_name": "HTMLView",
            "style": "IPY_MODEL_263760a626a94dd598289dd073a2e607",
            "_dom_classes": [],
            "description": "",
            "_model_name": "HTMLModel",
            "placeholder": "​",
            "_view_module": "@jupyter-widgets/controls",
            "_model_module_version": "1.5.0",
            "value": "Downloading: 100%",
            "_view_count": null,
            "_view_module_version": "1.5.0",
            "description_tooltip": null,
            "_model_module": "@jupyter-widgets/controls",
            "layout": "IPY_MODEL_4b8b884c436a4f23860527fd45467db2"
          }
        },
        "4ed9039e880e4df98f785bab6130fa8e": {
          "model_module": "@jupyter-widgets/controls",
          "model_name": "FloatProgressModel",
          "model_module_version": "1.5.0",
          "state": {
            "_view_name": "ProgressView",
            "style": "IPY_MODEL_b0e60483ac5e45eb9284ebf706b34e76",
            "_dom_classes": [],
            "description": "",
            "_model_name": "FloatProgressModel",
            "bar_style": "success",
            "max": 654226731,
            "_view_module": "@jupyter-widgets/controls",
            "_model_module_version": "1.5.0",
            "value": 654226731,
            "_view_count": null,
            "_view_module_version": "1.5.0",
            "orientation": "horizontal",
            "min": 0,
            "description_tooltip": null,
            "_model_module": "@jupyter-widgets/controls",
            "layout": "IPY_MODEL_471c5a74c0c343caa0980e1526bfe67c"
          }
        },
        "b97368447fa64060aa54b8bef3d1dd20": {
          "model_module": "@jupyter-widgets/controls",
          "model_name": "HTMLModel",
          "model_module_version": "1.5.0",
          "state": {
            "_view_name": "HTMLView",
            "style": "IPY_MODEL_d5e1ebd066314776b8fc62692b66f970",
            "_dom_classes": [],
            "description": "",
            "_model_name": "HTMLModel",
            "placeholder": "​",
            "_view_module": "@jupyter-widgets/controls",
            "_model_module_version": "1.5.0",
            "value": " 624M/624M [00:26&lt;00:00, 32.6MB/s]",
            "_view_count": null,
            "_view_module_version": "1.5.0",
            "description_tooltip": null,
            "_model_module": "@jupyter-widgets/controls",
            "layout": "IPY_MODEL_cff31243437942f6972c41b300ae34ca"
          }
        },
        "263760a626a94dd598289dd073a2e607": {
          "model_module": "@jupyter-widgets/controls",
          "model_name": "DescriptionStyleModel",
          "model_module_version": "1.5.0",
          "state": {
            "_view_name": "StyleView",
            "_model_name": "DescriptionStyleModel",
            "description_width": "",
            "_view_module": "@jupyter-widgets/base",
            "_model_module_version": "1.5.0",
            "_view_count": null,
            "_view_module_version": "1.2.0",
            "_model_module": "@jupyter-widgets/controls"
          }
        },
        "4b8b884c436a4f23860527fd45467db2": {
          "model_module": "@jupyter-widgets/base",
          "model_name": "LayoutModel",
          "model_module_version": "1.2.0",
          "state": {
            "_view_name": "LayoutView",
            "grid_template_rows": null,
            "right": null,
            "justify_content": null,
            "_view_module": "@jupyter-widgets/base",
            "overflow": null,
            "_model_module_version": "1.2.0",
            "_view_count": null,
            "flex_flow": null,
            "width": null,
            "min_width": null,
            "border": null,
            "align_items": null,
            "bottom": null,
            "_model_module": "@jupyter-widgets/base",
            "top": null,
            "grid_column": null,
            "overflow_y": null,
            "overflow_x": null,
            "grid_auto_flow": null,
            "grid_area": null,
            "grid_template_columns": null,
            "flex": null,
            "_model_name": "LayoutModel",
            "justify_items": null,
            "grid_row": null,
            "max_height": null,
            "align_content": null,
            "visibility": null,
            "align_self": null,
            "height": null,
            "min_height": null,
            "padding": null,
            "grid_auto_rows": null,
            "grid_gap": null,
            "max_width": null,
            "order": null,
            "_view_module_version": "1.2.0",
            "grid_template_areas": null,
            "object_position": null,
            "object_fit": null,
            "grid_auto_columns": null,
            "margin": null,
            "display": null,
            "left": null
          }
        },
        "b0e60483ac5e45eb9284ebf706b34e76": {
          "model_module": "@jupyter-widgets/controls",
          "model_name": "ProgressStyleModel",
          "model_module_version": "1.5.0",
          "state": {
            "_view_name": "StyleView",
            "_model_name": "ProgressStyleModel",
            "description_width": "",
            "_view_module": "@jupyter-widgets/base",
            "_model_module_version": "1.5.0",
            "_view_count": null,
            "_view_module_version": "1.2.0",
            "bar_color": null,
            "_model_module": "@jupyter-widgets/controls"
          }
        },
        "471c5a74c0c343caa0980e1526bfe67c": {
          "model_module": "@jupyter-widgets/base",
          "model_name": "LayoutModel",
          "model_module_version": "1.2.0",
          "state": {
            "_view_name": "LayoutView",
            "grid_template_rows": null,
            "right": null,
            "justify_content": null,
            "_view_module": "@jupyter-widgets/base",
            "overflow": null,
            "_model_module_version": "1.2.0",
            "_view_count": null,
            "flex_flow": null,
            "width": null,
            "min_width": null,
            "border": null,
            "align_items": null,
            "bottom": null,
            "_model_module": "@jupyter-widgets/base",
            "top": null,
            "grid_column": null,
            "overflow_y": null,
            "overflow_x": null,
            "grid_auto_flow": null,
            "grid_area": null,
            "grid_template_columns": null,
            "flex": null,
            "_model_name": "LayoutModel",
            "justify_items": null,
            "grid_row": null,
            "max_height": null,
            "align_content": null,
            "visibility": null,
            "align_self": null,
            "height": null,
            "min_height": null,
            "padding": null,
            "grid_auto_rows": null,
            "grid_gap": null,
            "max_width": null,
            "order": null,
            "_view_module_version": "1.2.0",
            "grid_template_areas": null,
            "object_position": null,
            "object_fit": null,
            "grid_auto_columns": null,
            "margin": null,
            "display": null,
            "left": null
          }
        },
        "d5e1ebd066314776b8fc62692b66f970": {
          "model_module": "@jupyter-widgets/controls",
          "model_name": "DescriptionStyleModel",
          "model_module_version": "1.5.0",
          "state": {
            "_view_name": "StyleView",
            "_model_name": "DescriptionStyleModel",
            "description_width": "",
            "_view_module": "@jupyter-widgets/base",
            "_model_module_version": "1.5.0",
            "_view_count": null,
            "_view_module_version": "1.2.0",
            "_model_module": "@jupyter-widgets/controls"
          }
        },
        "cff31243437942f6972c41b300ae34ca": {
          "model_module": "@jupyter-widgets/base",
          "model_name": "LayoutModel",
          "model_module_version": "1.2.0",
          "state": {
            "_view_name": "LayoutView",
            "grid_template_rows": null,
            "right": null,
            "justify_content": null,
            "_view_module": "@jupyter-widgets/base",
            "overflow": null,
            "_model_module_version": "1.2.0",
            "_view_count": null,
            "flex_flow": null,
            "width": null,
            "min_width": null,
            "border": null,
            "align_items": null,
            "bottom": null,
            "_model_module": "@jupyter-widgets/base",
            "top": null,
            "grid_column": null,
            "overflow_y": null,
            "overflow_x": null,
            "grid_auto_flow": null,
            "grid_area": null,
            "grid_template_columns": null,
            "flex": null,
            "_model_name": "LayoutModel",
            "justify_items": null,
            "grid_row": null,
            "max_height": null,
            "align_content": null,
            "visibility": null,
            "align_self": null,
            "height": null,
            "min_height": null,
            "padding": null,
            "grid_auto_rows": null,
            "grid_gap": null,
            "max_width": null,
            "order": null,
            "_view_module_version": "1.2.0",
            "grid_template_areas": null,
            "object_position": null,
            "object_fit": null,
            "grid_auto_columns": null,
            "margin": null,
            "display": null,
            "left": null
          }
        },
        "665b93da7b56464d8dc1998e039f5c37": {
          "model_module": "@jupyter-widgets/controls",
          "model_name": "HBoxModel",
          "model_module_version": "1.5.0",
          "state": {
            "_view_name": "HBoxView",
            "_dom_classes": [],
            "_model_name": "HBoxModel",
            "_view_module": "@jupyter-widgets/controls",
            "_model_module_version": "1.5.0",
            "_view_count": null,
            "_view_module_version": "1.5.0",
            "box_style": "",
            "layout": "IPY_MODEL_50a4868b4c9246ad989e72adaacac839",
            "_model_module": "@jupyter-widgets/controls",
            "children": [
              "IPY_MODEL_85db5875f2b14a5db9b02062ac98e456",
              "IPY_MODEL_6605ed86837a4046be79109b9873fcfd",
              "IPY_MODEL_ee2ebb5a418d42b8b6ef9913e4fee3a8"
            ]
          }
        },
        "50a4868b4c9246ad989e72adaacac839": {
          "model_module": "@jupyter-widgets/base",
          "model_name": "LayoutModel",
          "model_module_version": "1.2.0",
          "state": {
            "_view_name": "LayoutView",
            "grid_template_rows": null,
            "right": null,
            "justify_content": null,
            "_view_module": "@jupyter-widgets/base",
            "overflow": null,
            "_model_module_version": "1.2.0",
            "_view_count": null,
            "flex_flow": null,
            "width": null,
            "min_width": null,
            "border": null,
            "align_items": null,
            "bottom": null,
            "_model_module": "@jupyter-widgets/base",
            "top": null,
            "grid_column": null,
            "overflow_y": null,
            "overflow_x": null,
            "grid_auto_flow": null,
            "grid_area": null,
            "grid_template_columns": null,
            "flex": null,
            "_model_name": "LayoutModel",
            "justify_items": null,
            "grid_row": null,
            "max_height": null,
            "align_content": null,
            "visibility": null,
            "align_self": null,
            "height": null,
            "min_height": null,
            "padding": null,
            "grid_auto_rows": null,
            "grid_gap": null,
            "max_width": null,
            "order": null,
            "_view_module_version": "1.2.0",
            "grid_template_areas": null,
            "object_position": null,
            "object_fit": null,
            "grid_auto_columns": null,
            "margin": null,
            "display": null,
            "left": null
          }
        },
        "85db5875f2b14a5db9b02062ac98e456": {
          "model_module": "@jupyter-widgets/controls",
          "model_name": "HTMLModel",
          "model_module_version": "1.5.0",
          "state": {
            "_view_name": "HTMLView",
            "style": "IPY_MODEL_8c80852c2c6d42b4bfe3e558a62152f1",
            "_dom_classes": [],
            "description": "",
            "_model_name": "HTMLModel",
            "placeholder": "​",
            "_view_module": "@jupyter-widgets/controls",
            "_model_module_version": "1.5.0",
            "value": "Downloading: 100%",
            "_view_count": null,
            "_view_module_version": "1.5.0",
            "description_tooltip": null,
            "_model_module": "@jupyter-widgets/controls",
            "layout": "IPY_MODEL_6137f74b4dad4b7fbdd5216bf81c9f97"
          }
        },
        "6605ed86837a4046be79109b9873fcfd": {
          "model_module": "@jupyter-widgets/controls",
          "model_name": "FloatProgressModel",
          "model_module_version": "1.5.0",
          "state": {
            "_view_name": "ProgressView",
            "style": "IPY_MODEL_81d16f5e45c54197866847b2b7ac9c43",
            "_dom_classes": [],
            "description": "",
            "_model_name": "FloatProgressModel",
            "bar_style": "success",
            "max": 808,
            "_view_module": "@jupyter-widgets/controls",
            "_model_module_version": "1.5.0",
            "value": 808,
            "_view_count": null,
            "_view_module_version": "1.5.0",
            "orientation": "horizontal",
            "min": 0,
            "description_tooltip": null,
            "_model_module": "@jupyter-widgets/controls",
            "layout": "IPY_MODEL_ed91ee5110904cdfa846080d6b2787e9"
          }
        },
        "ee2ebb5a418d42b8b6ef9913e4fee3a8": {
          "model_module": "@jupyter-widgets/controls",
          "model_name": "HTMLModel",
          "model_module_version": "1.5.0",
          "state": {
            "_view_name": "HTMLView",
            "style": "IPY_MODEL_0ef41bd5f0314302b065e6b3d0beab9b",
            "_dom_classes": [],
            "description": "",
            "_model_name": "HTMLModel",
            "placeholder": "​",
            "_view_module": "@jupyter-widgets/controls",
            "_model_module_version": "1.5.0",
            "value": " 808/808 [00:00&lt;00:00, 20.4kB/s]",
            "_view_count": null,
            "_view_module_version": "1.5.0",
            "description_tooltip": null,
            "_model_module": "@jupyter-widgets/controls",
            "layout": "IPY_MODEL_70ce4b0d8cae41249fa93590356b4f1e"
          }
        },
        "8c80852c2c6d42b4bfe3e558a62152f1": {
          "model_module": "@jupyter-widgets/controls",
          "model_name": "DescriptionStyleModel",
          "model_module_version": "1.5.0",
          "state": {
            "_view_name": "StyleView",
            "_model_name": "DescriptionStyleModel",
            "description_width": "",
            "_view_module": "@jupyter-widgets/base",
            "_model_module_version": "1.5.0",
            "_view_count": null,
            "_view_module_version": "1.2.0",
            "_model_module": "@jupyter-widgets/controls"
          }
        },
        "6137f74b4dad4b7fbdd5216bf81c9f97": {
          "model_module": "@jupyter-widgets/base",
          "model_name": "LayoutModel",
          "model_module_version": "1.2.0",
          "state": {
            "_view_name": "LayoutView",
            "grid_template_rows": null,
            "right": null,
            "justify_content": null,
            "_view_module": "@jupyter-widgets/base",
            "overflow": null,
            "_model_module_version": "1.2.0",
            "_view_count": null,
            "flex_flow": null,
            "width": null,
            "min_width": null,
            "border": null,
            "align_items": null,
            "bottom": null,
            "_model_module": "@jupyter-widgets/base",
            "top": null,
            "grid_column": null,
            "overflow_y": null,
            "overflow_x": null,
            "grid_auto_flow": null,
            "grid_area": null,
            "grid_template_columns": null,
            "flex": null,
            "_model_name": "LayoutModel",
            "justify_items": null,
            "grid_row": null,
            "max_height": null,
            "align_content": null,
            "visibility": null,
            "align_self": null,
            "height": null,
            "min_height": null,
            "padding": null,
            "grid_auto_rows": null,
            "grid_gap": null,
            "max_width": null,
            "order": null,
            "_view_module_version": "1.2.0",
            "grid_template_areas": null,
            "object_position": null,
            "object_fit": null,
            "grid_auto_columns": null,
            "margin": null,
            "display": null,
            "left": null
          }
        },
        "81d16f5e45c54197866847b2b7ac9c43": {
          "model_module": "@jupyter-widgets/controls",
          "model_name": "ProgressStyleModel",
          "model_module_version": "1.5.0",
          "state": {
            "_view_name": "StyleView",
            "_model_name": "ProgressStyleModel",
            "description_width": "",
            "_view_module": "@jupyter-widgets/base",
            "_model_module_version": "1.5.0",
            "_view_count": null,
            "_view_module_version": "1.2.0",
            "bar_color": null,
            "_model_module": "@jupyter-widgets/controls"
          }
        },
        "ed91ee5110904cdfa846080d6b2787e9": {
          "model_module": "@jupyter-widgets/base",
          "model_name": "LayoutModel",
          "model_module_version": "1.2.0",
          "state": {
            "_view_name": "LayoutView",
            "grid_template_rows": null,
            "right": null,
            "justify_content": null,
            "_view_module": "@jupyter-widgets/base",
            "overflow": null,
            "_model_module_version": "1.2.0",
            "_view_count": null,
            "flex_flow": null,
            "width": null,
            "min_width": null,
            "border": null,
            "align_items": null,
            "bottom": null,
            "_model_module": "@jupyter-widgets/base",
            "top": null,
            "grid_column": null,
            "overflow_y": null,
            "overflow_x": null,
            "grid_auto_flow": null,
            "grid_area": null,
            "grid_template_columns": null,
            "flex": null,
            "_model_name": "LayoutModel",
            "justify_items": null,
            "grid_row": null,
            "max_height": null,
            "align_content": null,
            "visibility": null,
            "align_self": null,
            "height": null,
            "min_height": null,
            "padding": null,
            "grid_auto_rows": null,
            "grid_gap": null,
            "max_width": null,
            "order": null,
            "_view_module_version": "1.2.0",
            "grid_template_areas": null,
            "object_position": null,
            "object_fit": null,
            "grid_auto_columns": null,
            "margin": null,
            "display": null,
            "left": null
          }
        },
        "0ef41bd5f0314302b065e6b3d0beab9b": {
          "model_module": "@jupyter-widgets/controls",
          "model_name": "DescriptionStyleModel",
          "model_module_version": "1.5.0",
          "state": {
            "_view_name": "StyleView",
            "_model_name": "DescriptionStyleModel",
            "description_width": "",
            "_view_module": "@jupyter-widgets/base",
            "_model_module_version": "1.5.0",
            "_view_count": null,
            "_view_module_version": "1.2.0",
            "_model_module": "@jupyter-widgets/controls"
          }
        },
        "70ce4b0d8cae41249fa93590356b4f1e": {
          "model_module": "@jupyter-widgets/base",
          "model_name": "LayoutModel",
          "model_module_version": "1.2.0",
          "state": {
            "_view_name": "LayoutView",
            "grid_template_rows": null,
            "right": null,
            "justify_content": null,
            "_view_module": "@jupyter-widgets/base",
            "overflow": null,
            "_model_module_version": "1.2.0",
            "_view_count": null,
            "flex_flow": null,
            "width": null,
            "min_width": null,
            "border": null,
            "align_items": null,
            "bottom": null,
            "_model_module": "@jupyter-widgets/base",
            "top": null,
            "grid_column": null,
            "overflow_y": null,
            "overflow_x": null,
            "grid_auto_flow": null,
            "grid_area": null,
            "grid_template_columns": null,
            "flex": null,
            "_model_name": "LayoutModel",
            "justify_items": null,
            "grid_row": null,
            "max_height": null,
            "align_content": null,
            "visibility": null,
            "align_self": null,
            "height": null,
            "min_height": null,
            "padding": null,
            "grid_auto_rows": null,
            "grid_gap": null,
            "max_width": null,
            "order": null,
            "_view_module_version": "1.2.0",
            "grid_template_areas": null,
            "object_position": null,
            "object_fit": null,
            "grid_auto_columns": null,
            "margin": null,
            "display": null,
            "left": null
          }
        },
        "1ceaceb6f3304bf08f655697f55a0c16": {
          "model_module": "@jupyter-widgets/controls",
          "model_name": "HBoxModel",
          "model_module_version": "1.5.0",
          "state": {
            "_view_name": "HBoxView",
            "_dom_classes": [],
            "_model_name": "HBoxModel",
            "_view_module": "@jupyter-widgets/controls",
            "_model_module_version": "1.5.0",
            "_view_count": null,
            "_view_module_version": "1.5.0",
            "box_style": "",
            "layout": "IPY_MODEL_a068b0ecf93d4ff18a65e259bc540b34",
            "_model_module": "@jupyter-widgets/controls",
            "children": [
              "IPY_MODEL_d4201e6f5cdb42a18aebec736323bf21",
              "IPY_MODEL_f5406f070f0042279e1c14770343610e",
              "IPY_MODEL_c0e271d9ac81404ca7fdb2e642ae5f35"
            ]
          }
        },
        "a068b0ecf93d4ff18a65e259bc540b34": {
          "model_module": "@jupyter-widgets/base",
          "model_name": "LayoutModel",
          "model_module_version": "1.2.0",
          "state": {
            "_view_name": "LayoutView",
            "grid_template_rows": null,
            "right": null,
            "justify_content": null,
            "_view_module": "@jupyter-widgets/base",
            "overflow": null,
            "_model_module_version": "1.2.0",
            "_view_count": null,
            "flex_flow": null,
            "width": null,
            "min_width": null,
            "border": null,
            "align_items": null,
            "bottom": null,
            "_model_module": "@jupyter-widgets/base",
            "top": null,
            "grid_column": null,
            "overflow_y": null,
            "overflow_x": null,
            "grid_auto_flow": null,
            "grid_area": null,
            "grid_template_columns": null,
            "flex": null,
            "_model_name": "LayoutModel",
            "justify_items": null,
            "grid_row": null,
            "max_height": null,
            "align_content": null,
            "visibility": null,
            "align_self": null,
            "height": null,
            "min_height": null,
            "padding": null,
            "grid_auto_rows": null,
            "grid_gap": null,
            "max_width": null,
            "order": null,
            "_view_module_version": "1.2.0",
            "grid_template_areas": null,
            "object_position": null,
            "object_fit": null,
            "grid_auto_columns": null,
            "margin": null,
            "display": null,
            "left": null
          }
        },
        "d4201e6f5cdb42a18aebec736323bf21": {
          "model_module": "@jupyter-widgets/controls",
          "model_name": "HTMLModel",
          "model_module_version": "1.5.0",
          "state": {
            "_view_name": "HTMLView",
            "style": "IPY_MODEL_643b895191fa48e3a450b7c6d177d84f",
            "_dom_classes": [],
            "description": "",
            "_model_name": "HTMLModel",
            "placeholder": "​",
            "_view_module": "@jupyter-widgets/controls",
            "_model_module_version": "1.5.0",
            "value": "Downloading: 100%",
            "_view_count": null,
            "_view_module_version": "1.5.0",
            "description_tooltip": null,
            "_model_module": "@jupyter-widgets/controls",
            "layout": "IPY_MODEL_4cf500ef88c1410b88131863655885e3"
          }
        },
        "f5406f070f0042279e1c14770343610e": {
          "model_module": "@jupyter-widgets/controls",
          "model_name": "FloatProgressModel",
          "model_module_version": "1.5.0",
          "state": {
            "_view_name": "ProgressView",
            "style": "IPY_MODEL_4047ac1281e54c99a0c9a96845ae83fa",
            "_dom_classes": [],
            "description": "",
            "_model_name": "FloatProgressModel",
            "bar_style": "success",
            "max": 485044198,
            "_view_module": "@jupyter-widgets/controls",
            "_model_module_version": "1.5.0",
            "value": 485044198,
            "_view_count": null,
            "_view_module_version": "1.5.0",
            "orientation": "horizontal",
            "min": 0,
            "description_tooltip": null,
            "_model_module": "@jupyter-widgets/controls",
            "layout": "IPY_MODEL_1aba1275a2204e04a7fd9832285fef0c"
          }
        },
        "c0e271d9ac81404ca7fdb2e642ae5f35": {
          "model_module": "@jupyter-widgets/controls",
          "model_name": "HTMLModel",
          "model_module_version": "1.5.0",
          "state": {
            "_view_name": "HTMLView",
            "style": "IPY_MODEL_dbe60103229b4c9fac68a35496ba0785",
            "_dom_classes": [],
            "description": "",
            "_model_name": "HTMLModel",
            "placeholder": "​",
            "_view_module": "@jupyter-widgets/controls",
            "_model_module_version": "1.5.0",
            "value": " 463M/463M [00:33&lt;00:00, 9.83MB/s]",
            "_view_count": null,
            "_view_module_version": "1.5.0",
            "description_tooltip": null,
            "_model_module": "@jupyter-widgets/controls",
            "layout": "IPY_MODEL_e8943a40b3814fa792ba6ed6c4cf76f8"
          }
        },
        "643b895191fa48e3a450b7c6d177d84f": {
          "model_module": "@jupyter-widgets/controls",
          "model_name": "DescriptionStyleModel",
          "model_module_version": "1.5.0",
          "state": {
            "_view_name": "StyleView",
            "_model_name": "DescriptionStyleModel",
            "description_width": "",
            "_view_module": "@jupyter-widgets/base",
            "_model_module_version": "1.5.0",
            "_view_count": null,
            "_view_module_version": "1.2.0",
            "_model_module": "@jupyter-widgets/controls"
          }
        },
        "4cf500ef88c1410b88131863655885e3": {
          "model_module": "@jupyter-widgets/base",
          "model_name": "LayoutModel",
          "model_module_version": "1.2.0",
          "state": {
            "_view_name": "LayoutView",
            "grid_template_rows": null,
            "right": null,
            "justify_content": null,
            "_view_module": "@jupyter-widgets/base",
            "overflow": null,
            "_model_module_version": "1.2.0",
            "_view_count": null,
            "flex_flow": null,
            "width": null,
            "min_width": null,
            "border": null,
            "align_items": null,
            "bottom": null,
            "_model_module": "@jupyter-widgets/base",
            "top": null,
            "grid_column": null,
            "overflow_y": null,
            "overflow_x": null,
            "grid_auto_flow": null,
            "grid_area": null,
            "grid_template_columns": null,
            "flex": null,
            "_model_name": "LayoutModel",
            "justify_items": null,
            "grid_row": null,
            "max_height": null,
            "align_content": null,
            "visibility": null,
            "align_self": null,
            "height": null,
            "min_height": null,
            "padding": null,
            "grid_auto_rows": null,
            "grid_gap": null,
            "max_width": null,
            "order": null,
            "_view_module_version": "1.2.0",
            "grid_template_areas": null,
            "object_position": null,
            "object_fit": null,
            "grid_auto_columns": null,
            "margin": null,
            "display": null,
            "left": null
          }
        },
        "4047ac1281e54c99a0c9a96845ae83fa": {
          "model_module": "@jupyter-widgets/controls",
          "model_name": "ProgressStyleModel",
          "model_module_version": "1.5.0",
          "state": {
            "_view_name": "StyleView",
            "_model_name": "ProgressStyleModel",
            "description_width": "",
            "_view_module": "@jupyter-widgets/base",
            "_model_module_version": "1.5.0",
            "_view_count": null,
            "_view_module_version": "1.2.0",
            "bar_color": null,
            "_model_module": "@jupyter-widgets/controls"
          }
        },
        "1aba1275a2204e04a7fd9832285fef0c": {
          "model_module": "@jupyter-widgets/base",
          "model_name": "LayoutModel",
          "model_module_version": "1.2.0",
          "state": {
            "_view_name": "LayoutView",
            "grid_template_rows": null,
            "right": null,
            "justify_content": null,
            "_view_module": "@jupyter-widgets/base",
            "overflow": null,
            "_model_module_version": "1.2.0",
            "_view_count": null,
            "flex_flow": null,
            "width": null,
            "min_width": null,
            "border": null,
            "align_items": null,
            "bottom": null,
            "_model_module": "@jupyter-widgets/base",
            "top": null,
            "grid_column": null,
            "overflow_y": null,
            "overflow_x": null,
            "grid_auto_flow": null,
            "grid_area": null,
            "grid_template_columns": null,
            "flex": null,
            "_model_name": "LayoutModel",
            "justify_items": null,
            "grid_row": null,
            "max_height": null,
            "align_content": null,
            "visibility": null,
            "align_self": null,
            "height": null,
            "min_height": null,
            "padding": null,
            "grid_auto_rows": null,
            "grid_gap": null,
            "max_width": null,
            "order": null,
            "_view_module_version": "1.2.0",
            "grid_template_areas": null,
            "object_position": null,
            "object_fit": null,
            "grid_auto_columns": null,
            "margin": null,
            "display": null,
            "left": null
          }
        },
        "dbe60103229b4c9fac68a35496ba0785": {
          "model_module": "@jupyter-widgets/controls",
          "model_name": "DescriptionStyleModel",
          "model_module_version": "1.5.0",
          "state": {
            "_view_name": "StyleView",
            "_model_name": "DescriptionStyleModel",
            "description_width": "",
            "_view_module": "@jupyter-widgets/base",
            "_model_module_version": "1.5.0",
            "_view_count": null,
            "_view_module_version": "1.2.0",
            "_model_module": "@jupyter-widgets/controls"
          }
        },
        "e8943a40b3814fa792ba6ed6c4cf76f8": {
          "model_module": "@jupyter-widgets/base",
          "model_name": "LayoutModel",
          "model_module_version": "1.2.0",
          "state": {
            "_view_name": "LayoutView",
            "grid_template_rows": null,
            "right": null,
            "justify_content": null,
            "_view_module": "@jupyter-widgets/base",
            "overflow": null,
            "_model_module_version": "1.2.0",
            "_view_count": null,
            "flex_flow": null,
            "width": null,
            "min_width": null,
            "border": null,
            "align_items": null,
            "bottom": null,
            "_model_module": "@jupyter-widgets/base",
            "top": null,
            "grid_column": null,
            "overflow_y": null,
            "overflow_x": null,
            "grid_auto_flow": null,
            "grid_area": null,
            "grid_template_columns": null,
            "flex": null,
            "_model_name": "LayoutModel",
            "justify_items": null,
            "grid_row": null,
            "max_height": null,
            "align_content": null,
            "visibility": null,
            "align_self": null,
            "height": null,
            "min_height": null,
            "padding": null,
            "grid_auto_rows": null,
            "grid_gap": null,
            "max_width": null,
            "order": null,
            "_view_module_version": "1.2.0",
            "grid_template_areas": null,
            "object_position": null,
            "object_fit": null,
            "grid_auto_columns": null,
            "margin": null,
            "display": null,
            "left": null
          }
        },
        "5588e33a28d64befa5af617eca4a68fa": {
          "model_module": "@jupyter-widgets/controls",
          "model_name": "HBoxModel",
          "model_module_version": "1.5.0",
          "state": {
            "_view_name": "HBoxView",
            "_dom_classes": [],
            "_model_name": "HBoxModel",
            "_view_module": "@jupyter-widgets/controls",
            "_model_module_version": "1.5.0",
            "_view_count": null,
            "_view_module_version": "1.5.0",
            "box_style": "",
            "layout": "IPY_MODEL_b15bdd68be524c7ab793a320ade63529",
            "_model_module": "@jupyter-widgets/controls",
            "children": [
              "IPY_MODEL_69de048331444c5abc6bdb2329d3dee9",
              "IPY_MODEL_c1e75c322220420faf636f372a5b06a0",
              "IPY_MODEL_6fd2e8b310d646b891321100500a0305"
            ]
          }
        },
        "b15bdd68be524c7ab793a320ade63529": {
          "model_module": "@jupyter-widgets/base",
          "model_name": "LayoutModel",
          "model_module_version": "1.2.0",
          "state": {
            "_view_name": "LayoutView",
            "grid_template_rows": null,
            "right": null,
            "justify_content": null,
            "_view_module": "@jupyter-widgets/base",
            "overflow": null,
            "_model_module_version": "1.2.0",
            "_view_count": null,
            "flex_flow": null,
            "width": null,
            "min_width": null,
            "border": null,
            "align_items": null,
            "bottom": null,
            "_model_module": "@jupyter-widgets/base",
            "top": null,
            "grid_column": null,
            "overflow_y": null,
            "overflow_x": null,
            "grid_auto_flow": null,
            "grid_area": null,
            "grid_template_columns": null,
            "flex": null,
            "_model_name": "LayoutModel",
            "justify_items": null,
            "grid_row": null,
            "max_height": null,
            "align_content": null,
            "visibility": null,
            "align_self": null,
            "height": null,
            "min_height": null,
            "padding": null,
            "grid_auto_rows": null,
            "grid_gap": null,
            "max_width": null,
            "order": null,
            "_view_module_version": "1.2.0",
            "grid_template_areas": null,
            "object_position": null,
            "object_fit": null,
            "grid_auto_columns": null,
            "margin": null,
            "display": null,
            "left": null
          }
        },
        "69de048331444c5abc6bdb2329d3dee9": {
          "model_module": "@jupyter-widgets/controls",
          "model_name": "HTMLModel",
          "model_module_version": "1.5.0",
          "state": {
            "_view_name": "HTMLView",
            "style": "IPY_MODEL_c447a58d51c24340a0d3504fc6d01af8",
            "_dom_classes": [],
            "description": "",
            "_model_name": "HTMLModel",
            "placeholder": "​",
            "_view_module": "@jupyter-widgets/controls",
            "_model_module_version": "1.5.0",
            "value": "Downloading: 100%",
            "_view_count": null,
            "_view_module_version": "1.5.0",
            "description_tooltip": null,
            "_model_module": "@jupyter-widgets/controls",
            "layout": "IPY_MODEL_fe3fd8e5eb934deb9e50fc3655afa8f3"
          }
        },
        "c1e75c322220420faf636f372a5b06a0": {
          "model_module": "@jupyter-widgets/controls",
          "model_name": "FloatProgressModel",
          "model_module_version": "1.5.0",
          "state": {
            "_view_name": "ProgressView",
            "style": "IPY_MODEL_11cee1c2d1fc4b86b5625fbdcff65868",
            "_dom_classes": [],
            "description": "",
            "_model_name": "FloatProgressModel",
            "bar_style": "success",
            "max": 728,
            "_view_module": "@jupyter-widgets/controls",
            "_model_module_version": "1.5.0",
            "value": 728,
            "_view_count": null,
            "_view_module_version": "1.5.0",
            "orientation": "horizontal",
            "min": 0,
            "description_tooltip": null,
            "_model_module": "@jupyter-widgets/controls",
            "layout": "IPY_MODEL_822e976e12f342f59d114ef09bf2bd15"
          }
        },
        "6fd2e8b310d646b891321100500a0305": {
          "model_module": "@jupyter-widgets/controls",
          "model_name": "HTMLModel",
          "model_module_version": "1.5.0",
          "state": {
            "_view_name": "HTMLView",
            "style": "IPY_MODEL_7b082300b9014eae8aea86df498bc491",
            "_dom_classes": [],
            "description": "",
            "_model_name": "HTMLModel",
            "placeholder": "​",
            "_view_module": "@jupyter-widgets/controls",
            "_model_module_version": "1.5.0",
            "value": " 728/728 [00:00&lt;00:00, 10.7kB/s]",
            "_view_count": null,
            "_view_module_version": "1.5.0",
            "description_tooltip": null,
            "_model_module": "@jupyter-widgets/controls",
            "layout": "IPY_MODEL_7759d0ace3ff4efeb415ba53a225b1f3"
          }
        },
        "c447a58d51c24340a0d3504fc6d01af8": {
          "model_module": "@jupyter-widgets/controls",
          "model_name": "DescriptionStyleModel",
          "model_module_version": "1.5.0",
          "state": {
            "_view_name": "StyleView",
            "_model_name": "DescriptionStyleModel",
            "description_width": "",
            "_view_module": "@jupyter-widgets/base",
            "_model_module_version": "1.5.0",
            "_view_count": null,
            "_view_module_version": "1.2.0",
            "_model_module": "@jupyter-widgets/controls"
          }
        },
        "fe3fd8e5eb934deb9e50fc3655afa8f3": {
          "model_module": "@jupyter-widgets/base",
          "model_name": "LayoutModel",
          "model_module_version": "1.2.0",
          "state": {
            "_view_name": "LayoutView",
            "grid_template_rows": null,
            "right": null,
            "justify_content": null,
            "_view_module": "@jupyter-widgets/base",
            "overflow": null,
            "_model_module_version": "1.2.0",
            "_view_count": null,
            "flex_flow": null,
            "width": null,
            "min_width": null,
            "border": null,
            "align_items": null,
            "bottom": null,
            "_model_module": "@jupyter-widgets/base",
            "top": null,
            "grid_column": null,
            "overflow_y": null,
            "overflow_x": null,
            "grid_auto_flow": null,
            "grid_area": null,
            "grid_template_columns": null,
            "flex": null,
            "_model_name": "LayoutModel",
            "justify_items": null,
            "grid_row": null,
            "max_height": null,
            "align_content": null,
            "visibility": null,
            "align_self": null,
            "height": null,
            "min_height": null,
            "padding": null,
            "grid_auto_rows": null,
            "grid_gap": null,
            "max_width": null,
            "order": null,
            "_view_module_version": "1.2.0",
            "grid_template_areas": null,
            "object_position": null,
            "object_fit": null,
            "grid_auto_columns": null,
            "margin": null,
            "display": null,
            "left": null
          }
        },
        "11cee1c2d1fc4b86b5625fbdcff65868": {
          "model_module": "@jupyter-widgets/controls",
          "model_name": "ProgressStyleModel",
          "model_module_version": "1.5.0",
          "state": {
            "_view_name": "StyleView",
            "_model_name": "ProgressStyleModel",
            "description_width": "",
            "_view_module": "@jupyter-widgets/base",
            "_model_module_version": "1.5.0",
            "_view_count": null,
            "_view_module_version": "1.2.0",
            "bar_color": null,
            "_model_module": "@jupyter-widgets/controls"
          }
        },
        "822e976e12f342f59d114ef09bf2bd15": {
          "model_module": "@jupyter-widgets/base",
          "model_name": "LayoutModel",
          "model_module_version": "1.2.0",
          "state": {
            "_view_name": "LayoutView",
            "grid_template_rows": null,
            "right": null,
            "justify_content": null,
            "_view_module": "@jupyter-widgets/base",
            "overflow": null,
            "_model_module_version": "1.2.0",
            "_view_count": null,
            "flex_flow": null,
            "width": null,
            "min_width": null,
            "border": null,
            "align_items": null,
            "bottom": null,
            "_model_module": "@jupyter-widgets/base",
            "top": null,
            "grid_column": null,
            "overflow_y": null,
            "overflow_x": null,
            "grid_auto_flow": null,
            "grid_area": null,
            "grid_template_columns": null,
            "flex": null,
            "_model_name": "LayoutModel",
            "justify_items": null,
            "grid_row": null,
            "max_height": null,
            "align_content": null,
            "visibility": null,
            "align_self": null,
            "height": null,
            "min_height": null,
            "padding": null,
            "grid_auto_rows": null,
            "grid_gap": null,
            "max_width": null,
            "order": null,
            "_view_module_version": "1.2.0",
            "grid_template_areas": null,
            "object_position": null,
            "object_fit": null,
            "grid_auto_columns": null,
            "margin": null,
            "display": null,
            "left": null
          }
        },
        "7b082300b9014eae8aea86df498bc491": {
          "model_module": "@jupyter-widgets/controls",
          "model_name": "DescriptionStyleModel",
          "model_module_version": "1.5.0",
          "state": {
            "_view_name": "StyleView",
            "_model_name": "DescriptionStyleModel",
            "description_width": "",
            "_view_module": "@jupyter-widgets/base",
            "_model_module_version": "1.5.0",
            "_view_count": null,
            "_view_module_version": "1.2.0",
            "_model_module": "@jupyter-widgets/controls"
          }
        },
        "7759d0ace3ff4efeb415ba53a225b1f3": {
          "model_module": "@jupyter-widgets/base",
          "model_name": "LayoutModel",
          "model_module_version": "1.2.0",
          "state": {
            "_view_name": "LayoutView",
            "grid_template_rows": null,
            "right": null,
            "justify_content": null,
            "_view_module": "@jupyter-widgets/base",
            "overflow": null,
            "_model_module_version": "1.2.0",
            "_view_count": null,
            "flex_flow": null,
            "width": null,
            "min_width": null,
            "border": null,
            "align_items": null,
            "bottom": null,
            "_model_module": "@jupyter-widgets/base",
            "top": null,
            "grid_column": null,
            "overflow_y": null,
            "overflow_x": null,
            "grid_auto_flow": null,
            "grid_area": null,
            "grid_template_columns": null,
            "flex": null,
            "_model_name": "LayoutModel",
            "justify_items": null,
            "grid_row": null,
            "max_height": null,
            "align_content": null,
            "visibility": null,
            "align_self": null,
            "height": null,
            "min_height": null,
            "padding": null,
            "grid_auto_rows": null,
            "grid_gap": null,
            "max_width": null,
            "order": null,
            "_view_module_version": "1.2.0",
            "grid_template_areas": null,
            "object_position": null,
            "object_fit": null,
            "grid_auto_columns": null,
            "margin": null,
            "display": null,
            "left": null
          }
        },
        "1761a6450ab34014a74602bcfc1e3c84": {
          "model_module": "@jupyter-widgets/controls",
          "model_name": "HBoxModel",
          "model_module_version": "1.5.0",
          "state": {
            "_view_name": "HBoxView",
            "_dom_classes": [],
            "_model_name": "HBoxModel",
            "_view_module": "@jupyter-widgets/controls",
            "_model_module_version": "1.5.0",
            "_view_count": null,
            "_view_module_version": "1.5.0",
            "box_style": "",
            "layout": "IPY_MODEL_30bb70b05baa4450885df4cf9dfa8d60",
            "_model_module": "@jupyter-widgets/controls",
            "children": [
              "IPY_MODEL_02efdf08892e4f798b7c04adc55546e2",
              "IPY_MODEL_5217fbe0a93c47e498cfc3205b1e01bd",
              "IPY_MODEL_af0bf69bbc084c1fb7eaeded14c4c4ea"
            ]
          }
        },
        "30bb70b05baa4450885df4cf9dfa8d60": {
          "model_module": "@jupyter-widgets/base",
          "model_name": "LayoutModel",
          "model_module_version": "1.2.0",
          "state": {
            "_view_name": "LayoutView",
            "grid_template_rows": null,
            "right": null,
            "justify_content": null,
            "_view_module": "@jupyter-widgets/base",
            "overflow": null,
            "_model_module_version": "1.2.0",
            "_view_count": null,
            "flex_flow": null,
            "width": null,
            "min_width": null,
            "border": null,
            "align_items": null,
            "bottom": null,
            "_model_module": "@jupyter-widgets/base",
            "top": null,
            "grid_column": null,
            "overflow_y": null,
            "overflow_x": null,
            "grid_auto_flow": null,
            "grid_area": null,
            "grid_template_columns": null,
            "flex": null,
            "_model_name": "LayoutModel",
            "justify_items": null,
            "grid_row": null,
            "max_height": null,
            "align_content": null,
            "visibility": null,
            "align_self": null,
            "height": null,
            "min_height": null,
            "padding": null,
            "grid_auto_rows": null,
            "grid_gap": null,
            "max_width": null,
            "order": null,
            "_view_module_version": "1.2.0",
            "grid_template_areas": null,
            "object_position": null,
            "object_fit": null,
            "grid_auto_columns": null,
            "margin": null,
            "display": null,
            "left": null
          }
        },
        "02efdf08892e4f798b7c04adc55546e2": {
          "model_module": "@jupyter-widgets/controls",
          "model_name": "HTMLModel",
          "model_module_version": "1.5.0",
          "state": {
            "_view_name": "HTMLView",
            "style": "IPY_MODEL_250b3d420a7245d6be555423c377d940",
            "_dom_classes": [],
            "description": "",
            "_model_name": "HTMLModel",
            "placeholder": "​",
            "_view_module": "@jupyter-widgets/controls",
            "_model_module_version": "1.5.0",
            "value": "Downloading: 100%",
            "_view_count": null,
            "_view_module_version": "1.5.0",
            "description_tooltip": null,
            "_model_module": "@jupyter-widgets/controls",
            "layout": "IPY_MODEL_83ad4fc8a84c4ea0adf5a7ad556790d1"
          }
        },
        "5217fbe0a93c47e498cfc3205b1e01bd": {
          "model_module": "@jupyter-widgets/controls",
          "model_name": "FloatProgressModel",
          "model_module_version": "1.5.0",
          "state": {
            "_view_name": "ProgressView",
            "style": "IPY_MODEL_e75514d5b3404c798f52cc76fe58d37e",
            "_dom_classes": [],
            "description": "",
            "_model_name": "FloatProgressModel",
            "bar_style": "success",
            "max": 1159342,
            "_view_module": "@jupyter-widgets/controls",
            "_model_module_version": "1.5.0",
            "value": 1159342,
            "_view_count": null,
            "_view_module_version": "1.5.0",
            "orientation": "horizontal",
            "min": 0,
            "description_tooltip": null,
            "_model_module": "@jupyter-widgets/controls",
            "layout": "IPY_MODEL_c0b0a570cb1c40ed97b3c70f55730a81"
          }
        },
        "af0bf69bbc084c1fb7eaeded14c4c4ea": {
          "model_module": "@jupyter-widgets/controls",
          "model_name": "HTMLModel",
          "model_module_version": "1.5.0",
          "state": {
            "_view_name": "HTMLView",
            "style": "IPY_MODEL_223ca56fcd2f4bd6889d013cd4a4ab79",
            "_dom_classes": [],
            "description": "",
            "_model_name": "HTMLModel",
            "placeholder": "​",
            "_view_module": "@jupyter-widgets/controls",
            "_model_module_version": "1.5.0",
            "value": " 1.11M/1.11M [00:00&lt;00:00, 2.04MB/s]",
            "_view_count": null,
            "_view_module_version": "1.5.0",
            "description_tooltip": null,
            "_model_module": "@jupyter-widgets/controls",
            "layout": "IPY_MODEL_ae6f877cf01d4ef49d177aedbea2c4f6"
          }
        },
        "250b3d420a7245d6be555423c377d940": {
          "model_module": "@jupyter-widgets/controls",
          "model_name": "DescriptionStyleModel",
          "model_module_version": "1.5.0",
          "state": {
            "_view_name": "StyleView",
            "_model_name": "DescriptionStyleModel",
            "description_width": "",
            "_view_module": "@jupyter-widgets/base",
            "_model_module_version": "1.5.0",
            "_view_count": null,
            "_view_module_version": "1.2.0",
            "_model_module": "@jupyter-widgets/controls"
          }
        },
        "83ad4fc8a84c4ea0adf5a7ad556790d1": {
          "model_module": "@jupyter-widgets/base",
          "model_name": "LayoutModel",
          "model_module_version": "1.2.0",
          "state": {
            "_view_name": "LayoutView",
            "grid_template_rows": null,
            "right": null,
            "justify_content": null,
            "_view_module": "@jupyter-widgets/base",
            "overflow": null,
            "_model_module_version": "1.2.0",
            "_view_count": null,
            "flex_flow": null,
            "width": null,
            "min_width": null,
            "border": null,
            "align_items": null,
            "bottom": null,
            "_model_module": "@jupyter-widgets/base",
            "top": null,
            "grid_column": null,
            "overflow_y": null,
            "overflow_x": null,
            "grid_auto_flow": null,
            "grid_area": null,
            "grid_template_columns": null,
            "flex": null,
            "_model_name": "LayoutModel",
            "justify_items": null,
            "grid_row": null,
            "max_height": null,
            "align_content": null,
            "visibility": null,
            "align_self": null,
            "height": null,
            "min_height": null,
            "padding": null,
            "grid_auto_rows": null,
            "grid_gap": null,
            "max_width": null,
            "order": null,
            "_view_module_version": "1.2.0",
            "grid_template_areas": null,
            "object_position": null,
            "object_fit": null,
            "grid_auto_columns": null,
            "margin": null,
            "display": null,
            "left": null
          }
        },
        "e75514d5b3404c798f52cc76fe58d37e": {
          "model_module": "@jupyter-widgets/controls",
          "model_name": "ProgressStyleModel",
          "model_module_version": "1.5.0",
          "state": {
            "_view_name": "StyleView",
            "_model_name": "ProgressStyleModel",
            "description_width": "",
            "_view_module": "@jupyter-widgets/base",
            "_model_module_version": "1.5.0",
            "_view_count": null,
            "_view_module_version": "1.2.0",
            "bar_color": null,
            "_model_module": "@jupyter-widgets/controls"
          }
        },
        "c0b0a570cb1c40ed97b3c70f55730a81": {
          "model_module": "@jupyter-widgets/base",
          "model_name": "LayoutModel",
          "model_module_version": "1.2.0",
          "state": {
            "_view_name": "LayoutView",
            "grid_template_rows": null,
            "right": null,
            "justify_content": null,
            "_view_module": "@jupyter-widgets/base",
            "overflow": null,
            "_model_module_version": "1.2.0",
            "_view_count": null,
            "flex_flow": null,
            "width": null,
            "min_width": null,
            "border": null,
            "align_items": null,
            "bottom": null,
            "_model_module": "@jupyter-widgets/base",
            "top": null,
            "grid_column": null,
            "overflow_y": null,
            "overflow_x": null,
            "grid_auto_flow": null,
            "grid_area": null,
            "grid_template_columns": null,
            "flex": null,
            "_model_name": "LayoutModel",
            "justify_items": null,
            "grid_row": null,
            "max_height": null,
            "align_content": null,
            "visibility": null,
            "align_self": null,
            "height": null,
            "min_height": null,
            "padding": null,
            "grid_auto_rows": null,
            "grid_gap": null,
            "max_width": null,
            "order": null,
            "_view_module_version": "1.2.0",
            "grid_template_areas": null,
            "object_position": null,
            "object_fit": null,
            "grid_auto_columns": null,
            "margin": null,
            "display": null,
            "left": null
          }
        },
        "223ca56fcd2f4bd6889d013cd4a4ab79": {
          "model_module": "@jupyter-widgets/controls",
          "model_name": "DescriptionStyleModel",
          "model_module_version": "1.5.0",
          "state": {
            "_view_name": "StyleView",
            "_model_name": "DescriptionStyleModel",
            "description_width": "",
            "_view_module": "@jupyter-widgets/base",
            "_model_module_version": "1.5.0",
            "_view_count": null,
            "_view_module_version": "1.2.0",
            "_model_module": "@jupyter-widgets/controls"
          }
        },
        "ae6f877cf01d4ef49d177aedbea2c4f6": {
          "model_module": "@jupyter-widgets/base",
          "model_name": "LayoutModel",
          "model_module_version": "1.2.0",
          "state": {
            "_view_name": "LayoutView",
            "grid_template_rows": null,
            "right": null,
            "justify_content": null,
            "_view_module": "@jupyter-widgets/base",
            "overflow": null,
            "_model_module_version": "1.2.0",
            "_view_count": null,
            "flex_flow": null,
            "width": null,
            "min_width": null,
            "border": null,
            "align_items": null,
            "bottom": null,
            "_model_module": "@jupyter-widgets/base",
            "top": null,
            "grid_column": null,
            "overflow_y": null,
            "overflow_x": null,
            "grid_auto_flow": null,
            "grid_area": null,
            "grid_template_columns": null,
            "flex": null,
            "_model_name": "LayoutModel",
            "justify_items": null,
            "grid_row": null,
            "max_height": null,
            "align_content": null,
            "visibility": null,
            "align_self": null,
            "height": null,
            "min_height": null,
            "padding": null,
            "grid_auto_rows": null,
            "grid_gap": null,
            "max_width": null,
            "order": null,
            "_view_module_version": "1.2.0",
            "grid_template_areas": null,
            "object_position": null,
            "object_fit": null,
            "grid_auto_columns": null,
            "margin": null,
            "display": null,
            "left": null
          }
        },
        "e92650a9679f44149d9e4122fd2fce72": {
          "model_module": "@jupyter-widgets/controls",
          "model_name": "HBoxModel",
          "model_module_version": "1.5.0",
          "state": {
            "_view_name": "HBoxView",
            "_dom_classes": [],
            "_model_name": "HBoxModel",
            "_view_module": "@jupyter-widgets/controls",
            "_model_module_version": "1.5.0",
            "_view_count": null,
            "_view_module_version": "1.5.0",
            "box_style": "",
            "layout": "IPY_MODEL_d039ab2fba444cb7ad7d8d6c41dd5a1a",
            "_model_module": "@jupyter-widgets/controls",
            "children": [
              "IPY_MODEL_8ef6890f603e4541985387143f807e68",
              "IPY_MODEL_2b4e2ceb6d84431c806220a95311625a",
              "IPY_MODEL_0d1f339885294794b488274299ba814c"
            ]
          }
        },
        "d039ab2fba444cb7ad7d8d6c41dd5a1a": {
          "model_module": "@jupyter-widgets/base",
          "model_name": "LayoutModel",
          "model_module_version": "1.2.0",
          "state": {
            "_view_name": "LayoutView",
            "grid_template_rows": null,
            "right": null,
            "justify_content": null,
            "_view_module": "@jupyter-widgets/base",
            "overflow": null,
            "_model_module_version": "1.2.0",
            "_view_count": null,
            "flex_flow": null,
            "width": null,
            "min_width": null,
            "border": null,
            "align_items": null,
            "bottom": null,
            "_model_module": "@jupyter-widgets/base",
            "top": null,
            "grid_column": null,
            "overflow_y": null,
            "overflow_x": null,
            "grid_auto_flow": null,
            "grid_area": null,
            "grid_template_columns": null,
            "flex": null,
            "_model_name": "LayoutModel",
            "justify_items": null,
            "grid_row": null,
            "max_height": null,
            "align_content": null,
            "visibility": null,
            "align_self": null,
            "height": null,
            "min_height": null,
            "padding": null,
            "grid_auto_rows": null,
            "grid_gap": null,
            "max_width": null,
            "order": null,
            "_view_module_version": "1.2.0",
            "grid_template_areas": null,
            "object_position": null,
            "object_fit": null,
            "grid_auto_columns": null,
            "margin": null,
            "display": null,
            "left": null
          }
        },
        "8ef6890f603e4541985387143f807e68": {
          "model_module": "@jupyter-widgets/controls",
          "model_name": "HTMLModel",
          "model_module_version": "1.5.0",
          "state": {
            "_view_name": "HTMLView",
            "style": "IPY_MODEL_9cdb80c7d22e478f91fd9162308a5e05",
            "_dom_classes": [],
            "description": "",
            "_model_name": "HTMLModel",
            "placeholder": "​",
            "_view_module": "@jupyter-widgets/controls",
            "_model_module_version": "1.5.0",
            "value": "Downloading: 100%",
            "_view_count": null,
            "_view_module_version": "1.5.0",
            "description_tooltip": null,
            "_model_module": "@jupyter-widgets/controls",
            "layout": "IPY_MODEL_6a6cc3bb63dc46b08c56f2e0c5e0dd80"
          }
        },
        "2b4e2ceb6d84431c806220a95311625a": {
          "model_module": "@jupyter-widgets/controls",
          "model_name": "FloatProgressModel",
          "model_module_version": "1.5.0",
          "state": {
            "_view_name": "ProgressView",
            "style": "IPY_MODEL_c0865011c98e4f58962609d3071ea2a5",
            "_dom_classes": [],
            "description": "",
            "_model_name": "FloatProgressModel",
            "bar_style": "success",
            "max": 875476,
            "_view_module": "@jupyter-widgets/controls",
            "_model_module_version": "1.5.0",
            "value": 875476,
            "_view_count": null,
            "_view_module_version": "1.5.0",
            "orientation": "horizontal",
            "min": 0,
            "description_tooltip": null,
            "_model_module": "@jupyter-widgets/controls",
            "layout": "IPY_MODEL_0f446e632e29459c84cb88ec943d007a"
          }
        },
        "0d1f339885294794b488274299ba814c": {
          "model_module": "@jupyter-widgets/controls",
          "model_name": "HTMLModel",
          "model_module_version": "1.5.0",
          "state": {
            "_view_name": "HTMLView",
            "style": "IPY_MODEL_e8a4787a47c0495ca5d4b2fe42c27631",
            "_dom_classes": [],
            "description": "",
            "_model_name": "HTMLModel",
            "placeholder": "​",
            "_view_module": "@jupyter-widgets/controls",
            "_model_module_version": "1.5.0",
            "value": " 855k/855k [00:00&lt;00:00, 1.76MB/s]",
            "_view_count": null,
            "_view_module_version": "1.5.0",
            "description_tooltip": null,
            "_model_module": "@jupyter-widgets/controls",
            "layout": "IPY_MODEL_7e8876589175461595877c4fb328f957"
          }
        },
        "9cdb80c7d22e478f91fd9162308a5e05": {
          "model_module": "@jupyter-widgets/controls",
          "model_name": "DescriptionStyleModel",
          "model_module_version": "1.5.0",
          "state": {
            "_view_name": "StyleView",
            "_model_name": "DescriptionStyleModel",
            "description_width": "",
            "_view_module": "@jupyter-widgets/base",
            "_model_module_version": "1.5.0",
            "_view_count": null,
            "_view_module_version": "1.2.0",
            "_model_module": "@jupyter-widgets/controls"
          }
        },
        "6a6cc3bb63dc46b08c56f2e0c5e0dd80": {
          "model_module": "@jupyter-widgets/base",
          "model_name": "LayoutModel",
          "model_module_version": "1.2.0",
          "state": {
            "_view_name": "LayoutView",
            "grid_template_rows": null,
            "right": null,
            "justify_content": null,
            "_view_module": "@jupyter-widgets/base",
            "overflow": null,
            "_model_module_version": "1.2.0",
            "_view_count": null,
            "flex_flow": null,
            "width": null,
            "min_width": null,
            "border": null,
            "align_items": null,
            "bottom": null,
            "_model_module": "@jupyter-widgets/base",
            "top": null,
            "grid_column": null,
            "overflow_y": null,
            "overflow_x": null,
            "grid_auto_flow": null,
            "grid_area": null,
            "grid_template_columns": null,
            "flex": null,
            "_model_name": "LayoutModel",
            "justify_items": null,
            "grid_row": null,
            "max_height": null,
            "align_content": null,
            "visibility": null,
            "align_self": null,
            "height": null,
            "min_height": null,
            "padding": null,
            "grid_auto_rows": null,
            "grid_gap": null,
            "max_width": null,
            "order": null,
            "_view_module_version": "1.2.0",
            "grid_template_areas": null,
            "object_position": null,
            "object_fit": null,
            "grid_auto_columns": null,
            "margin": null,
            "display": null,
            "left": null
          }
        },
        "c0865011c98e4f58962609d3071ea2a5": {
          "model_module": "@jupyter-widgets/controls",
          "model_name": "ProgressStyleModel",
          "model_module_version": "1.5.0",
          "state": {
            "_view_name": "StyleView",
            "_model_name": "ProgressStyleModel",
            "description_width": "",
            "_view_module": "@jupyter-widgets/base",
            "_model_module_version": "1.5.0",
            "_view_count": null,
            "_view_module_version": "1.2.0",
            "bar_color": null,
            "_model_module": "@jupyter-widgets/controls"
          }
        },
        "0f446e632e29459c84cb88ec943d007a": {
          "model_module": "@jupyter-widgets/base",
          "model_name": "LayoutModel",
          "model_module_version": "1.2.0",
          "state": {
            "_view_name": "LayoutView",
            "grid_template_rows": null,
            "right": null,
            "justify_content": null,
            "_view_module": "@jupyter-widgets/base",
            "overflow": null,
            "_model_module_version": "1.2.0",
            "_view_count": null,
            "flex_flow": null,
            "width": null,
            "min_width": null,
            "border": null,
            "align_items": null,
            "bottom": null,
            "_model_module": "@jupyter-widgets/base",
            "top": null,
            "grid_column": null,
            "overflow_y": null,
            "overflow_x": null,
            "grid_auto_flow": null,
            "grid_area": null,
            "grid_template_columns": null,
            "flex": null,
            "_model_name": "LayoutModel",
            "justify_items": null,
            "grid_row": null,
            "max_height": null,
            "align_content": null,
            "visibility": null,
            "align_self": null,
            "height": null,
            "min_height": null,
            "padding": null,
            "grid_auto_rows": null,
            "grid_gap": null,
            "max_width": null,
            "order": null,
            "_view_module_version": "1.2.0",
            "grid_template_areas": null,
            "object_position": null,
            "object_fit": null,
            "grid_auto_columns": null,
            "margin": null,
            "display": null,
            "left": null
          }
        },
        "e8a4787a47c0495ca5d4b2fe42c27631": {
          "model_module": "@jupyter-widgets/controls",
          "model_name": "DescriptionStyleModel",
          "model_module_version": "1.5.0",
          "state": {
            "_view_name": "StyleView",
            "_model_name": "DescriptionStyleModel",
            "description_width": "",
            "_view_module": "@jupyter-widgets/base",
            "_model_module_version": "1.5.0",
            "_view_count": null,
            "_view_module_version": "1.2.0",
            "_model_module": "@jupyter-widgets/controls"
          }
        },
        "7e8876589175461595877c4fb328f957": {
          "model_module": "@jupyter-widgets/base",
          "model_name": "LayoutModel",
          "model_module_version": "1.2.0",
          "state": {
            "_view_name": "LayoutView",
            "grid_template_rows": null,
            "right": null,
            "justify_content": null,
            "_view_module": "@jupyter-widgets/base",
            "overflow": null,
            "_model_module_version": "1.2.0",
            "_view_count": null,
            "flex_flow": null,
            "width": null,
            "min_width": null,
            "border": null,
            "align_items": null,
            "bottom": null,
            "_model_module": "@jupyter-widgets/base",
            "top": null,
            "grid_column": null,
            "overflow_y": null,
            "overflow_x": null,
            "grid_auto_flow": null,
            "grid_area": null,
            "grid_template_columns": null,
            "flex": null,
            "_model_name": "LayoutModel",
            "justify_items": null,
            "grid_row": null,
            "max_height": null,
            "align_content": null,
            "visibility": null,
            "align_self": null,
            "height": null,
            "min_height": null,
            "padding": null,
            "grid_auto_rows": null,
            "grid_gap": null,
            "max_width": null,
            "order": null,
            "_view_module_version": "1.2.0",
            "grid_template_areas": null,
            "object_position": null,
            "object_fit": null,
            "grid_auto_columns": null,
            "margin": null,
            "display": null,
            "left": null
          }
        },
        "f79adf47b5d94c528af705e338f44064": {
          "model_module": "@jupyter-widgets/controls",
          "model_name": "HBoxModel",
          "model_module_version": "1.5.0",
          "state": {
            "_view_name": "HBoxView",
            "_dom_classes": [],
            "_model_name": "HBoxModel",
            "_view_module": "@jupyter-widgets/controls",
            "_model_module_version": "1.5.0",
            "_view_count": null,
            "_view_module_version": "1.5.0",
            "box_style": "",
            "layout": "IPY_MODEL_84f9aa859d9545808e7e6679bbfcb1a8",
            "_model_module": "@jupyter-widgets/controls",
            "children": [
              "IPY_MODEL_39508147a27a47c2878c62ec6f567192",
              "IPY_MODEL_fcd77a678f9245bf902fd32345746873",
              "IPY_MODEL_8294cf5d3b344844a4e764940ec46c60"
            ]
          }
        },
        "84f9aa859d9545808e7e6679bbfcb1a8": {
          "model_module": "@jupyter-widgets/base",
          "model_name": "LayoutModel",
          "model_module_version": "1.2.0",
          "state": {
            "_view_name": "LayoutView",
            "grid_template_rows": null,
            "right": null,
            "justify_content": null,
            "_view_module": "@jupyter-widgets/base",
            "overflow": null,
            "_model_module_version": "1.2.0",
            "_view_count": null,
            "flex_flow": null,
            "width": null,
            "min_width": null,
            "border": null,
            "align_items": null,
            "bottom": null,
            "_model_module": "@jupyter-widgets/base",
            "top": null,
            "grid_column": null,
            "overflow_y": null,
            "overflow_x": null,
            "grid_auto_flow": null,
            "grid_area": null,
            "grid_template_columns": null,
            "flex": null,
            "_model_name": "LayoutModel",
            "justify_items": null,
            "grid_row": null,
            "max_height": null,
            "align_content": null,
            "visibility": null,
            "align_self": null,
            "height": null,
            "min_height": null,
            "padding": null,
            "grid_auto_rows": null,
            "grid_gap": null,
            "max_width": null,
            "order": null,
            "_view_module_version": "1.2.0",
            "grid_template_areas": null,
            "object_position": null,
            "object_fit": null,
            "grid_auto_columns": null,
            "margin": null,
            "display": null,
            "left": null
          }
        },
        "39508147a27a47c2878c62ec6f567192": {
          "model_module": "@jupyter-widgets/controls",
          "model_name": "HTMLModel",
          "model_module_version": "1.5.0",
          "state": {
            "_view_name": "HTMLView",
            "style": "IPY_MODEL_a49cb0861470444486b9c4e972d2c0c6",
            "_dom_classes": [],
            "description": "",
            "_model_name": "HTMLModel",
            "placeholder": "​",
            "_view_module": "@jupyter-widgets/controls",
            "_model_module_version": "1.5.0",
            "value": "Downloading: 100%",
            "_view_count": null,
            "_view_module_version": "1.5.0",
            "description_tooltip": null,
            "_model_module": "@jupyter-widgets/controls",
            "layout": "IPY_MODEL_b363eb7eaa28474689abb64f301a49d7"
          }
        },
        "fcd77a678f9245bf902fd32345746873": {
          "model_module": "@jupyter-widgets/controls",
          "model_name": "FloatProgressModel",
          "model_module_version": "1.5.0",
          "state": {
            "_view_name": "ProgressView",
            "style": "IPY_MODEL_b6854fa74749416ab6ae55f62a7bfb99",
            "_dom_classes": [],
            "description": "",
            "_model_name": "FloatProgressModel",
            "bar_style": "success",
            "max": 2748949,
            "_view_module": "@jupyter-widgets/controls",
            "_model_module_version": "1.5.0",
            "value": 2748949,
            "_view_count": null,
            "_view_module_version": "1.5.0",
            "orientation": "horizontal",
            "min": 0,
            "description_tooltip": null,
            "_model_module": "@jupyter-widgets/controls",
            "layout": "IPY_MODEL_1de53736e15e4cf39971505d7df21fe0"
          }
        },
        "8294cf5d3b344844a4e764940ec46c60": {
          "model_module": "@jupyter-widgets/controls",
          "model_name": "HTMLModel",
          "model_module_version": "1.5.0",
          "state": {
            "_view_name": "HTMLView",
            "style": "IPY_MODEL_e0e73999d68e401abc54bdd60660823b",
            "_dom_classes": [],
            "description": "",
            "_model_name": "HTMLModel",
            "placeholder": "​",
            "_view_module": "@jupyter-widgets/controls",
            "_model_module_version": "1.5.0",
            "value": " 2.62M/2.62M [00:00&lt;00:00, 3.52MB/s]",
            "_view_count": null,
            "_view_module_version": "1.5.0",
            "description_tooltip": null,
            "_model_module": "@jupyter-widgets/controls",
            "layout": "IPY_MODEL_29a6086e7bf14baa989e8f203298604b"
          }
        },
        "a49cb0861470444486b9c4e972d2c0c6": {
          "model_module": "@jupyter-widgets/controls",
          "model_name": "DescriptionStyleModel",
          "model_module_version": "1.5.0",
          "state": {
            "_view_name": "StyleView",
            "_model_name": "DescriptionStyleModel",
            "description_width": "",
            "_view_module": "@jupyter-widgets/base",
            "_model_module_version": "1.5.0",
            "_view_count": null,
            "_view_module_version": "1.2.0",
            "_model_module": "@jupyter-widgets/controls"
          }
        },
        "b363eb7eaa28474689abb64f301a49d7": {
          "model_module": "@jupyter-widgets/base",
          "model_name": "LayoutModel",
          "model_module_version": "1.2.0",
          "state": {
            "_view_name": "LayoutView",
            "grid_template_rows": null,
            "right": null,
            "justify_content": null,
            "_view_module": "@jupyter-widgets/base",
            "overflow": null,
            "_model_module_version": "1.2.0",
            "_view_count": null,
            "flex_flow": null,
            "width": null,
            "min_width": null,
            "border": null,
            "align_items": null,
            "bottom": null,
            "_model_module": "@jupyter-widgets/base",
            "top": null,
            "grid_column": null,
            "overflow_y": null,
            "overflow_x": null,
            "grid_auto_flow": null,
            "grid_area": null,
            "grid_template_columns": null,
            "flex": null,
            "_model_name": "LayoutModel",
            "justify_items": null,
            "grid_row": null,
            "max_height": null,
            "align_content": null,
            "visibility": null,
            "align_self": null,
            "height": null,
            "min_height": null,
            "padding": null,
            "grid_auto_rows": null,
            "grid_gap": null,
            "max_width": null,
            "order": null,
            "_view_module_version": "1.2.0",
            "grid_template_areas": null,
            "object_position": null,
            "object_fit": null,
            "grid_auto_columns": null,
            "margin": null,
            "display": null,
            "left": null
          }
        },
        "b6854fa74749416ab6ae55f62a7bfb99": {
          "model_module": "@jupyter-widgets/controls",
          "model_name": "ProgressStyleModel",
          "model_module_version": "1.5.0",
          "state": {
            "_view_name": "StyleView",
            "_model_name": "ProgressStyleModel",
            "description_width": "",
            "_view_module": "@jupyter-widgets/base",
            "_model_module_version": "1.5.0",
            "_view_count": null,
            "_view_module_version": "1.2.0",
            "bar_color": null,
            "_model_module": "@jupyter-widgets/controls"
          }
        },
        "1de53736e15e4cf39971505d7df21fe0": {
          "model_module": "@jupyter-widgets/base",
          "model_name": "LayoutModel",
          "model_module_version": "1.2.0",
          "state": {
            "_view_name": "LayoutView",
            "grid_template_rows": null,
            "right": null,
            "justify_content": null,
            "_view_module": "@jupyter-widgets/base",
            "overflow": null,
            "_model_module_version": "1.2.0",
            "_view_count": null,
            "flex_flow": null,
            "width": null,
            "min_width": null,
            "border": null,
            "align_items": null,
            "bottom": null,
            "_model_module": "@jupyter-widgets/base",
            "top": null,
            "grid_column": null,
            "overflow_y": null,
            "overflow_x": null,
            "grid_auto_flow": null,
            "grid_area": null,
            "grid_template_columns": null,
            "flex": null,
            "_model_name": "LayoutModel",
            "justify_items": null,
            "grid_row": null,
            "max_height": null,
            "align_content": null,
            "visibility": null,
            "align_self": null,
            "height": null,
            "min_height": null,
            "padding": null,
            "grid_auto_rows": null,
            "grid_gap": null,
            "max_width": null,
            "order": null,
            "_view_module_version": "1.2.0",
            "grid_template_areas": null,
            "object_position": null,
            "object_fit": null,
            "grid_auto_columns": null,
            "margin": null,
            "display": null,
            "left": null
          }
        },
        "e0e73999d68e401abc54bdd60660823b": {
          "model_module": "@jupyter-widgets/controls",
          "model_name": "DescriptionStyleModel",
          "model_module_version": "1.5.0",
          "state": {
            "_view_name": "StyleView",
            "_model_name": "DescriptionStyleModel",
            "description_width": "",
            "_view_module": "@jupyter-widgets/base",
            "_model_module_version": "1.5.0",
            "_view_count": null,
            "_view_module_version": "1.2.0",
            "_model_module": "@jupyter-widgets/controls"
          }
        },
        "29a6086e7bf14baa989e8f203298604b": {
          "model_module": "@jupyter-widgets/base",
          "model_name": "LayoutModel",
          "model_module_version": "1.2.0",
          "state": {
            "_view_name": "LayoutView",
            "grid_template_rows": null,
            "right": null,
            "justify_content": null,
            "_view_module": "@jupyter-widgets/base",
            "overflow": null,
            "_model_module_version": "1.2.0",
            "_view_count": null,
            "flex_flow": null,
            "width": null,
            "min_width": null,
            "border": null,
            "align_items": null,
            "bottom": null,
            "_model_module": "@jupyter-widgets/base",
            "top": null,
            "grid_column": null,
            "overflow_y": null,
            "overflow_x": null,
            "grid_auto_flow": null,
            "grid_area": null,
            "grid_template_columns": null,
            "flex": null,
            "_model_name": "LayoutModel",
            "justify_items": null,
            "grid_row": null,
            "max_height": null,
            "align_content": null,
            "visibility": null,
            "align_self": null,
            "height": null,
            "min_height": null,
            "padding": null,
            "grid_auto_rows": null,
            "grid_gap": null,
            "max_width": null,
            "order": null,
            "_view_module_version": "1.2.0",
            "grid_template_areas": null,
            "object_position": null,
            "object_fit": null,
            "grid_auto_columns": null,
            "margin": null,
            "display": null,
            "left": null
          }
        },
        "47836239e3c94342b452fa20f2029e6a": {
          "model_module": "@jupyter-widgets/controls",
          "model_name": "HBoxModel",
          "model_module_version": "1.5.0",
          "state": {
            "_view_name": "HBoxView",
            "_dom_classes": [],
            "_model_name": "HBoxModel",
            "_view_module": "@jupyter-widgets/controls",
            "_model_module_version": "1.5.0",
            "_view_count": null,
            "_view_module_version": "1.5.0",
            "box_style": "",
            "layout": "IPY_MODEL_5c8b55caef51436f801a757cb97ac72b",
            "_model_module": "@jupyter-widgets/controls",
            "children": [
              "IPY_MODEL_3dfcb63341de4927bd95ad80a35c986d",
              "IPY_MODEL_dfc33e7f53064c788fa109a9d707e376",
              "IPY_MODEL_f55aa62526c14fbca94b87599dd497e2"
            ]
          }
        },
        "5c8b55caef51436f801a757cb97ac72b": {
          "model_module": "@jupyter-widgets/base",
          "model_name": "LayoutModel",
          "model_module_version": "1.2.0",
          "state": {
            "_view_name": "LayoutView",
            "grid_template_rows": null,
            "right": null,
            "justify_content": null,
            "_view_module": "@jupyter-widgets/base",
            "overflow": null,
            "_model_module_version": "1.2.0",
            "_view_count": null,
            "flex_flow": null,
            "width": null,
            "min_width": null,
            "border": null,
            "align_items": null,
            "bottom": null,
            "_model_module": "@jupyter-widgets/base",
            "top": null,
            "grid_column": null,
            "overflow_y": null,
            "overflow_x": null,
            "grid_auto_flow": null,
            "grid_area": null,
            "grid_template_columns": null,
            "flex": null,
            "_model_name": "LayoutModel",
            "justify_items": null,
            "grid_row": null,
            "max_height": null,
            "align_content": null,
            "visibility": null,
            "align_self": null,
            "height": null,
            "min_height": null,
            "padding": null,
            "grid_auto_rows": null,
            "grid_gap": null,
            "max_width": null,
            "order": null,
            "_view_module_version": "1.2.0",
            "grid_template_areas": null,
            "object_position": null,
            "object_fit": null,
            "grid_auto_columns": null,
            "margin": null,
            "display": null,
            "left": null
          }
        },
        "3dfcb63341de4927bd95ad80a35c986d": {
          "model_module": "@jupyter-widgets/controls",
          "model_name": "HTMLModel",
          "model_module_version": "1.5.0",
          "state": {
            "_view_name": "HTMLView",
            "style": "IPY_MODEL_d873803905a34e7bbcaf893a4e18f444",
            "_dom_classes": [],
            "description": "",
            "_model_name": "HTMLModel",
            "placeholder": "​",
            "_view_module": "@jupyter-widgets/controls",
            "_model_module_version": "1.5.0",
            "value": "Downloading: 100%",
            "_view_count": null,
            "_view_module_version": "1.5.0",
            "description_tooltip": null,
            "_model_module": "@jupyter-widgets/controls",
            "layout": "IPY_MODEL_c1623d7ba3b54eba9cdd68161443df37"
          }
        },
        "dfc33e7f53064c788fa109a9d707e376": {
          "model_module": "@jupyter-widgets/controls",
          "model_name": "FloatProgressModel",
          "model_module_version": "1.5.0",
          "state": {
            "_view_name": "ProgressView",
            "style": "IPY_MODEL_a5a0532b97b64f228a7d502bdf624e43",
            "_dom_classes": [],
            "description": "",
            "_model_name": "FloatProgressModel",
            "bar_style": "success",
            "max": 14,
            "_view_module": "@jupyter-widgets/controls",
            "_model_module_version": "1.5.0",
            "value": 14,
            "_view_count": null,
            "_view_module_version": "1.5.0",
            "orientation": "horizontal",
            "min": 0,
            "description_tooltip": null,
            "_model_module": "@jupyter-widgets/controls",
            "layout": "IPY_MODEL_74168aff517f4d79b9478cb6fdfa9805"
          }
        },
        "f55aa62526c14fbca94b87599dd497e2": {
          "model_module": "@jupyter-widgets/controls",
          "model_name": "HTMLModel",
          "model_module_version": "1.5.0",
          "state": {
            "_view_name": "HTMLView",
            "style": "IPY_MODEL_5f1c74de17e14ea8a44c6bf77efa3e5c",
            "_dom_classes": [],
            "description": "",
            "_model_name": "HTMLModel",
            "placeholder": "​",
            "_view_module": "@jupyter-widgets/controls",
            "_model_module_version": "1.5.0",
            "value": " 14.0/14.0 [00:00&lt;00:00, 356B/s]",
            "_view_count": null,
            "_view_module_version": "1.5.0",
            "description_tooltip": null,
            "_model_module": "@jupyter-widgets/controls",
            "layout": "IPY_MODEL_b6156b69e10a4676bc3cd829e6ead41e"
          }
        },
        "d873803905a34e7bbcaf893a4e18f444": {
          "model_module": "@jupyter-widgets/controls",
          "model_name": "DescriptionStyleModel",
          "model_module_version": "1.5.0",
          "state": {
            "_view_name": "StyleView",
            "_model_name": "DescriptionStyleModel",
            "description_width": "",
            "_view_module": "@jupyter-widgets/base",
            "_model_module_version": "1.5.0",
            "_view_count": null,
            "_view_module_version": "1.2.0",
            "_model_module": "@jupyter-widgets/controls"
          }
        },
        "c1623d7ba3b54eba9cdd68161443df37": {
          "model_module": "@jupyter-widgets/base",
          "model_name": "LayoutModel",
          "model_module_version": "1.2.0",
          "state": {
            "_view_name": "LayoutView",
            "grid_template_rows": null,
            "right": null,
            "justify_content": null,
            "_view_module": "@jupyter-widgets/base",
            "overflow": null,
            "_model_module_version": "1.2.0",
            "_view_count": null,
            "flex_flow": null,
            "width": null,
            "min_width": null,
            "border": null,
            "align_items": null,
            "bottom": null,
            "_model_module": "@jupyter-widgets/base",
            "top": null,
            "grid_column": null,
            "overflow_y": null,
            "overflow_x": null,
            "grid_auto_flow": null,
            "grid_area": null,
            "grid_template_columns": null,
            "flex": null,
            "_model_name": "LayoutModel",
            "justify_items": null,
            "grid_row": null,
            "max_height": null,
            "align_content": null,
            "visibility": null,
            "align_self": null,
            "height": null,
            "min_height": null,
            "padding": null,
            "grid_auto_rows": null,
            "grid_gap": null,
            "max_width": null,
            "order": null,
            "_view_module_version": "1.2.0",
            "grid_template_areas": null,
            "object_position": null,
            "object_fit": null,
            "grid_auto_columns": null,
            "margin": null,
            "display": null,
            "left": null
          }
        },
        "a5a0532b97b64f228a7d502bdf624e43": {
          "model_module": "@jupyter-widgets/controls",
          "model_name": "ProgressStyleModel",
          "model_module_version": "1.5.0",
          "state": {
            "_view_name": "StyleView",
            "_model_name": "ProgressStyleModel",
            "description_width": "",
            "_view_module": "@jupyter-widgets/base",
            "_model_module_version": "1.5.0",
            "_view_count": null,
            "_view_module_version": "1.2.0",
            "bar_color": null,
            "_model_module": "@jupyter-widgets/controls"
          }
        },
        "74168aff517f4d79b9478cb6fdfa9805": {
          "model_module": "@jupyter-widgets/base",
          "model_name": "LayoutModel",
          "model_module_version": "1.2.0",
          "state": {
            "_view_name": "LayoutView",
            "grid_template_rows": null,
            "right": null,
            "justify_content": null,
            "_view_module": "@jupyter-widgets/base",
            "overflow": null,
            "_model_module_version": "1.2.0",
            "_view_count": null,
            "flex_flow": null,
            "width": null,
            "min_width": null,
            "border": null,
            "align_items": null,
            "bottom": null,
            "_model_module": "@jupyter-widgets/base",
            "top": null,
            "grid_column": null,
            "overflow_y": null,
            "overflow_x": null,
            "grid_auto_flow": null,
            "grid_area": null,
            "grid_template_columns": null,
            "flex": null,
            "_model_name": "LayoutModel",
            "justify_items": null,
            "grid_row": null,
            "max_height": null,
            "align_content": null,
            "visibility": null,
            "align_self": null,
            "height": null,
            "min_height": null,
            "padding": null,
            "grid_auto_rows": null,
            "grid_gap": null,
            "max_width": null,
            "order": null,
            "_view_module_version": "1.2.0",
            "grid_template_areas": null,
            "object_position": null,
            "object_fit": null,
            "grid_auto_columns": null,
            "margin": null,
            "display": null,
            "left": null
          }
        },
        "5f1c74de17e14ea8a44c6bf77efa3e5c": {
          "model_module": "@jupyter-widgets/controls",
          "model_name": "DescriptionStyleModel",
          "model_module_version": "1.5.0",
          "state": {
            "_view_name": "StyleView",
            "_model_name": "DescriptionStyleModel",
            "description_width": "",
            "_view_module": "@jupyter-widgets/base",
            "_model_module_version": "1.5.0",
            "_view_count": null,
            "_view_module_version": "1.2.0",
            "_model_module": "@jupyter-widgets/controls"
          }
        },
        "b6156b69e10a4676bc3cd829e6ead41e": {
          "model_module": "@jupyter-widgets/base",
          "model_name": "LayoutModel",
          "model_module_version": "1.2.0",
          "state": {
            "_view_name": "LayoutView",
            "grid_template_rows": null,
            "right": null,
            "justify_content": null,
            "_view_module": "@jupyter-widgets/base",
            "overflow": null,
            "_model_module_version": "1.2.0",
            "_view_count": null,
            "flex_flow": null,
            "width": null,
            "min_width": null,
            "border": null,
            "align_items": null,
            "bottom": null,
            "_model_module": "@jupyter-widgets/base",
            "top": null,
            "grid_column": null,
            "overflow_y": null,
            "overflow_x": null,
            "grid_auto_flow": null,
            "grid_area": null,
            "grid_template_columns": null,
            "flex": null,
            "_model_name": "LayoutModel",
            "justify_items": null,
            "grid_row": null,
            "max_height": null,
            "align_content": null,
            "visibility": null,
            "align_self": null,
            "height": null,
            "min_height": null,
            "padding": null,
            "grid_auto_rows": null,
            "grid_gap": null,
            "max_width": null,
            "order": null,
            "_view_module_version": "1.2.0",
            "grid_template_areas": null,
            "object_position": null,
            "object_fit": null,
            "grid_auto_columns": null,
            "margin": null,
            "display": null,
            "left": null
          }
        },
        "06f6938d68a6468ca96801f28104a043": {
          "model_module": "@jupyter-widgets/controls",
          "model_name": "HBoxModel",
          "model_module_version": "1.5.0",
          "state": {
            "_view_name": "HBoxView",
            "_dom_classes": [],
            "_model_name": "HBoxModel",
            "_view_module": "@jupyter-widgets/controls",
            "_model_module_version": "1.5.0",
            "_view_count": null,
            "_view_module_version": "1.5.0",
            "box_style": "",
            "layout": "IPY_MODEL_fd99a05f6397417f9645f60b3e992c5d",
            "_model_module": "@jupyter-widgets/controls",
            "children": [
              "IPY_MODEL_23047075c3fd4b22b70b9945f4e0c999",
              "IPY_MODEL_890025caf77d47a4b6ff54e58943ed0b",
              "IPY_MODEL_411ff36aca3640bab2095b378f9812bb"
            ]
          }
        },
        "fd99a05f6397417f9645f60b3e992c5d": {
          "model_module": "@jupyter-widgets/base",
          "model_name": "LayoutModel",
          "model_module_version": "1.2.0",
          "state": {
            "_view_name": "LayoutView",
            "grid_template_rows": null,
            "right": null,
            "justify_content": null,
            "_view_module": "@jupyter-widgets/base",
            "overflow": null,
            "_model_module_version": "1.2.0",
            "_view_count": null,
            "flex_flow": null,
            "width": null,
            "min_width": null,
            "border": null,
            "align_items": null,
            "bottom": null,
            "_model_module": "@jupyter-widgets/base",
            "top": null,
            "grid_column": null,
            "overflow_y": null,
            "overflow_x": null,
            "grid_auto_flow": null,
            "grid_area": null,
            "grid_template_columns": null,
            "flex": null,
            "_model_name": "LayoutModel",
            "justify_items": null,
            "grid_row": null,
            "max_height": null,
            "align_content": null,
            "visibility": null,
            "align_self": null,
            "height": null,
            "min_height": null,
            "padding": null,
            "grid_auto_rows": null,
            "grid_gap": null,
            "max_width": null,
            "order": null,
            "_view_module_version": "1.2.0",
            "grid_template_areas": null,
            "object_position": null,
            "object_fit": null,
            "grid_auto_columns": null,
            "margin": null,
            "display": null,
            "left": null
          }
        },
        "23047075c3fd4b22b70b9945f4e0c999": {
          "model_module": "@jupyter-widgets/controls",
          "model_name": "HTMLModel",
          "model_module_version": "1.5.0",
          "state": {
            "_view_name": "HTMLView",
            "style": "IPY_MODEL_6f463b79102d4da288395c4c1c37ec4a",
            "_dom_classes": [],
            "description": "",
            "_model_name": "HTMLModel",
            "placeholder": "​",
            "_view_module": "@jupyter-widgets/controls",
            "_model_module_version": "1.5.0",
            "value": "Downloading: 100%",
            "_view_count": null,
            "_view_module_version": "1.5.0",
            "description_tooltip": null,
            "_model_module": "@jupyter-widgets/controls",
            "layout": "IPY_MODEL_9a304543ba6743fb9b8e88ac16c787b6"
          }
        },
        "890025caf77d47a4b6ff54e58943ed0b": {
          "model_module": "@jupyter-widgets/controls",
          "model_name": "FloatProgressModel",
          "model_module_version": "1.5.0",
          "state": {
            "_view_name": "ProgressView",
            "style": "IPY_MODEL_b6e6978873f4468497f3f65357ddf05f",
            "_dom_classes": [],
            "description": "",
            "_model_name": "FloatProgressModel",
            "bar_style": "success",
            "max": 104,
            "_view_module": "@jupyter-widgets/controls",
            "_model_module_version": "1.5.0",
            "value": 104,
            "_view_count": null,
            "_view_module_version": "1.5.0",
            "orientation": "horizontal",
            "min": 0,
            "description_tooltip": null,
            "_model_module": "@jupyter-widgets/controls",
            "layout": "IPY_MODEL_8f0575c3457846c29b08ab68863efd21"
          }
        },
        "411ff36aca3640bab2095b378f9812bb": {
          "model_module": "@jupyter-widgets/controls",
          "model_name": "HTMLModel",
          "model_module_version": "1.5.0",
          "state": {
            "_view_name": "HTMLView",
            "style": "IPY_MODEL_defcae8772394f24a49cee69f776f0c1",
            "_dom_classes": [],
            "description": "",
            "_model_name": "HTMLModel",
            "placeholder": "​",
            "_view_module": "@jupyter-widgets/controls",
            "_model_module_version": "1.5.0",
            "value": " 104/104 [00:00&lt;00:00, 2.22kB/s]",
            "_view_count": null,
            "_view_module_version": "1.5.0",
            "description_tooltip": null,
            "_model_module": "@jupyter-widgets/controls",
            "layout": "IPY_MODEL_0cca42e78c34491c81367d61801f2a84"
          }
        },
        "6f463b79102d4da288395c4c1c37ec4a": {
          "model_module": "@jupyter-widgets/controls",
          "model_name": "DescriptionStyleModel",
          "model_module_version": "1.5.0",
          "state": {
            "_view_name": "StyleView",
            "_model_name": "DescriptionStyleModel",
            "description_width": "",
            "_view_module": "@jupyter-widgets/base",
            "_model_module_version": "1.5.0",
            "_view_count": null,
            "_view_module_version": "1.2.0",
            "_model_module": "@jupyter-widgets/controls"
          }
        },
        "9a304543ba6743fb9b8e88ac16c787b6": {
          "model_module": "@jupyter-widgets/base",
          "model_name": "LayoutModel",
          "model_module_version": "1.2.0",
          "state": {
            "_view_name": "LayoutView",
            "grid_template_rows": null,
            "right": null,
            "justify_content": null,
            "_view_module": "@jupyter-widgets/base",
            "overflow": null,
            "_model_module_version": "1.2.0",
            "_view_count": null,
            "flex_flow": null,
            "width": null,
            "min_width": null,
            "border": null,
            "align_items": null,
            "bottom": null,
            "_model_module": "@jupyter-widgets/base",
            "top": null,
            "grid_column": null,
            "overflow_y": null,
            "overflow_x": null,
            "grid_auto_flow": null,
            "grid_area": null,
            "grid_template_columns": null,
            "flex": null,
            "_model_name": "LayoutModel",
            "justify_items": null,
            "grid_row": null,
            "max_height": null,
            "align_content": null,
            "visibility": null,
            "align_self": null,
            "height": null,
            "min_height": null,
            "padding": null,
            "grid_auto_rows": null,
            "grid_gap": null,
            "max_width": null,
            "order": null,
            "_view_module_version": "1.2.0",
            "grid_template_areas": null,
            "object_position": null,
            "object_fit": null,
            "grid_auto_columns": null,
            "margin": null,
            "display": null,
            "left": null
          }
        },
        "b6e6978873f4468497f3f65357ddf05f": {
          "model_module": "@jupyter-widgets/controls",
          "model_name": "ProgressStyleModel",
          "model_module_version": "1.5.0",
          "state": {
            "_view_name": "StyleView",
            "_model_name": "ProgressStyleModel",
            "description_width": "",
            "_view_module": "@jupyter-widgets/base",
            "_model_module_version": "1.5.0",
            "_view_count": null,
            "_view_module_version": "1.2.0",
            "bar_color": null,
            "_model_module": "@jupyter-widgets/controls"
          }
        },
        "8f0575c3457846c29b08ab68863efd21": {
          "model_module": "@jupyter-widgets/base",
          "model_name": "LayoutModel",
          "model_module_version": "1.2.0",
          "state": {
            "_view_name": "LayoutView",
            "grid_template_rows": null,
            "right": null,
            "justify_content": null,
            "_view_module": "@jupyter-widgets/base",
            "overflow": null,
            "_model_module_version": "1.2.0",
            "_view_count": null,
            "flex_flow": null,
            "width": null,
            "min_width": null,
            "border": null,
            "align_items": null,
            "bottom": null,
            "_model_module": "@jupyter-widgets/base",
            "top": null,
            "grid_column": null,
            "overflow_y": null,
            "overflow_x": null,
            "grid_auto_flow": null,
            "grid_area": null,
            "grid_template_columns": null,
            "flex": null,
            "_model_name": "LayoutModel",
            "justify_items": null,
            "grid_row": null,
            "max_height": null,
            "align_content": null,
            "visibility": null,
            "align_self": null,
            "height": null,
            "min_height": null,
            "padding": null,
            "grid_auto_rows": null,
            "grid_gap": null,
            "max_width": null,
            "order": null,
            "_view_module_version": "1.2.0",
            "grid_template_areas": null,
            "object_position": null,
            "object_fit": null,
            "grid_auto_columns": null,
            "margin": null,
            "display": null,
            "left": null
          }
        },
        "defcae8772394f24a49cee69f776f0c1": {
          "model_module": "@jupyter-widgets/controls",
          "model_name": "DescriptionStyleModel",
          "model_module_version": "1.5.0",
          "state": {
            "_view_name": "StyleView",
            "_model_name": "DescriptionStyleModel",
            "description_width": "",
            "_view_module": "@jupyter-widgets/base",
            "_model_module_version": "1.5.0",
            "_view_count": null,
            "_view_module_version": "1.2.0",
            "_model_module": "@jupyter-widgets/controls"
          }
        },
        "0cca42e78c34491c81367d61801f2a84": {
          "model_module": "@jupyter-widgets/base",
          "model_name": "LayoutModel",
          "model_module_version": "1.2.0",
          "state": {
            "_view_name": "LayoutView",
            "grid_template_rows": null,
            "right": null,
            "justify_content": null,
            "_view_module": "@jupyter-widgets/base",
            "overflow": null,
            "_model_module_version": "1.2.0",
            "_view_count": null,
            "flex_flow": null,
            "width": null,
            "min_width": null,
            "border": null,
            "align_items": null,
            "bottom": null,
            "_model_module": "@jupyter-widgets/base",
            "top": null,
            "grid_column": null,
            "overflow_y": null,
            "overflow_x": null,
            "grid_auto_flow": null,
            "grid_area": null,
            "grid_template_columns": null,
            "flex": null,
            "_model_name": "LayoutModel",
            "justify_items": null,
            "grid_row": null,
            "max_height": null,
            "align_content": null,
            "visibility": null,
            "align_self": null,
            "height": null,
            "min_height": null,
            "padding": null,
            "grid_auto_rows": null,
            "grid_gap": null,
            "max_width": null,
            "order": null,
            "_view_module_version": "1.2.0",
            "grid_template_areas": null,
            "object_position": null,
            "object_fit": null,
            "grid_auto_columns": null,
            "margin": null,
            "display": null,
            "left": null
          }
        }
      }
    }
  },
  "cells": [
    {
      "cell_type": "code",
      "execution_count": 1,
      "metadata": {
        "id": "GyCIw2VXozy3",
        "colab": {
          "base_uri": "https://localhost:8080/"
        },
        "outputId": "d6932f2b-6482-4e3e-a948-2da2f5c95b78"
      },
      "outputs": [
        {
          "output_type": "stream",
          "name": "stdout",
          "text": [
            "Mounted at /content/drive\n"
          ]
        }
      ],
      "source": [
        "from google.colab import drive\n",
        " \n",
        "# Accessing My Google Drive\n",
        "drive.mount('/content/drive')"
      ]
    },
    {
      "cell_type": "markdown",
      "source": [
        "# Prequisite"
      ],
      "metadata": {
        "id": "J5lJ6pvduYKO"
      }
    },
    {
      "cell_type": "code",
      "source": [
        "!pip install hazm\n",
        "!pip install tqdm\n",
        "\n",
        "from tqdm import tqdm\n",
        "import numpy as np\n",
        "import cv2 as cv\n",
        "import pandas as pd\n",
        "from hazm import *\n",
        "from sklearn.metrics import confusion_matrix\n",
        "from sklearn import metrics\n",
        "from sklearn.metrics import classification_report\n",
        "import math\n",
        "import re\n",
        "import csv "
      ],
      "metadata": {
        "id": "28wcwA9wrRup",
        "colab": {
          "base_uri": "https://localhost:8080/"
        },
        "outputId": "2e7141af-ce84-403c-8a78-0922993cdf8f"
      },
      "execution_count": 2,
      "outputs": [
        {
          "output_type": "stream",
          "name": "stdout",
          "text": [
            "Collecting hazm\n",
            "  Downloading hazm-0.7.0-py3-none-any.whl (316 kB)\n",
            "\u001b[K     |████████████████████████████████| 316 kB 15.2 MB/s \n",
            "\u001b[?25hCollecting nltk==3.3\n",
            "  Downloading nltk-3.3.0.zip (1.4 MB)\n",
            "\u001b[K     |████████████████████████████████| 1.4 MB 58.8 MB/s \n",
            "\u001b[?25hCollecting libwapiti>=0.2.1\n",
            "  Downloading libwapiti-0.2.1.tar.gz (233 kB)\n",
            "\u001b[K     |████████████████████████████████| 233 kB 60.1 MB/s \n",
            "\u001b[?25hRequirement already satisfied: six in /usr/local/lib/python3.7/dist-packages (from nltk==3.3->hazm) (1.15.0)\n",
            "Building wheels for collected packages: nltk, libwapiti\n",
            "  Building wheel for nltk (setup.py) ... \u001b[?25l\u001b[?25hdone\n",
            "  Created wheel for nltk: filename=nltk-3.3-py3-none-any.whl size=1394485 sha256=f0208351fa5c2addb236def410e5a1a57e445a3b0ee63928e0c0a21e1cc7e967\n",
            "  Stored in directory: /root/.cache/pip/wheels/9b/fd/0c/d92302c876e5de87ebd7fc0979d82edb93e2d8d768bf71fac4\n",
            "  Building wheel for libwapiti (setup.py) ... \u001b[?25l\u001b[?25hdone\n",
            "  Created wheel for libwapiti: filename=libwapiti-0.2.1-cp37-cp37m-linux_x86_64.whl size=154428 sha256=e9be72c2951a5d38b68d130bff5bbc8427c086ef6285b559560b7a3993ec57dc\n",
            "  Stored in directory: /root/.cache/pip/wheels/ab/b2/5b/0fe4b8f5c0e65341e8ea7bb3f4a6ebabfe8b1ac31322392dbf\n",
            "Successfully built nltk libwapiti\n",
            "Installing collected packages: nltk, libwapiti, hazm\n",
            "  Attempting uninstall: nltk\n",
            "    Found existing installation: nltk 3.2.5\n",
            "    Uninstalling nltk-3.2.5:\n",
            "      Successfully uninstalled nltk-3.2.5\n",
            "Successfully installed hazm-0.7.0 libwapiti-0.2.1 nltk-3.3\n",
            "Requirement already satisfied: tqdm in /usr/local/lib/python3.7/dist-packages (4.62.3)\n"
          ]
        }
      ]
    },
    {
      "cell_type": "code",
      "source": [
        "! pip install transformers\n",
        "from transformers import BertConfig, BertTokenizer, AutoModel\n",
        "from transformers import BertModel\n",
        "from transformers import pipeline\n",
        "from transformers import AdamW\n",
        "from transformers import get_linear_schedule_with_warmup\n",
        "\n",
        "import hazm\n",
        "\n",
        "import torch\n",
        "import torch.nn as nn\n",
        "import torch.nn.functional as F\n",
        "\n",
        "import os\n",
        "import re"
      ],
      "metadata": {
        "id": "7eMZfU48t25q",
        "colab": {
          "base_uri": "https://localhost:8080/"
        },
        "outputId": "92902299-2359-4206-bfdb-507e44aeee6c"
      },
      "execution_count": 3,
      "outputs": [
        {
          "output_type": "stream",
          "name": "stdout",
          "text": [
            "Collecting transformers\n",
            "  Downloading transformers-4.16.2-py3-none-any.whl (3.5 MB)\n",
            "\u001b[K     |████████████████████████████████| 3.5 MB 11.6 MB/s \n",
            "\u001b[?25hRequirement already satisfied: regex!=2019.12.17 in /usr/local/lib/python3.7/dist-packages (from transformers) (2019.12.20)\n",
            "Collecting sacremoses\n",
            "  Downloading sacremoses-0.0.47-py2.py3-none-any.whl (895 kB)\n",
            "\u001b[K     |████████████████████████████████| 895 kB 45.8 MB/s \n",
            "\u001b[?25hRequirement already satisfied: tqdm>=4.27 in /usr/local/lib/python3.7/dist-packages (from transformers) (4.62.3)\n",
            "Requirement already satisfied: numpy>=1.17 in /usr/local/lib/python3.7/dist-packages (from transformers) (1.21.5)\n",
            "Collecting huggingface-hub<1.0,>=0.1.0\n",
            "  Downloading huggingface_hub-0.4.0-py3-none-any.whl (67 kB)\n",
            "\u001b[K     |████████████████████████████████| 67 kB 6.8 MB/s \n",
            "\u001b[?25hCollecting tokenizers!=0.11.3,>=0.10.1\n",
            "  Downloading tokenizers-0.11.5-cp37-cp37m-manylinux_2_12_x86_64.manylinux2010_x86_64.whl (6.8 MB)\n",
            "\u001b[K     |████████████████████████████████| 6.8 MB 46.9 MB/s \n",
            "\u001b[?25hCollecting pyyaml>=5.1\n",
            "  Downloading PyYAML-6.0-cp37-cp37m-manylinux_2_5_x86_64.manylinux1_x86_64.manylinux_2_12_x86_64.manylinux2010_x86_64.whl (596 kB)\n",
            "\u001b[K     |████████████████████████████████| 596 kB 64.3 MB/s \n",
            "\u001b[?25hRequirement already satisfied: filelock in /usr/local/lib/python3.7/dist-packages (from transformers) (3.4.2)\n",
            "Requirement already satisfied: requests in /usr/local/lib/python3.7/dist-packages (from transformers) (2.23.0)\n",
            "Requirement already satisfied: importlib-metadata in /usr/local/lib/python3.7/dist-packages (from transformers) (4.11.0)\n",
            "Requirement already satisfied: packaging>=20.0 in /usr/local/lib/python3.7/dist-packages (from transformers) (21.3)\n",
            "Requirement already satisfied: typing-extensions>=3.7.4.3 in /usr/local/lib/python3.7/dist-packages (from huggingface-hub<1.0,>=0.1.0->transformers) (3.10.0.2)\n",
            "Requirement already satisfied: pyparsing!=3.0.5,>=2.0.2 in /usr/local/lib/python3.7/dist-packages (from packaging>=20.0->transformers) (3.0.7)\n",
            "Requirement already satisfied: zipp>=0.5 in /usr/local/lib/python3.7/dist-packages (from importlib-metadata->transformers) (3.7.0)\n",
            "Requirement already satisfied: certifi>=2017.4.17 in /usr/local/lib/python3.7/dist-packages (from requests->transformers) (2021.10.8)\n",
            "Requirement already satisfied: urllib3!=1.25.0,!=1.25.1,<1.26,>=1.21.1 in /usr/local/lib/python3.7/dist-packages (from requests->transformers) (1.24.3)\n",
            "Requirement already satisfied: chardet<4,>=3.0.2 in /usr/local/lib/python3.7/dist-packages (from requests->transformers) (3.0.4)\n",
            "Requirement already satisfied: idna<3,>=2.5 in /usr/local/lib/python3.7/dist-packages (from requests->transformers) (2.10)\n",
            "Requirement already satisfied: joblib in /usr/local/lib/python3.7/dist-packages (from sacremoses->transformers) (1.1.0)\n",
            "Requirement already satisfied: six in /usr/local/lib/python3.7/dist-packages (from sacremoses->transformers) (1.15.0)\n",
            "Requirement already satisfied: click in /usr/local/lib/python3.7/dist-packages (from sacremoses->transformers) (7.1.2)\n",
            "Installing collected packages: pyyaml, tokenizers, sacremoses, huggingface-hub, transformers\n",
            "  Attempting uninstall: pyyaml\n",
            "    Found existing installation: PyYAML 3.13\n",
            "    Uninstalling PyYAML-3.13:\n",
            "      Successfully uninstalled PyYAML-3.13\n",
            "Successfully installed huggingface-hub-0.4.0 pyyaml-6.0 sacremoses-0.0.47 tokenizers-0.11.5 transformers-4.16.2\n"
          ]
        }
      ]
    },
    {
      "cell_type": "markdown",
      "source": [
        "# Helper function"
      ],
      "metadata": {
        "id": "R69Tx-LUBrs4"
      }
    },
    {
      "cell_type": "code",
      "source": [
        "def read_csv(path):\n",
        "  if \"analogy_slang.csv\" in path:\n",
        "    df = pd.read_csv(path, engine='python',encoding='utf-8', error_bad_lines=False)\n",
        "    df.columns = [\"cat\", \"first\", \"second\", \"third\",\"fourth\"]\n",
        "  elif \"SAT_ANALOGY\" in path:\n",
        "    df = pd.read_csv(path, engine='python',encoding='utf-8', error_bad_lines=False)\n",
        "  else:\n",
        "    df = pd.read_csv(path, engine='python',encoding='utf-8', error_bad_lines=False,  names=[\"cat\", \"first\", \"second\", \"third\",\"fourth\"])\n",
        "  print(\"The size of the analogy test set is : {}\".format(len(df)))\n",
        "  print(df.head())\n",
        "  return df\n",
        "\n",
        "def save_csv(path, data):\n",
        "  data.to_csv(path)\n",
        "\n",
        "def txt_to_csv(path, saved_path):\n",
        "  data = { 'cat' : [],\n",
        "          'first': [], \n",
        "          'second': [],\n",
        "          'third' : [],\n",
        "          'fourth' : [],\n",
        "          }\n",
        "  with open(path) as f:\n",
        "    lines = f.readlines()\n",
        "    print(len(lines))\n",
        "    cat = ': Adjective-Adverb'\n",
        "    for line in lines:\n",
        "        line = re.sub('\\n','', line)\n",
        "        words = line.split('\\t')\n",
        "        if len(words) == 4 :\n",
        "          data['cat'].append(cat)\n",
        "          data['first'].append(words[0])\n",
        "          data['second'].append(words[1])\n",
        "          data['third'].append(words[2])\n",
        "          data['fourth'].append(words[3])\n",
        "        else:\n",
        "          cat = words[0]\n",
        "    data = pd.DataFrame(data)\n",
        "    print(data.head())\n",
        "    save_csv(saved_path,data)\n",
        "    return data\n",
        "\n",
        "def text_to_csv_2(url, url_2):\n",
        "  with open(url, \"r\") as in_text:\n",
        "      in_reader = csv.reader(in_text, delimiter = '\\t')\n",
        "      with open(url_2, \"w\") as out_csv:\n",
        "          out_writer = csv.writer(out_csv)\n",
        "          for row in in_reader:\n",
        "              out_writer.writerow(row)\n",
        "  df = pd.read_csv(url_2, engine='python',encoding='utf-8', error_bad_lines=False)\n",
        "  return df\n",
        "      \n",
        "def process_sat_analogy(path, saved_path):\n",
        "  data = { 'cat' : [],\n",
        "          'first': [], \n",
        "          'second': [],\n",
        "          'third' : [],\n",
        "          'fourth' : [],\n",
        "          }\n",
        "  df = read_csv(path)\n",
        "  print(\"Number of unique description in sat test : {}\".format(len(np.unique(df[\"Desc\"]))))\n",
        "  for desc in np.unique(df[\"Desc\"]):\n",
        "    # print(desc)\n",
        "    df_new = df[df[\"Desc\"] == desc]\n",
        "    # print(len(df_new))\n",
        "    w1 = np.asarray(df_new[\"W1\"])\n",
        "    w2 = np.asarray(df_new[\"W2\"])\n",
        "    for i in range(0, len(df_new)-1):\n",
        "      for j in range(i+1, len(df_new)):\n",
        "          data['cat'].append(desc)\n",
        "          data['first'].append(w1[i])\n",
        "          data['second'].append(w2[i])\n",
        "          data['third'].append(w1[j])\n",
        "          data['fourth'].append(w2[j])\n",
        "  data = pd.DataFrame(data)\n",
        "  # print(data.head())\n",
        "  save_csv(saved_path,data)\n",
        "  return df , data\n"
      ],
      "metadata": {
        "id": "JJpgn7C6BrXh"
      },
      "execution_count": 4,
      "outputs": []
    },
    {
      "cell_type": "code",
      "source": [
        "def pre_proc(item):\n",
        "  item = re.sub(\"\\'\",'',item)\n",
        "  item = re.sub(\"[\",'',item)\n",
        "  item = re.sub(\"]\",'',item)\n",
        "  item = re.sub(\" \",'',item)\n",
        "  return item\n",
        "def acurracy_category(result, dataset, path):\n",
        "  categories = np.unique(dataset[\"cat\"])\n",
        "  print(categories)\n",
        "  result[\"cat\"] = dataset[\"cat\"]\n",
        "  accuracy = {\n",
        "      \"cat\":[],\n",
        "      \"sample\" :[],\n",
        "      \"acc_1\":[],\n",
        "      \"acc_3\":[],\n",
        "      \"acc_5\":[],\n",
        "      \"acc_10\":[],\n",
        "  }\n",
        "  for cat in categories:\n",
        "    acc_1 = 0\n",
        "    acc_3 = 0\n",
        "    acc_5 = 0\n",
        "    acc_10 = 0\n",
        "    df = result[result[\"cat\"]==cat]\n",
        "    # print(len(df))\n",
        "    for index, row in tqdm(df.iterrows()):\n",
        "      res = row[\"predicted_answer\"]\n",
        "      res = re.sub(\"\\'\",'',res)\n",
        "      res = re.sub(\"\\[\",'',res)\n",
        "      res = re.sub(\"\\]\",'',res)\n",
        "      res = re.sub(\" \",'',res)\n",
        "      res = res.split(\",\")\n",
        "      # res = [pre_proc(item) for item in res]\n",
        "      ground_truth_response = row[\"ground_truth\"]\n",
        "      if res[0] == ground_truth_response:\n",
        "        acc_1 += 1\n",
        "        acc_3 += 1\n",
        "        acc_5 += 1\n",
        "        acc_10 += 1\n",
        "      elif ground_truth_response in res[0:3]:\n",
        "        acc_3 += 1\n",
        "        acc_5 += 1\n",
        "        acc_10 += 1\n",
        "      elif ground_truth_response in res[0:5]:\n",
        "        acc_5 += 1\n",
        "        acc_10 += 1\n",
        "      elif ground_truth_response in res:\n",
        "        acc_10 += 1\n",
        "    total = len(df)\n",
        "    accuracy[\"cat\"].append(cat)\n",
        "    try:\n",
        "      accuracy[\"sample\"].append(df.iloc[0]['test'])\n",
        "    except:\n",
        "      accuracy[\"sample\"].append(df.iloc[0]['test1'])\n",
        "    accuracy[\"acc_1\"].append(acc_1/total)\n",
        "    accuracy[\"acc_3\"].append(acc_3/total)\n",
        "    accuracy[\"acc_5\"].append(acc_5/total)\n",
        "    accuracy[\"acc_10\"].append(acc_10/total)\n",
        "    print(\"\\n category is : \", cat) \n",
        "    try:\n",
        "      print(\"Sample test : {}\".format(df.iloc[0]['test']))\n",
        "    except:\n",
        "      print(\"Sample test1 : {}\".format(df.iloc[0]['test1']))\n",
        "      print(\"Sample test2 : {}\".format(df.iloc[0]['test2']))\n",
        "    print(\"acc_1: \", acc_1/total) \n",
        "    print(\"acc_3: \", acc_3/total)\n",
        "    print(\"acc_5: \", acc_5/total)\n",
        "    print(\"acc_10: \", acc_10/total)\n",
        "    print(\"===================================\")\n",
        "  accuracy = pd.DataFrame(accuracy)\n",
        "  save_csv(ROOT+path, accuracy)\n",
        "  print(\"file saved to {}\".format(ROOT+path))"
      ],
      "metadata": {
        "id": "7G0cResV3HFC"
      },
      "execution_count": 5,
      "outputs": []
    },
    {
      "cell_type": "code",
      "source": [
        "def semantic_acc(result, dataset,semantic): \n",
        "  categories = np.unique(result[\"cat\"]) \n",
        "  length = 0 \n",
        "  acc_1 = 0 \n",
        "  acc_3 = 0 \n",
        "  acc_5 = 0 \n",
        "  acc_10 = 0 \n",
        "  for sem in semantic: \n",
        "    size = len(dataset[dataset[\"cat\"]==sem]) \n",
        "    # print(sem) \n",
        "    # print(size) \n",
        "    res = result[result[\"cat\"]==sem] \n",
        "    # print(res.iloc[0][\"acc_1\"]) \n",
        "    length += size \n",
        "    acc_1 += res.iloc[0][\"acc_1\"] * size \n",
        "    acc_3 += res.iloc[0][\"acc_3\"] * size \n",
        "    acc_5 += res.iloc[0][\"acc_5\"] * size \n",
        "    acc_10 += res.iloc[0][\"acc_10\"] * size \n",
        "  acc_1 = acc_1/length \n",
        "  acc_3 = acc_3/length \n",
        "  acc_5 = acc_5/length \n",
        "  acc_10 = acc_10/length \n",
        "  print(\"semantic results\") \n",
        "  print(\"length: \", length)  \n",
        "  print(\"acc_1: \", acc_1)  \n",
        "  print(\"acc_3: \", acc_3) \n",
        "  print(\"acc_5: \", acc_5) \n",
        "  print(\"acc_10: \", acc_10) \n",
        "  print(\"===================================\") \n",
        " \n",
        "  length = 0 \n",
        "  acc_1 = 0 \n",
        "  acc_3 = 0 \n",
        "  acc_5 = 0 \n",
        "  acc_10 = 0 \n",
        "  for ca in categories: \n",
        "    if ca not in semantic: \n",
        "      size = len(dataset[dataset[\"cat\"]==ca]) \n",
        "      # print(ca) \n",
        "      # print(size) \n",
        "      length += size \n",
        "      res = result[result[\"cat\"]==ca] \n",
        "      # print(res.iloc[0][\"acc_1\"]) \n",
        "      acc_1 += res.iloc[0][\"acc_1\"] * size \n",
        "      acc_3 += res.iloc[0][\"acc_3\"] * size \n",
        "      acc_5 += res.iloc[0][\"acc_5\"] * size \n",
        "    acc_10 += res.iloc[0][\"acc_10\"] * size \n",
        "  acc_1 = acc_1/length \n",
        "  acc_3 = acc_3/length \n",
        "  acc_5 = acc_5/length \n",
        "  acc_10 = acc_10/length \n",
        "  print(\"syntactic results\") \n",
        "  print(\"length: \", length)  \n",
        "  print(\"acc_1: \", acc_1)  \n",
        "  print(\"acc_3: \", acc_3) \n",
        "  print(\"acc_5: \", acc_5) \n",
        "  print(\"acc_10: \", acc_10) \n",
        "  print(\"===================================\")"
      ],
      "metadata": {
        "id": "tBxBR2MAtIab"
      },
      "execution_count": 30,
      "outputs": []
    },
    {
      "cell_type": "markdown",
      "source": [
        "# Data"
      ],
      "metadata": {
        "id": "lZkhHDjrubpc"
      }
    },
    {
      "cell_type": "markdown",
      "source": [
        "analogy test 1"
      ],
      "metadata": {
        "id": "OPEwkO9A-Oh8"
      }
    },
    {
      "cell_type": "code",
      "source": [
        "# df = read_csv('/content/drive/MyDrive/Colab Notebooks/nlp /analogy/analogy.csv')\n",
        "df = read_csv('/content/drive/MyDrive/Analogy_NLP_Files/analogy.csv')"
      ],
      "metadata": {
        "colab": {
          "base_uri": "https://localhost:8080/"
        },
        "id": "gEFW4AiNpDvx",
        "outputId": "879f2b9c-6626-4ad4-ffb5-b3d7a3818374"
      },
      "execution_count": 6,
      "outputs": [
        {
          "output_type": "stream",
          "name": "stderr",
          "text": [
            "/usr/local/lib/python3.7/dist-packages/ipykernel_launcher.py:2: FutureWarning: The error_bad_lines argument has been deprecated and will be removed in a future version.\n",
            "\n",
            "\n",
            "  \n"
          ]
        },
        {
          "output_type": "stream",
          "name": "stdout",
          "text": [
            "The size of the analogy test set is : 19716\n",
            "                 cat  first second    third   fourth\n",
            "0  semantic-capitals  ایران  تهران      چین      پکن\n",
            "1  semantic-capitals  ایران  تهران      هند  دهلی‌نو\n",
            "2  semantic-capitals  ایران  تهران     ژاپن    توکیو\n",
            "3  semantic-capitals  ایران  تهران  فیلیپین    مانیل\n",
            "4  semantic-capitals  ایران  تهران    روسیه    موسکو\n"
          ]
        }
      ]
    },
    {
      "cell_type": "markdown",
      "source": [
        "analogy farsi"
      ],
      "metadata": {
        "id": "wkMa3UAr-VTo"
      }
    },
    {
      "cell_type": "code",
      "source": [
        "# df_farsi = read_csv('/content/drive/MyDrive/Colab Notebooks/nlp /analogy/analogy_farsi.csv')\n",
        "df_farsi = read_csv('/content/drive/MyDrive/Analogy_NLP_Files/analogy_farsi.csv')"
      ],
      "metadata": {
        "colab": {
          "base_uri": "https://localhost:8080/"
        },
        "id": "PrzYCL94-bO6",
        "outputId": "d2557611-ad8a-47bc-b22e-c2eb2f6bd293"
      },
      "execution_count": 29,
      "outputs": [
        {
          "output_type": "stream",
          "name": "stdout",
          "text": [
            "The size of the analogy test set is : 30072\n",
            "    cat first second     third   fourth\n",
            "0  city   کرج  البرز     شیراز     فارس\n",
            "1  city   کرج  البرز     اهواز  خوزستان\n",
            "2  city   کرج  البرز       رشت    گیلان\n",
            "3  city   کرج  البرز  بندرعباس  هرمزگان\n",
            "4  city   کرج  البرز      اراک    مرکزی\n"
          ]
        },
        {
          "output_type": "stream",
          "name": "stderr",
          "text": [
            "/usr/local/lib/python3.7/dist-packages/ipykernel_launcher.py:2: FutureWarning: The error_bad_lines argument has been deprecated and will be removed in a future version.\n",
            "\n",
            "\n",
            "  \n"
          ]
        }
      ]
    },
    {
      "cell_type": "markdown",
      "source": [
        "analogy slang"
      ],
      "metadata": {
        "id": "7OOUbftj-d_o"
      }
    },
    {
      "cell_type": "code",
      "source": [
        "# df_slang= read_csv('/content/drive/MyDrive/Colab Notebooks/nlp /analogy/analogy_slang.csv')\n",
        "df_slang= read_csv('/content/drive/MyDrive/Analogy_NLP_Files/analogy_slang.csv')"
      ],
      "metadata": {
        "colab": {
          "base_uri": "https://localhost:8080/"
        },
        "id": "4LBjq853-e7J",
        "outputId": "ae4a0c22-841d-45e3-bf51-ce04021359b2"
      },
      "execution_count": 23,
      "outputs": [
        {
          "output_type": "stream",
          "name": "stderr",
          "text": [
            "/usr/local/lib/python3.7/dist-packages/ipykernel_launcher.py:2: FutureWarning: The error_bad_lines argument has been deprecated and will be removed in a future version.\n",
            "\n",
            "\n",
            "  \n"
          ]
        },
        {
          "output_type": "stream",
          "name": "stdout",
          "text": [
            "The size of the analogy test set is : 2332\n",
            "              cat  first second    third    fourth\n",
            "0  semantic-slang  هیشکی  هیچکس      باس      باید\n",
            "1  semantic-slang  هیشکی  هیچکس      باس    بایستی\n",
            "2  semantic-slang  هیشکی  هیچکس      مگه       مگر\n",
            "3  semantic-slang  هیشکی  هیچکس  رفتارای  رفتارهای\n",
            "4  semantic-slang  هیشکی  هیچکس    کردین     کردید\n"
          ]
        }
      ]
    },
    {
      "cell_type": "markdown",
      "source": [
        "bokai analogy"
      ],
      "metadata": {
        "id": "g-KznuIjJTRe"
      }
    },
    {
      "cell_type": "code",
      "source": [
        "# df_bokai = txt_to_csv('/content/drive/MyDrive/Colab Notebooks/nlp /analogy/FA-GOOGLE-TABBED.txt',\n",
        "                      # '/content/drive/MyDrive/Colab Notebooks/nlp /analogy/bokai.csv')\n",
        "\n",
        "# v1\n",
        "df_bokai = txt_to_csv('/content/drive/MyDrive/Analogy_NLP_Files/FA-GOOGLE-TABBED-normal.txt',\n",
        "                       '/content/drive/MyDrive/Analogy_NLP_Files/bokai.csv')\n",
        "\n",
        "# v2\n",
        "# url = '/content/drive/MyDrive/Analogy_NLP_Files/FA-GOOGLE-TABBED.txt'\n",
        "# url_2 = '/content/drive/MyDrive/Analogy_NLP_Files/FA-GOOGLE-TABBED.csv'\n",
        "# df_bokai_2 = text_to_csv_2(url, url_2)\n",
        "# df_bokai_2.head()\n"
      ],
      "metadata": {
        "colab": {
          "base_uri": "https://localhost:8080/"
        },
        "id": "K47aK5WWHk7x",
        "outputId": "8e8963c2-cb5e-447e-c283-12792e2c97fa"
      },
      "execution_count": 24,
      "outputs": [
        {
          "output_type": "stream",
          "name": "stdout",
          "text": [
            "31347\n",
            "                 cat first second  third  fourth\n",
            "0  Adjective-Adverb:  سریع  سریعا  مخصوص  مخصوصا\n",
            "1  Adjective-Adverb:  سریع  سریعا   کامل   کاملا\n",
            "2  Adjective-Adverb:  سریع  سریعا  معمول  معمولا\n",
            "3  Adjective-Adverb:  سریع  سریعا   اخیر   اخیرا\n",
            "4  Adjective-Adverb:  سریع  سریعا  ناچار  ناچارا\n"
          ]
        }
      ]
    },
    {
      "cell_type": "markdown",
      "source": [
        "sat analogy"
      ],
      "metadata": {
        "id": "koH3WRhcJVqE"
      }
    },
    {
      "cell_type": "code",
      "source": [
        "# df_sat, df_sat_test = process_sat_analogy('/content/drive/MyDrive/Colab Notebooks/nlp /analogy/SAT_ANALOGY.csv',\n",
        "                                          # '/content/drive/MyDrive/Colab Notebooks/nlp /analogy/SAT_ANALOGY_Process.csv')\n",
        "\n",
        "df_sat, df_sat_test = process_sat_analogy('/content/drive/MyDrive/Analogy_NLP_Files/SAT_ANALOGY.csv',\n",
        "                                           '/content/drive/MyDrive/Analogy_NLP_Files/SAT_ANALOGY_Process.csv')"
      ],
      "metadata": {
        "colab": {
          "base_uri": "https://localhost:8080/"
        },
        "id": "PD9KsilOJRbu",
        "outputId": "c5fb5c75-8252-4dad-a634-cc42e268d39e"
      },
      "execution_count": 25,
      "outputs": [
        {
          "output_type": "stream",
          "name": "stderr",
          "text": [
            "/usr/local/lib/python3.7/dist-packages/ipykernel_launcher.py:60: FutureWarning: The error_bad_lines argument has been deprecated and will be removed in a future version.\n",
            "\n",
            "\n"
          ]
        },
        {
          "output_type": "stream",
          "name": "stdout",
          "text": [
            "The size of the analogy test set is : 390\n",
            "   ID                                       Desc  ... Unnamed: 4 Unnamed: 5\n",
            "0   1  Class Inclusion  Taxonomic  emotion:rage   ...        NaN        NaN\n",
            "1   1  Class Inclusion  Taxonomic  emotion:rage   ...        NaN        NaN\n",
            "2   1  Class Inclusion  Taxonomic  emotion:rage   ...        NaN        NaN\n",
            "3   1  Class Inclusion  Taxonomic  emotion:rage   ...        NaN        NaN\n",
            "4   1  Class Inclusion  Taxonomic  emotion:rage   ...        NaN        NaN\n",
            "\n",
            "[5 rows x 6 columns]\n",
            "Number of unique description in sat test : 67\n"
          ]
        }
      ]
    },
    {
      "cell_type": "code",
      "source": [
        "df_sat_test.head()"
      ],
      "metadata": {
        "colab": {
          "base_uri": "https://localhost:8080/",
          "height": 206
        },
        "id": "o9EghWXbOptg",
        "outputId": "a8da98dc-936f-4217-db52-f09aec631cfd"
      },
      "execution_count": 26,
      "outputs": [
        {
          "output_type": "execute_result",
          "data": {
            "text/html": [
              "\n",
              "  <div id=\"df-cac6b94a-9a1c-4948-9f66-bd8eee2f256d\">\n",
              "    <div class=\"colab-df-container\">\n",
              "      <div>\n",
              "<style scoped>\n",
              "    .dataframe tbody tr th:only-of-type {\n",
              "        vertical-align: middle;\n",
              "    }\n",
              "\n",
              "    .dataframe tbody tr th {\n",
              "        vertical-align: top;\n",
              "    }\n",
              "\n",
              "    .dataframe thead th {\n",
              "        text-align: right;\n",
              "    }\n",
              "</style>\n",
              "<table border=\"1\" class=\"dataframe\">\n",
              "  <thead>\n",
              "    <tr style=\"text-align: right;\">\n",
              "      <th></th>\n",
              "      <th>cat</th>\n",
              "      <th>first</th>\n",
              "      <th>second</th>\n",
              "      <th>third</th>\n",
              "      <th>fourth</th>\n",
              "    </tr>\n",
              "  </thead>\n",
              "  <tbody>\n",
              "    <tr>\n",
              "      <th>0</th>\n",
              "      <td>Attribute  Agent Attribute:State (adjective:no...</td>\n",
              "      <td>فقیر</td>\n",
              "      <td>بیپولی</td>\n",
              "      <td>ملتهب</td>\n",
              "      <td>دعوا</td>\n",
              "    </tr>\n",
              "    <tr>\n",
              "      <th>1</th>\n",
              "      <td>Attribute  Agent Attribute:State (adjective:no...</td>\n",
              "      <td>فقیر</td>\n",
              "      <td>بیپولی</td>\n",
              "      <td>مضطرب</td>\n",
              "      <td>بیقرار</td>\n",
              "    </tr>\n",
              "    <tr>\n",
              "      <th>2</th>\n",
              "      <td>Attribute  Agent Attribute:State (adjective:no...</td>\n",
              "      <td>فقیر</td>\n",
              "      <td>بیپولی</td>\n",
              "      <td>منفک</td>\n",
              "      <td>تنها</td>\n",
              "    </tr>\n",
              "    <tr>\n",
              "      <th>3</th>\n",
              "      <td>Attribute  Agent Attribute:State (adjective:no...</td>\n",
              "      <td>ملتهب</td>\n",
              "      <td>دعوا</td>\n",
              "      <td>مضطرب</td>\n",
              "      <td>بیقرار</td>\n",
              "    </tr>\n",
              "    <tr>\n",
              "      <th>4</th>\n",
              "      <td>Attribute  Agent Attribute:State (adjective:no...</td>\n",
              "      <td>ملتهب</td>\n",
              "      <td>دعوا</td>\n",
              "      <td>منفک</td>\n",
              "      <td>تنها</td>\n",
              "    </tr>\n",
              "  </tbody>\n",
              "</table>\n",
              "</div>\n",
              "      <button class=\"colab-df-convert\" onclick=\"convertToInteractive('df-cac6b94a-9a1c-4948-9f66-bd8eee2f256d')\"\n",
              "              title=\"Convert this dataframe to an interactive table.\"\n",
              "              style=\"display:none;\">\n",
              "        \n",
              "  <svg xmlns=\"http://www.w3.org/2000/svg\" height=\"24px\"viewBox=\"0 0 24 24\"\n",
              "       width=\"24px\">\n",
              "    <path d=\"M0 0h24v24H0V0z\" fill=\"none\"/>\n",
              "    <path d=\"M18.56 5.44l.94 2.06.94-2.06 2.06-.94-2.06-.94-.94-2.06-.94 2.06-2.06.94zm-11 1L8.5 8.5l.94-2.06 2.06-.94-2.06-.94L8.5 2.5l-.94 2.06-2.06.94zm10 10l.94 2.06.94-2.06 2.06-.94-2.06-.94-.94-2.06-.94 2.06-2.06.94z\"/><path d=\"M17.41 7.96l-1.37-1.37c-.4-.4-.92-.59-1.43-.59-.52 0-1.04.2-1.43.59L10.3 9.45l-7.72 7.72c-.78.78-.78 2.05 0 2.83L4 21.41c.39.39.9.59 1.41.59.51 0 1.02-.2 1.41-.59l7.78-7.78 2.81-2.81c.8-.78.8-2.07 0-2.86zM5.41 20L4 18.59l7.72-7.72 1.47 1.35L5.41 20z\"/>\n",
              "  </svg>\n",
              "      </button>\n",
              "      \n",
              "  <style>\n",
              "    .colab-df-container {\n",
              "      display:flex;\n",
              "      flex-wrap:wrap;\n",
              "      gap: 12px;\n",
              "    }\n",
              "\n",
              "    .colab-df-convert {\n",
              "      background-color: #E8F0FE;\n",
              "      border: none;\n",
              "      border-radius: 50%;\n",
              "      cursor: pointer;\n",
              "      display: none;\n",
              "      fill: #1967D2;\n",
              "      height: 32px;\n",
              "      padding: 0 0 0 0;\n",
              "      width: 32px;\n",
              "    }\n",
              "\n",
              "    .colab-df-convert:hover {\n",
              "      background-color: #E2EBFA;\n",
              "      box-shadow: 0px 1px 2px rgba(60, 64, 67, 0.3), 0px 1px 3px 1px rgba(60, 64, 67, 0.15);\n",
              "      fill: #174EA6;\n",
              "    }\n",
              "\n",
              "    [theme=dark] .colab-df-convert {\n",
              "      background-color: #3B4455;\n",
              "      fill: #D2E3FC;\n",
              "    }\n",
              "\n",
              "    [theme=dark] .colab-df-convert:hover {\n",
              "      background-color: #434B5C;\n",
              "      box-shadow: 0px 1px 3px 1px rgba(0, 0, 0, 0.15);\n",
              "      filter: drop-shadow(0px 1px 2px rgba(0, 0, 0, 0.3));\n",
              "      fill: #FFFFFF;\n",
              "    }\n",
              "  </style>\n",
              "\n",
              "      <script>\n",
              "        const buttonEl =\n",
              "          document.querySelector('#df-cac6b94a-9a1c-4948-9f66-bd8eee2f256d button.colab-df-convert');\n",
              "        buttonEl.style.display =\n",
              "          google.colab.kernel.accessAllowed ? 'block' : 'none';\n",
              "\n",
              "        async function convertToInteractive(key) {\n",
              "          const element = document.querySelector('#df-cac6b94a-9a1c-4948-9f66-bd8eee2f256d');\n",
              "          const dataTable =\n",
              "            await google.colab.kernel.invokeFunction('convertToInteractive',\n",
              "                                                     [key], {});\n",
              "          if (!dataTable) return;\n",
              "\n",
              "          const docLinkHtml = 'Like what you see? Visit the ' +\n",
              "            '<a target=\"_blank\" href=https://colab.research.google.com/notebooks/data_table.ipynb>data table notebook</a>'\n",
              "            + ' to learn more about interactive tables.';\n",
              "          element.innerHTML = '';\n",
              "          dataTable['output_type'] = 'display_data';\n",
              "          await google.colab.output.renderOutput(dataTable, element);\n",
              "          const docLink = document.createElement('div');\n",
              "          docLink.innerHTML = docLinkHtml;\n",
              "          element.appendChild(docLink);\n",
              "        }\n",
              "      </script>\n",
              "    </div>\n",
              "  </div>\n",
              "  "
            ],
            "text/plain": [
              "                                                 cat  first  ...  third  fourth\n",
              "0  Attribute  Agent Attribute:State (adjective:no...   فقیر  ...  ملتهب    دعوا\n",
              "1  Attribute  Agent Attribute:State (adjective:no...   فقیر  ...  مضطرب  بیقرار\n",
              "2  Attribute  Agent Attribute:State (adjective:no...   فقیر  ...   منفک    تنها\n",
              "3  Attribute  Agent Attribute:State (adjective:no...  ملتهب  ...  مضطرب  بیقرار\n",
              "4  Attribute  Agent Attribute:State (adjective:no...  ملتهب  ...   منفک    تنها\n",
              "\n",
              "[5 rows x 5 columns]"
            ]
          },
          "metadata": {},
          "execution_count": 26
        }
      ]
    },
    {
      "cell_type": "markdown",
      "source": [
        "# BERT Model"
      ],
      "metadata": {
        "id": "LlGZcLC7ufjy"
      }
    },
    {
      "cell_type": "code",
      "source": [
        "import torch\n",
        "from transformers import BertTokenizer, BertModel, BertForMaskedLM\n",
        "import logging\n",
        "logging.basicConfig(level=logging.INFO)# OPTIONAL"
      ],
      "metadata": {
        "id": "OLlkKYdYuiqf"
      },
      "execution_count": null,
      "outputs": []
    },
    {
      "cell_type": "code",
      "source": [
        "device = torch.device(\"cuda:0\" if torch.cuda.is_available() else \"cpu\")\n",
        "print(f'device: {device}')\n",
        "\n",
        "train_on_gpu = torch.cuda.is_available()\n",
        "\n",
        "if not train_on_gpu:\n",
        "    print('CUDA is not available.  Training on CPU ...')\n",
        "else:\n",
        "    print('CUDA is available!  Training on GPU ...')"
      ],
      "metadata": {
        "colab": {
          "base_uri": "https://localhost:8080/"
        },
        "id": "opeSXxlbul-v",
        "outputId": "7f09e9b5-3b00-4802-82fb-04978998c377"
      },
      "execution_count": null,
      "outputs": [
        {
          "output_type": "stream",
          "name": "stdout",
          "text": [
            "device: cuda:0\n",
            "CUDA is available!  Training on GPU ...\n"
          ]
        }
      ]
    },
    {
      "cell_type": "code",
      "source": [
        "import torch, gc\n",
        "\n",
        "gc.collect()\n",
        "torch.cuda.empty_cache()\n",
        "\n",
        "!nvidia-smi"
      ],
      "metadata": {
        "colab": {
          "base_uri": "https://localhost:8080/"
        },
        "id": "Nru0ca9Zu-p8",
        "outputId": "ec0b4d7e-1f06-464f-f66f-966fe4d95448"
      },
      "execution_count": null,
      "outputs": [
        {
          "output_type": "stream",
          "name": "stdout",
          "text": [
            "Sun Feb 20 13:41:27 2022       \n",
            "+-----------------------------------------------------------------------------+\n",
            "| NVIDIA-SMI 460.32.03    Driver Version: 460.32.03    CUDA Version: 11.2     |\n",
            "|-------------------------------+----------------------+----------------------+\n",
            "| GPU  Name        Persistence-M| Bus-Id        Disp.A | Volatile Uncorr. ECC |\n",
            "| Fan  Temp  Perf  Pwr:Usage/Cap|         Memory-Usage | GPU-Util  Compute M. |\n",
            "|                               |                      |               MIG M. |\n",
            "|===============================+======================+======================|\n",
            "|   0  Tesla K80           Off  | 00000000:00:04.0 Off |                    0 |\n",
            "| N/A   33C    P8    28W / 149W |      3MiB / 11441MiB |      0%      Default |\n",
            "|                               |                      |                  N/A |\n",
            "+-------------------------------+----------------------+----------------------+\n",
            "                                                                               \n",
            "+-----------------------------------------------------------------------------+\n",
            "| Processes:                                                                  |\n",
            "|  GPU   GI   CI        PID   Type   Process name                  GPU Memory |\n",
            "|        ID   ID                                                   Usage      |\n",
            "|=============================================================================|\n",
            "|  No running processes found                                                 |\n",
            "+-----------------------------------------------------------------------------+\n"
          ]
        }
      ]
    },
    {
      "cell_type": "code",
      "source": [
        "MODEL_NAME= 'HooshvareLab/bert-fa-base-uncased'\n",
        "\n",
        "OUTPUT_PATH = '/content/drive/MyDrive/Colab Notebooks/nlp/digikala/analogy_model.pt'\n",
        "# OUTPUT_PATH = '/content/drive/MyDrive/Analogy_NLP_Files/analogy_model.pt'"
      ],
      "metadata": {
        "id": "5hY9_1nfur8x"
      },
      "execution_count": null,
      "outputs": []
    },
    {
      "cell_type": "code",
      "source": [
        "tokenizer = BertTokenizer.from_pretrained(MODEL_NAME)\n",
        "model = BertForMaskedLM.from_pretrained(MODEL_NAME)\n",
        "model = model.to(device)\n",
        "model.eval()"
      ],
      "metadata": {
        "id": "f6uMe3u9u1ei",
        "colab": {
          "base_uri": "https://localhost:8080/",
          "height": 1000,
          "referenced_widgets": [
            "76966669f36a4c80addbc191d9f67626",
            "dd08cc35224246d88ea28e90b9032c07",
            "08cabb11127b40859a5704984eed6286",
            "481417df2636428dbd7cde5c7e637839",
            "54ef23275f2349f48cc1ab8c858b653e",
            "a1b27ee24db3476a8c8d8b6c8f280739",
            "77e737aeece84941858caf34e6a22b86",
            "819c6f7f014d4f6287f0e56f374d6502",
            "8b51ad8d3733415d917f8eb3ec9b0dc3",
            "5cf11cac61d64961a68f83eb58d0a2ea",
            "6e963f19ea754424ba41e1c97ed63210",
            "0c4bae9aaca84efe80298f4c062ab15f",
            "e7a12d7d7ef14ff5be118cd0f8b93e69",
            "465046381ce743a585c5737a752a525a",
            "336a96ba4f4646249035e45b528dbeaa",
            "9e0ad1a941074af28c8acb8c8b0031ab",
            "7db6dba31677429caed1093f4fcbc8a4",
            "b8f8a81f8a4e4571a6bffd4c4ca3d899",
            "bb551798448f48a7b5370d3476a81671",
            "e1a7e97c73be4cb39f6e94b2b3ce2472",
            "bc8467f929ad40aaadf156982b32e626",
            "22528b56a2794cf39f9c34910dda0e5f",
            "1666a95204164788b6f5747946c39928",
            "e5886ca1d30140fe9aa38bb2dc4adab1",
            "39f453e34b39403eba2153398a72478a",
            "4ed9039e880e4df98f785bab6130fa8e",
            "b97368447fa64060aa54b8bef3d1dd20",
            "263760a626a94dd598289dd073a2e607",
            "4b8b884c436a4f23860527fd45467db2",
            "b0e60483ac5e45eb9284ebf706b34e76",
            "471c5a74c0c343caa0980e1526bfe67c",
            "d5e1ebd066314776b8fc62692b66f970",
            "cff31243437942f6972c41b300ae34ca"
          ]
        },
        "outputId": "5f99fc6c-b7cd-4964-d139-9497026477df"
      },
      "execution_count": null,
      "outputs": [
        {
          "output_type": "display_data",
          "data": {
            "application/vnd.jupyter.widget-view+json": {
              "model_id": "76966669f36a4c80addbc191d9f67626",
              "version_minor": 0,
              "version_major": 2
            },
            "text/plain": [
              "Downloading:   0%|          | 0.00/1.14M [00:00<?, ?B/s]"
            ]
          },
          "metadata": {}
        },
        {
          "output_type": "display_data",
          "data": {
            "application/vnd.jupyter.widget-view+json": {
              "model_id": "0c4bae9aaca84efe80298f4c062ab15f",
              "version_minor": 0,
              "version_major": 2
            },
            "text/plain": [
              "Downloading:   0%|          | 0.00/440 [00:00<?, ?B/s]"
            ]
          },
          "metadata": {}
        },
        {
          "output_type": "display_data",
          "data": {
            "application/vnd.jupyter.widget-view+json": {
              "model_id": "1666a95204164788b6f5747946c39928",
              "version_minor": 0,
              "version_major": 2
            },
            "text/plain": [
              "Downloading:   0%|          | 0.00/624M [00:00<?, ?B/s]"
            ]
          },
          "metadata": {}
        },
        {
          "output_type": "stream",
          "name": "stderr",
          "text": [
            "Some weights of the model checkpoint at HooshvareLab/bert-fa-base-uncased were not used when initializing BertForMaskedLM: ['cls.seq_relationship.weight', 'cls.seq_relationship.bias']\n",
            "- This IS expected if you are initializing BertForMaskedLM from the checkpoint of a model trained on another task or with another architecture (e.g. initializing a BertForSequenceClassification model from a BertForPreTraining model).\n",
            "- This IS NOT expected if you are initializing BertForMaskedLM from the checkpoint of a model that you expect to be exactly identical (initializing a BertForSequenceClassification model from a BertForSequenceClassification model).\n"
          ]
        },
        {
          "output_type": "execute_result",
          "data": {
            "text/plain": [
              "BertForMaskedLM(\n",
              "  (bert): BertModel(\n",
              "    (embeddings): BertEmbeddings(\n",
              "      (word_embeddings): Embedding(100000, 768, padding_idx=0)\n",
              "      (position_embeddings): Embedding(512, 768)\n",
              "      (token_type_embeddings): Embedding(2, 768)\n",
              "      (LayerNorm): LayerNorm((768,), eps=1e-12, elementwise_affine=True)\n",
              "      (dropout): Dropout(p=0.1, inplace=False)\n",
              "    )\n",
              "    (encoder): BertEncoder(\n",
              "      (layer): ModuleList(\n",
              "        (0): BertLayer(\n",
              "          (attention): BertAttention(\n",
              "            (self): BertSelfAttention(\n",
              "              (query): Linear(in_features=768, out_features=768, bias=True)\n",
              "              (key): Linear(in_features=768, out_features=768, bias=True)\n",
              "              (value): Linear(in_features=768, out_features=768, bias=True)\n",
              "              (dropout): Dropout(p=0.1, inplace=False)\n",
              "            )\n",
              "            (output): BertSelfOutput(\n",
              "              (dense): Linear(in_features=768, out_features=768, bias=True)\n",
              "              (LayerNorm): LayerNorm((768,), eps=1e-12, elementwise_affine=True)\n",
              "              (dropout): Dropout(p=0.1, inplace=False)\n",
              "            )\n",
              "          )\n",
              "          (intermediate): BertIntermediate(\n",
              "            (dense): Linear(in_features=768, out_features=3072, bias=True)\n",
              "          )\n",
              "          (output): BertOutput(\n",
              "            (dense): Linear(in_features=3072, out_features=768, bias=True)\n",
              "            (LayerNorm): LayerNorm((768,), eps=1e-12, elementwise_affine=True)\n",
              "            (dropout): Dropout(p=0.1, inplace=False)\n",
              "          )\n",
              "        )\n",
              "        (1): BertLayer(\n",
              "          (attention): BertAttention(\n",
              "            (self): BertSelfAttention(\n",
              "              (query): Linear(in_features=768, out_features=768, bias=True)\n",
              "              (key): Linear(in_features=768, out_features=768, bias=True)\n",
              "              (value): Linear(in_features=768, out_features=768, bias=True)\n",
              "              (dropout): Dropout(p=0.1, inplace=False)\n",
              "            )\n",
              "            (output): BertSelfOutput(\n",
              "              (dense): Linear(in_features=768, out_features=768, bias=True)\n",
              "              (LayerNorm): LayerNorm((768,), eps=1e-12, elementwise_affine=True)\n",
              "              (dropout): Dropout(p=0.1, inplace=False)\n",
              "            )\n",
              "          )\n",
              "          (intermediate): BertIntermediate(\n",
              "            (dense): Linear(in_features=768, out_features=3072, bias=True)\n",
              "          )\n",
              "          (output): BertOutput(\n",
              "            (dense): Linear(in_features=3072, out_features=768, bias=True)\n",
              "            (LayerNorm): LayerNorm((768,), eps=1e-12, elementwise_affine=True)\n",
              "            (dropout): Dropout(p=0.1, inplace=False)\n",
              "          )\n",
              "        )\n",
              "        (2): BertLayer(\n",
              "          (attention): BertAttention(\n",
              "            (self): BertSelfAttention(\n",
              "              (query): Linear(in_features=768, out_features=768, bias=True)\n",
              "              (key): Linear(in_features=768, out_features=768, bias=True)\n",
              "              (value): Linear(in_features=768, out_features=768, bias=True)\n",
              "              (dropout): Dropout(p=0.1, inplace=False)\n",
              "            )\n",
              "            (output): BertSelfOutput(\n",
              "              (dense): Linear(in_features=768, out_features=768, bias=True)\n",
              "              (LayerNorm): LayerNorm((768,), eps=1e-12, elementwise_affine=True)\n",
              "              (dropout): Dropout(p=0.1, inplace=False)\n",
              "            )\n",
              "          )\n",
              "          (intermediate): BertIntermediate(\n",
              "            (dense): Linear(in_features=768, out_features=3072, bias=True)\n",
              "          )\n",
              "          (output): BertOutput(\n",
              "            (dense): Linear(in_features=3072, out_features=768, bias=True)\n",
              "            (LayerNorm): LayerNorm((768,), eps=1e-12, elementwise_affine=True)\n",
              "            (dropout): Dropout(p=0.1, inplace=False)\n",
              "          )\n",
              "        )\n",
              "        (3): BertLayer(\n",
              "          (attention): BertAttention(\n",
              "            (self): BertSelfAttention(\n",
              "              (query): Linear(in_features=768, out_features=768, bias=True)\n",
              "              (key): Linear(in_features=768, out_features=768, bias=True)\n",
              "              (value): Linear(in_features=768, out_features=768, bias=True)\n",
              "              (dropout): Dropout(p=0.1, inplace=False)\n",
              "            )\n",
              "            (output): BertSelfOutput(\n",
              "              (dense): Linear(in_features=768, out_features=768, bias=True)\n",
              "              (LayerNorm): LayerNorm((768,), eps=1e-12, elementwise_affine=True)\n",
              "              (dropout): Dropout(p=0.1, inplace=False)\n",
              "            )\n",
              "          )\n",
              "          (intermediate): BertIntermediate(\n",
              "            (dense): Linear(in_features=768, out_features=3072, bias=True)\n",
              "          )\n",
              "          (output): BertOutput(\n",
              "            (dense): Linear(in_features=3072, out_features=768, bias=True)\n",
              "            (LayerNorm): LayerNorm((768,), eps=1e-12, elementwise_affine=True)\n",
              "            (dropout): Dropout(p=0.1, inplace=False)\n",
              "          )\n",
              "        )\n",
              "        (4): BertLayer(\n",
              "          (attention): BertAttention(\n",
              "            (self): BertSelfAttention(\n",
              "              (query): Linear(in_features=768, out_features=768, bias=True)\n",
              "              (key): Linear(in_features=768, out_features=768, bias=True)\n",
              "              (value): Linear(in_features=768, out_features=768, bias=True)\n",
              "              (dropout): Dropout(p=0.1, inplace=False)\n",
              "            )\n",
              "            (output): BertSelfOutput(\n",
              "              (dense): Linear(in_features=768, out_features=768, bias=True)\n",
              "              (LayerNorm): LayerNorm((768,), eps=1e-12, elementwise_affine=True)\n",
              "              (dropout): Dropout(p=0.1, inplace=False)\n",
              "            )\n",
              "          )\n",
              "          (intermediate): BertIntermediate(\n",
              "            (dense): Linear(in_features=768, out_features=3072, bias=True)\n",
              "          )\n",
              "          (output): BertOutput(\n",
              "            (dense): Linear(in_features=3072, out_features=768, bias=True)\n",
              "            (LayerNorm): LayerNorm((768,), eps=1e-12, elementwise_affine=True)\n",
              "            (dropout): Dropout(p=0.1, inplace=False)\n",
              "          )\n",
              "        )\n",
              "        (5): BertLayer(\n",
              "          (attention): BertAttention(\n",
              "            (self): BertSelfAttention(\n",
              "              (query): Linear(in_features=768, out_features=768, bias=True)\n",
              "              (key): Linear(in_features=768, out_features=768, bias=True)\n",
              "              (value): Linear(in_features=768, out_features=768, bias=True)\n",
              "              (dropout): Dropout(p=0.1, inplace=False)\n",
              "            )\n",
              "            (output): BertSelfOutput(\n",
              "              (dense): Linear(in_features=768, out_features=768, bias=True)\n",
              "              (LayerNorm): LayerNorm((768,), eps=1e-12, elementwise_affine=True)\n",
              "              (dropout): Dropout(p=0.1, inplace=False)\n",
              "            )\n",
              "          )\n",
              "          (intermediate): BertIntermediate(\n",
              "            (dense): Linear(in_features=768, out_features=3072, bias=True)\n",
              "          )\n",
              "          (output): BertOutput(\n",
              "            (dense): Linear(in_features=3072, out_features=768, bias=True)\n",
              "            (LayerNorm): LayerNorm((768,), eps=1e-12, elementwise_affine=True)\n",
              "            (dropout): Dropout(p=0.1, inplace=False)\n",
              "          )\n",
              "        )\n",
              "        (6): BertLayer(\n",
              "          (attention): BertAttention(\n",
              "            (self): BertSelfAttention(\n",
              "              (query): Linear(in_features=768, out_features=768, bias=True)\n",
              "              (key): Linear(in_features=768, out_features=768, bias=True)\n",
              "              (value): Linear(in_features=768, out_features=768, bias=True)\n",
              "              (dropout): Dropout(p=0.1, inplace=False)\n",
              "            )\n",
              "            (output): BertSelfOutput(\n",
              "              (dense): Linear(in_features=768, out_features=768, bias=True)\n",
              "              (LayerNorm): LayerNorm((768,), eps=1e-12, elementwise_affine=True)\n",
              "              (dropout): Dropout(p=0.1, inplace=False)\n",
              "            )\n",
              "          )\n",
              "          (intermediate): BertIntermediate(\n",
              "            (dense): Linear(in_features=768, out_features=3072, bias=True)\n",
              "          )\n",
              "          (output): BertOutput(\n",
              "            (dense): Linear(in_features=3072, out_features=768, bias=True)\n",
              "            (LayerNorm): LayerNorm((768,), eps=1e-12, elementwise_affine=True)\n",
              "            (dropout): Dropout(p=0.1, inplace=False)\n",
              "          )\n",
              "        )\n",
              "        (7): BertLayer(\n",
              "          (attention): BertAttention(\n",
              "            (self): BertSelfAttention(\n",
              "              (query): Linear(in_features=768, out_features=768, bias=True)\n",
              "              (key): Linear(in_features=768, out_features=768, bias=True)\n",
              "              (value): Linear(in_features=768, out_features=768, bias=True)\n",
              "              (dropout): Dropout(p=0.1, inplace=False)\n",
              "            )\n",
              "            (output): BertSelfOutput(\n",
              "              (dense): Linear(in_features=768, out_features=768, bias=True)\n",
              "              (LayerNorm): LayerNorm((768,), eps=1e-12, elementwise_affine=True)\n",
              "              (dropout): Dropout(p=0.1, inplace=False)\n",
              "            )\n",
              "          )\n",
              "          (intermediate): BertIntermediate(\n",
              "            (dense): Linear(in_features=768, out_features=3072, bias=True)\n",
              "          )\n",
              "          (output): BertOutput(\n",
              "            (dense): Linear(in_features=3072, out_features=768, bias=True)\n",
              "            (LayerNorm): LayerNorm((768,), eps=1e-12, elementwise_affine=True)\n",
              "            (dropout): Dropout(p=0.1, inplace=False)\n",
              "          )\n",
              "        )\n",
              "        (8): BertLayer(\n",
              "          (attention): BertAttention(\n",
              "            (self): BertSelfAttention(\n",
              "              (query): Linear(in_features=768, out_features=768, bias=True)\n",
              "              (key): Linear(in_features=768, out_features=768, bias=True)\n",
              "              (value): Linear(in_features=768, out_features=768, bias=True)\n",
              "              (dropout): Dropout(p=0.1, inplace=False)\n",
              "            )\n",
              "            (output): BertSelfOutput(\n",
              "              (dense): Linear(in_features=768, out_features=768, bias=True)\n",
              "              (LayerNorm): LayerNorm((768,), eps=1e-12, elementwise_affine=True)\n",
              "              (dropout): Dropout(p=0.1, inplace=False)\n",
              "            )\n",
              "          )\n",
              "          (intermediate): BertIntermediate(\n",
              "            (dense): Linear(in_features=768, out_features=3072, bias=True)\n",
              "          )\n",
              "          (output): BertOutput(\n",
              "            (dense): Linear(in_features=3072, out_features=768, bias=True)\n",
              "            (LayerNorm): LayerNorm((768,), eps=1e-12, elementwise_affine=True)\n",
              "            (dropout): Dropout(p=0.1, inplace=False)\n",
              "          )\n",
              "        )\n",
              "        (9): BertLayer(\n",
              "          (attention): BertAttention(\n",
              "            (self): BertSelfAttention(\n",
              "              (query): Linear(in_features=768, out_features=768, bias=True)\n",
              "              (key): Linear(in_features=768, out_features=768, bias=True)\n",
              "              (value): Linear(in_features=768, out_features=768, bias=True)\n",
              "              (dropout): Dropout(p=0.1, inplace=False)\n",
              "            )\n",
              "            (output): BertSelfOutput(\n",
              "              (dense): Linear(in_features=768, out_features=768, bias=True)\n",
              "              (LayerNorm): LayerNorm((768,), eps=1e-12, elementwise_affine=True)\n",
              "              (dropout): Dropout(p=0.1, inplace=False)\n",
              "            )\n",
              "          )\n",
              "          (intermediate): BertIntermediate(\n",
              "            (dense): Linear(in_features=768, out_features=3072, bias=True)\n",
              "          )\n",
              "          (output): BertOutput(\n",
              "            (dense): Linear(in_features=3072, out_features=768, bias=True)\n",
              "            (LayerNorm): LayerNorm((768,), eps=1e-12, elementwise_affine=True)\n",
              "            (dropout): Dropout(p=0.1, inplace=False)\n",
              "          )\n",
              "        )\n",
              "        (10): BertLayer(\n",
              "          (attention): BertAttention(\n",
              "            (self): BertSelfAttention(\n",
              "              (query): Linear(in_features=768, out_features=768, bias=True)\n",
              "              (key): Linear(in_features=768, out_features=768, bias=True)\n",
              "              (value): Linear(in_features=768, out_features=768, bias=True)\n",
              "              (dropout): Dropout(p=0.1, inplace=False)\n",
              "            )\n",
              "            (output): BertSelfOutput(\n",
              "              (dense): Linear(in_features=768, out_features=768, bias=True)\n",
              "              (LayerNorm): LayerNorm((768,), eps=1e-12, elementwise_affine=True)\n",
              "              (dropout): Dropout(p=0.1, inplace=False)\n",
              "            )\n",
              "          )\n",
              "          (intermediate): BertIntermediate(\n",
              "            (dense): Linear(in_features=768, out_features=3072, bias=True)\n",
              "          )\n",
              "          (output): BertOutput(\n",
              "            (dense): Linear(in_features=3072, out_features=768, bias=True)\n",
              "            (LayerNorm): LayerNorm((768,), eps=1e-12, elementwise_affine=True)\n",
              "            (dropout): Dropout(p=0.1, inplace=False)\n",
              "          )\n",
              "        )\n",
              "        (11): BertLayer(\n",
              "          (attention): BertAttention(\n",
              "            (self): BertSelfAttention(\n",
              "              (query): Linear(in_features=768, out_features=768, bias=True)\n",
              "              (key): Linear(in_features=768, out_features=768, bias=True)\n",
              "              (value): Linear(in_features=768, out_features=768, bias=True)\n",
              "              (dropout): Dropout(p=0.1, inplace=False)\n",
              "            )\n",
              "            (output): BertSelfOutput(\n",
              "              (dense): Linear(in_features=768, out_features=768, bias=True)\n",
              "              (LayerNorm): LayerNorm((768,), eps=1e-12, elementwise_affine=True)\n",
              "              (dropout): Dropout(p=0.1, inplace=False)\n",
              "            )\n",
              "          )\n",
              "          (intermediate): BertIntermediate(\n",
              "            (dense): Linear(in_features=768, out_features=3072, bias=True)\n",
              "          )\n",
              "          (output): BertOutput(\n",
              "            (dense): Linear(in_features=3072, out_features=768, bias=True)\n",
              "            (LayerNorm): LayerNorm((768,), eps=1e-12, elementwise_affine=True)\n",
              "            (dropout): Dropout(p=0.1, inplace=False)\n",
              "          )\n",
              "        )\n",
              "      )\n",
              "    )\n",
              "  )\n",
              "  (cls): BertOnlyMLMHead(\n",
              "    (predictions): BertLMPredictionHead(\n",
              "      (transform): BertPredictionHeadTransform(\n",
              "        (dense): Linear(in_features=768, out_features=768, bias=True)\n",
              "        (LayerNorm): LayerNorm((768,), eps=1e-12, elementwise_affine=True)\n",
              "      )\n",
              "      (decoder): Linear(in_features=768, out_features=100000, bias=True)\n",
              "    )\n",
              "  )\n",
              ")"
            ]
          },
          "metadata": {},
          "execution_count": 17
        }
      ]
    },
    {
      "cell_type": "code",
      "source": [
        "# def predict_masked_sent(text, top_k=5):\n",
        "#     # Tokenize input\n",
        "#     text = \"[CLS] %s [SEP]\"%text\n",
        "#     tokenized_text = tokenizer.tokenize(text)\n",
        "#     masked_index = tokenized_text.index(\"[MASK]\")\n",
        "#     indexed_tokens = tokenizer.convert_tokens_to_ids(tokenized_text)\n",
        "#     tokens_tensor = torch.tensor([indexed_tokens])\n",
        "#     tokens_tensor = tokens_tensor.to('cuda')    # if you have gpu\n",
        "\n",
        "#     # Predict all tokens\n",
        "#     with torch.no_grad():\n",
        "#         outputs = model(tokens_tensor)\n",
        "#         predictions = outputs[0]\n",
        "\n",
        "#     probs = torch.nn.functional.softmax(predictions[0, masked_index], dim=-1)\n",
        "#     top_k_weights, top_k_indices = torch.topk(probs, top_k, sorted=True)\n",
        "\n",
        "#     for i, pred_idx in enumerate(top_k_indices):\n",
        "#         predicted_token = tokenizer.convert_ids_to_tokens([pred_idx])[0]\n",
        "#         token_weight = top_k_weights[i]\n",
        "#         print(\"[MASK]: '%s'\"%predicted_token, \" | weights:\", float(token_weight))\n"
      ],
      "metadata": {
        "id": "j9aEhzRJtVDK"
      },
      "execution_count": null,
      "outputs": []
    },
    {
      "cell_type": "code",
      "source": [
        "def predict_masked_sent_2(text, top_k=5):\n",
        "    # Tokenize input\n",
        "    text = \"[CLS] %s [SEP]\"%text\n",
        "    tokenized_text = tokenizer.tokenize(text)\n",
        "    masked_index = tokenized_text.index(\"[MASK]\")\n",
        "    indexed_tokens = tokenizer.convert_tokens_to_ids(tokenized_text)\n",
        "    tokens_tensor = torch.tensor([indexed_tokens])\n",
        "    tokens_tensor = tokens_tensor.to('cuda')    # if you have gpu\n",
        "\n",
        "    # Predict all tokens\n",
        "    with torch.no_grad():\n",
        "        outputs = model(tokens_tensor)\n",
        "        predictions = outputs[0]\n",
        "\n",
        "    probs = torch.nn.functional.softmax(predictions[0, masked_index], dim=-1)\n",
        "    top_k_weights, top_k_indices = torch.topk(probs, top_k, sorted=True)\n",
        "\n",
        "    results = []\n",
        "    for i, pred_idx in enumerate(top_k_indices):\n",
        "        predicted_token = tokenizer.convert_ids_to_tokens([pred_idx])[0]\n",
        "        results.append(predicted_token)\n",
        "\n",
        "    return results"
      ],
      "metadata": {
        "id": "nmqrSSdrN_zR"
      },
      "execution_count": null,
      "outputs": []
    },
    {
      "cell_type": "code",
      "source": [
        "def predict_analogy(dataset,dataset_response):\n",
        "  acc_1 = 0\n",
        "  acc_3 = 0\n",
        "  acc_5 = 0\n",
        "  acc_10 = 0\n",
        "  total_retrieved_result = []\n",
        "  print(len(dataset))\n",
        "  for i in tqdm(range(len(dataset))):\n",
        "    result = predict_masked_sent_2(dataset[i], top_k=10)\n",
        "    total_retrieved_result.append(result)\n",
        "    if result[0]== dataset_response[i]:\n",
        "      acc_1 += 1\n",
        "      acc_3 += 1\n",
        "      acc_5 += 1\n",
        "      acc_10 += 1\n",
        "    elif dataset_response[i] in result[0:3]:\n",
        "      acc_3 += 1\n",
        "      acc_5 += 1\n",
        "      acc_10 += 1\n",
        "    elif dataset_response[i] in result[0:5]:\n",
        "      acc_5 += 1\n",
        "      acc_10 += 1\n",
        "    elif dataset_response[i] in result:\n",
        "      acc_10 += 1\n",
        "  total = len(dataset)\n",
        "  print(\"\\nacc_1: \", acc_1/total) \n",
        "  print(\"acc_3: \", acc_3/total)\n",
        "  print(\"acc_5: \", acc_5/total)\n",
        "  print(\"acc_10: \", acc_10/total)\n",
        "  print(\"===================================\")\n",
        "  return total_retrieved_result"
      ],
      "metadata": {
        "id": "AX0k2YGRUQto"
      },
      "execution_count": null,
      "outputs": []
    },
    {
      "cell_type": "code",
      "source": [
        "def generate_pattern(dataset, pattern):\n",
        "  pattern = re.sub(\"_\",\"\", pattern)\n",
        "  pattern = pattern.split(\" \")\n",
        "  pattern = [p for p in pattern if p != \"\"]\n",
        "  print(\"Pattern is : {}\".format(pattern))\n",
        "  # for p in pattern :\n",
        "  #   print(p)\n",
        "  dataset_1 = []\n",
        "  dataset_1_responnse = []\n",
        "  for index, row in dataset.iterrows():\n",
        "    if \"پایتخت\" in pattern  :\n",
        "      text = row[\"second\"] +\" \" + pattern[0] +\" \"+ row[\"first\"] + \" \" + pattern[1]+ ' ' + pattern[2]+ ' ' + pattern[3] +\" \" + pattern[4] + \" \" + row[\"third\"] + \" \" + pattern[5]\n",
        "    elif \"مرکز\" in pattern :\n",
        "       text = row[\"first\"] +\" \" + pattern[0] +\" \" +pattern[1] +\" \"+ row[\"second\"] + \" \" + pattern[2]+ ' ' + pattern[3]+ ' ' +row[\"third\"]+\" \"+ pattern[4] +\" \" + pattern[5] + \" \" + pattern[6] + \" \" + pattern[7]\n",
        "    elif \"همانطور\" in pattern :\n",
        "      text = pattern[0] +\" \" +pattern[1] +\" \" + row[\"second\"] +\" \" + pattern[2]+\" \" +  row[\"first\"] + \" \" + pattern[3]+ ' ' + pattern[4]+ ' ' + pattern[5] +\" \"  + row[\"third\"] + \" \" + pattern[6]\n",
        "    elif \"عامیانه\" in pattern :\n",
        "      text = row[\"first\"] +\" \" + pattern[0] +\" \" +pattern[1] +\" \"+ row[\"second\"] + \" \" + pattern[2]+ ' ' + pattern[3]+ ' ' + row[\"third\"] +\" \"+ pattern[4] +\" \"+ pattern[5] + \" \" + pattern[6] + \" \" + pattern[7]\n",
        "    else :\n",
        "      text = row[\"first\"] +\" \" + pattern[0] +\" \"+ row[\"second\"] + \" \" + pattern[1]+ ' ' + row[\"third\"] + \" \"+ pattern[2] +\" \" + pattern[3] + \" \" + pattern[4]\n",
        "    dataset_1.append(text)\n",
        "    dataset_1_responnse.append(row[\"fourth\"])\n",
        "  print(\"Sample test : {} \".format(dataset_1[0]))\n",
        "  print(\"Sample test answer is : {} \".format(dataset_1_responnse[0]))\n",
        "  return dataset_1, dataset_1_responnse"
      ],
      "metadata": {
        "id": "7OuVfp67VRjf"
      },
      "execution_count": null,
      "outputs": []
    },
    {
      "cell_type": "markdown",
      "source": [
        "## New Method"
      ],
      "metadata": {
        "id": "oOMoXs-6GVp-"
      }
    },
    {
      "cell_type": "code",
      "source": [
        "def new_prediction_method(dataset): \n",
        "  acc_1 = 0 \n",
        "  acc_3 = 0 \n",
        "  acc_5 = 0 \n",
        "  acc_10 = 0 \n",
        "  total_retrieved_result = [] \n",
        "  total_relation_test1 = [] # top 10 relation ro negah midare \n",
        "  total_relation = [] # avalin relation ro negah midare \n",
        "  total_created_tests1 = [] \n",
        "  total_created_tests = [] \n",
        "  total_ground_truth_responses = [] \n",
        "  print(len(dataset)) \n",
        "  for index, row in tqdm(dataset.iterrows()): \n",
        "      test_1 = generate_first_pattern(row[\"first\"], row[\"second\"]) # تهران ماسک ایران است \n",
        "      # print(test_1) \n",
        "      relation = predict_masked_sent_2(test_1, top_k=10)  # predict mask \n",
        "      total_relation_test1.append(relation) \n",
        "      total_relation.append(relation[0]) \n",
        "      test_2 = generate_second_pattern(row[\"third\"], relation[0]) # پایتخت چین ماسک است \n",
        "      total_created_tests1.append(test_1) \n",
        "      total_created_tests.append(test_2) \n",
        "      total_ground_truth_responses.append(row[\"fourth\"]) \n",
        "      # print(test_2) \n",
        "      result = predict_masked_sent_2(test_2, top_k=10) \n",
        "      total_retrieved_result.append(result) \n",
        "      ground_truth_response = row[\"fourth\"] \n",
        "      if result[0] == ground_truth_response: \n",
        "        acc_1 += 1 \n",
        "        acc_3 += 1 \n",
        "        acc_5 += 1 \n",
        "        acc_10 += 1 \n",
        "      elif ground_truth_response in result[0:3]: \n",
        "        acc_3 += 1 \n",
        "        acc_5 += 1 \n",
        "        acc_10 += 1 \n",
        "      elif ground_truth_response in result[0:5]: \n",
        "        acc_5 += 1 \n",
        "        acc_10 += 1 \n",
        "      elif ground_truth_response in result: \n",
        "        acc_10 += 1 \n",
        "  total = len(dataset) \n",
        "  print(\"\\nacc_1: \", acc_1/total)  \n",
        "  print(\"acc_3: \", acc_3/total) \n",
        "  print(\"acc_5: \", acc_5/total) \n",
        "  print(\"acc_10: \", acc_10/total) \n",
        "  print(\"===================================\") \n",
        "  return total_retrieved_result, total_created_tests1, total_created_tests, total_ground_truth_responses, total_relation_test1, total_relation\n",
        "\n",
        "def generate_first_pattern(word1, word2):\n",
        "  return word2 +\" \" + '[MASK]' + ' '+ word1 +\" \" + \"است\"\n",
        "\n",
        "def generate_second_pattern(word, relation):\n",
        "  return relation + \" \" + word + \" \" +\"[MASK]\" +\" \" + \"است\""
      ],
      "metadata": {
        "id": "ILeUBUAzFUKO"
      },
      "execution_count": null,
      "outputs": []
    },
    {
      "cell_type": "markdown",
      "source": [
        "# Predict"
      ],
      "metadata": {
        "id": "lZQnrzJDxYxT"
      }
    },
    {
      "cell_type": "code",
      "source": [
        "def visualize(result, dataset, dataset_response):\n",
        "  start = np.random.randint(low = 0,high = len(dataset)-10)\n",
        "  print(start)\n",
        "  for res, data, response in tqdm(zip(result[start:start + 5],dataset[start:start + 5],dataset_response[start:start + 5])):\n",
        "    print(\"The test is : {}\".format(data))\n",
        "    print(\"The answer is : {}\".format(response))\n",
        "    print(\"The predicted result is : \\n{}\".format(res))\n",
        "    print(\"\\n\")"
      ],
      "metadata": {
        "id": "mbIlI6DqvOJu"
      },
      "execution_count": null,
      "outputs": []
    },
    {
      "cell_type": "code",
      "source": [
        "# ROOT = \"/content/drive/MyDrive/Colab Notebooks/nlp /analogy/\"\n",
        "ROOT = \"/content/drive/MyDrive/Analogy_NLP_Files/\""
      ],
      "metadata": {
        "id": "8nvm8sxSCO_I"
      },
      "execution_count": 32,
      "outputs": []
    },
    {
      "cell_type": "markdown",
      "source": [
        "## Save results"
      ],
      "metadata": {
        "id": "u8yM5O1VOHT8"
      }
    },
    {
      "cell_type": "code",
      "source": [
        "def save_result(result, dataset, dataset_response, path):\n",
        "  result_df = {\"test\":[],\n",
        "          \"predicted_answer\":[],\n",
        "          \"ground_truth\":[]}\n",
        "  for res, data, response in tqdm(zip(result, dataset, dataset_response)):\n",
        "    result_df[\"test\"].append(data)\n",
        "    result_df[\"ground_truth\"].append(response)\n",
        "    result_df[\"predicted_answer\"].append(res)\n",
        "  result_df = pd.DataFrame(result_df)\n",
        "  save_csv(ROOT+path, result_df)\n",
        "  print(\"file saved to {}\".format(ROOT+path))\n",
        "\n",
        "# save result of the new method\n",
        "def save_result_new(result, tests1,tests2,response,total_relation, relation, path): \n",
        "  result_df = {\"test2\":[], \n",
        "               \"test1\":[], \n",
        "               \"total_relation\":[], \n",
        "               \"relation\":[], \n",
        "          \"predicted_answer\":[], \n",
        "          \"ground_truth\":[]} \n",
        "  for res, t1,t2, truth, total_rel, rel in tqdm(zip(result, tests1,tests2,response,total_relation, relation)): \n",
        "    result_df[\"test1\"].append(t1) \n",
        "    result_df[\"test2\"].append(t2) \n",
        "    result_df[\"total_relation\"].append(total_rel) \n",
        "    result_df[\"relation\"].append(rel) \n",
        "    result_df[\"ground_truth\"].append(truth) \n",
        "    result_df[\"predicted_answer\"].append(res) \n",
        "  result_df = pd.DataFrame(result_df) \n",
        "  save_csv(ROOT+path, result_df) \n",
        "  print(\"file saved to {}\".format(ROOT+path))"
      ],
      "metadata": {
        "id": "0MLeBAoTCJXE"
      },
      "execution_count": null,
      "outputs": []
    },
    {
      "cell_type": "code",
      "source": [
        "def relation_by_cat(result, dataset, path): \n",
        "  categories = np.unique(dataset[\"cat\"]) \n",
        "  print(categories) \n",
        "  result[\"cat\"] = dataset[\"cat\"] \n",
        "  summary = { \n",
        "      \"cat\":[], \n",
        "      \"rel\" :[], \n",
        "      \"top10\":[], \n",
        "  } \n",
        "  for cat in categories: \n",
        "    df = result[result[\"cat\"]==cat] \n",
        "    rel = [] \n",
        "    top10 = [] \n",
        "    for index, row in tqdm(df.iterrows()):  \n",
        "      rel.append(row[\"relation\"]) \n",
        "      res = row[\"total_relation\"] \n",
        "      res = re.sub(\"\\'\",'',res) \n",
        "      res = re.sub(\"\\[\",'',res) \n",
        "      res = re.sub(\"\\]\",'',res) \n",
        "      res = re.sub(\" \",'',res) \n",
        "      res = res.split(\",\") \n",
        "      for r in res: \n",
        "        top10.append(r) \n",
        "    rel =list(set(rel)) \n",
        "    top10 = list(set(top10)) \n",
        "    summary[\"rel\"].append(rel) \n",
        "    summary[\"top10\"].append(top10) \n",
        "    summary[\"cat\"].append(cat) \n",
        "  sum = pd.DataFrame(summary) \n",
        "  save_csv(ROOT+path, sum)"
      ],
      "metadata": {
        "id": "cHV80ksI_eft"
      },
      "execution_count": null,
      "outputs": []
    },
    {
      "cell_type": "code",
      "source": [
        "pattern = [\"_ به _ مانند _ به [MASK] است\",\n",
        "           \"_ پایتخت _ است و [MASK] پایتخت _ است\",\n",
        "           \"_ مرکز استان _ است و _ مرکز استان [MASK] است\",\n",
        "           \"همانطور که _ برای _ است [MASK] برای _ است\",\n",
        "           \"_ معادل عامیانه _ است و _ معادل عامیانه [MASK] است\",\n",
        "           ]\n"
      ],
      "metadata": {
        "id": "kwyv2bgTau-o"
      },
      "execution_count": null,
      "outputs": []
    },
    {
      "cell_type": "markdown",
      "source": [
        "## analogy 1"
      ],
      "metadata": {
        "id": "zwSbjqBH_GFY"
      }
    },
    {
      "cell_type": "code",
      "source": [
        "df_dataset, df_response = generate_pattern(df, pattern[0])"
      ],
      "metadata": {
        "colab": {
          "base_uri": "https://localhost:8080/"
        },
        "id": "my0aJpyMWgh2",
        "outputId": "896aa898-931a-47a5-e480-f239711b1202"
      },
      "execution_count": null,
      "outputs": [
        {
          "output_type": "stream",
          "name": "stdout",
          "text": [
            "Pattern is : ['به', 'مانند', 'به', '[MASK]', 'است']\n",
            "Sample test : ایران به تهران مانند چین به [MASK] است \n",
            "Sample test answer is : پکن \n"
          ]
        }
      ]
    },
    {
      "cell_type": "code",
      "source": [
        "result_analogy = predict_analogy(df_dataset, df_response)"
      ],
      "metadata": {
        "colab": {
          "base_uri": "https://localhost:8080/"
        },
        "id": "VcTGMeUoa0qp",
        "outputId": "620ca603-b41a-4615-b42e-b98bef7a73ee"
      },
      "execution_count": null,
      "outputs": [
        {
          "output_type": "stream",
          "name": "stdout",
          "text": [
            "19716\n"
          ]
        },
        {
          "output_type": "stream",
          "name": "stderr",
          "text": [
            "100%|██████████| 19716/19716 [04:21<00:00, 75.41it/s]"
          ]
        },
        {
          "output_type": "stream",
          "name": "stdout",
          "text": [
            "\n",
            "acc_1:  0.016889835666463786\n",
            "acc_3:  0.057567457902211405\n",
            "acc_5:  0.08632582673970379\n",
            "acc_10:  0.13390139987827146\n",
            "===================================\n"
          ]
        },
        {
          "output_type": "stream",
          "name": "stderr",
          "text": [
            "\n"
          ]
        }
      ]
    },
    {
      "cell_type": "code",
      "source": [
        "visualize(result_analogy, df_dataset, df_response)"
      ],
      "metadata": {
        "colab": {
          "base_uri": "https://localhost:8080/"
        },
        "id": "jbA-8CKwvQe5",
        "outputId": "a3898fac-cdac-48ed-af19-0b321c178b72"
      },
      "execution_count": null,
      "outputs": [
        {
          "output_type": "stream",
          "name": "stdout",
          "text": [
            "1763\n"
          ]
        },
        {
          "output_type": "stream",
          "name": "stderr",
          "text": [
            "5it [00:00, 10048.64it/s]"
          ]
        },
        {
          "output_type": "stream",
          "name": "stdout",
          "text": [
            "The test is : کره‌شمالی به پیونگ‌یانگ مانند ترکمنستان به [MASK] است\n",
            "The answer is : عشق‌آباد\n",
            "The predicted result is : \n",
            "['کره', 'ایران', 'کرهشمالی', 'پیونگیانگ', 'چین', 'روسیه', 'معنی', 'اشتباه', 'نزدیک', 'بخارا']\n",
            "\n",
            "\n",
            "The test is : کره‌شمالی به پیونگ‌یانگ مانند آمریکا به [MASK] است\n",
            "The answer is : واشینگتن\n",
            "The predicted result is : \n",
            "['عقب', 'فکر', 'اشتباه', 'جنگ', 'کره', 'جلو', 'دروغ', 'راه', 'گذشته', 'روز']\n",
            "\n",
            "\n",
            "The test is : کره‌شمالی به پیونگ‌یانگ مانند امارات به [MASK] است\n",
            "The answer is : ابوظبی\n",
            "The predicted result is : \n",
            "['کره', 'ایران', 'چین', 'عربستان', 'روز', 'عقب', 'خاورمیانه', 'فارس', 'ژاپن', 'قطر']\n",
            "\n",
            "\n",
            "The test is : کره‌شمالی به پیونگ‌یانگ مانند تاجیکستان به [MASK] است\n",
            "The answer is : دوشنبه\n",
            "The predicted result is : \n",
            "['اشتباه', 'کره', 'نزدیک', 'عقب', 'نزدیکتر', 'ایران', 'کرهشمالی', 'معنی', 'چین', 'معروف']\n",
            "\n",
            "\n",
            "The test is : کره‌شمالی به پیونگ‌یانگ مانند بحرین به [MASK] است\n",
            "The answer is : منامه\n",
            "The predicted result is : \n",
            "['کره', 'ایران', 'اشتباه', 'کرهشمالی', 'نزدیک', 'عقب', 'پیونگیانگ', 'اسرايیل', 'کرده', 'گفته']\n",
            "\n",
            "\n"
          ]
        },
        {
          "output_type": "stream",
          "name": "stderr",
          "text": [
            "\n"
          ]
        }
      ]
    },
    {
      "cell_type": "code",
      "source": [
        "save_result(result_analogy, df_dataset, df_response, \"analogy_test1_1.csv\")"
      ],
      "metadata": {
        "colab": {
          "base_uri": "https://localhost:8080/"
        },
        "id": "H98GMKBjWZ7K",
        "outputId": "ebdb3606-e8e8-4dec-c3ca-1d42ac44c272"
      },
      "execution_count": null,
      "outputs": [
        {
          "output_type": "stream",
          "name": "stderr",
          "text": [
            "19716it [00:00, 1360852.07it/s]"
          ]
        },
        {
          "output_type": "stream",
          "name": "stdout",
          "text": [
            "file saved to /content/drive/MyDrive/Analogy_NLP_Files/analogy_test1_1.csv\n"
          ]
        },
        {
          "output_type": "stream",
          "name": "stderr",
          "text": [
            "\n"
          ]
        }
      ]
    },
    {
      "cell_type": "code",
      "source": [
        "df_result = pd.read_csv(ROOT+\"analogy_test1_1.csv\", engine='python',encoding='utf-8', error_bad_lines=False)\n",
        "acurracy_category(df_result, df,\"cat_analogy_test1_1.csv\")"
      ],
      "metadata": {
        "colab": {
          "base_uri": "https://localhost:8080/"
        },
        "id": "E78XBeEX2gLt",
        "outputId": "8cf90764-968b-4087-fac2-d0138456b680"
      },
      "execution_count": null,
      "outputs": [
        {
          "output_type": "stream",
          "name": "stderr",
          "text": [
            "/usr/local/lib/python3.7/dist-packages/IPython/core/interactiveshell.py:2882: FutureWarning: The error_bad_lines argument has been deprecated and will be removed in a future version.\n",
            "\n",
            "\n",
            "  exec(code_obj, self.user_global_ns, self.user_ns)\n"
          ]
        },
        {
          "output_type": "stream",
          "name": "stdout",
          "text": [
            "['semantic-Whole to part' 'semantic-capitals' 'semantic-currency'\n",
            " 'semantic-family' 'syntactic-Comparative Adjectives'\n",
            " 'syntactic-Superlative Adjectives' 'syntactic-antonym' 'syntactic-verb']\n"
          ]
        },
        {
          "output_type": "stream",
          "name": "stderr",
          "text": [
            "420it [00:00, 10353.75it/s]\n"
          ]
        },
        {
          "output_type": "stream",
          "name": "stdout",
          "text": [
            "\n",
            " category is :  semantic-Whole to part\n",
            "Sample test : آب به قطره مانند بدن به [MASK] است\n",
            "acc_1:  0.03571428571428571\n",
            "acc_3:  0.2261904761904762\n",
            "acc_5:  0.3238095238095238\n",
            "acc_10:  0.3952380952380952\n",
            "===================================\n"
          ]
        },
        {
          "output_type": "stream",
          "name": "stderr",
          "text": [
            "4692it [00:00, 10243.12it/s]\n"
          ]
        },
        {
          "output_type": "stream",
          "name": "stdout",
          "text": [
            "\n",
            " category is :  semantic-capitals\n",
            "Sample test : ایران به تهران مانند چین به [MASK] است\n",
            "acc_1:  0.012148337595907928\n",
            "acc_3:  0.07139812446717818\n",
            "acc_5:  0.11061381074168798\n",
            "acc_10:  0.17433930093776642\n",
            "===================================\n"
          ]
        },
        {
          "output_type": "stream",
          "name": "stderr",
          "text": [
            "6006it [00:00, 10342.19it/s]\n"
          ]
        },
        {
          "output_type": "stream",
          "name": "stdout",
          "text": [
            "\n",
            " category is :  semantic-currency\n",
            "Sample test : ریال به ایران مانند دلار به [MASK] است\n",
            "acc_1:  0.03596403596403597\n",
            "acc_3:  0.08658008658008658\n",
            "acc_5:  0.12071262071262072\n",
            "acc_10:  0.18315018315018314\n",
            "===================================\n"
          ]
        },
        {
          "output_type": "stream",
          "name": "stderr",
          "text": [
            "600it [00:00, 8561.46it/s]\n"
          ]
        },
        {
          "output_type": "stream",
          "name": "stdout",
          "text": [
            "\n",
            " category is :  semantic-family\n",
            "Sample test : پسر به دختر مانند پسران به [MASK] است\n",
            "acc_1:  0.06\n",
            "acc_3:  0.16\n",
            "acc_5:  0.215\n",
            "acc_10:  0.30833333333333335\n",
            "===================================\n"
          ]
        },
        {
          "output_type": "stream",
          "name": "stderr",
          "text": [
            "2756it [00:00, 9522.54it/s]\n"
          ]
        },
        {
          "output_type": "stream",
          "name": "stdout",
          "text": [
            "\n",
            " category is :  syntactic-Comparative Adjectives\n",
            "Sample test : خوب به خوب‌تر مانند بد به [MASK] است\n",
            "acc_1:  0.002902757619738752\n",
            "acc_3:  0.01741654571843251\n",
            "acc_5:  0.043178519593613934\n",
            "acc_10:  0.07438316400580551\n",
            "===================================\n"
          ]
        },
        {
          "output_type": "stream",
          "name": "stderr",
          "text": [
            "2756it [00:00, 10341.08it/s]\n"
          ]
        },
        {
          "output_type": "stream",
          "name": "stdout",
          "text": [
            "\n",
            " category is :  syntactic-Superlative Adjectives\n",
            "Sample test : خوب به خوب‌ترین مانند بد به [MASK] است\n",
            "acc_1:  0.0\n",
            "acc_3:  0.0025399129172714078\n",
            "acc_5:  0.0047169811320754715\n",
            "acc_10:  0.014876632801161103\n",
            "===================================\n"
          ]
        },
        {
          "output_type": "stream",
          "name": "stderr",
          "text": [
            "506it [00:00, 8625.77it/s]\n"
          ]
        },
        {
          "output_type": "stream",
          "name": "stdout",
          "text": [
            "\n",
            " category is :  syntactic-antonym\n",
            "Sample test : نامشخص به مشخص مانند نامرتب به [MASK] است\n",
            "acc_1:  0.0\n",
            "acc_3:  0.041501976284584984\n",
            "acc_5:  0.07509881422924901\n",
            "acc_10:  0.1482213438735178\n",
            "===================================\n"
          ]
        },
        {
          "output_type": "stream",
          "name": "stderr",
          "text": [
            "1980it [00:00, 9111.40it/s]"
          ]
        },
        {
          "output_type": "stream",
          "name": "stdout",
          "text": [
            "\n",
            " category is :  syntactic-verb\n",
            "Sample test : می‌رود به رفت مانند می‌خورد به [MASK] است\n",
            "acc_1:  0.000505050505050505\n",
            "acc_3:  0.0065656565656565654\n",
            "acc_5:  0.011616161616161616\n",
            "acc_10:  0.025252525252525252\n",
            "===================================\n",
            "file saved to /content/drive/MyDrive/Analogy_NLP_Files/cat_analogy_test1_1.csv\n"
          ]
        },
        {
          "output_type": "stream",
          "name": "stderr",
          "text": [
            "\n"
          ]
        }
      ]
    },
    {
      "cell_type": "code",
      "source": [
        "# np.unique(df[\"cat\"])"
      ],
      "metadata": {
        "id": "0aGKlqjnm318"
      },
      "execution_count": null,
      "outputs": []
    },
    {
      "cell_type": "code",
      "source": [
        "# df_dataset2, df_response2 = generate_pattern(df[df[\"cat\"]=='semantic-capitals'], pattern[1])"
      ],
      "metadata": {
        "id": "M82G1mAAmZys"
      },
      "execution_count": null,
      "outputs": []
    },
    {
      "cell_type": "code",
      "source": [
        "# result_analogy2 = predict_analogy(df_dataset2, df_response2)"
      ],
      "metadata": {
        "id": "jOYzJsuImX_s"
      },
      "execution_count": null,
      "outputs": []
    },
    {
      "cell_type": "code",
      "source": [
        "# visualize(result_analogy2,df_dataset2, df_response2)"
      ],
      "metadata": {
        "id": "9NpaXqV9vmVw"
      },
      "execution_count": null,
      "outputs": []
    },
    {
      "cell_type": "code",
      "source": [
        "df_dataset3, df_response3 = generate_pattern(df, pattern[3])"
      ],
      "metadata": {
        "colab": {
          "base_uri": "https://localhost:8080/"
        },
        "outputId": "4002f8ae-445f-455e-b5c1-c41e65085ca6",
        "id": "goLULBHarZ0J"
      },
      "execution_count": null,
      "outputs": [
        {
          "output_type": "stream",
          "name": "stdout",
          "text": [
            "Pattern is : ['همانطور', 'که', 'برای', 'است', '[MASK]', 'برای', 'است']\n",
            "Sample test : همانطور که تهران برای ایران است [MASK] برای چین است \n",
            "Sample test answer is : پکن \n"
          ]
        }
      ]
    },
    {
      "cell_type": "code",
      "source": [
        "result_analogy3 = predict_analogy(df_dataset3, df_response3)"
      ],
      "metadata": {
        "colab": {
          "base_uri": "https://localhost:8080/"
        },
        "outputId": "f98cec42-4e26-493c-f327-799acfaaf2ba",
        "id": "gMSuwOzwrZ0R"
      },
      "execution_count": null,
      "outputs": [
        {
          "output_type": "stream",
          "name": "stdout",
          "text": [
            "19716\n"
          ]
        },
        {
          "output_type": "stream",
          "name": "stderr",
          "text": [
            "100%|██████████| 19716/19716 [04:56<00:00, 66.57it/s]"
          ]
        },
        {
          "output_type": "stream",
          "name": "stdout",
          "text": [
            "\n",
            "acc_1:  0.01577399066747819\n",
            "acc_3:  0.051075268817204304\n",
            "acc_5:  0.10204909717995536\n",
            "acc_10:  0.16357273280584297\n",
            "===================================\n"
          ]
        },
        {
          "output_type": "stream",
          "name": "stderr",
          "text": [
            "\n"
          ]
        }
      ]
    },
    {
      "cell_type": "code",
      "source": [
        "visualize(result_analogy3,df_dataset3, df_response3 )"
      ],
      "metadata": {
        "colab": {
          "base_uri": "https://localhost:8080/"
        },
        "id": "T7gMZHAlwCuE",
        "outputId": "9cec2346-66af-43dd-f12f-ab7a3732b1df"
      },
      "execution_count": null,
      "outputs": [
        {
          "output_type": "stream",
          "name": "stdout",
          "text": [
            "12802\n"
          ]
        },
        {
          "output_type": "stream",
          "name": "stderr",
          "text": [
            "5it [00:00, 9023.89it/s]"
          ]
        },
        {
          "output_type": "stream",
          "name": "stdout",
          "text": [
            "The test is : همانطور که نازکتر برای نازک است [MASK] برای کثیف است\n",
            "The answer is : کثیف‌تر\n",
            "The predicted result is : \n",
            "['نازکتر', 'و', '،', 'باریکتر', 'سختتر', 'کوچکتر', 'بزرگتر', 'بیشتر', 'بلندتر', 'ضخیمتر']\n",
            "\n",
            "\n",
            "The test is : همانطور که نازکتر برای نازک است [MASK] برای بلند است\n",
            "The answer is : بلندتر\n",
            "The predicted result is : \n",
            "['نازکتر', 'بلندتر', 'باریکتر', 'و', 'کوتاهتر', '،', 'کوچکتر', 'طولانیتر', 'بیشتر', 'بزرگتر']\n",
            "\n",
            "\n",
            "The test is : همانطور که نازکتر برای نازک است [MASK] برای کوتاه است\n",
            "The answer is : کوتاه‌تر\n",
            "The predicted result is : \n",
            "['نازکتر', 'و', 'بلندتر', 'باریکتر', '،', 'کوتاهتر', 'نازک', 'طولانیتر', 'کوچکتر', 'بیشتر']\n",
            "\n",
            "\n",
            "The test is : همانطور که نازکتر برای نازک است [MASK] برای چاق است\n",
            "The answer is : چاق‌تر\n",
            "The predicted result is : \n",
            "['نازکتر', 'باریکتر', '،', 'بلندتر', 'و', 'نازک', 'کوچکتر', 'بیشتر', 'ضخیمتر', 'بزرگتر']\n",
            "\n",
            "\n",
            "The test is : همانطور که نازکتر برای نازک است [MASK] برای لاغر است\n",
            "The answer is : لاغرتر\n",
            "The predicted result is : \n",
            "['نازکتر', 'باریکتر', '،', 'و', 'بلندتر', 'بیشتر', 'کوچکتر', 'ضخیمتر', 'نازک', 'بزرگتر']\n",
            "\n",
            "\n"
          ]
        },
        {
          "output_type": "stream",
          "name": "stderr",
          "text": [
            "\n"
          ]
        }
      ]
    },
    {
      "cell_type": "code",
      "source": [
        "save_result(result_analogy3,df_dataset3, df_response3 ,\"analogy_test1_2.csv\")"
      ],
      "metadata": {
        "colab": {
          "base_uri": "https://localhost:8080/"
        },
        "id": "YYrWnLy1cXTI",
        "outputId": "cab6b795-6fb9-4d7f-85ee-fb661bb5cf4d"
      },
      "execution_count": null,
      "outputs": [
        {
          "output_type": "stream",
          "name": "stderr",
          "text": [
            "19716it [00:00, 825496.10it/s]\n"
          ]
        },
        {
          "output_type": "stream",
          "name": "stdout",
          "text": [
            "file saved to /content/drive/MyDrive/Analogy_NLP_Files/analogy_test1_2.csv\n"
          ]
        }
      ]
    },
    {
      "cell_type": "code",
      "source": [
        "df_result = pd.read_csv(ROOT+\"analogy_test1_2.csv\", engine='python',encoding='utf-8', error_bad_lines=False)\n",
        "acurracy_category(df_result, df,\"cat_analogy_test1_2.csv\")"
      ],
      "metadata": {
        "colab": {
          "base_uri": "https://localhost:8080/"
        },
        "id": "nk_tYNDD4v5A",
        "outputId": "cfacbc93-0fc2-46da-cc06-3867a139853b"
      },
      "execution_count": null,
      "outputs": [
        {
          "output_type": "stream",
          "name": "stderr",
          "text": [
            "/usr/local/lib/python3.7/dist-packages/IPython/core/interactiveshell.py:2882: FutureWarning: The error_bad_lines argument has been deprecated and will be removed in a future version.\n",
            "\n",
            "\n",
            "  exec(code_obj, self.user_global_ns, self.user_ns)\n"
          ]
        },
        {
          "output_type": "stream",
          "name": "stdout",
          "text": [
            "['semantic-Whole to part' 'semantic-capitals' 'semantic-currency'\n",
            " 'semantic-family' 'syntactic-Comparative Adjectives'\n",
            " 'syntactic-Superlative Adjectives' 'syntactic-antonym' 'syntactic-verb']\n"
          ]
        },
        {
          "output_type": "stream",
          "name": "stderr",
          "text": [
            "420it [00:00, 4309.41it/s]\n"
          ]
        },
        {
          "output_type": "stream",
          "name": "stdout",
          "text": [
            "\n",
            " category is :  semantic-Whole to part\n",
            "Sample test : همانطور که قطره برای آب است [MASK] برای بدن است\n",
            "acc_1:  0.0\n",
            "acc_3:  0.0\n",
            "acc_5:  0.016666666666666666\n",
            "acc_10:  0.04523809523809524\n",
            "===================================\n"
          ]
        },
        {
          "output_type": "stream",
          "name": "stderr",
          "text": [
            "4692it [00:00, 4981.76it/s]\n"
          ]
        },
        {
          "output_type": "stream",
          "name": "stdout",
          "text": [
            "\n",
            " category is :  semantic-capitals\n",
            "Sample test : همانطور که تهران برای ایران است [MASK] برای چین است\n",
            "acc_1:  0.043478260869565216\n",
            "acc_3:  0.1402387041773231\n",
            "acc_5:  0.2813299232736573\n",
            "acc_10:  0.404305200341006\n",
            "===================================\n"
          ]
        },
        {
          "output_type": "stream",
          "name": "stderr",
          "text": [
            "6006it [00:01, 3288.79it/s]\n"
          ]
        },
        {
          "output_type": "stream",
          "name": "stdout",
          "text": [
            "\n",
            " category is :  semantic-currency\n",
            "Sample test : همانطور که ایران برای ریال است [MASK] برای دلار است\n",
            "acc_1:  0.01332001332001332\n",
            "acc_3:  0.04595404595404595\n",
            "acc_5:  0.08791208791208792\n",
            "acc_10:  0.15567765567765568\n",
            "===================================\n"
          ]
        },
        {
          "output_type": "stream",
          "name": "stderr",
          "text": [
            "600it [00:00, 2713.50it/s]\n"
          ]
        },
        {
          "output_type": "stream",
          "name": "stdout",
          "text": [
            "\n",
            " category is :  semantic-family\n",
            "Sample test : همانطور که دختر برای پسر است [MASK] برای پسران است\n",
            "acc_1:  0.013333333333333334\n",
            "acc_3:  0.03666666666666667\n",
            "acc_5:  0.07\n",
            "acc_10:  0.19\n",
            "===================================\n"
          ]
        },
        {
          "output_type": "stream",
          "name": "stderr",
          "text": [
            "2756it [00:01, 2473.10it/s]\n"
          ]
        },
        {
          "output_type": "stream",
          "name": "stdout",
          "text": [
            "\n",
            " category is :  syntactic-Comparative Adjectives\n",
            "Sample test : همانطور که خوب‌تر برای خوب است [MASK] برای بد است\n",
            "acc_1:  0.002902757619738752\n",
            "acc_3:  0.009796806966618287\n",
            "acc_5:  0.019230769230769232\n",
            "acc_10:  0.04245283018867924\n",
            "===================================\n"
          ]
        },
        {
          "output_type": "stream",
          "name": "stderr",
          "text": [
            "2756it [00:00, 3406.76it/s]\n"
          ]
        },
        {
          "output_type": "stream",
          "name": "stdout",
          "text": [
            "\n",
            " category is :  syntactic-Superlative Adjectives\n",
            "Sample test : همانطور که خوب‌ترین برای خوب است [MASK] برای بد است\n",
            "acc_1:  0.0039912917271407835\n",
            "acc_3:  0.007619738751814224\n",
            "acc_5:  0.018867924528301886\n",
            "acc_10:  0.040638606676342524\n",
            "===================================\n"
          ]
        },
        {
          "output_type": "stream",
          "name": "stderr",
          "text": [
            "506it [00:00, 2285.36it/s]\n"
          ]
        },
        {
          "output_type": "stream",
          "name": "stdout",
          "text": [
            "\n",
            " category is :  syntactic-antonym\n",
            "Sample test : همانطور که مشخص برای نامشخص است [MASK] برای نامرتب است\n",
            "acc_1:  0.0\n",
            "acc_3:  0.003952569169960474\n",
            "acc_5:  0.01383399209486166\n",
            "acc_10:  0.04743083003952569\n",
            "===================================\n"
          ]
        },
        {
          "output_type": "stream",
          "name": "stderr",
          "text": [
            "1980it [00:00, 3613.59it/s]\n"
          ]
        },
        {
          "output_type": "stream",
          "name": "stdout",
          "text": [
            "\n",
            " category is :  syntactic-verb\n",
            "Sample test : همانطور که رفت برای می‌رود است [MASK] برای می‌خورد است\n",
            "acc_1:  0.0\n",
            "acc_3:  0.000505050505050505\n",
            "acc_5:  0.0015151515151515152\n",
            "acc_10:  0.0035353535353535356\n",
            "===================================\n",
            "file saved to /content/drive/MyDrive/Analogy_NLP_Files/cat_analogy_test1_2.csv\n"
          ]
        }
      ]
    },
    {
      "cell_type": "markdown",
      "source": [
        "## with new method"
      ],
      "metadata": {
        "id": "WFMGzCI3NsXG"
      }
    },
    {
      "cell_type": "code",
      "source": [
        "analogy_result4,analogy_tests1, analogy_tests2, analogy_responses4, total_relation, relation = new_prediction_method(df)"
      ],
      "metadata": {
        "colab": {
          "base_uri": "https://localhost:8080/"
        },
        "id": "0kyzdzC9IfTp",
        "outputId": "f005039d-3087-48d4-efd7-3dbf9132c62f"
      },
      "execution_count": null,
      "outputs": [
        {
          "output_type": "stream",
          "name": "stdout",
          "text": [
            "19716\n"
          ]
        },
        {
          "output_type": "stream",
          "name": "stderr",
          "text": [
            "19716it [16:20, 20.10it/s]"
          ]
        },
        {
          "output_type": "stream",
          "name": "stdout",
          "text": [
            "\n",
            "acc_1:  0.16235544735240415\n",
            "acc_3:  0.18548387096774194\n",
            "acc_5:  0.19263542300669506\n",
            "acc_10:  0.2141407993507811\n",
            "===================================\n"
          ]
        },
        {
          "output_type": "stream",
          "name": "stderr",
          "text": [
            "\n"
          ]
        }
      ]
    },
    {
      "cell_type": "code",
      "source": [
        "save_result_new(analogy_result4, analogy_tests1,analogy_tests2,analogy_responses4,total_relation,relation, \"new_method_analogy.csv\")"
      ],
      "metadata": {
        "colab": {
          "base_uri": "https://localhost:8080/"
        },
        "id": "vrtaUnS2MTZH",
        "outputId": "b2e00dd1-e0d9-4c34-e286-ba4d9a4c5f0e"
      },
      "execution_count": null,
      "outputs": [
        {
          "output_type": "stream",
          "name": "stderr",
          "text": [
            "19716it [00:00, 689980.87it/s]\n"
          ]
        },
        {
          "output_type": "stream",
          "name": "stdout",
          "text": [
            "file saved to /content/drive/MyDrive/Analogy_NLP_Files/new_method_analogy.csv\n"
          ]
        }
      ]
    },
    {
      "cell_type": "code",
      "source": [
        "df_result4 = pd.read_csv(ROOT+\"new_method_analogy.csv\", engine='python',encoding='utf-8', error_bad_lines=False)\n",
        "df_result4.head()\n",
        "acurracy_category(df_result4, df,\"cat_new_method_analogy.csv\")"
      ],
      "metadata": {
        "colab": {
          "base_uri": "https://localhost:8080/"
        },
        "id": "dRPxJfiQBq2q",
        "outputId": "98fcb255-e6c8-49fa-c55d-c3e4c0e8ce3f"
      },
      "execution_count": null,
      "outputs": [
        {
          "output_type": "stream",
          "name": "stderr",
          "text": [
            "/usr/local/lib/python3.7/dist-packages/IPython/core/interactiveshell.py:2882: FutureWarning: The error_bad_lines argument has been deprecated and will be removed in a future version.\n",
            "\n",
            "\n",
            "  exec(code_obj, self.user_global_ns, self.user_ns)\n"
          ]
        },
        {
          "output_type": "stream",
          "name": "stdout",
          "text": [
            "['semantic-Whole to part' 'semantic-capitals' 'semantic-currency'\n",
            " 'semantic-family' 'syntactic-Comparative Adjectives'\n",
            " 'syntactic-Superlative Adjectives' 'syntactic-antonym' 'syntactic-verb']\n"
          ]
        },
        {
          "output_type": "stream",
          "name": "stderr",
          "text": [
            "420it [00:00, 10137.70it/s]\n"
          ]
        },
        {
          "output_type": "stream",
          "name": "stdout",
          "text": [
            "\n",
            " category is :  semantic-Whole to part\n",
            "Sample test1 : قطره [MASK] آب است\n",
            "Sample test2 : دیگر بدن [MASK] است\n",
            "acc_1:  0.011904761904761904\n",
            "acc_3:  0.023809523809523808\n",
            "acc_5:  0.023809523809523808\n",
            "acc_10:  0.030952380952380953\n",
            "===================================\n"
          ]
        },
        {
          "output_type": "stream",
          "name": "stderr",
          "text": [
            "4692it [00:00, 10560.48it/s]\n"
          ]
        },
        {
          "output_type": "stream",
          "name": "stdout",
          "text": [
            "\n",
            " category is :  semantic-capitals\n",
            "Sample test1 : تهران [MASK] ایران است\n",
            "Sample test2 : پایتخت چین [MASK] است\n",
            "acc_1:  0.6312872975277067\n",
            "acc_3:  0.6852088661551577\n",
            "acc_5:  0.6862745098039216\n",
            "acc_10:  0.7133418584825234\n",
            "===================================\n"
          ]
        },
        {
          "output_type": "stream",
          "name": "stderr",
          "text": [
            "6006it [00:00, 9780.74it/s] \n"
          ]
        },
        {
          "output_type": "stream",
          "name": "stdout",
          "text": [
            "\n",
            " category is :  semantic-currency\n",
            "Sample test1 : ایران [MASK] ریال است\n",
            "Sample test2 : یک دلار [MASK] است\n",
            "acc_1:  0.035464535464535464\n",
            "acc_3:  0.06177156177156177\n",
            "acc_5:  0.07375957375957376\n",
            "acc_10:  0.11122211122211122\n",
            "===================================\n"
          ]
        },
        {
          "output_type": "stream",
          "name": "stderr",
          "text": [
            "600it [00:00, 8893.99it/s]\n"
          ]
        },
        {
          "output_type": "stream",
          "name": "stdout",
          "text": [
            "\n",
            " category is :  semantic-family\n",
            "Sample test1 : دختر [MASK] پسر است\n",
            "Sample test2 : او پسران [MASK] است\n",
            "acc_1:  0.0033333333333333335\n",
            "acc_3:  0.006666666666666667\n",
            "acc_5:  0.016666666666666666\n",
            "acc_10:  0.056666666666666664\n",
            "===================================\n"
          ]
        },
        {
          "output_type": "stream",
          "name": "stderr",
          "text": [
            "2756it [00:00, 9964.68it/s] \n"
          ]
        },
        {
          "output_type": "stream",
          "name": "stdout",
          "text": [
            "\n",
            " category is :  syntactic-Comparative Adjectives\n",
            "Sample test1 : خوب‌تر [MASK] خوب است\n",
            "Sample test2 : از بد [MASK] است\n",
            "acc_1:  0.006894049346879536\n",
            "acc_3:  0.013788098693759071\n",
            "acc_5:  0.03374455732946299\n",
            "acc_10:  0.04027576197387518\n",
            "===================================\n"
          ]
        },
        {
          "output_type": "stream",
          "name": "stderr",
          "text": [
            "2756it [00:00, 10196.59it/s]\n"
          ]
        },
        {
          "output_type": "stream",
          "name": "stdout",
          "text": [
            "\n",
            " category is :  syntactic-Superlative Adjectives\n",
            "Sample test1 : خوب‌ترین [MASK] خوب است\n",
            "Sample test2 : کار بد [MASK] است\n",
            "acc_1:  0.0\n",
            "acc_3:  0.0\n",
            "acc_5:  0.0\n",
            "acc_10:  0.0\n",
            "===================================\n"
          ]
        },
        {
          "output_type": "stream",
          "name": "stderr",
          "text": [
            "506it [00:00, 9741.30it/s]\n"
          ]
        },
        {
          "output_type": "stream",
          "name": "stdout",
          "text": [
            "\n",
            " category is :  syntactic-antonym\n",
            "Sample test1 : مشخص [MASK] نامشخص است\n",
            "Sample test2 : نیست نامرتب [MASK] است\n",
            "acc_1:  0.0\n",
            "acc_3:  0.037549407114624504\n",
            "acc_5:  0.043478260869565216\n",
            "acc_10:  0.09683794466403162\n",
            "===================================\n"
          ]
        },
        {
          "output_type": "stream",
          "name": "stderr",
          "text": [
            "1980it [00:00, 9773.29it/s]\n"
          ]
        },
        {
          "output_type": "stream",
          "name": "stdout",
          "text": [
            "\n",
            " category is :  syntactic-verb\n",
            "Sample test1 : رفت [MASK] می‌رود است\n",
            "Sample test2 : و می‌خورد [MASK] است\n",
            "acc_1:  0.0\n",
            "acc_3:  0.0\n",
            "acc_5:  0.0\n",
            "acc_10:  0.0\n",
            "===================================\n",
            "file saved to /content/drive/MyDrive/Analogy_NLP_Files/cat_new_method_analogy.csv\n"
          ]
        }
      ]
    },
    {
      "cell_type": "code",
      "source": [
        "df_analogy_result4 = pd.read_csv(ROOT+\"new_method_analogy.csv\", engine='python',encoding='utf-8', error_bad_lines=False) \n",
        "df_analogy_result4.head() \n",
        "relation_by_cat(df_analogy_result4, df, \"analogy_cat_rel.csv\")"
      ],
      "metadata": {
        "colab": {
          "base_uri": "https://localhost:8080/"
        },
        "id": "S69t349bBt7s",
        "outputId": "07525132-0560-4879-a9f0-015db25e5639"
      },
      "execution_count": null,
      "outputs": [
        {
          "output_type": "stream",
          "name": "stderr",
          "text": [
            "/usr/local/lib/python3.7/dist-packages/IPython/core/interactiveshell.py:2882: FutureWarning: The error_bad_lines argument has been deprecated and will be removed in a future version.\n",
            "\n",
            "\n",
            "  exec(code_obj, self.user_global_ns, self.user_ns)\n"
          ]
        },
        {
          "output_type": "stream",
          "name": "stdout",
          "text": [
            "['semantic-Whole to part' 'semantic-capitals' 'semantic-currency'\n",
            " 'semantic-family' 'syntactic-Comparative Adjectives'\n",
            " 'syntactic-Superlative Adjectives' 'syntactic-antonym' 'syntactic-verb']\n"
          ]
        },
        {
          "output_type": "stream",
          "name": "stderr",
          "text": [
            "420it [00:00, 4879.53it/s]\n",
            "4692it [00:01, 4209.25it/s]\n",
            "6006it [00:01, 4443.04it/s]\n",
            "600it [00:00, 3535.71it/s]\n",
            "2756it [00:00, 4543.74it/s]\n",
            "2756it [00:00, 4552.84it/s]\n",
            "506it [00:00, 4629.46it/s]\n",
            "1980it [00:00, 4707.22it/s]\n"
          ]
        }
      ]
    },
    {
      "cell_type": "code",
      "source": [
        "sem_analogy = ['semantic-Whole to part' ,'semantic-capitals' ,'semantic-currency','semantic-family']\n",
        "df_analogy_result = pd.read_csv(ROOT+\"cat_new_method_analogy.csv\", engine='python',encoding='utf-8', error_bad_lines=False) \n",
        "semantic_acc(df_analogy_result, df, sem_analogy)"
      ],
      "metadata": {
        "colab": {
          "base_uri": "https://localhost:8080/"
        },
        "id": "jmP3v5-6w_Tn",
        "outputId": "819d7417-d039-4810-f066-f402f949a2a6"
      },
      "execution_count": 35,
      "outputs": [
        {
          "output_type": "stream",
          "name": "stdout",
          "text": [
            "semantic results\n",
            "length:  11718\n",
            "acc_1:  0.2715480457415941\n",
            "acc_3:  0.3072196620583717\n",
            "acc_5:  0.3143027820447175\n",
            "acc_10:  0.3466461853558628\n",
            "===================================\n",
            "syntactic results\n",
            "length:  7998\n",
            "acc_1:  0.002375593898474607\n",
            "acc_3:  0.007126781695423831\n",
            "acc_5:  0.014378594648662134\n",
            "acc_10:  0.03700925231307822\n",
            "===================================\n"
          ]
        },
        {
          "output_type": "stream",
          "name": "stderr",
          "text": [
            "/usr/local/lib/python3.7/dist-packages/IPython/core/interactiveshell.py:2882: FutureWarning: The error_bad_lines argument has been deprecated and will be removed in a future version.\n",
            "\n",
            "\n",
            "  exec(code_obj, self.user_global_ns, self.user_ns)\n"
          ]
        }
      ]
    },
    {
      "cell_type": "markdown",
      "source": [
        "## analogy farsi"
      ],
      "metadata": {
        "id": "RF9b_PVN_JZ7"
      }
    },
    {
      "cell_type": "code",
      "source": [
        "dataset_farsi, dataset_farsi_response = generate_pattern(df_farsi, pattern[0])"
      ],
      "metadata": {
        "colab": {
          "base_uri": "https://localhost:8080/"
        },
        "id": "4JuFZsKEbMe7",
        "outputId": "13b180f1-3347-44fe-b2c5-c0a6bdfd05d2"
      },
      "execution_count": null,
      "outputs": [
        {
          "output_type": "stream",
          "name": "stdout",
          "text": [
            "Pattern is : ['به', 'مانند', 'به', '[MASK]', 'است']\n",
            "Sample test : کرج به البرز مانند شیراز به [MASK] است \n",
            "Sample test answer is : فارس \n"
          ]
        }
      ]
    },
    {
      "cell_type": "code",
      "source": [
        "result_farsi = predict_analogy(dataset_farsi, dataset_farsi_response)"
      ],
      "metadata": {
        "colab": {
          "base_uri": "https://localhost:8080/"
        },
        "id": "IZDlPGyFbR6Z",
        "outputId": "2b4455a8-3139-41a7-e2d5-3aaa6b9f1af8"
      },
      "execution_count": null,
      "outputs": [
        {
          "output_type": "stream",
          "name": "stdout",
          "text": [
            "30072\n"
          ]
        },
        {
          "output_type": "stream",
          "name": "stderr",
          "text": [
            "100%|██████████| 30072/30072 [06:19<00:00, 79.15it/s]"
          ]
        },
        {
          "output_type": "stream",
          "name": "stdout",
          "text": [
            "\n",
            "acc_1:  0.05510109071561586\n",
            "acc_3:  0.1278265496142591\n",
            "acc_5:  0.17218675179569035\n",
            "acc_10:  0.23540170258047352\n",
            "===================================\n"
          ]
        },
        {
          "output_type": "stream",
          "name": "stderr",
          "text": [
            "\n"
          ]
        }
      ]
    },
    {
      "cell_type": "code",
      "source": [
        "visualize(result_farsi,dataset_farsi, dataset_farsi_response)"
      ],
      "metadata": {
        "colab": {
          "base_uri": "https://localhost:8080/"
        },
        "id": "xWwtjhCFwRRp",
        "outputId": "d8d0290c-7da0-46b8-e315-3e624605e185"
      },
      "execution_count": null,
      "outputs": [
        {
          "output_type": "stream",
          "name": "stdout",
          "text": [
            "22493\n"
          ]
        },
        {
          "output_type": "stream",
          "name": "stderr",
          "text": [
            "5it [00:00, 9210.15it/s]"
          ]
        },
        {
          "output_type": "stream",
          "name": "stdout",
          "text": [
            "The test is : مناسب به نامناسب مانند منظم به [MASK] است\n",
            "The answer is : نامنظم\n",
            "The predicted result is : \n",
            "['پایین', 'بالا', 'صورت', 'مناسب', 'اطراف', 'دور', 'ارامی', 'خوب', 'اهستگی', 'زیر']\n",
            "\n",
            "\n",
            "The test is : مناسب به نامناسب مانند موزون به [MASK] است\n",
            "The answer is : ناموزون\n",
            "The predicted result is : \n",
            "['پایین', 'موزون', 'کف', 'بالا', 'نفس', 'صورت', 'دقیقه', 'صفر', 'زمان', 'چپ']\n",
            "\n",
            "\n",
            "The test is : مناسب به نامناسب مانند منسجم به [MASK] است\n",
            "The answer is : نامنسجم\n",
            "The predicted result is : \n",
            "['پایین', 'مناسب', 'خوبی', 'خوب', 'بالا', 'صورت', 'ان', 'غلط', 'هم', 'اطراف']\n",
            "\n",
            "\n",
            "The test is : مناسب به نامناسب مانند سازگار به [MASK] است\n",
            "The answer is : ناسازگار\n",
            "The predicted result is : \n",
            "['پایین', 'بد', 'خوب', 'نامناسب', 'مناسب', 'هوا', 'بالا', 'خوبی', 'سبک', 'پايین']\n",
            "\n",
            "\n",
            "The test is : مناسب به نامناسب مانند مشروع به [MASK] است\n",
            "The answer is : نامشروع\n",
            "The predicted result is : \n",
            "['نامناسب', 'نادرست', 'بد', 'مناسب', 'غلط', 'مطلوب', 'پایین', 'خوب', 'اشتباه', 'صحیح']\n",
            "\n",
            "\n"
          ]
        },
        {
          "output_type": "stream",
          "name": "stderr",
          "text": [
            "\n"
          ]
        }
      ]
    },
    {
      "cell_type": "code",
      "source": [
        "save_result(result_farsi,dataset_farsi, dataset_farsi_response, \"farsi_1.csv\")"
      ],
      "metadata": {
        "colab": {
          "base_uri": "https://localhost:8080/"
        },
        "id": "CZksJAZideKn",
        "outputId": "a58a21e3-04f2-4e7d-ce8d-3e16f28649c7"
      },
      "execution_count": null,
      "outputs": [
        {
          "output_type": "stream",
          "name": "stderr",
          "text": [
            "30072it [00:00, 1378346.50it/s]\n"
          ]
        },
        {
          "output_type": "stream",
          "name": "stdout",
          "text": [
            "file saved to /content/drive/MyDrive/Analogy_NLP_Files/farsi_1.csv\n"
          ]
        }
      ]
    },
    {
      "cell_type": "code",
      "source": [
        "df_result = pd.read_csv(ROOT+\"farsi_1.csv\", engine='python',encoding='utf-8', error_bad_lines=False)\n",
        "acurracy_category(df_result, df_farsi,\"cat_farsi_1.csv\")"
      ],
      "metadata": {
        "colab": {
          "base_uri": "https://localhost:8080/"
        },
        "id": "Cr-1EZy741zq",
        "outputId": "e1532bad-28de-4283-8084-f708e124e356"
      },
      "execution_count": null,
      "outputs": [
        {
          "output_type": "stream",
          "name": "stderr",
          "text": [
            "/usr/local/lib/python3.7/dist-packages/IPython/core/interactiveshell.py:2882: FutureWarning: The error_bad_lines argument has been deprecated and will be removed in a future version.\n",
            "\n",
            "\n",
            "  exec(code_obj, self.user_global_ns, self.user_ns)\n"
          ]
        },
        {
          "output_type": "stream",
          "name": "stdout",
          "text": [
            "['capital' 'city' 'currency' 'family' 'gram_adj2adv' 'gram_antonym'\n",
            " 'gram_comparative' 'gram_firstperson' 'gram_nationality' 'gram_noun2adv'\n",
            " 'gram_past' 'gram_plural' 'gram_presentparticiple' 'gram_superlative'\n",
            " 'gram_thirdperson']\n"
          ]
        },
        {
          "output_type": "stream",
          "name": "stderr",
          "text": [
            "5402it [00:01, 5391.75it/s]\n"
          ]
        },
        {
          "output_type": "stream",
          "name": "stdout",
          "text": [
            "\n",
            " category is :  capital\n",
            "Sample test : چین به پکن مانند ژاپن به [MASK] است\n",
            "acc_1:  0.010181414291003332\n",
            "acc_3:  0.06293965198074787\n",
            "acc_5:  0.1036653091447612\n",
            "acc_10:  0.17604590892262126\n",
            "===================================\n"
          ]
        },
        {
          "output_type": "stream",
          "name": "stderr",
          "text": [
            "7832it [00:00, 10260.04it/s]\n"
          ]
        },
        {
          "output_type": "stream",
          "name": "stdout",
          "text": [
            "\n",
            " category is :  city\n",
            "Sample test : کرج به البرز مانند شیراز به [MASK] است\n",
            "acc_1:  0.19330949948927478\n",
            "acc_3:  0.40743105209397346\n",
            "acc_5:  0.5188968335035751\n",
            "acc_10:  0.6482379979570991\n",
            "===================================\n"
          ]
        },
        {
          "output_type": "stream",
          "name": "stderr",
          "text": [
            "1260it [00:00, 9896.54it/s] \n"
          ]
        },
        {
          "output_type": "stream",
          "name": "stdout",
          "text": [
            "\n",
            " category is :  currency\n",
            "Sample test : افغانستان به افغانی مانند تایلند به [MASK] است\n",
            "acc_1:  0.003968253968253968\n",
            "acc_3:  0.027777777777777776\n",
            "acc_5:  0.050793650793650794\n",
            "acc_10:  0.08174603174603175\n",
            "===================================\n"
          ]
        },
        {
          "output_type": "stream",
          "name": "stderr",
          "text": [
            "342it [00:00, 9303.69it/s]\n"
          ]
        },
        {
          "output_type": "stream",
          "name": "stdout",
          "text": [
            "\n",
            " category is :  family\n",
            "Sample test : برادر به خواهر مانند برادرها به [MASK] است\n",
            "acc_1:  0.09941520467836257\n",
            "acc_3:  0.19005847953216373\n",
            "acc_5:  0.23391812865497075\n",
            "acc_10:  0.3128654970760234\n",
            "===================================\n"
          ]
        },
        {
          "output_type": "stream",
          "name": "stderr",
          "text": [
            "1332it [00:00, 10086.43it/s]\n"
          ]
        },
        {
          "output_type": "stream",
          "name": "stdout",
          "text": [
            "\n",
            " category is :  gram_adj2adv\n",
            "Sample test : سریع به سریعا مانند مخصوص به [MASK] است\n",
            "acc_1:  0.0\n",
            "acc_3:  0.0\n",
            "acc_5:  0.0\n",
            "acc_10:  0.0007507507507507507\n",
            "===================================\n"
          ]
        },
        {
          "output_type": "stream",
          "name": "stderr",
          "text": [
            "1260it [00:00, 10231.55it/s]\n"
          ]
        },
        {
          "output_type": "stream",
          "name": "stdout",
          "text": [
            "\n",
            " category is :  gram_antonym\n",
            "Sample test : دیده به نادیده مانند بود به [MASK] است\n",
            "acc_1:  0.0015873015873015873\n",
            "acc_3:  0.012698412698412698\n",
            "acc_5:  0.030952380952380953\n",
            "acc_10:  0.07301587301587302\n",
            "===================================\n"
          ]
        },
        {
          "output_type": "stream",
          "name": "stderr",
          "text": [
            "2519it [00:00, 9577.55it/s]\n"
          ]
        },
        {
          "output_type": "stream",
          "name": "stdout",
          "text": [
            "\n",
            " category is :  gram_comparative\n",
            "Sample test : سریع به سریعتر مانند بزرگ به [MASK] است\n",
            "acc_1:  0.004366812227074236\n",
            "acc_3:  0.017070265978562923\n",
            "acc_5:  0.034934497816593885\n",
            "acc_10:  0.08416038110361254\n",
            "===================================\n"
          ]
        },
        {
          "output_type": "stream",
          "name": "stderr",
          "text": [
            "1260it [00:00, 9887.93it/s] \n"
          ]
        },
        {
          "output_type": "stream",
          "name": "stdout",
          "text": [
            "\n",
            " category is :  gram_firstperson\n",
            "Sample test : رفتم به رفتیم مانند رقصیدم به [MASK] است\n",
            "acc_1:  0.0\n",
            "acc_3:  0.0\n",
            "acc_5:  0.0\n",
            "acc_10:  0.0\n",
            "===================================\n"
          ]
        },
        {
          "output_type": "stream",
          "name": "stderr",
          "text": [
            "1406it [00:00, 10341.18it/s]\n"
          ]
        },
        {
          "output_type": "stream",
          "name": "stdout",
          "text": [
            "\n",
            " category is :  gram_nationality\n",
            "Sample test : ایران به ایرانی مانند آمریکا به [MASK] است\n",
            "acc_1:  0.025604551920341393\n",
            "acc_3:  0.08534850640113797\n",
            "acc_5:  0.14438122332859174\n",
            "acc_10:  0.23968705547652916\n",
            "===================================\n"
          ]
        },
        {
          "output_type": "stream",
          "name": "stderr",
          "text": [
            "1056it [00:00, 8965.89it/s]\n"
          ]
        },
        {
          "output_type": "stream",
          "name": "stdout",
          "text": [
            "\n",
            " category is :  gram_noun2adv\n",
            "Sample test : تقریب به تقریبا مانند احتمال به [MASK] است\n",
            "acc_1:  0.0\n",
            "acc_3:  0.0\n",
            "acc_5:  0.0\n",
            "acc_10:  0.0\n",
            "===================================\n"
          ]
        },
        {
          "output_type": "stream",
          "name": "stderr",
          "text": [
            "1260it [00:00, 7662.84it/s]\n"
          ]
        },
        {
          "output_type": "stream",
          "name": "stdout",
          "text": [
            "\n",
            " category is :  gram_past\n",
            "Sample test : رقصیدن به رقصید مانند بلعیدن به [MASK] است\n",
            "acc_1:  0.0\n",
            "acc_3:  0.0\n",
            "acc_5:  0.0015873015873015873\n",
            "acc_10:  0.006349206349206349\n",
            "===================================\n"
          ]
        },
        {
          "output_type": "stream",
          "name": "stderr",
          "text": [
            "2550it [00:00, 9788.12it/s] \n"
          ]
        },
        {
          "output_type": "stream",
          "name": "stdout",
          "text": [
            "\n",
            " category is :  gram_plural\n",
            "Sample test : کتاب به کتابها مانند زبان به [MASK] است\n",
            "acc_1:  0.0\n",
            "acc_3:  0.013333333333333334\n",
            "acc_5:  0.03019607843137255\n",
            "acc_10:  0.07450980392156863\n",
            "===================================\n"
          ]
        },
        {
          "output_type": "stream",
          "name": "stderr",
          "text": [
            "1it [00:00, 1518.03it/s]\n"
          ]
        },
        {
          "output_type": "stream",
          "name": "stdout",
          "text": [
            "\n",
            " category is :  gram_presentparticiple\n",
            "Sample test : رقصیدن به می‌رقصد مانند بلعیدن به [MASK] است\n",
            "acc_1:  0.0\n",
            "acc_3:  0.0\n",
            "acc_5:  0.0\n",
            "acc_10:  0.0\n",
            "===================================\n"
          ]
        },
        {
          "output_type": "stream",
          "name": "stderr",
          "text": [
            "1it [00:00, 1683.11it/s]\n"
          ]
        },
        {
          "output_type": "stream",
          "name": "stdout",
          "text": [
            "\n",
            " category is :  gram_superlative\n",
            "Sample test : سریع به سریعترین مانند بزرگ به [MASK] است\n",
            "acc_1:  0.0\n",
            "acc_3:  0.0\n",
            "acc_5:  0.0\n",
            "acc_10:  0.0\n",
            "===================================\n"
          ]
        },
        {
          "output_type": "stream",
          "name": "stderr",
          "text": [
            "2591it [00:00, 8712.10it/s]\n"
          ]
        },
        {
          "output_type": "stream",
          "name": "stdout",
          "text": [
            "\n",
            " category is :  gram_thirdperson\n",
            "Sample test : رفت به رفتند مانند رقصید به [MASK] است\n",
            "acc_1:  0.0\n",
            "acc_3:  0.0\n",
            "acc_5:  0.00038595137012736397\n",
            "acc_10:  0.00038595137012736397\n",
            "===================================\n",
            "file saved to /content/drive/MyDrive/Analogy_NLP_Files/cat_farsi_1.csv\n"
          ]
        }
      ]
    },
    {
      "cell_type": "code",
      "source": [
        "# np.unique(df_farsi[\"cat\"])"
      ],
      "metadata": {
        "id": "AlxeeAVQphhk"
      },
      "execution_count": null,
      "outputs": []
    },
    {
      "cell_type": "code",
      "source": [
        "# dataset_farsi2, dataset_farsi_response2 = generate_pattern(df_farsi[df_farsi[\"cat\"]=='city'], pattern[2])"
      ],
      "metadata": {
        "id": "Et5qHULChbwM"
      },
      "execution_count": null,
      "outputs": []
    },
    {
      "cell_type": "code",
      "source": [
        "# result_farsi2 = predict_analogy(dataset_farsi2, dataset_farsi_response2)"
      ],
      "metadata": {
        "id": "pfC-VMULqmie"
      },
      "execution_count": null,
      "outputs": []
    },
    {
      "cell_type": "code",
      "source": [
        "# visualize(result_farsi2, dataset_farsi2, dataset_farsi_response2)"
      ],
      "metadata": {
        "id": "WBivSr4XwhKE"
      },
      "execution_count": null,
      "outputs": []
    },
    {
      "cell_type": "code",
      "source": [
        "dataset_farsi3, dataset_farsi_response3 = generate_pattern(df_farsi, pattern[3])"
      ],
      "metadata": {
        "id": "tUJhyUGxrq70",
        "colab": {
          "base_uri": "https://localhost:8080/"
        },
        "outputId": "6ce33e59-fa0b-4351-a181-bdb515fbdfa9"
      },
      "execution_count": null,
      "outputs": [
        {
          "output_type": "stream",
          "name": "stdout",
          "text": [
            "Pattern is : ['همانطور', 'که', 'برای', 'است', '[MASK]', 'برای', 'است']\n",
            "Sample test : همانطور که البرز برای کرج است [MASK] برای شیراز است \n",
            "Sample test answer is : فارس \n"
          ]
        }
      ]
    },
    {
      "cell_type": "code",
      "source": [
        "result_farsi3 = predict_analogy(dataset_farsi3, dataset_farsi_response3)"
      ],
      "metadata": {
        "id": "TQ34Yc3eruTy",
        "colab": {
          "base_uri": "https://localhost:8080/"
        },
        "outputId": "6270c9e3-377b-4b77-aed2-faba7c3f9362"
      },
      "execution_count": null,
      "outputs": [
        {
          "output_type": "stream",
          "name": "stdout",
          "text": [
            "30072\n"
          ]
        },
        {
          "output_type": "stream",
          "name": "stderr",
          "text": [
            "100%|██████████| 30072/30072 [06:14<00:00, 80.31it/s]"
          ]
        },
        {
          "output_type": "stream",
          "name": "stdout",
          "text": [
            "\n",
            "acc_1:  0.04891593508911945\n",
            "acc_3:  0.1293562117584464\n",
            "acc_5:  0.20374434690077148\n",
            "acc_10:  0.28900638467677575\n",
            "===================================\n"
          ]
        },
        {
          "output_type": "stream",
          "name": "stderr",
          "text": [
            "\n"
          ]
        }
      ]
    },
    {
      "cell_type": "code",
      "source": [
        "visualize(result_farsi3, dataset_farsi3, dataset_farsi_response3)"
      ],
      "metadata": {
        "colab": {
          "base_uri": "https://localhost:8080/"
        },
        "id": "7-WAzRWWwvkn",
        "outputId": "7d42a754-2a1c-4d21-a36e-22891dfa5751"
      },
      "execution_count": null,
      "outputs": [
        {
          "output_type": "stream",
          "name": "stdout",
          "text": [
            "3849\n"
          ]
        },
        {
          "output_type": "stream",
          "name": "stderr",
          "text": [
            "5it [00:00, 9850.41it/s]"
          ]
        },
        {
          "output_type": "stream",
          "name": "stdout",
          "text": [
            "The test is : همانطور که بوشهر برای برازجان است [MASK] برای خرمدره است\n",
            "The answer is : زنجان\n",
            "The predicted result is : \n",
            "['اصفهان', 'بوشهر', 'شیراز', 'اهواز', '،', 'کرمان', 'تهران', 'خوزستان', 'رشت', 'خرمشهر']\n",
            "\n",
            "\n",
            "The test is : همانطور که بوشهر برای برازجان است [MASK] برای جوانرود است\n",
            "The answer is : کرمانشاه\n",
            "The predicted result is : \n",
            "['،', 'اصفهان', 'کرمانشاه', 'قدس', 'اهواز', 'بوشهر', 'جوانرود', 'و', 'برازجان', 'شیراز']\n",
            "\n",
            "\n",
            "The test is : همانطور که بوشهر برای برازجان است [MASK] برای هشتپر است\n",
            "The answer is : گیلان\n",
            "The predicted result is : \n",
            "['اصفهان', 'رشت', 'بوشهر', 'اهواز', '،', 'شیراز', 'تهران', 'و', 'کرمان', 'انزلی']\n",
            "\n",
            "\n",
            "The test is : همانطور که بوشهر برای برازجان است [MASK] برای حمیدیا است\n",
            "The answer is : یزد\n",
            "The predicted result is : \n",
            "['بوشهر', 'اصفهان', 'شیراز', 'برازجان', 'اهواز', '،', 'کرمان', 'و', 'فارس', 'تهران']\n",
            "\n",
            "\n",
            "The test is : همانطور که بوشهر برای برازجان است [MASK] برای کنگاور است\n",
            "The answer is : کرمانشاه\n",
            "The predicted result is : \n",
            "['کرمانشاه', 'اصفهان', 'کنگاور', '،', 'شیراز', 'همدان', 'بوشهر', 'اهواز', 'لرستان', 'کرمان']\n",
            "\n",
            "\n"
          ]
        },
        {
          "output_type": "stream",
          "name": "stderr",
          "text": [
            "\n"
          ]
        }
      ]
    },
    {
      "cell_type": "code",
      "source": [
        "save_result(result_farsi3, dataset_farsi3, dataset_farsi_response3, \"farsi_2.csv\")"
      ],
      "metadata": {
        "colab": {
          "base_uri": "https://localhost:8080/"
        },
        "id": "NIMgx5undutp",
        "outputId": "0461a380-158a-4cd1-da8d-7029d0469d02"
      },
      "execution_count": null,
      "outputs": [
        {
          "output_type": "stream",
          "name": "stderr",
          "text": [
            "30072it [00:00, 1432608.04it/s]\n"
          ]
        },
        {
          "output_type": "stream",
          "name": "stdout",
          "text": [
            "file saved to /content/drive/MyDrive/Analogy_NLP_Files/farsi_2.csv\n"
          ]
        }
      ]
    },
    {
      "cell_type": "code",
      "source": [
        "df_result = pd.read_csv(ROOT+\"farsi_2.csv\", engine='python',encoding='utf-8', error_bad_lines=False)\n",
        "acurracy_category(df_result, df_farsi,\"cat_farsi_2.csv\")"
      ],
      "metadata": {
        "colab": {
          "base_uri": "https://localhost:8080/"
        },
        "id": "DM6PGdek5WlB",
        "outputId": "344da43d-d9e3-4cb3-e927-eda72c56a4ab"
      },
      "execution_count": null,
      "outputs": [
        {
          "output_type": "stream",
          "name": "stderr",
          "text": [
            "/usr/local/lib/python3.7/dist-packages/IPython/core/interactiveshell.py:2882: FutureWarning: The error_bad_lines argument has been deprecated and will be removed in a future version.\n",
            "\n",
            "\n",
            "  exec(code_obj, self.user_global_ns, self.user_ns)\n"
          ]
        },
        {
          "output_type": "stream",
          "name": "stdout",
          "text": [
            "['capital' 'city' 'currency' 'family' 'gram_adj2adv' 'gram_antonym'\n",
            " 'gram_comparative' 'gram_firstperson' 'gram_nationality' 'gram_noun2adv'\n",
            " 'gram_past' 'gram_plural' 'gram_presentparticiple' 'gram_superlative'\n",
            " 'gram_thirdperson']\n"
          ]
        },
        {
          "output_type": "stream",
          "name": "stderr",
          "text": [
            "5402it [00:01, 4921.22it/s]\n"
          ]
        },
        {
          "output_type": "stream",
          "name": "stdout",
          "text": [
            "\n",
            " category is :  capital\n",
            "Sample test : همانطور که پکن برای چین است [MASK] برای ژاپن است\n",
            "acc_1:  0.057201036653091446\n",
            "acc_3:  0.1691965938541281\n",
            "acc_5:  0.3122917437985931\n",
            "acc_10:  0.4378008145131433\n",
            "===================================\n"
          ]
        },
        {
          "output_type": "stream",
          "name": "stderr",
          "text": [
            "7832it [00:00, 10548.55it/s]\n"
          ]
        },
        {
          "output_type": "stream",
          "name": "stdout",
          "text": [
            "\n",
            " category is :  city\n",
            "Sample test : همانطور که البرز برای کرج است [MASK] برای شیراز است\n",
            "acc_1:  0.1469611848825332\n",
            "acc_3:  0.35993360572012256\n",
            "acc_5:  0.515832482124617\n",
            "acc_10:  0.6975229826353422\n",
            "===================================\n"
          ]
        },
        {
          "output_type": "stream",
          "name": "stderr",
          "text": [
            "1260it [00:00, 9342.09it/s]\n"
          ]
        },
        {
          "output_type": "stream",
          "name": "stdout",
          "text": [
            "\n",
            " category is :  currency\n",
            "Sample test : همانطور که افغانی برای افغانستان است [MASK] برای تایلند است\n",
            "acc_1:  0.0007936507936507937\n",
            "acc_3:  0.007936507936507936\n",
            "acc_5:  0.03650793650793651\n",
            "acc_10:  0.07857142857142857\n",
            "===================================\n"
          ]
        },
        {
          "output_type": "stream",
          "name": "stderr",
          "text": [
            "342it [00:00, 8993.82it/s]\n"
          ]
        },
        {
          "output_type": "stream",
          "name": "stdout",
          "text": [
            "\n",
            " category is :  family\n",
            "Sample test : همانطور که خواهر برای برادر است [MASK] برای برادرها است\n",
            "acc_1:  0.0\n",
            "acc_3:  0.02046783625730994\n",
            "acc_5:  0.043859649122807015\n",
            "acc_10:  0.15789473684210525\n",
            "===================================\n"
          ]
        },
        {
          "output_type": "stream",
          "name": "stderr",
          "text": [
            "1332it [00:00, 8945.30it/s]\n"
          ]
        },
        {
          "output_type": "stream",
          "name": "stdout",
          "text": [
            "\n",
            " category is :  gram_adj2adv\n",
            "Sample test : همانطور که سریعا برای سریع است [MASK] برای مخصوص است\n",
            "acc_1:  0.0\n",
            "acc_3:  0.0\n",
            "acc_5:  0.0007507507507507507\n",
            "acc_10:  0.006006006006006006\n",
            "===================================\n"
          ]
        },
        {
          "output_type": "stream",
          "name": "stderr",
          "text": [
            "1260it [00:00, 9979.59it/s]\n"
          ]
        },
        {
          "output_type": "stream",
          "name": "stdout",
          "text": [
            "\n",
            " category is :  gram_antonym\n",
            "Sample test : همانطور که نادیده برای دیده است [MASK] برای بود است\n",
            "acc_1:  0.0\n",
            "acc_3:  0.0\n",
            "acc_5:  0.002380952380952381\n",
            "acc_10:  0.010317460317460317\n",
            "===================================\n"
          ]
        },
        {
          "output_type": "stream",
          "name": "stderr",
          "text": [
            "2519it [00:00, 10467.45it/s]\n"
          ]
        },
        {
          "output_type": "stream",
          "name": "stdout",
          "text": [
            "\n",
            " category is :  gram_comparative\n",
            "Sample test : همانطور که سریعتر برای سریع است [MASK] برای بزرگ است\n",
            "acc_1:  0.0011909487892020642\n",
            "acc_3:  0.011909487892020643\n",
            "acc_5:  0.03691941246526399\n",
            "acc_10:  0.10599444223898373\n",
            "===================================\n"
          ]
        },
        {
          "output_type": "stream",
          "name": "stderr",
          "text": [
            "1260it [00:00, 8883.61it/s]\n"
          ]
        },
        {
          "output_type": "stream",
          "name": "stdout",
          "text": [
            "\n",
            " category is :  gram_firstperson\n",
            "Sample test : همانطور که رفتیم برای رفتم است [MASK] برای رقصیدم است\n",
            "acc_1:  0.0\n",
            "acc_3:  0.0\n",
            "acc_5:  0.0\n",
            "acc_10:  0.0\n",
            "===================================\n"
          ]
        },
        {
          "output_type": "stream",
          "name": "stderr",
          "text": [
            "1406it [00:00, 8846.82it/s]\n"
          ]
        },
        {
          "output_type": "stream",
          "name": "stdout",
          "text": [
            "\n",
            " category is :  gram_nationality\n",
            "Sample test : همانطور که ایرانی برای ایران است [MASK] برای آمریکا است\n",
            "acc_1:  0.004267425320056899\n",
            "acc_3:  0.07467994310099574\n",
            "acc_5:  0.15362731152204837\n",
            "acc_10:  0.24395448079658605\n",
            "===================================\n"
          ]
        },
        {
          "output_type": "stream",
          "name": "stderr",
          "text": [
            "1056it [00:00, 9156.75it/s]\n"
          ]
        },
        {
          "output_type": "stream",
          "name": "stdout",
          "text": [
            "\n",
            " category is :  gram_noun2adv\n",
            "Sample test : همانطور که تقریبا برای تقریب است [MASK] برای احتمال است\n",
            "acc_1:  0.0\n",
            "acc_3:  0.0\n",
            "acc_5:  0.0\n",
            "acc_10:  0.002840909090909091\n",
            "===================================\n"
          ]
        },
        {
          "output_type": "stream",
          "name": "stderr",
          "text": [
            "1260it [00:00, 9747.95it/s] \n"
          ]
        },
        {
          "output_type": "stream",
          "name": "stdout",
          "text": [
            "\n",
            " category is :  gram_past\n",
            "Sample test : همانطور که رقصید برای رقصیدن است [MASK] برای بلعیدن است\n",
            "acc_1:  0.0\n",
            "acc_3:  0.0\n",
            "acc_5:  0.0\n",
            "acc_10:  0.002380952380952381\n",
            "===================================\n"
          ]
        },
        {
          "output_type": "stream",
          "name": "stderr",
          "text": [
            "2550it [00:00, 9764.93it/s]\n"
          ]
        },
        {
          "output_type": "stream",
          "name": "stdout",
          "text": [
            "\n",
            " category is :  gram_plural\n",
            "Sample test : همانطور که کتابها برای کتاب است [MASK] برای زبان است\n",
            "acc_1:  0.000392156862745098\n",
            "acc_3:  0.00196078431372549\n",
            "acc_5:  0.01019607843137255\n",
            "acc_10:  0.02862745098039216\n",
            "===================================\n"
          ]
        },
        {
          "output_type": "stream",
          "name": "stderr",
          "text": [
            "1it [00:00, 1837.99it/s]\n"
          ]
        },
        {
          "output_type": "stream",
          "name": "stdout",
          "text": [
            "\n",
            " category is :  gram_presentparticiple\n",
            "Sample test : همانطور که می‌رقصد برای رقصیدن است [MASK] برای بلعیدن است\n",
            "acc_1:  0.0\n",
            "acc_3:  0.0\n",
            "acc_5:  0.0\n",
            "acc_10:  0.0\n",
            "===================================\n"
          ]
        },
        {
          "output_type": "stream",
          "name": "stderr",
          "text": [
            "1it [00:00, 2047.00it/s]\n"
          ]
        },
        {
          "output_type": "stream",
          "name": "stdout",
          "text": [
            "\n",
            " category is :  gram_superlative\n",
            "Sample test : همانطور که سریعترین برای سریع است [MASK] برای بزرگ است\n",
            "acc_1:  0.0\n",
            "acc_3:  0.0\n",
            "acc_5:  0.0\n",
            "acc_10:  0.0\n",
            "===================================\n"
          ]
        },
        {
          "output_type": "stream",
          "name": "stderr",
          "text": [
            "2591it [00:00, 8860.21it/s]\n"
          ]
        },
        {
          "output_type": "stream",
          "name": "stdout",
          "text": [
            "\n",
            " category is :  gram_thirdperson\n",
            "Sample test : همانطور که رفتند برای رفت است [MASK] برای رقصید است\n",
            "acc_1:  0.0\n",
            "acc_3:  0.0\n",
            "acc_5:  0.0\n",
            "acc_10:  0.0\n",
            "===================================\n",
            "file saved to /content/drive/MyDrive/Analogy_NLP_Files/cat_farsi_2.csv\n"
          ]
        }
      ]
    },
    {
      "cell_type": "markdown",
      "source": [
        "## with new method"
      ],
      "metadata": {
        "id": "f93Hb4xMfRvq"
      }
    },
    {
      "cell_type": "code",
      "source": [
        "fasri_result4,fasri_tests1, fasri_tests2, fasri_responses4, total_relation_2, relation_2  = new_prediction_method(df_farsi)"
      ],
      "metadata": {
        "colab": {
          "base_uri": "https://localhost:8080/"
        },
        "id": "voKw2w2WfUyg",
        "outputId": "6ddef77a-6ca1-4bee-d965-f67c492aae1e"
      },
      "execution_count": null,
      "outputs": [
        {
          "output_type": "stream",
          "name": "stdout",
          "text": [
            "30072\n"
          ]
        },
        {
          "output_type": "stream",
          "name": "stderr",
          "text": [
            "30072it [23:45, 21.10it/s]"
          ]
        },
        {
          "output_type": "stream",
          "name": "stdout",
          "text": [
            "\n",
            "acc_1:  0.12922319765895185\n",
            "acc_3:  0.14847698856078745\n",
            "acc_5:  0.15765496142591115\n",
            "acc_10:  0.18452380952380953\n",
            "===================================\n"
          ]
        },
        {
          "output_type": "stream",
          "name": "stderr",
          "text": [
            "\n"
          ]
        }
      ]
    },
    {
      "cell_type": "code",
      "source": [
        "save_result_new(fasri_result4,fasri_tests1, fasri_tests2, fasri_responses4,total_relation_2, relation_2, \"new_method_farsi.csv\")"
      ],
      "metadata": {
        "colab": {
          "base_uri": "https://localhost:8080/"
        },
        "id": "fVWhoP6VfgEB",
        "outputId": "04bc037a-8445-4b45-8317-2c89779ff331"
      },
      "execution_count": null,
      "outputs": [
        {
          "output_type": "stream",
          "name": "stderr",
          "text": [
            "30072it [00:00, 773900.70it/s]\n"
          ]
        },
        {
          "output_type": "stream",
          "name": "stdout",
          "text": [
            "file saved to /content/drive/MyDrive/Analogy_NLP_Files/new_method_farsi.csv\n"
          ]
        }
      ]
    },
    {
      "cell_type": "code",
      "source": [
        "df_farsi_result4 = pd.read_csv(ROOT+\"new_method_farsi.csv\", engine='python',encoding='utf-8', error_bad_lines=False)\n",
        "df_farsi_result4.head()\n",
        "acurracy_category(df_farsi_result4, df_farsi,\"cat_new_method_farsi.csv\")"
      ],
      "metadata": {
        "colab": {
          "base_uri": "https://localhost:8080/"
        },
        "id": "-f_iREgPCN8q",
        "outputId": "6294fa65-310f-47fd-8fb6-e293c8c9c841"
      },
      "execution_count": null,
      "outputs": [
        {
          "output_type": "stream",
          "name": "stderr",
          "text": [
            "/usr/local/lib/python3.7/dist-packages/IPython/core/interactiveshell.py:2882: FutureWarning: The error_bad_lines argument has been deprecated and will be removed in a future version.\n",
            "\n",
            "\n",
            "  exec(code_obj, self.user_global_ns, self.user_ns)\n"
          ]
        },
        {
          "output_type": "stream",
          "name": "stdout",
          "text": [
            "['capital' 'city' 'currency' 'family' 'gram_adj2adv' 'gram_antonym'\n",
            " 'gram_comparative' 'gram_firstperson' 'gram_nationality' 'gram_noun2adv'\n",
            " 'gram_past' 'gram_plural' 'gram_presentparticiple' 'gram_superlative'\n",
            " 'gram_thirdperson']\n"
          ]
        },
        {
          "output_type": "stream",
          "name": "stderr",
          "text": [
            "5402it [00:00, 9943.13it/s] \n"
          ]
        },
        {
          "output_type": "stream",
          "name": "stdout",
          "text": [
            "\n",
            " category is :  capital\n",
            "Sample test1 : پکن [MASK] چین است\n",
            "Sample test2 : پایتخت ژاپن [MASK] است\n",
            "acc_1:  0.6601258793039615\n",
            "acc_3:  0.7217697149203999\n",
            "acc_5:  0.734727878563495\n",
            "acc_10:  0.7719363198815253\n",
            "===================================\n"
          ]
        },
        {
          "output_type": "stream",
          "name": "stderr",
          "text": [
            "7832it [00:00, 10142.62it/s]\n"
          ]
        },
        {
          "output_type": "stream",
          "name": "stdout",
          "text": [
            "\n",
            " category is :  city\n",
            "Sample test1 : البرز [MASK] کرج است\n",
            "Sample test2 : در شیراز [MASK] است\n",
            "acc_1:  0.02553626149131767\n",
            "acc_3:  0.04800817160367722\n",
            "acc_5:  0.060393258426966294\n",
            "acc_10:  0.11823289070480082\n",
            "===================================\n"
          ]
        },
        {
          "output_type": "stream",
          "name": "stderr",
          "text": [
            "1260it [00:00, 10023.54it/s]\n"
          ]
        },
        {
          "output_type": "stream",
          "name": "stdout",
          "text": [
            "\n",
            " category is :  currency\n",
            "Sample test1 : افغانی [MASK] افغانستان است\n",
            "Sample test2 : = تایلند [MASK] است\n",
            "acc_1:  0.012698412698412698\n",
            "acc_3:  0.023015873015873017\n",
            "acc_5:  0.030952380952380953\n",
            "acc_10:  0.03968253968253968\n",
            "===================================\n"
          ]
        },
        {
          "output_type": "stream",
          "name": "stderr",
          "text": [
            "342it [00:00, 9220.62it/s]\n"
          ]
        },
        {
          "output_type": "stream",
          "name": "stdout",
          "text": [
            "\n",
            " category is :  family\n",
            "Sample test1 : خواهر [MASK] برادر است\n",
            "Sample test2 : او برادرها [MASK] است\n",
            "acc_1:  0.0\n",
            "acc_3:  0.0\n",
            "acc_5:  0.005847953216374269\n",
            "acc_10:  0.043859649122807015\n",
            "===================================\n"
          ]
        },
        {
          "output_type": "stream",
          "name": "stderr",
          "text": [
            "1332it [00:00, 10877.48it/s]\n"
          ]
        },
        {
          "output_type": "stream",
          "name": "stdout",
          "text": [
            "\n",
            " category is :  gram_adj2adv\n",
            "Sample test1 : سریعا [MASK] سریع است\n",
            "Sample test2 : خیلی مخصوص [MASK] است\n",
            "acc_1:  0.0\n",
            "acc_3:  0.0\n",
            "acc_5:  0.0\n",
            "acc_10:  0.0\n",
            "===================================\n"
          ]
        },
        {
          "output_type": "stream",
          "name": "stderr",
          "text": [
            "1260it [00:00, 9287.36it/s]\n"
          ]
        },
        {
          "output_type": "stream",
          "name": "stdout",
          "text": [
            "\n",
            " category is :  gram_antonym\n",
            "Sample test1 : نادیده [MASK] دیده است\n",
            "Sample test2 : را بود [MASK] است\n",
            "acc_1:  0.0\n",
            "acc_3:  0.0\n",
            "acc_5:  0.0\n",
            "acc_10:  0.0\n",
            "===================================\n"
          ]
        },
        {
          "output_type": "stream",
          "name": "stderr",
          "text": [
            "2519it [00:00, 10197.36it/s]\n"
          ]
        },
        {
          "output_type": "stream",
          "name": "stdout",
          "text": [
            "\n",
            " category is :  gram_comparative\n",
            "Sample test1 : سریعتر [MASK] سریع است\n",
            "Sample test2 : و بزرگ [MASK] است\n",
            "acc_1:  0.0111155220325526\n",
            "acc_3:  0.01627630011909488\n",
            "acc_5:  0.04327113934100834\n",
            "acc_10:  0.0591504565303692\n",
            "===================================\n"
          ]
        },
        {
          "output_type": "stream",
          "name": "stderr",
          "text": [
            "1260it [00:00, 8484.05it/s]\n"
          ]
        },
        {
          "output_type": "stream",
          "name": "stdout",
          "text": [
            "\n",
            " category is :  gram_firstperson\n",
            "Sample test1 : رفتیم [MASK] رفتم است\n",
            "Sample test2 : و رقصیدم [MASK] است\n",
            "acc_1:  0.0\n",
            "acc_3:  0.0\n",
            "acc_5:  0.0\n",
            "acc_10:  0.0\n",
            "===================================\n"
          ]
        },
        {
          "output_type": "stream",
          "name": "stderr",
          "text": [
            "1406it [00:00, 10566.06it/s]\n"
          ]
        },
        {
          "output_type": "stream",
          "name": "stdout",
          "text": [
            "\n",
            " category is :  gram_nationality\n",
            "Sample test1 : ایرانی [MASK] ایران است\n",
            "Sample test2 : در آمریکا [MASK] است\n",
            "acc_1:  0.05405405405405406\n",
            "acc_3:  0.08534850640113797\n",
            "acc_5:  0.10597439544807966\n",
            "acc_10:  0.16714082503556188\n",
            "===================================\n"
          ]
        },
        {
          "output_type": "stream",
          "name": "stderr",
          "text": [
            "1056it [00:00, 8977.37it/s]\n"
          ]
        },
        {
          "output_type": "stream",
          "name": "stdout",
          "text": [
            "\n",
            " category is :  gram_noun2adv\n",
            "Sample test1 : تقریبا [MASK] تقریب است\n",
            "Sample test2 : یک احتمال [MASK] است\n",
            "acc_1:  0.0\n",
            "acc_3:  0.0\n",
            "acc_5:  0.0\n",
            "acc_10:  0.0\n",
            "===================================\n"
          ]
        },
        {
          "output_type": "stream",
          "name": "stderr",
          "text": [
            "1260it [00:00, 9811.66it/s] \n"
          ]
        },
        {
          "output_type": "stream",
          "name": "stdout",
          "text": [
            "\n",
            " category is :  gram_past\n",
            "Sample test1 : رقصید [MASK] رقصیدن است\n",
            "Sample test2 : ، بلعیدن [MASK] است\n",
            "acc_1:  0.0\n",
            "acc_3:  0.0\n",
            "acc_5:  0.0\n",
            "acc_10:  0.0\n",
            "===================================\n"
          ]
        },
        {
          "output_type": "stream",
          "name": "stderr",
          "text": [
            "2550it [00:00, 10910.83it/s]\n"
          ]
        },
        {
          "output_type": "stream",
          "name": "stdout",
          "text": [
            "\n",
            " category is :  gram_plural\n",
            "Sample test1 : کتابها [MASK] کتاب است\n",
            "Sample test2 : صدها زبان [MASK] است\n",
            "acc_1:  0.0\n",
            "acc_3:  0.0\n",
            "acc_5:  0.0\n",
            "acc_10:  0.001568627450980392\n",
            "===================================\n"
          ]
        },
        {
          "output_type": "stream",
          "name": "stderr",
          "text": [
            "1it [00:00, 1591.77it/s]\n"
          ]
        },
        {
          "output_type": "stream",
          "name": "stdout",
          "text": [
            "\n",
            " category is :  gram_presentparticiple\n",
            "Sample test1 : می‌رقصد [MASK] رقصیدن است\n",
            "Sample test2 : ، بلعیدن [MASK] است\n",
            "acc_1:  0.0\n",
            "acc_3:  0.0\n",
            "acc_5:  0.0\n",
            "acc_10:  0.0\n",
            "===================================\n"
          ]
        },
        {
          "output_type": "stream",
          "name": "stderr",
          "text": [
            "1it [00:00, 1822.03it/s]\n"
          ]
        },
        {
          "output_type": "stream",
          "name": "stdout",
          "text": [
            "\n",
            " category is :  gram_superlative\n",
            "Sample test1 : سریعترین [MASK] سریع است\n",
            "Sample test2 : قطار بزرگ [MASK] است\n",
            "acc_1:  0.0\n",
            "acc_3:  0.0\n",
            "acc_5:  0.0\n",
            "acc_10:  0.0\n",
            "===================================\n"
          ]
        },
        {
          "output_type": "stream",
          "name": "stderr",
          "text": [
            "2591it [00:00, 9315.15it/s] \n"
          ]
        },
        {
          "output_type": "stream",
          "name": "stdout",
          "text": [
            "\n",
            " category is :  gram_thirdperson\n",
            "Sample test1 : رفتند [MASK] رفت است\n",
            "Sample test2 : و رقصید [MASK] است\n",
            "acc_1:  0.0\n",
            "acc_3:  0.0\n",
            "acc_5:  0.0\n",
            "acc_10:  0.0\n",
            "===================================\n",
            "file saved to /content/drive/MyDrive/Analogy_NLP_Files/cat_new_method_farsi.csv\n"
          ]
        }
      ]
    },
    {
      "cell_type": "code",
      "source": [
        "df_farsi_result4 = pd.read_csv(ROOT+\"new_method_farsi.csv\", engine='python',encoding='utf-8', error_bad_lines=False) \n",
        "df_farsi_result4.head() \n",
        "relation_by_cat(df_farsi_result4, df_farsi, \"farsi_cat_rel.csv\")"
      ],
      "metadata": {
        "colab": {
          "base_uri": "https://localhost:8080/"
        },
        "id": "8-rfsrNiCORg",
        "outputId": "273656e1-dd3d-47ba-d7fe-79220ece72f1"
      },
      "execution_count": null,
      "outputs": [
        {
          "output_type": "stream",
          "name": "stderr",
          "text": [
            "/usr/local/lib/python3.7/dist-packages/IPython/core/interactiveshell.py:2882: FutureWarning: The error_bad_lines argument has been deprecated and will be removed in a future version.\n",
            "\n",
            "\n",
            "  exec(code_obj, self.user_global_ns, self.user_ns)\n"
          ]
        },
        {
          "output_type": "stream",
          "name": "stdout",
          "text": [
            "['capital' 'city' 'currency' 'family' 'gram_adj2adv' 'gram_antonym'\n",
            " 'gram_comparative' 'gram_firstperson' 'gram_nationality' 'gram_noun2adv'\n",
            " 'gram_past' 'gram_plural' 'gram_presentparticiple' 'gram_superlative'\n",
            " 'gram_thirdperson']\n"
          ]
        },
        {
          "output_type": "stream",
          "name": "stderr",
          "text": [
            "5402it [00:00, 10387.68it/s]\n",
            "7832it [00:00, 10267.24it/s]\n",
            "1260it [00:00, 10376.46it/s]\n",
            "342it [00:00, 8064.79it/s]\n",
            "1332it [00:00, 10960.77it/s]\n",
            "1260it [00:00, 10680.62it/s]\n",
            "2519it [00:00, 10650.83it/s]\n",
            "1260it [00:00, 9990.31it/s] \n",
            "1406it [00:00, 9599.17it/s] \n",
            "1056it [00:00, 9376.79it/s]\n",
            "1260it [00:00, 10691.21it/s]\n",
            "2550it [00:00, 9956.25it/s] \n",
            "1it [00:00, 1108.72it/s]\n",
            "1it [00:00, 1833.17it/s]\n",
            "2591it [00:00, 9884.98it/s]\n"
          ]
        }
      ]
    },
    {
      "cell_type": "code",
      "source": [
        "sem_farsi = ['capital','city','currency','family']\n",
        "df_farsi_result = pd.read_csv(ROOT+\"cat_new_method_farsi.csv\", engine='python',encoding='utf-8', error_bad_lines=False) \n",
        "semantic_acc(df_farsi_result, df_farsi, sem_farsi)"
      ],
      "metadata": {
        "colab": {
          "base_uri": "https://localhost:8080/"
        },
        "id": "Xf0QbPIIt7rB",
        "outputId": "37a980d7-ab58-47de-a092-e75c0e7a9941"
      },
      "execution_count": 33,
      "outputs": [
        {
          "output_type": "stream",
          "name": "stderr",
          "text": [
            "/usr/local/lib/python3.7/dist-packages/IPython/core/interactiveshell.py:2882: FutureWarning: The error_bad_lines argument has been deprecated and will be removed in a future version.\n",
            "\n",
            "\n",
            "  exec(code_obj, self.user_global_ns, self.user_ns)\n"
          ]
        },
        {
          "output_type": "stream",
          "name": "stdout",
          "text": [
            "semantic results\n",
            "length:  14836\n",
            "acc_1:  0.2549204637368563\n",
            "acc_3:  0.29010514963602047\n",
            "acc_5:  0.3021703963332434\n",
            "acc_10:  0.34787004583445674\n",
            "===================================\n",
            "syntactic results\n",
            "length:  15236\n",
            "acc_1:  0.006825938566552897\n",
            "acc_3:  0.0105670779732213\n",
            "acc_5:  0.016933578367025456\n",
            "acc_10:  0.029404043055920166\n",
            "===================================\n"
          ]
        }
      ]
    },
    {
      "cell_type": "markdown",
      "source": [
        "## analoggy slang"
      ],
      "metadata": {
        "id": "lnwS9fgC_L_l"
      }
    },
    {
      "cell_type": "code",
      "source": [
        "dataset_slang, dataset_slang_response = generate_pattern(df_slang, pattern[0])"
      ],
      "metadata": {
        "id": "OYQYeV2sbYEh",
        "colab": {
          "base_uri": "https://localhost:8080/"
        },
        "outputId": "a106f5cd-45aa-425d-bc9b-d445e237980d"
      },
      "execution_count": null,
      "outputs": [
        {
          "output_type": "stream",
          "name": "stdout",
          "text": [
            "Pattern is : ['به', 'مانند', 'به', '[MASK]', 'است']\n",
            "Sample test : هیشکی به هیچکس مانند باس به [MASK] است \n",
            "Sample test answer is : باید \n"
          ]
        }
      ]
    },
    {
      "cell_type": "code",
      "source": [
        "result_slang = predict_analogy(dataset_slang, dataset_slang_response)"
      ],
      "metadata": {
        "id": "9TOAw235bYEi",
        "colab": {
          "base_uri": "https://localhost:8080/"
        },
        "outputId": "c28e9a1d-ff49-4318-965b-0e78d6168440"
      },
      "execution_count": null,
      "outputs": [
        {
          "output_type": "stream",
          "name": "stdout",
          "text": [
            "2332\n"
          ]
        },
        {
          "output_type": "stream",
          "name": "stderr",
          "text": [
            "100%|██████████| 2332/2332 [00:29<00:00, 80.37it/s]"
          ]
        },
        {
          "output_type": "stream",
          "name": "stdout",
          "text": [
            "\n",
            "acc_1:  0.001286449399656947\n",
            "acc_3:  0.007718696397941681\n",
            "acc_5:  0.012435677530017153\n",
            "acc_10:  0.02358490566037736\n",
            "===================================\n"
          ]
        },
        {
          "output_type": "stream",
          "name": "stderr",
          "text": [
            "\n"
          ]
        }
      ]
    },
    {
      "cell_type": "code",
      "source": [
        "visualize(result_slang,dataset_slang, dataset_slang_response )"
      ],
      "metadata": {
        "colab": {
          "base_uri": "https://localhost:8080/"
        },
        "id": "eKY8FMbkw5l2",
        "outputId": "f498207f-20c9-4409-8a13-523538231f90"
      },
      "execution_count": null,
      "outputs": [
        {
          "output_type": "stream",
          "name": "stdout",
          "text": [
            "1030\n"
          ]
        },
        {
          "output_type": "stream",
          "name": "stderr",
          "text": [
            "5it [00:00, 10496.26it/s]"
          ]
        },
        {
          "output_type": "stream",
          "name": "stdout",
          "text": [
            "The test is : بازم به بازهم مانند خودمون به [MASK] است\n",
            "The answer is : خودمان\n",
            "The predicted result is : \n",
            "['عقب', 'جلو', 'نظر', 'گذشته', 'روز', 'تو', 'راه', 'رو', 'معنی', 'خودمون']\n",
            "\n",
            "\n",
            "The test is : بازم به بازهم مانند خونمون به [MASK] است\n",
            "The answer is : خانه‎مان\n",
            "The predicted result is : \n",
            "['عقب', 'جلو', 'اینده', 'جهنم', 'تو', 'گذشته', 'نظر', 'پایان', 'بالا', 'بیرون']\n",
            "\n",
            "\n",
            "The test is : بازم به بازهم مانند دخترا به [MASK] است\n",
            "The answer is : دخترها\n",
            "The predicted result is : \n",
            "['عقب', 'دنبالش', 'جلو', 'گذشته', 'تو', 'برگشته', 'نظر', 'پایان', 'من', 'اینده']\n",
            "\n",
            "\n",
            "The test is : بازم به بازهم مانند پسرا به [MASK] است\n",
            "The answer is : پسرها\n",
            "The predicted result is : \n",
            "['عقب', 'جلو', 'دنبالش', 'برگشته', 'تو', 'باز', 'گذشته', 'پایان', 'بعد', 'من']\n",
            "\n",
            "\n",
            "The test is : بازم به بازهم مانند زنا به [MASK] است\n",
            "The answer is : زنها\n",
            "The predicted result is : \n",
            "['پایان', 'عقب', 'کار', 'نفس', 'جلو', 'صورت', 'بار', 'اخر', 'سر', 'جهنم']\n",
            "\n",
            "\n"
          ]
        },
        {
          "output_type": "stream",
          "name": "stderr",
          "text": [
            "\n"
          ]
        }
      ]
    },
    {
      "cell_type": "code",
      "source": [
        "save_result(result_slang, dataset_slang, dataset_slang_response, \"slang_1.csv\")"
      ],
      "metadata": {
        "colab": {
          "base_uri": "https://localhost:8080/"
        },
        "id": "gjKTFBvRd0SL",
        "outputId": "e0be8300-ca77-4838-cea7-4db0fa2d2105"
      },
      "execution_count": null,
      "outputs": [
        {
          "output_type": "stream",
          "name": "stderr",
          "text": [
            "2332it [00:00, 941850.45it/s]\n"
          ]
        },
        {
          "output_type": "stream",
          "name": "stdout",
          "text": [
            "file saved to /content/drive/MyDrive/Analogy_NLP_Files/slang_1.csv\n"
          ]
        }
      ]
    },
    {
      "cell_type": "code",
      "source": [
        "df_result = pd.read_csv(ROOT+\"slang_1.csv\", engine='python',encoding='utf-8', error_bad_lines=False)\n",
        "acurracy_category(df_result, df_slang,\"cat_slang_1.csv\")"
      ],
      "metadata": {
        "colab": {
          "base_uri": "https://localhost:8080/"
        },
        "id": "X73TCE4w5oAT",
        "outputId": "4948b85f-ceb8-445b-fa68-cace978e81cc"
      },
      "execution_count": null,
      "outputs": [
        {
          "output_type": "stream",
          "name": "stderr",
          "text": [
            "/usr/local/lib/python3.7/dist-packages/IPython/core/interactiveshell.py:2882: FutureWarning: The error_bad_lines argument has been deprecated and will be removed in a future version.\n",
            "\n",
            "\n",
            "  exec(code_obj, self.user_global_ns, self.user_ns)\n"
          ]
        },
        {
          "output_type": "stream",
          "name": "stdout",
          "text": [
            "['semantic-slang']\n"
          ]
        },
        {
          "output_type": "stream",
          "name": "stderr",
          "text": [
            "2332it [00:00, 4444.07it/s]\n"
          ]
        },
        {
          "output_type": "stream",
          "name": "stdout",
          "text": [
            "\n",
            " category is :  semantic-slang\n",
            "Sample test : هیشکی به هیچکس مانند باس به [MASK] است\n",
            "acc_1:  0.001286449399656947\n",
            "acc_3:  0.007718696397941681\n",
            "acc_5:  0.012435677530017153\n",
            "acc_10:  0.02358490566037736\n",
            "===================================\n",
            "file saved to /content/drive/MyDrive/Analogy_NLP_Files/cat_slang_1.csv\n"
          ]
        }
      ]
    },
    {
      "cell_type": "code",
      "source": [
        "dataset_slang2, dataset_slang_response2 = generate_pattern(df_slang, pattern[4])"
      ],
      "metadata": {
        "id": "6iyiEAK8mam3",
        "colab": {
          "base_uri": "https://localhost:8080/"
        },
        "outputId": "0e675414-da8a-4c40-806a-1d3edafa42bf"
      },
      "execution_count": null,
      "outputs": [
        {
          "output_type": "stream",
          "name": "stdout",
          "text": [
            "Pattern is : ['معادل', 'عامیانه', 'است', 'و', 'معادل', 'عامیانه', '[MASK]', 'است']\n",
            "Sample test : هیشکی معادل عامیانه هیچکس است و باس معادل عامیانه [MASK] است \n",
            "Sample test answer is : باید \n"
          ]
        }
      ]
    },
    {
      "cell_type": "code",
      "source": [
        "result_slang2 = predict_analogy(dataset_slang2, dataset_slang_response2)"
      ],
      "metadata": {
        "id": "YMtElvGBmam4",
        "colab": {
          "base_uri": "https://localhost:8080/"
        },
        "outputId": "44e1a70d-cc39-49a5-8c00-36fdd80592f4"
      },
      "execution_count": null,
      "outputs": [
        {
          "output_type": "stream",
          "name": "stdout",
          "text": [
            "2332\n"
          ]
        },
        {
          "output_type": "stream",
          "name": "stderr",
          "text": [
            "100%|██████████| 2332/2332 [00:29<00:00, 80.17it/s]"
          ]
        },
        {
          "output_type": "stream",
          "name": "stdout",
          "text": [
            "\n",
            "acc_1:  0.003430531732418525\n",
            "acc_3:  0.00686106346483705\n",
            "acc_5:  0.007718696397941681\n",
            "acc_10:  0.017152658662092625\n",
            "===================================\n"
          ]
        },
        {
          "output_type": "stream",
          "name": "stderr",
          "text": [
            "\n"
          ]
        }
      ]
    },
    {
      "cell_type": "code",
      "source": [
        "visualize(result_slang2,dataset_slang2, dataset_slang_response2 )"
      ],
      "metadata": {
        "colab": {
          "base_uri": "https://localhost:8080/"
        },
        "id": "bxiqta8yxDHv",
        "outputId": "1885d225-2dda-4349-bb65-1aa0ab4c79de"
      },
      "execution_count": null,
      "outputs": [
        {
          "output_type": "stream",
          "name": "stdout",
          "text": [
            "255\n"
          ]
        },
        {
          "output_type": "stream",
          "name": "stderr",
          "text": [
            "5it [00:00, 10470.05it/s]"
          ]
        },
        {
          "output_type": "stream",
          "name": "stdout",
          "text": [
            "The test is : بارون معادل عامیانه باران است و نیس معادل عامیانه [MASK] است\n",
            "The answer is : نیست\n",
            "The predicted result is : \n",
            "['برف', 'باران', 'اب', 'باد', 'تگرگ', 'خاک', 'اتش', 'هوا', 'ان', 'بارش']\n",
            "\n",
            "\n",
            "The test is : بارون معادل عامیانه باران است و هندونه معادل عامیانه [MASK] است\n",
            "The answer is : هندوانه\n",
            "The predicted result is : \n",
            "['برف', 'باران', 'اب', 'باد', 'ان', 'تگرگ', 'بارش', 'خاک', 'رطوبت', 'بهار']\n",
            "\n",
            "\n",
            "The test is : بارون معادل عامیانه باران است و شیطون معادل عامیانه [MASK] است\n",
            "The answer is : شیطان\n",
            "The predicted result is : \n",
            "['برف', 'تگرگ', 'باد', 'اب', 'باران', 'نان', 'سبزه', 'گندم', 'خاک', 'برنج']\n",
            "\n",
            "\n",
            "The test is : بارون معادل عامیانه باران است و مطمعن معادل عامیانه [MASK] است\n",
            "The answer is : مطمئن\n",
            "The predicted result is : \n",
            "['برف', 'باران', 'تگرگ', 'باد', 'اب', 'ان', 'خاک', 'بارش', 'گندم', 'هوا']\n",
            "\n",
            "\n",
            "The test is : بارون معادل عامیانه باران است و پولمون معادل عامیانه [MASK] است\n",
            "The answer is : پولمان\n",
            "The predicted result is : \n",
            "['برف', 'باد', 'اب', 'باران', 'تگرگ', 'نان', 'رطوبت', 'شراب', 'بارون', 'بارش']\n",
            "\n",
            "\n"
          ]
        },
        {
          "output_type": "stream",
          "name": "stderr",
          "text": [
            "\n"
          ]
        }
      ]
    },
    {
      "cell_type": "code",
      "source": [
        "save_result(result_slang2,dataset_slang2, dataset_slang_response2, \"slang_2.csv\")"
      ],
      "metadata": {
        "colab": {
          "base_uri": "https://localhost:8080/"
        },
        "id": "BPiUF0YVd8C_",
        "outputId": "d29aa5d6-bf9d-4934-b36d-914b426b1233"
      },
      "execution_count": null,
      "outputs": [
        {
          "output_type": "stream",
          "name": "stderr",
          "text": [
            "2332it [00:00, 965845.46it/s]"
          ]
        },
        {
          "output_type": "stream",
          "name": "stdout",
          "text": [
            "file saved to /content/drive/MyDrive/Analogy_NLP_Files/slang_2.csv\n"
          ]
        },
        {
          "output_type": "stream",
          "name": "stderr",
          "text": [
            "\n"
          ]
        }
      ]
    },
    {
      "cell_type": "code",
      "source": [
        "df_result = pd.read_csv(ROOT+\"slang_2.csv\", engine='python',encoding='utf-8', error_bad_lines=False)\n",
        "acurracy_category(df_result, df_slang,\"cat_slang_2.csv\")"
      ],
      "metadata": {
        "colab": {
          "base_uri": "https://localhost:8080/"
        },
        "id": "5odia4ZU5qic",
        "outputId": "eeee33e3-12b8-4ae6-83e9-0aa89a30ee4f"
      },
      "execution_count": null,
      "outputs": [
        {
          "output_type": "stream",
          "name": "stderr",
          "text": [
            "/usr/local/lib/python3.7/dist-packages/IPython/core/interactiveshell.py:2882: FutureWarning: The error_bad_lines argument has been deprecated and will be removed in a future version.\n",
            "\n",
            "\n",
            "  exec(code_obj, self.user_global_ns, self.user_ns)\n"
          ]
        },
        {
          "output_type": "stream",
          "name": "stdout",
          "text": [
            "['semantic-slang']\n"
          ]
        },
        {
          "output_type": "stream",
          "name": "stderr",
          "text": [
            "2332it [00:00, 10434.84it/s]\n"
          ]
        },
        {
          "output_type": "stream",
          "name": "stdout",
          "text": [
            "\n",
            " category is :  semantic-slang\n",
            "Sample test : هیشکی معادل عامیانه هیچکس است و باس معادل عامیانه [MASK] است\n",
            "acc_1:  0.003430531732418525\n",
            "acc_3:  0.00686106346483705\n",
            "acc_5:  0.007718696397941681\n",
            "acc_10:  0.017152658662092625\n",
            "===================================\n",
            "file saved to /content/drive/MyDrive/Analogy_NLP_Files/cat_slang_2.csv\n"
          ]
        }
      ]
    },
    {
      "cell_type": "code",
      "source": [
        "dataset_slang3, dataset_slang_response3 = generate_pattern(df_slang, pattern[3])"
      ],
      "metadata": {
        "id": "lAN2ZEDqs2b4",
        "colab": {
          "base_uri": "https://localhost:8080/"
        },
        "outputId": "ee6d48a8-496a-4c52-e49b-2b41904b3b1f"
      },
      "execution_count": null,
      "outputs": [
        {
          "output_type": "stream",
          "name": "stdout",
          "text": [
            "Pattern is : ['همانطور', 'که', 'برای', 'است', '[MASK]', 'برای', 'است']\n",
            "Sample test : همانطور که هیچکس برای هیشکی است [MASK] برای باس است \n",
            "Sample test answer is : باید \n"
          ]
        }
      ]
    },
    {
      "cell_type": "code",
      "source": [
        "result_slang3 = predict_analogy(dataset_slang3, dataset_slang_response3)"
      ],
      "metadata": {
        "id": "wSBnNuohs2b6",
        "colab": {
          "base_uri": "https://localhost:8080/"
        },
        "outputId": "e35b660c-9ba2-435e-9da3-e447ee21c323"
      },
      "execution_count": null,
      "outputs": [
        {
          "output_type": "stream",
          "name": "stdout",
          "text": [
            "2332\n"
          ]
        },
        {
          "output_type": "stream",
          "name": "stderr",
          "text": [
            "100%|██████████| 2332/2332 [00:28<00:00, 80.59it/s]"
          ]
        },
        {
          "output_type": "stream",
          "name": "stdout",
          "text": [
            "\n",
            "acc_1:  0.0008576329331046312\n",
            "acc_3:  0.002144082332761578\n",
            "acc_5:  0.004288164665523156\n",
            "acc_10:  0.007289879931389366\n",
            "===================================\n"
          ]
        },
        {
          "output_type": "stream",
          "name": "stderr",
          "text": [
            "\n"
          ]
        }
      ]
    },
    {
      "cell_type": "code",
      "source": [
        "visualize(result_slang3,dataset_slang3, dataset_slang_response3 )"
      ],
      "metadata": {
        "colab": {
          "base_uri": "https://localhost:8080/"
        },
        "id": "GcUFZo5SxNBf",
        "outputId": "692248e8-6256-4e66-f513-c0ba7f91bb0c"
      },
      "execution_count": null,
      "outputs": [
        {
          "output_type": "stream",
          "name": "stdout",
          "text": [
            "2285\n"
          ]
        },
        {
          "output_type": "stream",
          "name": "stderr",
          "text": [
            "5it [00:00, 3347.41it/s]"
          ]
        },
        {
          "output_type": "stream",
          "name": "stdout",
          "text": [
            "The test is : همانطور که تکان برای تکون است [MASK] برای ترسوند است\n",
            "The answer is : ترساند\n",
            "The predicted result is : \n",
            "['و', 'تکان', '،', 'تکون', 'حرکت', 'اما', 'یا', 'نه', 'درد', 'اب']\n",
            "\n",
            "\n",
            "The test is : همانطور که تکان برای تکون است [MASK] برای رسوند است\n",
            "The answer is : رساند\n",
            "The predicted result is : \n",
            "['تکون', 'و', '،', 'تکان', 'حرکت', 'اب', 'هم', 'یا', 'که', 'برش']\n",
            "\n",
            "\n",
            "The test is : همانطور که تکان برای تکون است [MASK] برای ترکوند است\n",
            "The answer is : ترکاند\n",
            "The predicted result is : \n",
            "['تکون', 'و', 'حرکت', 'تکان', '،', 'درد', 'اب', 'یا', 'هم', 'برش']\n",
            "\n",
            "\n",
            "The test is : همانطور که تکان برای تکون است [MASK] برای میشم است\n",
            "The answer is : می‎شوم\n",
            "The predicted result is : \n",
            "['تکون', 'تکان', 'و', '،', 'حرکت', 'اب', 'که', 'اما', 'درد', 'غذا']\n",
            "\n",
            "\n",
            "The test is : همانطور که تکان برای تکون است [MASK] برای دشمنا است\n",
            "The answer is : دشمن‎ها\n",
            "The predicted result is : \n",
            "['تکون', 'و', 'تکان', '،', 'حرکت', 'هم', 'اب', 'درد', 'نه', 'غذا']\n",
            "\n",
            "\n"
          ]
        },
        {
          "output_type": "stream",
          "name": "stderr",
          "text": [
            "\n"
          ]
        }
      ]
    },
    {
      "cell_type": "code",
      "source": [
        "save_result(result_slang3,dataset_slang3, dataset_slang_response3, \"slang_3.csv\")"
      ],
      "metadata": {
        "colab": {
          "base_uri": "https://localhost:8080/"
        },
        "id": "aNjGginQeF0q",
        "outputId": "6b4d8982-17bb-4498-ab8a-aa746a5272f9"
      },
      "execution_count": null,
      "outputs": [
        {
          "output_type": "stream",
          "name": "stderr",
          "text": [
            "2332it [00:00, 1446910.79it/s]"
          ]
        },
        {
          "output_type": "stream",
          "name": "stdout",
          "text": [
            "file saved to /content/drive/MyDrive/Analogy_NLP_Files/slang_3.csv\n"
          ]
        },
        {
          "output_type": "stream",
          "name": "stderr",
          "text": [
            "\n"
          ]
        }
      ]
    },
    {
      "cell_type": "code",
      "source": [
        "df_result = pd.read_csv(ROOT+\"slang_3.csv\", engine='python',encoding='utf-8', error_bad_lines=False)\n",
        "acurracy_category(df_result, df_slang,\"cat_slang_3.csv\")"
      ],
      "metadata": {
        "colab": {
          "base_uri": "https://localhost:8080/"
        },
        "id": "v79mD4vb5tqW",
        "outputId": "db92bf34-4c05-4145-ec24-0719c689213f"
      },
      "execution_count": null,
      "outputs": [
        {
          "output_type": "stream",
          "name": "stderr",
          "text": [
            "/usr/local/lib/python3.7/dist-packages/IPython/core/interactiveshell.py:2882: FutureWarning: The error_bad_lines argument has been deprecated and will be removed in a future version.\n",
            "\n",
            "\n",
            "  exec(code_obj, self.user_global_ns, self.user_ns)\n"
          ]
        },
        {
          "output_type": "stream",
          "name": "stdout",
          "text": [
            "['semantic-slang']\n"
          ]
        },
        {
          "output_type": "stream",
          "name": "stderr",
          "text": [
            "2332it [00:00, 5892.84it/s]\n"
          ]
        },
        {
          "output_type": "stream",
          "name": "stdout",
          "text": [
            "\n",
            " category is :  semantic-slang\n",
            "Sample test : همانطور که هیچکس برای هیشکی است [MASK] برای باس است\n",
            "acc_1:  0.0008576329331046312\n",
            "acc_3:  0.002144082332761578\n",
            "acc_5:  0.004288164665523156\n",
            "acc_10:  0.007289879931389366\n",
            "===================================\n",
            "file saved to /content/drive/MyDrive/Analogy_NLP_Files/cat_slang_3.csv\n"
          ]
        }
      ]
    },
    {
      "cell_type": "markdown",
      "source": [
        "## with new method"
      ],
      "metadata": {
        "id": "F_O5s9bOi0eC"
      }
    },
    {
      "cell_type": "code",
      "source": [
        "result_slang4, slang_tests1, slang_tests2, slang_responses4,total_relation_3, relation_3  = new_prediction_method(df_slang)"
      ],
      "metadata": {
        "colab": {
          "base_uri": "https://localhost:8080/"
        },
        "id": "Ed2rJ1gvi4XN",
        "outputId": "10c318b9-771f-4700-cc08-849497f9a10b"
      },
      "execution_count": null,
      "outputs": [
        {
          "output_type": "stream",
          "name": "stdout",
          "text": [
            "2332\n"
          ]
        },
        {
          "output_type": "stream",
          "name": "stderr",
          "text": [
            "2332it [01:46, 21.97it/s]"
          ]
        },
        {
          "output_type": "stream",
          "name": "stdout",
          "text": [
            "\n",
            "acc_1:  0.0\n",
            "acc_3:  0.0\n",
            "acc_5:  0.0004288164665523156\n",
            "acc_10:  0.0004288164665523156\n",
            "===================================\n"
          ]
        },
        {
          "output_type": "stream",
          "name": "stderr",
          "text": [
            "\n"
          ]
        }
      ]
    },
    {
      "cell_type": "code",
      "source": [
        "save_result_new(result_slang4, slang_tests1, slang_tests2, slang_responses4, total_relation_3, relation_3, \"new_method_slang.csv\")"
      ],
      "metadata": {
        "colab": {
          "base_uri": "https://localhost:8080/"
        },
        "id": "UN3aMs5ui6jx",
        "outputId": "5520515d-b376-40dd-9de9-5875254dfaf7"
      },
      "execution_count": null,
      "outputs": [
        {
          "output_type": "stream",
          "name": "stderr",
          "text": [
            "2332it [00:00, 909025.74it/s]\n"
          ]
        },
        {
          "output_type": "stream",
          "name": "stdout",
          "text": [
            "file saved to /content/drive/MyDrive/Analogy_NLP_Files/new_method_slang.csv\n"
          ]
        }
      ]
    },
    {
      "cell_type": "code",
      "source": [
        "df_slang_result4 = pd.read_csv(ROOT+\"new_method_slang.csv\", engine='python',encoding='utf-8', error_bad_lines=False)\n",
        "df_slang_result4.head()\n",
        "acurracy_category(df_slang_result4, df_slang,\"cat_new_method_slang.csv\")"
      ],
      "metadata": {
        "colab": {
          "base_uri": "https://localhost:8080/"
        },
        "id": "d3aKILwwCYmG",
        "outputId": "1f3e1b3e-d7f1-44ad-afe2-d16e7e15ec9a"
      },
      "execution_count": null,
      "outputs": [
        {
          "output_type": "stream",
          "name": "stderr",
          "text": [
            "/usr/local/lib/python3.7/dist-packages/IPython/core/interactiveshell.py:2882: FutureWarning: The error_bad_lines argument has been deprecated and will be removed in a future version.\n",
            "\n",
            "\n",
            "  exec(code_obj, self.user_global_ns, self.user_ns)\n"
          ]
        },
        {
          "output_type": "stream",
          "name": "stdout",
          "text": [
            "['semantic-slang']\n"
          ]
        },
        {
          "output_type": "stream",
          "name": "stderr",
          "text": [
            "2332it [00:00, 3428.06it/s]\n"
          ]
        },
        {
          "output_type": "stream",
          "name": "stdout",
          "text": [
            "\n",
            " category is :  semantic-slang\n",
            "Sample test1 : هیچکس [MASK] هیشکی است\n",
            "Sample test2 : نمیداند باس [MASK] است\n",
            "acc_1:  0.0\n",
            "acc_3:  0.0\n",
            "acc_5:  0.0004288164665523156\n",
            "acc_10:  0.0004288164665523156\n",
            "===================================\n",
            "file saved to /content/drive/MyDrive/Analogy_NLP_Files/cat_new_method_slang.csv\n"
          ]
        }
      ]
    },
    {
      "cell_type": "code",
      "source": [
        "df_slang_result4 = pd.read_csv(ROOT+\"new_method_slang.csv\", engine='python',encoding='utf-8', error_bad_lines=False) \n",
        "df_slang_result4.head() \n",
        "relation_by_cat(df_slang_result4, df_slang, \"slang_cat_rel.csv\")"
      ],
      "metadata": {
        "colab": {
          "base_uri": "https://localhost:8080/"
        },
        "id": "igVgeMugCdKQ",
        "outputId": "2b72a435-ec15-4277-9c09-b2854f912545"
      },
      "execution_count": null,
      "outputs": [
        {
          "output_type": "stream",
          "name": "stderr",
          "text": [
            "/usr/local/lib/python3.7/dist-packages/IPython/core/interactiveshell.py:2882: FutureWarning: The error_bad_lines argument has been deprecated and will be removed in a future version.\n",
            "\n",
            "\n",
            "  exec(code_obj, self.user_global_ns, self.user_ns)\n"
          ]
        },
        {
          "output_type": "stream",
          "name": "stdout",
          "text": [
            "['semantic-slang']\n"
          ]
        },
        {
          "output_type": "stream",
          "name": "stderr",
          "text": [
            "2332it [00:00, 4424.21it/s]\n"
          ]
        }
      ]
    },
    {
      "cell_type": "markdown",
      "source": [
        "## Bokai analogy"
      ],
      "metadata": {
        "id": "SNVcT642bldf"
      }
    },
    {
      "cell_type": "code",
      "source": [
        "dataset_bokai, dataset_bokai_response = generate_pattern(df_bokai, pattern[0])"
      ],
      "metadata": {
        "id": "rMErsm3RbqR_",
        "colab": {
          "base_uri": "https://localhost:8080/"
        },
        "outputId": "75870296-900a-4cdf-eb61-0b297bda880e"
      },
      "execution_count": null,
      "outputs": [
        {
          "output_type": "stream",
          "name": "stdout",
          "text": [
            "Pattern is : ['به', 'مانند', 'به', '[MASK]', 'است']\n",
            "Sample test : سریع به سریعا مانند مخصوص به [MASK] است \n",
            "Sample test answer is : مخصوصا \n"
          ]
        }
      ]
    },
    {
      "cell_type": "code",
      "source": [
        "result_bokai = predict_analogy(dataset_bokai, dataset_bokai_response)"
      ],
      "metadata": {
        "id": "3C-A0r5qbqSA",
        "colab": {
          "base_uri": "https://localhost:8080/"
        },
        "outputId": "8d0fdad9-36cd-4ac7-cbfc-a0efd3a7e29e"
      },
      "execution_count": null,
      "outputs": [
        {
          "output_type": "stream",
          "name": "stdout",
          "text": [
            "31332\n"
          ]
        },
        {
          "output_type": "stream",
          "name": "stderr",
          "text": [
            "100%|██████████| 31332/31332 [06:31<00:00, 80.06it/s]"
          ]
        },
        {
          "output_type": "stream",
          "name": "stdout",
          "text": [
            "\n",
            "acc_1:  0.05323630792799693\n",
            "acc_3:  0.12380314055917273\n",
            "acc_5:  0.1674645729605515\n",
            "acc_10:  0.23100983020554067\n",
            "===================================\n"
          ]
        },
        {
          "output_type": "stream",
          "name": "stderr",
          "text": [
            "\n"
          ]
        }
      ]
    },
    {
      "cell_type": "code",
      "source": [
        "visualize(result_bokai,dataset_bokai, dataset_bokai_response )"
      ],
      "metadata": {
        "colab": {
          "base_uri": "https://localhost:8080/"
        },
        "id": "CQWj--oHxXFx",
        "outputId": "af16275f-1a53-4e3d-fdae-e00a43d7a7d4"
      },
      "execution_count": null,
      "outputs": [
        {
          "output_type": "stream",
          "name": "stdout",
          "text": [
            "423\n"
          ]
        },
        {
          "output_type": "stream",
          "name": "stderr",
          "text": [
            "5it [00:00, 9668.75it/s]"
          ]
        },
        {
          "output_type": "stream",
          "name": "stdout",
          "text": [
            "The test is : متناظر به متناظرا مانند شجاع به [MASK] است\n",
            "The answer is : شجاعانه\n",
            "The predicted result is : \n",
            "['عقب', 'نظر', 'بالا', 'شجاع', 'قدرت', 'اینده', 'پایین', 'جلو', 'دریا', 'خیر']\n",
            "\n",
            "\n",
            "The test is : متناظر به متناظرا مانند هوشمند به [MASK] است\n",
            "The answer is : هوشمندانه\n",
            "The predicted result is : \n",
            "['هوشمند', 'همراه', 'متصل', 'صورت', 'معنی', 'زیر', 'شکل', 'بالا', 'خودکار', 'پایین']\n",
            "\n",
            "\n",
            "The test is : متناظر به متناظرا مانند فداکار به [MASK] است\n",
            "The answer is : فداکارانه\n",
            "The predicted result is : \n",
            "['خیر', 'خود', 'خدا', 'مرگ', 'ان', 'فرد', 'زمین', 'معنی', 'انسان', 'جان']\n",
            "\n",
            "\n",
            "The test is : متناظر به متناظرا مانند عاقل به [MASK] است\n",
            "The answer is : عاقلانه\n",
            "The predicted result is : \n",
            "['عاقل', 'معقول', 'عالم', 'مجرد', 'بالغ', 'درستکار', 'بعد', 'فرد', 'سفیه', 'حقیقی']\n",
            "\n",
            "\n",
            "The test is : متناظر به متناظرا مانند سیاستمدار به [MASK] است\n",
            "The answer is : سیاستمدارانه\n",
            "The predicted result is : \n",
            "['معنی', 'سیاستمدار', 'چپ', 'قدرت', 'وزیر', 'کابینه', 'دولت', 'راست', 'کشور', 'فرد']\n",
            "\n",
            "\n"
          ]
        },
        {
          "output_type": "stream",
          "name": "stderr",
          "text": [
            "\n"
          ]
        }
      ]
    },
    {
      "cell_type": "code",
      "source": [
        "save_result(result_bokai,dataset_bokai, dataset_bokai_response, \"bokai_1.csv\")"
      ],
      "metadata": {
        "colab": {
          "base_uri": "https://localhost:8080/"
        },
        "id": "ukMNUXuXeRR1",
        "outputId": "8866729c-c8ed-4c14-dc53-6f7ca0f7ddc3"
      },
      "execution_count": null,
      "outputs": [
        {
          "output_type": "stream",
          "name": "stderr",
          "text": [
            "31332it [00:00, 1278452.16it/s]\n"
          ]
        },
        {
          "output_type": "stream",
          "name": "stdout",
          "text": [
            "file saved to /content/drive/MyDrive/Analogy_NLP_Files/bokai_1.csv\n"
          ]
        }
      ]
    },
    {
      "cell_type": "code",
      "source": [
        "df_result = pd.read_csv(ROOT+\"bokai_1.csv\", engine='python',encoding='utf-8', error_bad_lines=False)\n",
        "acurracy_category(df_result, df_bokai,\"cat_bokai_1.csv\")"
      ],
      "metadata": {
        "colab": {
          "base_uri": "https://localhost:8080/"
        },
        "id": "sT6uqYbg6pZa",
        "outputId": "ed10ce99-9b1b-4b3a-9844-344a9a2841a6"
      },
      "execution_count": null,
      "outputs": [
        {
          "output_type": "stream",
          "name": "stderr",
          "text": [
            "/usr/local/lib/python3.7/dist-packages/IPython/core/interactiveshell.py:2882: FutureWarning: The error_bad_lines argument has been deprecated and will be removed in a future version.\n",
            "\n",
            "\n",
            "  exec(code_obj, self.user_global_ns, self.user_ns)\n"
          ]
        },
        {
          "output_type": "stream",
          "name": "stdout",
          "text": [
            "[': 1st' ': 3rd' ': Antonym' ': Comparative' ': Country-Capital'\n",
            " ': Currency' ': Family' ': Infinitive-Past' ': Infinitive-Present'\n",
            " ': Nationality' ': Noun-Adverb' ': Province-Capital' ': Singular-Plural'\n",
            " ': Superlative' 'Adjective-Adverb:']\n"
          ]
        },
        {
          "output_type": "stream",
          "name": "stderr",
          "text": [
            "1260it [00:00, 3801.32it/s]\n"
          ]
        },
        {
          "output_type": "stream",
          "name": "stdout",
          "text": [
            "\n",
            " category is :  : 1st\n",
            "Sample test : رفتم به رفتیم مانند رقصیدم به [MASK] است\n",
            "acc_1:  0.0\n",
            "acc_3:  0.0\n",
            "acc_5:  0.0\n",
            "acc_10:  0.0\n",
            "===================================\n"
          ]
        },
        {
          "output_type": "stream",
          "name": "stderr",
          "text": [
            "1332it [00:00, 10035.61it/s]\n"
          ]
        },
        {
          "output_type": "stream",
          "name": "stdout",
          "text": [
            "\n",
            " category is :  : 3rd\n",
            "Sample test : رفت به رفتند مانند رقصید به [MASK] است\n",
            "acc_1:  0.0\n",
            "acc_3:  0.0\n",
            "acc_5:  0.0007507507507507507\n",
            "acc_10:  0.0007507507507507507\n",
            "===================================\n"
          ]
        },
        {
          "output_type": "stream",
          "name": "stderr",
          "text": [
            "1260it [00:00, 9506.17it/s]\n"
          ]
        },
        {
          "output_type": "stream",
          "name": "stdout",
          "text": [
            "\n",
            " category is :  : Antonym\n",
            "Sample test : دیده به نادیده مانند بود به [MASK] است\n",
            "acc_1:  0.0015873015873015873\n",
            "acc_3:  0.012698412698412698\n",
            "acc_5:  0.030952380952380953\n",
            "acc_10:  0.07301587301587302\n",
            "===================================\n"
          ]
        },
        {
          "output_type": "stream",
          "name": "stderr",
          "text": [
            "2520it [00:00, 9251.70it/s]\n"
          ]
        },
        {
          "output_type": "stream",
          "name": "stdout",
          "text": [
            "\n",
            " category is :  : Comparative\n",
            "Sample test : سریع به سریعتر مانند بزرگ به [MASK] است\n",
            "acc_1:  0.00873015873015873\n",
            "acc_3:  0.027777777777777776\n",
            "acc_5:  0.05476190476190476\n",
            "acc_10:  0.1261904761904762\n",
            "===================================\n"
          ]
        },
        {
          "output_type": "stream",
          "name": "stderr",
          "text": [
            "5402it [00:00, 10076.01it/s]\n"
          ]
        },
        {
          "output_type": "stream",
          "name": "stdout",
          "text": [
            "\n",
            " category is :  : Country-Capital\n",
            "Sample test : چین به پکن مانند ژاپن به [MASK] است\n",
            "acc_1:  0.010181414291003332\n",
            "acc_3:  0.06293965198074787\n",
            "acc_5:  0.1036653091447612\n",
            "acc_10:  0.17604590892262126\n",
            "===================================\n"
          ]
        },
        {
          "output_type": "stream",
          "name": "stderr",
          "text": [
            "1260it [00:00, 9622.94it/s]\n"
          ]
        },
        {
          "output_type": "stream",
          "name": "stdout",
          "text": [
            "\n",
            " category is :  : Currency\n",
            "Sample test : افغانستان به افغانی مانند تایلند به [MASK] است\n",
            "acc_1:  0.003968253968253968\n",
            "acc_3:  0.027777777777777776\n",
            "acc_5:  0.050793650793650794\n",
            "acc_10:  0.08174603174603175\n",
            "===================================\n"
          ]
        },
        {
          "output_type": "stream",
          "name": "stderr",
          "text": [
            "342it [00:00, 6357.74it/s]\n"
          ]
        },
        {
          "output_type": "stream",
          "name": "stdout",
          "text": [
            "\n",
            " category is :  : Family\n",
            "Sample test : برادر به خواهر مانند برادرها به [MASK] است\n",
            "acc_1:  0.09941520467836257\n",
            "acc_3:  0.19005847953216373\n",
            "acc_5:  0.23391812865497075\n",
            "acc_10:  0.3128654970760234\n",
            "===================================\n"
          ]
        },
        {
          "output_type": "stream",
          "name": "stderr",
          "text": [
            "1260it [00:00, 8866.48it/s]\n"
          ]
        },
        {
          "output_type": "stream",
          "name": "stdout",
          "text": [
            "\n",
            " category is :  : Infinitive-Past\n",
            "Sample test : رقصیدن به رقصید مانند بلعیدن به [MASK] است\n",
            "acc_1:  0.0\n",
            "acc_3:  0.0\n",
            "acc_5:  0.0015873015873015873\n",
            "acc_10:  0.006349206349206349\n",
            "===================================\n"
          ]
        },
        {
          "output_type": "stream",
          "name": "stderr",
          "text": [
            "1260it [00:00, 9257.08it/s]\n"
          ]
        },
        {
          "output_type": "stream",
          "name": "stdout",
          "text": [
            "\n",
            " category is :  : Infinitive-Present\n",
            "Sample test : رقصیدن به می‌رقصد مانند بلعیدن به [MASK] است\n",
            "acc_1:  0.0\n",
            "acc_3:  0.0\n",
            "acc_5:  0.0\n",
            "acc_10:  0.0\n",
            "===================================\n"
          ]
        },
        {
          "output_type": "stream",
          "name": "stderr",
          "text": [
            "1406it [00:00, 9316.11it/s]\n"
          ]
        },
        {
          "output_type": "stream",
          "name": "stdout",
          "text": [
            "\n",
            " category is :  : Nationality\n",
            "Sample test : ایران به ایرانی مانند آمریکا به [MASK] است\n",
            "acc_1:  0.025604551920341393\n",
            "acc_3:  0.08534850640113797\n",
            "acc_5:  0.14438122332859174\n",
            "acc_10:  0.23968705547652916\n",
            "===================================\n"
          ]
        },
        {
          "output_type": "stream",
          "name": "stderr",
          "text": [
            "1056it [00:00, 9719.01it/s]\n"
          ]
        },
        {
          "output_type": "stream",
          "name": "stdout",
          "text": [
            "\n",
            " category is :  : Noun-Adverb\n",
            "Sample test : تقریب به تقریبا مانند احتمال به [MASK] است\n",
            "acc_1:  0.0\n",
            "acc_3:  0.0\n",
            "acc_5:  0.0\n",
            "acc_10:  0.0\n",
            "===================================\n"
          ]
        },
        {
          "output_type": "stream",
          "name": "stderr",
          "text": [
            "7832it [00:00, 9856.01it/s]\n"
          ]
        },
        {
          "output_type": "stream",
          "name": "stdout",
          "text": [
            "\n",
            " category is :  : Province-Capital\n",
            "Sample test : کرج به البرز مانند شیراز به [MASK] است\n",
            "acc_1:  0.19330949948927478\n",
            "acc_3:  0.40743105209397346\n",
            "acc_5:  0.5188968335035751\n",
            "acc_10:  0.6482379979570991\n",
            "===================================\n"
          ]
        },
        {
          "output_type": "stream",
          "name": "stderr",
          "text": [
            "2550it [00:00, 10535.29it/s]\n"
          ]
        },
        {
          "output_type": "stream",
          "name": "stdout",
          "text": [
            "\n",
            " category is :  : Singular-Plural\n",
            "Sample test : کتاب به کتابها مانند زبان به [MASK] است\n",
            "acc_1:  0.0\n",
            "acc_3:  0.013333333333333334\n",
            "acc_5:  0.03019607843137255\n",
            "acc_10:  0.07450980392156863\n",
            "===================================\n"
          ]
        },
        {
          "output_type": "stream",
          "name": "stderr",
          "text": [
            "1260it [00:00, 9842.76it/s]\n"
          ]
        },
        {
          "output_type": "stream",
          "name": "stdout",
          "text": [
            "\n",
            " category is :  : Superlative\n",
            "Sample test : سریع به سریعترین مانند بزرگ به [MASK] است\n",
            "acc_1:  0.0\n",
            "acc_3:  0.006349206349206349\n",
            "acc_5:  0.01507936507936508\n",
            "acc_10:  0.04206349206349207\n",
            "===================================\n"
          ]
        },
        {
          "output_type": "stream",
          "name": "stderr",
          "text": [
            "1332it [00:00, 9857.02it/s] \n"
          ]
        },
        {
          "output_type": "stream",
          "name": "stdout",
          "text": [
            "\n",
            " category is :  Adjective-Adverb:\n",
            "Sample test : سریع به سریعا مانند مخصوص به [MASK] است\n",
            "acc_1:  0.0\n",
            "acc_3:  0.0\n",
            "acc_5:  0.0\n",
            "acc_10:  0.0007507507507507507\n",
            "===================================\n",
            "file saved to /content/drive/MyDrive/Analogy_NLP_Files/cat_bokai_1.csv\n"
          ]
        }
      ]
    },
    {
      "cell_type": "code",
      "source": [
        "dataset_bokai2, dataset_bokai_response2 = generate_pattern(df_bokai, pattern[3])"
      ],
      "metadata": {
        "id": "la6JZP4ztCaO",
        "colab": {
          "base_uri": "https://localhost:8080/"
        },
        "outputId": "b7de9df5-2f25-47ea-801a-9c92b67bcb58"
      },
      "execution_count": null,
      "outputs": [
        {
          "output_type": "stream",
          "name": "stdout",
          "text": [
            "Pattern is : ['همانطور', 'که', 'برای', 'است', '[MASK]', 'برای', 'است']\n",
            "Sample test : همانطور که سریعا برای سریع است [MASK] برای مخصوص است \n",
            "Sample test answer is : مخصوصا \n"
          ]
        }
      ]
    },
    {
      "cell_type": "code",
      "source": [
        "result_bokai2 = predict_analogy(dataset_bokai2, dataset_bokai_response2)"
      ],
      "metadata": {
        "id": "01G4o38RtCaP",
        "colab": {
          "base_uri": "https://localhost:8080/"
        },
        "outputId": "f858624c-18d8-4dcb-fb46-b56034c1fc60"
      },
      "execution_count": null,
      "outputs": [
        {
          "output_type": "stream",
          "name": "stdout",
          "text": [
            "31332\n"
          ]
        },
        {
          "output_type": "stream",
          "name": "stderr",
          "text": [
            "100%|██████████| 31332/31332 [06:33<00:00, 79.71it/s]"
          ]
        },
        {
          "output_type": "stream",
          "name": "stdout",
          "text": [
            "\n",
            "acc_1:  0.046948806332184345\n",
            "acc_3:  0.12456913060130219\n",
            "acc_5:  0.19692327333078002\n",
            "acc_10:  0.2817566704966169\n",
            "===================================\n"
          ]
        },
        {
          "output_type": "stream",
          "name": "stderr",
          "text": [
            "\n"
          ]
        }
      ]
    },
    {
      "cell_type": "code",
      "source": [
        "visualize(result_bokai2,dataset_bokai2, dataset_bokai_response2 )"
      ],
      "metadata": {
        "colab": {
          "base_uri": "https://localhost:8080/"
        },
        "id": "73C70JCVxh-T",
        "outputId": "45586fd3-2c9e-48c5-d6ea-4c657ec19b35"
      },
      "execution_count": null,
      "outputs": [
        {
          "output_type": "stream",
          "name": "stdout",
          "text": [
            "6515\n"
          ]
        },
        {
          "output_type": "stream",
          "name": "stderr",
          "text": [
            "5it [00:00, 1666.26it/s]"
          ]
        },
        {
          "output_type": "stream",
          "name": "stdout",
          "text": [
            "The test is : همانطور که طرابلس برای لیبی است [MASK] برای صربستان است\n",
            "The answer is : بلگراد\n",
            "The predicted result is : \n",
            "['طرابلس', '،', 'و', 'رم', 'کوزوو', 'حلب', 'بلگراد', 'دمشق', 'استانبول', 'برلین']\n",
            "\n",
            "\n",
            "The test is : همانطور که طرابلس برای لیبی است [MASK] برای بلغارستان است\n",
            "The answer is : صوفیه\n",
            "The predicted result is : \n",
            "['طرابلس', '،', 'و', 'حلب', 'رم', 'استانبول', 'دمشق', 'کوزوو', 'بیروت', 'ونیز']\n",
            "\n",
            "\n",
            "The test is : همانطور که طرابلس برای لیبی است [MASK] برای بلژیک است\n",
            "The answer is : بروکسل\n",
            "The predicted result is : \n",
            "['طرابلس', '،', 'و', 'تونس', 'پاریس', 'دمشق', 'حلب', 'استانبول', 'الجزیره', 'ژنو']\n",
            "\n",
            "\n",
            "The test is : همانطور که طرابلس برای لیبی است [MASK] برای ارمنستان است\n",
            "The answer is : ایروان\n",
            "The predicted result is : \n",
            "['،', 'طرابلس', 'و', 'دمشق', 'حلب', 'ایروان', 'بیروت', 'رم', 'سوریه', 'استانبول']\n",
            "\n",
            "\n",
            "The test is : همانطور که طرابلس برای لیبی است [MASK] برای پاکستان است\n",
            "The answer is : اسلام‌آباد\n",
            "The predicted result is : \n",
            "['،', 'و', 'طرابلس', 'قدس', 'لاهور', 'حلب', 'الجزیره', 'دمشق', 'بیروت', 'کراچی']\n",
            "\n",
            "\n"
          ]
        },
        {
          "output_type": "stream",
          "name": "stderr",
          "text": [
            "\n"
          ]
        }
      ]
    },
    {
      "cell_type": "code",
      "source": [
        "save_result(result_bokai2,dataset_bokai2, dataset_bokai_response2, \"bokai_2.csv\")"
      ],
      "metadata": {
        "colab": {
          "base_uri": "https://localhost:8080/"
        },
        "id": "4J8uLZ_zeYeH",
        "outputId": "c2b9905e-2cf1-485f-add3-5ed93d4fa2cd"
      },
      "execution_count": null,
      "outputs": [
        {
          "output_type": "stream",
          "name": "stderr",
          "text": [
            "31332it [00:00, 1289276.30it/s]\n"
          ]
        },
        {
          "output_type": "stream",
          "name": "stdout",
          "text": [
            "file saved to /content/drive/MyDrive/Analogy_NLP_Files/bokai_2.csv\n"
          ]
        }
      ]
    },
    {
      "cell_type": "code",
      "source": [
        "df_result = pd.read_csv(ROOT+\"bokai_2.csv\", engine='python',encoding='utf-8', error_bad_lines=False)\n",
        "acurracy_category(df_result, df_bokai,\"cat_bokai_2.csv\")"
      ],
      "metadata": {
        "colab": {
          "base_uri": "https://localhost:8080/"
        },
        "id": "vQvMJXLP6w-C",
        "outputId": "f4357234-744e-4981-d145-e47adc3f3f0f"
      },
      "execution_count": null,
      "outputs": [
        {
          "output_type": "stream",
          "name": "stderr",
          "text": [
            "/usr/local/lib/python3.7/dist-packages/IPython/core/interactiveshell.py:2882: FutureWarning: The error_bad_lines argument has been deprecated and will be removed in a future version.\n",
            "\n",
            "\n",
            "  exec(code_obj, self.user_global_ns, self.user_ns)\n"
          ]
        },
        {
          "output_type": "stream",
          "name": "stdout",
          "text": [
            "[': 1st' ': 3rd' ': Antonym' ': Comparative' ': Country-Capital'\n",
            " ': Currency' ': Family' ': Infinitive-Past' ': Infinitive-Present'\n",
            " ': Nationality' ': Noun-Adverb' ': Province-Capital' ': Singular-Plural'\n",
            " ': Superlative' 'Adjective-Adverb:']\n"
          ]
        },
        {
          "output_type": "stream",
          "name": "stderr",
          "text": [
            "1260it [00:00, 4756.53it/s]\n"
          ]
        },
        {
          "output_type": "stream",
          "name": "stdout",
          "text": [
            "\n",
            " category is :  : 1st\n",
            "Sample test : همانطور که رفتیم برای رفتم است [MASK] برای رقصیدم است\n",
            "acc_1:  0.0\n",
            "acc_3:  0.0\n",
            "acc_5:  0.0\n",
            "acc_10:  0.0\n",
            "===================================\n"
          ]
        },
        {
          "output_type": "stream",
          "name": "stderr",
          "text": [
            "1332it [00:00, 4670.63it/s]\n"
          ]
        },
        {
          "output_type": "stream",
          "name": "stdout",
          "text": [
            "\n",
            " category is :  : 3rd\n",
            "Sample test : همانطور که رفتند برای رفت است [MASK] برای رقصید است\n",
            "acc_1:  0.0\n",
            "acc_3:  0.0\n",
            "acc_5:  0.0\n",
            "acc_10:  0.0\n",
            "===================================\n"
          ]
        },
        {
          "output_type": "stream",
          "name": "stderr",
          "text": [
            "1260it [00:00, 4365.89it/s]\n"
          ]
        },
        {
          "output_type": "stream",
          "name": "stdout",
          "text": [
            "\n",
            " category is :  : Antonym\n",
            "Sample test : همانطور که نادیده برای دیده است [MASK] برای بود است\n",
            "acc_1:  0.0\n",
            "acc_3:  0.0\n",
            "acc_5:  0.002380952380952381\n",
            "acc_10:  0.010317460317460317\n",
            "===================================\n"
          ]
        },
        {
          "output_type": "stream",
          "name": "stderr",
          "text": [
            "2520it [00:00, 4707.74it/s]\n"
          ]
        },
        {
          "output_type": "stream",
          "name": "stdout",
          "text": [
            "\n",
            " category is :  : Comparative\n",
            "Sample test : همانطور که سریعتر برای سریع است [MASK] برای بزرگ است\n",
            "acc_1:  0.0\n",
            "acc_3:  0.010317460317460317\n",
            "acc_5:  0.034126984126984124\n",
            "acc_10:  0.10873015873015873\n",
            "===================================\n"
          ]
        },
        {
          "output_type": "stream",
          "name": "stderr",
          "text": [
            "5402it [00:00, 9902.82it/s]\n"
          ]
        },
        {
          "output_type": "stream",
          "name": "stdout",
          "text": [
            "\n",
            " category is :  : Country-Capital\n",
            "Sample test : همانطور که پکن برای چین است [MASK] برای ژاپن است\n",
            "acc_1:  0.057201036653091446\n",
            "acc_3:  0.1691965938541281\n",
            "acc_5:  0.3122917437985931\n",
            "acc_10:  0.4378008145131433\n",
            "===================================\n"
          ]
        },
        {
          "output_type": "stream",
          "name": "stderr",
          "text": [
            "1260it [00:00, 9762.18it/s] \n"
          ]
        },
        {
          "output_type": "stream",
          "name": "stdout",
          "text": [
            "\n",
            " category is :  : Currency\n",
            "Sample test : همانطور که افغانی برای افغانستان است [MASK] برای تایلند است\n",
            "acc_1:  0.0007936507936507937\n",
            "acc_3:  0.007936507936507936\n",
            "acc_5:  0.03650793650793651\n",
            "acc_10:  0.07857142857142857\n",
            "===================================\n"
          ]
        },
        {
          "output_type": "stream",
          "name": "stderr",
          "text": [
            "342it [00:00, 8110.98it/s]\n"
          ]
        },
        {
          "output_type": "stream",
          "name": "stdout",
          "text": [
            "\n",
            " category is :  : Family\n",
            "Sample test : همانطور که خواهر برای برادر است [MASK] برای برادرها است\n",
            "acc_1:  0.0\n",
            "acc_3:  0.02046783625730994\n",
            "acc_5:  0.043859649122807015\n",
            "acc_10:  0.15789473684210525\n",
            "===================================\n"
          ]
        },
        {
          "output_type": "stream",
          "name": "stderr",
          "text": [
            "1260it [00:00, 9382.83it/s]\n"
          ]
        },
        {
          "output_type": "stream",
          "name": "stdout",
          "text": [
            "\n",
            " category is :  : Infinitive-Past\n",
            "Sample test : همانطور که رقصید برای رقصیدن است [MASK] برای بلعیدن است\n",
            "acc_1:  0.0\n",
            "acc_3:  0.0\n",
            "acc_5:  0.0\n",
            "acc_10:  0.002380952380952381\n",
            "===================================\n"
          ]
        },
        {
          "output_type": "stream",
          "name": "stderr",
          "text": [
            "1260it [00:00, 9313.22it/s]\n"
          ]
        },
        {
          "output_type": "stream",
          "name": "stdout",
          "text": [
            "\n",
            " category is :  : Infinitive-Present\n",
            "Sample test : همانطور که می‌رقصد برای رقصیدن است [MASK] برای بلعیدن است\n",
            "acc_1:  0.0\n",
            "acc_3:  0.0\n",
            "acc_5:  0.0\n",
            "acc_10:  0.0\n",
            "===================================\n"
          ]
        },
        {
          "output_type": "stream",
          "name": "stderr",
          "text": [
            "1406it [00:00, 8586.48it/s] \n"
          ]
        },
        {
          "output_type": "stream",
          "name": "stdout",
          "text": [
            "\n",
            " category is :  : Nationality\n",
            "Sample test : همانطور که ایرانی برای ایران است [MASK] برای آمریکا است\n",
            "acc_1:  0.004267425320056899\n",
            "acc_3:  0.07467994310099574\n",
            "acc_5:  0.15362731152204837\n",
            "acc_10:  0.24395448079658605\n",
            "===================================\n"
          ]
        },
        {
          "output_type": "stream",
          "name": "stderr",
          "text": [
            "1056it [00:00, 9935.83it/s] \n"
          ]
        },
        {
          "output_type": "stream",
          "name": "stdout",
          "text": [
            "\n",
            " category is :  : Noun-Adverb\n",
            "Sample test : همانطور که تقریبا برای تقریب است [MASK] برای احتمال است\n",
            "acc_1:  0.0\n",
            "acc_3:  0.0\n",
            "acc_5:  0.0\n",
            "acc_10:  0.002840909090909091\n",
            "===================================\n"
          ]
        },
        {
          "output_type": "stream",
          "name": "stderr",
          "text": [
            "7832it [00:00, 10058.48it/s]\n"
          ]
        },
        {
          "output_type": "stream",
          "name": "stdout",
          "text": [
            "\n",
            " category is :  : Province-Capital\n",
            "Sample test : همانطور که البرز برای کرج است [MASK] برای شیراز است\n",
            "acc_1:  0.1469611848825332\n",
            "acc_3:  0.35993360572012256\n",
            "acc_5:  0.515832482124617\n",
            "acc_10:  0.6975229826353422\n",
            "===================================\n"
          ]
        },
        {
          "output_type": "stream",
          "name": "stderr",
          "text": [
            "2550it [00:00, 9368.09it/s]\n"
          ]
        },
        {
          "output_type": "stream",
          "name": "stdout",
          "text": [
            "\n",
            " category is :  : Singular-Plural\n",
            "Sample test : همانطور که کتابها برای کتاب است [MASK] برای زبان است\n",
            "acc_1:  0.000392156862745098\n",
            "acc_3:  0.00196078431372549\n",
            "acc_5:  0.01019607843137255\n",
            "acc_10:  0.02862745098039216\n",
            "===================================\n"
          ]
        },
        {
          "output_type": "stream",
          "name": "stderr",
          "text": [
            "1260it [00:00, 9458.62it/s]\n"
          ]
        },
        {
          "output_type": "stream",
          "name": "stdout",
          "text": [
            "\n",
            " category is :  : Superlative\n",
            "Sample test : همانطور که سریعترین برای سریع است [MASK] برای بزرگ است\n",
            "acc_1:  0.002380952380952381\n",
            "acc_3:  0.013492063492063493\n",
            "acc_5:  0.03968253968253968\n",
            "acc_10:  0.10317460317460317\n",
            "===================================\n"
          ]
        },
        {
          "output_type": "stream",
          "name": "stderr",
          "text": [
            "1332it [00:00, 9698.57it/s]\n"
          ]
        },
        {
          "output_type": "stream",
          "name": "stdout",
          "text": [
            "\n",
            " category is :  Adjective-Adverb:\n",
            "Sample test : همانطور که سریعا برای سریع است [MASK] برای مخصوص است\n",
            "acc_1:  0.0\n",
            "acc_3:  0.0\n",
            "acc_5:  0.0007507507507507507\n",
            "acc_10:  0.006006006006006006\n",
            "===================================\n",
            "file saved to /content/drive/MyDrive/Analogy_NLP_Files/cat_bokai_2.csv\n"
          ]
        }
      ]
    },
    {
      "cell_type": "markdown",
      "source": [
        "## with new mwthod"
      ],
      "metadata": {
        "id": "FjCNVV1ajJyM"
      }
    },
    {
      "cell_type": "code",
      "source": [
        "analogy_bokai3,bokai_tests1, bokai_tests2, bokai_responses4,total_relation_4, relation_4  = new_prediction_method(df_bokai)"
      ],
      "metadata": {
        "colab": {
          "base_uri": "https://localhost:8080/"
        },
        "id": "OylVm78KjMRA",
        "outputId": "7c33de85-a9cc-418c-df6a-d9ac120c9d3e"
      },
      "execution_count": null,
      "outputs": [
        {
          "output_type": "stream",
          "name": "stdout",
          "text": [
            "31332\n"
          ]
        },
        {
          "output_type": "stream",
          "name": "stderr",
          "text": [
            "31332it [24:50, 21.02it/s]"
          ]
        },
        {
          "output_type": "stream",
          "name": "stdout",
          "text": [
            "\n",
            "acc_1:  0.12492020937061152\n",
            "acc_3:  0.14381463040980466\n",
            "acc_5:  0.15479382101366015\n",
            "acc_10:  0.18185880250223413\n",
            "===================================\n"
          ]
        },
        {
          "output_type": "stream",
          "name": "stderr",
          "text": [
            "\n"
          ]
        }
      ]
    },
    {
      "cell_type": "code",
      "source": [
        "save_result_new(analogy_bokai3,bokai_tests1, bokai_tests2, bokai_responses4,total_relation_4, relation_4, \"new_method_bokai.csv\")"
      ],
      "metadata": {
        "colab": {
          "base_uri": "https://localhost:8080/"
        },
        "id": "4IWtOlr-jOx4",
        "outputId": "7b5fff7a-ab20-44a4-a798-df21f0f20f2a"
      },
      "execution_count": null,
      "outputs": [
        {
          "output_type": "stream",
          "name": "stderr",
          "text": [
            "31332it [00:00, 853339.13it/s]\n"
          ]
        },
        {
          "output_type": "stream",
          "name": "stdout",
          "text": [
            "file saved to /content/drive/MyDrive/Analogy_NLP_Files/new_method_bokai.csv\n"
          ]
        }
      ]
    },
    {
      "cell_type": "code",
      "source": [
        "df_bokai_result3 = pd.read_csv(ROOT+\"new_method_bokai.csv\", engine='python',encoding='utf-8', error_bad_lines=False)\n",
        "df_bokai_result3.head()\n",
        "acurracy_category(df_bokai_result3, df_bokai,\"cat_new_method_bokai.csv\")"
      ],
      "metadata": {
        "colab": {
          "base_uri": "https://localhost:8080/"
        },
        "id": "9N0G_FSJCp9I",
        "outputId": "54767954-0ddf-489e-c604-3d68a156b976"
      },
      "execution_count": null,
      "outputs": [
        {
          "output_type": "stream",
          "name": "stderr",
          "text": [
            "/usr/local/lib/python3.7/dist-packages/IPython/core/interactiveshell.py:2882: FutureWarning: The error_bad_lines argument has been deprecated and will be removed in a future version.\n",
            "\n",
            "\n",
            "  exec(code_obj, self.user_global_ns, self.user_ns)\n"
          ]
        },
        {
          "output_type": "stream",
          "name": "stdout",
          "text": [
            "[': 1st' ': 3rd' ': Antonym' ': Comparative' ': Country-Capital'\n",
            " ': Currency' ': Family' ': Infinitive-Past' ': Infinitive-Present'\n",
            " ': Nationality' ': Noun-Adverb' ': Province-Capital' ': Singular-Plural'\n",
            " ': Superlative' 'Adjective-Adverb:']\n"
          ]
        },
        {
          "output_type": "stream",
          "name": "stderr",
          "text": [
            "1260it [00:00, 11205.47it/s]\n"
          ]
        },
        {
          "output_type": "stream",
          "name": "stdout",
          "text": [
            "\n",
            " category is :  : 1st\n",
            "Sample test1 : رفتیم [MASK] رفتم است\n",
            "Sample test2 : و رقصیدم [MASK] است\n",
            "acc_1:  0.0\n",
            "acc_3:  0.0\n",
            "acc_5:  0.0\n",
            "acc_10:  0.0\n",
            "===================================\n"
          ]
        },
        {
          "output_type": "stream",
          "name": "stderr",
          "text": [
            "1332it [00:00, 11144.69it/s]\n"
          ]
        },
        {
          "output_type": "stream",
          "name": "stdout",
          "text": [
            "\n",
            " category is :  : 3rd\n",
            "Sample test1 : رفتند [MASK] رفت است\n",
            "Sample test2 : و رقصید [MASK] است\n",
            "acc_1:  0.0\n",
            "acc_3:  0.0\n",
            "acc_5:  0.0\n",
            "acc_10:  0.0\n",
            "===================================\n"
          ]
        },
        {
          "output_type": "stream",
          "name": "stderr",
          "text": [
            "1260it [00:00, 10880.05it/s]\n"
          ]
        },
        {
          "output_type": "stream",
          "name": "stdout",
          "text": [
            "\n",
            " category is :  : Antonym\n",
            "Sample test1 : نادیده [MASK] دیده است\n",
            "Sample test2 : را بود [MASK] است\n",
            "acc_1:  0.0\n",
            "acc_3:  0.0\n",
            "acc_5:  0.0\n",
            "acc_10:  0.0\n",
            "===================================\n"
          ]
        },
        {
          "output_type": "stream",
          "name": "stderr",
          "text": [
            "2520it [00:00, 10744.57it/s]\n"
          ]
        },
        {
          "output_type": "stream",
          "name": "stdout",
          "text": [
            "\n",
            " category is :  : Comparative\n",
            "Sample test1 : سریعتر [MASK] سریع است\n",
            "Sample test2 : و بزرگ [MASK] است\n",
            "acc_1:  0.022222222222222223\n",
            "acc_3:  0.03253968253968254\n",
            "acc_5:  0.0865079365079365\n",
            "acc_10:  0.11825396825396825\n",
            "===================================\n"
          ]
        },
        {
          "output_type": "stream",
          "name": "stderr",
          "text": [
            "5402it [00:00, 10270.85it/s]\n"
          ]
        },
        {
          "output_type": "stream",
          "name": "stdout",
          "text": [
            "\n",
            " category is :  : Country-Capital\n",
            "Sample test1 : پکن [MASK] چین است\n",
            "Sample test2 : پایتخت ژاپن [MASK] است\n",
            "acc_1:  0.6601258793039615\n",
            "acc_3:  0.7217697149203999\n",
            "acc_5:  0.734727878563495\n",
            "acc_10:  0.7719363198815253\n",
            "===================================\n"
          ]
        },
        {
          "output_type": "stream",
          "name": "stderr",
          "text": [
            "1260it [00:00, 9216.19it/s]\n"
          ]
        },
        {
          "output_type": "stream",
          "name": "stdout",
          "text": [
            "\n",
            " category is :  : Currency\n",
            "Sample test1 : افغانی [MASK] افغانستان است\n",
            "Sample test2 : = تایلند [MASK] است\n",
            "acc_1:  0.012698412698412698\n",
            "acc_3:  0.023015873015873017\n",
            "acc_5:  0.030952380952380953\n",
            "acc_10:  0.03968253968253968\n",
            "===================================\n"
          ]
        },
        {
          "output_type": "stream",
          "name": "stderr",
          "text": [
            "342it [00:00, 7054.97it/s]\n"
          ]
        },
        {
          "output_type": "stream",
          "name": "stdout",
          "text": [
            "\n",
            " category is :  : Family\n",
            "Sample test1 : خواهر [MASK] برادر است\n",
            "Sample test2 : او برادرها [MASK] است\n",
            "acc_1:  0.0\n",
            "acc_3:  0.0\n",
            "acc_5:  0.005847953216374269\n",
            "acc_10:  0.043859649122807015\n",
            "===================================\n"
          ]
        },
        {
          "output_type": "stream",
          "name": "stderr",
          "text": [
            "1260it [00:00, 9436.11it/s]\n"
          ]
        },
        {
          "output_type": "stream",
          "name": "stdout",
          "text": [
            "\n",
            " category is :  : Infinitive-Past\n",
            "Sample test1 : رقصید [MASK] رقصیدن است\n",
            "Sample test2 : ، بلعیدن [MASK] است\n",
            "acc_1:  0.0\n",
            "acc_3:  0.0\n",
            "acc_5:  0.0\n",
            "acc_10:  0.0\n",
            "===================================\n"
          ]
        },
        {
          "output_type": "stream",
          "name": "stderr",
          "text": [
            "1260it [00:00, 9629.96it/s]\n"
          ]
        },
        {
          "output_type": "stream",
          "name": "stdout",
          "text": [
            "\n",
            " category is :  : Infinitive-Present\n",
            "Sample test1 : می‌رقصد [MASK] رقصیدن است\n",
            "Sample test2 : ، بلعیدن [MASK] است\n",
            "acc_1:  0.0\n",
            "acc_3:  0.0\n",
            "acc_5:  0.0\n",
            "acc_10:  0.0\n",
            "===================================\n"
          ]
        },
        {
          "output_type": "stream",
          "name": "stderr",
          "text": [
            "1406it [00:00, 8621.86it/s]\n"
          ]
        },
        {
          "output_type": "stream",
          "name": "stdout",
          "text": [
            "\n",
            " category is :  : Nationality\n",
            "Sample test1 : ایرانی [MASK] ایران است\n",
            "Sample test2 : در آمریکا [MASK] است\n",
            "acc_1:  0.05405405405405406\n",
            "acc_3:  0.08534850640113797\n",
            "acc_5:  0.10597439544807966\n",
            "acc_10:  0.16714082503556188\n",
            "===================================\n"
          ]
        },
        {
          "output_type": "stream",
          "name": "stderr",
          "text": [
            "1056it [00:00, 9163.04it/s]\n"
          ]
        },
        {
          "output_type": "stream",
          "name": "stdout",
          "text": [
            "\n",
            " category is :  : Noun-Adverb\n",
            "Sample test1 : تقریبا [MASK] تقریب است\n",
            "Sample test2 : یک احتمال [MASK] است\n",
            "acc_1:  0.0\n",
            "acc_3:  0.0\n",
            "acc_5:  0.0\n",
            "acc_10:  0.0\n",
            "===================================\n"
          ]
        },
        {
          "output_type": "stream",
          "name": "stderr",
          "text": [
            "7832it [00:00, 10187.58it/s]\n"
          ]
        },
        {
          "output_type": "stream",
          "name": "stdout",
          "text": [
            "\n",
            " category is :  : Province-Capital\n",
            "Sample test1 : البرز [MASK] کرج است\n",
            "Sample test2 : در شیراز [MASK] است\n",
            "acc_1:  0.02553626149131767\n",
            "acc_3:  0.04800817160367722\n",
            "acc_5:  0.060393258426966294\n",
            "acc_10:  0.11823289070480082\n",
            "===================================\n"
          ]
        },
        {
          "output_type": "stream",
          "name": "stderr",
          "text": [
            "2550it [00:00, 9048.99it/s]\n"
          ]
        },
        {
          "output_type": "stream",
          "name": "stdout",
          "text": [
            "\n",
            " category is :  : Singular-Plural\n",
            "Sample test1 : کتابها [MASK] کتاب است\n",
            "Sample test2 : صدها زبان [MASK] است\n",
            "acc_1:  0.0\n",
            "acc_3:  0.0\n",
            "acc_5:  0.0\n",
            "acc_10:  0.001568627450980392\n",
            "===================================\n"
          ]
        },
        {
          "output_type": "stream",
          "name": "stderr",
          "text": [
            "1260it [00:00, 9645.91it/s] \n"
          ]
        },
        {
          "output_type": "stream",
          "name": "stdout",
          "text": [
            "\n",
            " category is :  : Superlative\n",
            "Sample test1 : سریعترین [MASK] سریع است\n",
            "Sample test2 : قطار بزرگ [MASK] است\n",
            "acc_1:  0.0\n",
            "acc_3:  0.0\n",
            "acc_5:  0.0\n",
            "acc_10:  0.0\n",
            "===================================\n"
          ]
        },
        {
          "output_type": "stream",
          "name": "stderr",
          "text": [
            "1332it [00:00, 10238.35it/s]"
          ]
        },
        {
          "output_type": "stream",
          "name": "stdout",
          "text": [
            "\n",
            " category is :  Adjective-Adverb:\n",
            "Sample test1 : سریعا [MASK] سریع است\n",
            "Sample test2 : خیلی مخصوص [MASK] است\n",
            "acc_1:  0.0\n",
            "acc_3:  0.0\n",
            "acc_5:  0.0\n",
            "acc_10:  0.0\n",
            "===================================\n",
            "file saved to /content/drive/MyDrive/Analogy_NLP_Files/cat_new_method_bokai.csv\n"
          ]
        },
        {
          "output_type": "stream",
          "name": "stderr",
          "text": [
            "\n"
          ]
        }
      ]
    },
    {
      "cell_type": "code",
      "source": [
        "sem = [': Country-Capital',': Currency' ,': Family']\n",
        "df_bokai_result = pd.read_csv(ROOT+\"cat_new_method_bokai.csv\", engine='python',encoding='utf-8', error_bad_lines=False) \n",
        "semantic_acc(df_bokai_result, df_bokai, sem)"
      ],
      "metadata": {
        "colab": {
          "base_uri": "https://localhost:8080/"
        },
        "id": "A1BUNtCzyI9Y",
        "outputId": "b3dbc134-a90f-4dcd-f3cd-c7570de593e4"
      },
      "execution_count": 37,
      "outputs": [
        {
          "output_type": "stream",
          "name": "stderr",
          "text": [
            "/usr/local/lib/python3.7/dist-packages/IPython/core/interactiveshell.py:2882: FutureWarning: The error_bad_lines argument has been deprecated and will be removed in a future version.\n",
            "\n",
            "\n",
            "  exec(code_obj, self.user_global_ns, self.user_ns)\n"
          ]
        },
        {
          "output_type": "stream",
          "name": "stdout",
          "text": [
            "semantic results\n",
            "length:  7004\n",
            "acc_1:  0.5114220445459737\n",
            "acc_3:  0.5608223872073101\n",
            "acc_5:  0.5725299828669331\n",
            "acc_10:  0.6046544831524843\n",
            "===================================\n",
            "syntactic results\n",
            "length:  24328\n",
            "acc_1:  0.01364682670174282\n",
            "acc_3:  0.023758632028937837\n",
            "acc_5:  0.03452811575139753\n",
            "acc_10:  0.09688424860243336\n",
            "===================================\n"
          ]
        }
      ]
    },
    {
      "cell_type": "code",
      "source": [
        ""
      ],
      "metadata": {
        "id": "nrTE35--E6ks"
      },
      "execution_count": null,
      "outputs": []
    },
    {
      "cell_type": "code",
      "source": [
        "df_bokai_result4 = pd.read_csv(ROOT+\"new_method_bokai.csv\", engine='python',encoding='utf-8', error_bad_lines=False) \n",
        "df_bokai_result4.head() \n",
        "relation_by_cat(df_bokai_result4, df_bokai, \"bokai_cat_rel.csv\")"
      ],
      "metadata": {
        "colab": {
          "base_uri": "https://localhost:8080/"
        },
        "id": "CZJOE7V1CvBF",
        "outputId": "9d88183e-efec-44b1-faf4-7d56f3a58b16"
      },
      "execution_count": null,
      "outputs": [
        {
          "output_type": "stream",
          "name": "stderr",
          "text": [
            "/usr/local/lib/python3.7/dist-packages/IPython/core/interactiveshell.py:2882: FutureWarning: The error_bad_lines argument has been deprecated and will be removed in a future version.\n",
            "\n",
            "\n",
            "  exec(code_obj, self.user_global_ns, self.user_ns)\n"
          ]
        },
        {
          "output_type": "stream",
          "name": "stdout",
          "text": [
            "[': 1st' ': 3rd' ': Antonym' ': Comparative' ': Country-Capital'\n",
            " ': Currency' ': Family' ': Infinitive-Past' ': Infinitive-Present'\n",
            " ': Nationality' ': Noun-Adverb' ': Province-Capital' ': Singular-Plural'\n",
            " ': Superlative' 'Adjective-Adverb:']\n"
          ]
        },
        {
          "output_type": "stream",
          "name": "stderr",
          "text": [
            "1260it [00:00, 4744.94it/s]\n",
            "1332it [00:00, 10154.39it/s]\n",
            "1260it [00:00, 11405.95it/s]\n",
            "2520it [00:00, 10784.13it/s]\n",
            "5402it [00:00, 10145.03it/s]\n",
            "1260it [00:00, 9515.33it/s] \n",
            "342it [00:00, 9626.10it/s]\n",
            "1260it [00:00, 10046.12it/s]\n",
            "1260it [00:00, 10710.25it/s]\n",
            "1406it [00:00, 10689.17it/s]\n",
            "1056it [00:00, 10367.63it/s]\n",
            "7832it [00:00, 10515.52it/s]\n",
            "2550it [00:00, 10340.98it/s]\n",
            "1260it [00:00, 10255.66it/s]\n",
            "1332it [00:00, 9807.12it/s]\n"
          ]
        }
      ]
    },
    {
      "cell_type": "markdown",
      "source": [
        "## SAT analogy"
      ],
      "metadata": {
        "id": "9PWBmAABcu9E"
      }
    },
    {
      "cell_type": "code",
      "source": [
        "dataset_sat, dataset_sat_response = generate_pattern(df_sat_test, pattern[0])"
      ],
      "metadata": {
        "id": "7kcfA8GQcxMc",
        "colab": {
          "base_uri": "https://localhost:8080/"
        },
        "outputId": "a3591f10-cdda-4d71-d6fd-55fec7494ddf"
      },
      "execution_count": null,
      "outputs": [
        {
          "output_type": "stream",
          "name": "stdout",
          "text": [
            "Pattern is : ['به', 'مانند', 'به', '[MASK]', 'است']\n",
            "Sample test : فقیر به بیپولی مانند ملتهب به [MASK] است \n",
            "Sample test answer is : دعوا \n"
          ]
        }
      ]
    },
    {
      "cell_type": "code",
      "source": [
        "result_sat = predict_analogy(dataset_sat, dataset_sat_response)"
      ],
      "metadata": {
        "id": "nT4HWaLBc4y9",
        "colab": {
          "base_uri": "https://localhost:8080/"
        },
        "outputId": "3593b8c7-2ffe-421c-db0e-229772c42ed7"
      },
      "execution_count": null,
      "outputs": [
        {
          "output_type": "stream",
          "name": "stdout",
          "text": [
            "1116\n"
          ]
        },
        {
          "output_type": "stream",
          "name": "stderr",
          "text": [
            "100%|██████████| 1116/1116 [00:13<00:00, 80.62it/s]"
          ]
        },
        {
          "output_type": "stream",
          "name": "stdout",
          "text": [
            "\n",
            "acc_1:  0.04659498207885305\n",
            "acc_3:  0.12275985663082438\n",
            "acc_5:  0.16577060931899643\n",
            "acc_10:  0.2222222222222222\n",
            "===================================\n"
          ]
        },
        {
          "output_type": "stream",
          "name": "stderr",
          "text": [
            "\n"
          ]
        }
      ]
    },
    {
      "cell_type": "code",
      "source": [
        "visualize(result_sat,dataset_sat, dataset_sat_response)"
      ],
      "metadata": {
        "colab": {
          "base_uri": "https://localhost:8080/"
        },
        "id": "sbswuL_DtrVo",
        "outputId": "c86b83fd-c23d-4e04-9e51-03883ea7b426"
      },
      "execution_count": null,
      "outputs": [
        {
          "output_type": "stream",
          "name": "stdout",
          "text": [
            "490\n"
          ]
        },
        {
          "output_type": "stream",
          "name": "stderr",
          "text": [
            "5it [00:00, 7592.87it/s]"
          ]
        },
        {
          "output_type": "stream",
          "name": "stdout",
          "text": [
            "The test is : کوه به اورست مانند کشور به [MASK] است\n",
            "The answer is : ایران\n",
            "The predicted result is : \n",
            "['اورست', 'کوه', 'زمین', 'قله', 'دور', 'هند', 'بالا', 'ارتفاع', 'نپال', 'نام']\n",
            "\n",
            "\n",
            "The test is : کوه به اورست مانند رودخانه به [MASK] است\n",
            "The answer is : اروند\n",
            "The predicted result is : \n",
            "['کوه', 'پایین', 'دریا', 'دره', 'اورست', 'رودخانه', 'بالا', 'زمین', 'اب', 'قله']\n",
            "\n",
            "\n",
            "The test is : کوه به اورست مانند استان به [MASK] است\n",
            "The answer is : خوزستان\n",
            "The predicted result is : \n",
            "['اورست', 'کوه', 'چین', 'تبت', 'کوهستان', 'قله', 'زمین', 'ان', 'هند', 'ماه']\n",
            "\n",
            "\n",
            "The test is : کوه به اورست مانند شهر به [MASK] است\n",
            "The answer is : تهران\n",
            "The predicted result is : \n",
            "['کوه', 'اورست', 'قله', 'شهر', 'دریا', 'کوهستان', 'بالا', 'پایین', 'صخره', 'جا']\n",
            "\n",
            "\n",
            "The test is : کوه به اورست مانند دانشگاه به [MASK] است\n",
            "The answer is : شریف\n",
            "The predicted result is : \n",
            "['اورست', 'کوه', 'بالا', 'دور', 'زمین', 'پایین', 'قله', 'دانشگاه', 'ماه', 'کوهستان']\n",
            "\n",
            "\n"
          ]
        },
        {
          "output_type": "stream",
          "name": "stderr",
          "text": [
            "\n"
          ]
        }
      ]
    },
    {
      "cell_type": "code",
      "source": [
        "save_result(result_sat,dataset_sat, dataset_sat_response, \"sat_1.csv\")"
      ],
      "metadata": {
        "colab": {
          "base_uri": "https://localhost:8080/"
        },
        "id": "t89_mUm9ei24",
        "outputId": "34144975-6438-4a2c-ffde-c13ad6962fe7"
      },
      "execution_count": null,
      "outputs": [
        {
          "output_type": "stream",
          "name": "stderr",
          "text": [
            "1116it [00:00, 441588.99it/s]"
          ]
        },
        {
          "output_type": "stream",
          "name": "stdout",
          "text": [
            "file saved to /content/drive/MyDrive/Analogy_NLP_Files/sat_1.csv\n"
          ]
        },
        {
          "output_type": "stream",
          "name": "stderr",
          "text": [
            "\n"
          ]
        }
      ]
    },
    {
      "cell_type": "code",
      "source": [
        "df_result = pd.read_csv(ROOT+\"sat_1.csv\", engine='python',encoding='utf-8', error_bad_lines=False)\n",
        "acurracy_category(df_result, df_sat_test,\"cat_sat_1.csv\")"
      ],
      "metadata": {
        "colab": {
          "base_uri": "https://localhost:8080/"
        },
        "id": "W87w9Xe5606A",
        "outputId": "5f8f889a-e162-4d82-baed-2d15313aed0a"
      },
      "execution_count": null,
      "outputs": [
        {
          "output_type": "stream",
          "name": "stderr",
          "text": [
            "/usr/local/lib/python3.7/dist-packages/IPython/core/interactiveshell.py:2882: FutureWarning: The error_bad_lines argument has been deprecated and will be removed in a future version.\n",
            "\n",
            "\n",
            "  exec(code_obj, self.user_global_ns, self.user_ns)\n"
          ]
        },
        {
          "output_type": "stream",
          "name": "stdout",
          "text": [
            "['Attribute  Agent Attribute:State (adjective:noun)  contentious:quarrels '\n",
            " 'Attribute  Agent/Object Attribute:Typical Action (adjective:verb)  mutable:change '\n",
            " 'Attribute  Item:Attribute (noun:adjective)  soldier:wounded '\n",
            " 'Attribute  Object Attribute:Condition (adjective:adjective)  brittle:broken '\n",
            " 'Attribute  Object:Typical Action (noun:verb)  glass:break '\n",
            " 'CASE RELATIONS  Action:Object  tie:knot '\n",
            " 'CASE RELATIONS  Action:Recipient  teach:student '\n",
            " 'CASE RELATIONS  Agent:Object - Associated Objectplumber:pipe'\n",
            " 'CASE RELATIONS  Agent:Object - Product tailor:suit '\n",
            " 'CASE RELATIONS  Agent:Object - Raw Materialbaker:flour'\n",
            " 'CASE RELATIONS  Agent:Recipient  doctor:patient '\n",
            " 'CASE RELATIONS  Object:Instrument  violin:bow '\n",
            " 'CASE RELATIONS  Object:Recipient  speech:audience '\n",
            " 'CAUSE-PURPOSE  Cause:Compensatory Action  hunger:eat '\n",
            " 'CAUSE-PURPOSE  Cause:Effect  joke:laughter '\n",
            " 'CAUSE-PURPOSE  Instrument:Intended Action  gun:shoot '\n",
            " 'CAUSE-PURPOSE Action/Activity:Goal' 'CAUSE-PURPOSE Agent:Goal'\n",
            " 'CAUSE-PURPOSE Enabling Agent:Object' 'CAUSE-PURPOSE Instrument:Goal'\n",
            " 'CAUSE-PURPOSE Prevention'\n",
            " 'Class Inclusion  Class Individual  mountain:Everest '\n",
            " 'Class Inclusion  Functional  weapon:knife '\n",
            " 'Class Inclusion  Singular Collective  clothing:shirt '\n",
            " 'Class Inclusion  Taxonomic  emotion:rage '\n",
            " 'Contrast  Contradictory  masculinity:femininity '\n",
            " 'Contrast  Contrary  thin:fat ' 'Contrast  Defective  fallacy:logic '\n",
            " 'Contrast  Directional  front:back ' 'Contrast  Reverse  buy:sell '\n",
            " 'NONATTRIBUTE  Attribute:Nonstate (adjective:noun)  immortal:death '\n",
            " 'NONATTRIBUTE  Item:Nonattribute (noun:adjective)  harmony:discordant '\n",
            " 'NONATTRIBUTE  Object Attribute:Noncondition (adjective:adjective)  exemplary:criticized '\n",
            " 'NONATTRIBUTE  Object:Atypical Action (noun:verb)  recluse:socialize '\n",
            " 'NONATTRIBUTE  Object:Nonstate (noun:noun)  famine:plenitude '\n",
            " 'Part- Whole  Activity:Stage  shopping:buying '\n",
            " 'Part- Whole  Collection:Member  forest:tree '\n",
            " 'Part- Whole  Creature:Possession  robin:nest '\n",
            " 'Part- Whole  Event:Feature  wedding:bride '\n",
            " 'Part- Whole  Item:Distinctive Nonpart  horse:wings '\n",
            " 'Part- Whole  Item:Ex-part/Ex-possession  apostate:belief '\n",
            " 'Part- Whole  Item:Topological Part  mountain:foot '\n",
            " 'Part- Whole  Mass:Portion  water:drop '\n",
            " 'Part- Whole  Object:Component  car:engine '\n",
            " 'Part- Whole  Object:Stuff  salt:sodium '\n",
            " 'REFERENCE  Concealment  code:meaning '\n",
            " 'REFERENCE  Expression  smile:friendliness '\n",
            " 'REFERENCE  Knowledge  psychology:mind '\n",
            " 'REFERENCE  Plan  agenda:meeting '\n",
            " 'REFERENCE  Sign:Significant  siren:danger '\n",
            " 'REFERENCE Representationperson:portrait'\n",
            " 'Similar  Attribute Similarity  painting:movie '\n",
            " 'Similar  Conversion  apprentice:master '\n",
            " 'Similar  Coordinates  son:daughter '\n",
            " 'Similar  Dimensional Excessive  concerned:obsessed '\n",
            " 'Similar  Dimensional Naughty –  copy:plagiarize '\n",
            " 'Similar  Synonymity  buy:purchase ' 'Similar Changecrescendo:sound'\n",
            " 'Space-Time  Attachment  belt:waist '\n",
            " 'Space-Time  Item:Location  arsenal:weapon '\n",
            " 'Space-Time  Location:Action/Activity  school:learn '\n",
            " 'Space-Time  Location:Process/Product  bakery:bread '\n",
            " 'Space-Time Contiguitycoast:ocean' 'Space-Time Sequencecoda:symphony'\n",
            " 'Space-Time Time: Action/Activitysummer:harvest'\n",
            " 'Space-Time Time:Associated Itemretirement:pension']\n"
          ]
        },
        {
          "output_type": "stream",
          "name": "stderr",
          "text": [
            "6it [00:00, 2556.20it/s]\n"
          ]
        },
        {
          "output_type": "stream",
          "name": "stdout",
          "text": [
            "\n",
            " category is :  Attribute  Agent Attribute:State (adjective:noun)  contentious:quarrels \n",
            "Sample test : فقیر به بیپولی مانند ملتهب به [MASK] است\n",
            "acc_1:  0.0\n",
            "acc_3:  0.0\n",
            "acc_5:  0.0\n",
            "acc_10:  0.0\n",
            "===================================\n"
          ]
        },
        {
          "output_type": "stream",
          "name": "stderr",
          "text": [
            "6it [00:00, 3460.65it/s]\n"
          ]
        },
        {
          "output_type": "stream",
          "name": "stdout",
          "text": [
            "\n",
            " category is :  Attribute  Agent/Object Attribute:Typical Action (adjective:verb)  mutable:change \n",
            "Sample test : متغیر به تغییر مانند متوهم به [MASK] است\n",
            "acc_1:  0.0\n",
            "acc_3:  0.0\n",
            "acc_5:  0.0\n",
            "acc_10:  0.0\n",
            "===================================\n"
          ]
        },
        {
          "output_type": "stream",
          "name": "stderr",
          "text": [
            "28it [00:00, 1763.93it/s]\n"
          ]
        },
        {
          "output_type": "stream",
          "name": "stdout",
          "text": [
            "\n",
            " category is :  Attribute  Item:Attribute (noun:adjective)  soldier:wounded \n",
            "Sample test : گدا به بی پول مانند شیشه به [MASK] است\n",
            "acc_1:  0.0\n",
            "acc_3:  0.0\n",
            "acc_5:  0.0\n",
            "acc_10:  0.0\n",
            "===================================\n"
          ]
        },
        {
          "output_type": "stream",
          "name": "stderr",
          "text": [
            "6it [00:00, 2423.75it/s]\n"
          ]
        },
        {
          "output_type": "stream",
          "name": "stdout",
          "text": [
            "\n",
            " category is :  Attribute  Object Attribute:Condition (adjective:adjective)  brittle:broken \n",
            "Sample test : شکستنی به شکسته مانند منعطف به [MASK] است\n",
            "acc_1:  0.0\n",
            "acc_3:  0.0\n",
            "acc_5:  0.0\n",
            "acc_10:  0.0\n",
            "===================================\n"
          ]
        },
        {
          "output_type": "stream",
          "name": "stderr",
          "text": [
            "55it [00:00, 1990.45it/s]\n"
          ]
        },
        {
          "output_type": "stream",
          "name": "stdout",
          "text": [
            "\n",
            " category is :  Attribute  Object:Typical Action (noun:verb)  glass:break \n",
            "Sample test : شیشه به شکستن مانند سرباز به [MASK] است\n",
            "acc_1:  0.05454545454545454\n",
            "acc_3:  0.14545454545454545\n",
            "acc_5:  0.18181818181818182\n",
            "acc_10:  0.2727272727272727\n",
            "===================================\n"
          ]
        },
        {
          "output_type": "stream",
          "name": "stderr",
          "text": [
            "45it [00:00, 2141.43it/s]\n"
          ]
        },
        {
          "output_type": "stream",
          "name": "stdout",
          "text": [
            "\n",
            " category is :  CASE RELATIONS  Action:Object  tie:knot \n",
            "Sample test : گره به طناب مانند شخم به [MASK] است\n",
            "acc_1:  0.044444444444444446\n",
            "acc_3:  0.28888888888888886\n",
            "acc_5:  0.4\n",
            "acc_10:  0.5333333333333333\n",
            "===================================\n"
          ]
        },
        {
          "output_type": "stream",
          "name": "stderr",
          "text": [
            "10it [00:00, 3473.54it/s]\n"
          ]
        },
        {
          "output_type": "stream",
          "name": "stdout",
          "text": [
            "\n",
            " category is :  CASE RELATIONS  Action:Recipient  teach:student \n",
            "Sample test : دستگیری به مجرم مانند آموزش به [MASK] است\n",
            "acc_1:  0.3\n",
            "acc_3:  0.4\n",
            "acc_5:  0.4\n",
            "acc_10:  0.4\n",
            "===================================\n"
          ]
        },
        {
          "output_type": "stream",
          "name": "stderr",
          "text": [
            "66it [00:00, 1764.96it/s]\n"
          ]
        },
        {
          "output_type": "stream",
          "name": "stdout",
          "text": [
            "\n",
            " category is :  CASE RELATIONS  Agent:Object - Associated Objectplumber:pipe\n",
            "Sample test : معلم به گچ مانند لولهکش به [MASK] است\n",
            "acc_1:  0.0\n",
            "acc_3:  0.0\n",
            "acc_5:  0.015151515151515152\n",
            "acc_10:  0.13636363636363635\n",
            "===================================\n"
          ]
        },
        {
          "output_type": "stream",
          "name": "stderr",
          "text": [
            "78it [00:00, 2488.71it/s]\n"
          ]
        },
        {
          "output_type": "stream",
          "name": "stdout",
          "text": [
            "\n",
            " category is :  CASE RELATIONS  Agent:Object - Product tailor:suit \n",
            "Sample test : خیاط به لباس مانند قاضی به [MASK] است\n",
            "acc_1:  0.0641025641025641\n",
            "acc_3:  0.1794871794871795\n",
            "acc_5:  0.28205128205128205\n",
            "acc_10:  0.358974358974359\n",
            "===================================\n"
          ]
        },
        {
          "output_type": "stream",
          "name": "stderr",
          "text": [
            "28it [00:00, 1988.70it/s]\n"
          ]
        },
        {
          "output_type": "stream",
          "name": "stdout",
          "text": [
            "\n",
            " category is :  CASE RELATIONS  Agent:Object - Raw Materialbaker:flour\n",
            "Sample test : نانوا به آرد مانند خیاط به [MASK] است\n",
            "acc_1:  0.0\n",
            "acc_3:  0.10714285714285714\n",
            "acc_5:  0.21428571428571427\n",
            "acc_10:  0.35714285714285715\n",
            "===================================\n"
          ]
        },
        {
          "output_type": "stream",
          "name": "stderr",
          "text": [
            "21it [00:00, 2190.24it/s]\n"
          ]
        },
        {
          "output_type": "stream",
          "name": "stdout",
          "text": [
            "\n",
            " category is :  CASE RELATIONS  Agent:Recipient  doctor:patient \n",
            "Sample test : دکتر به مریض مانند معلم به [MASK] است\n",
            "acc_1:  0.09523809523809523\n",
            "acc_3:  0.23809523809523808\n",
            "acc_5:  0.23809523809523808\n",
            "acc_10:  0.3333333333333333\n",
            "===================================\n"
          ]
        },
        {
          "output_type": "stream",
          "name": "stderr",
          "text": [
            "15it [00:00, 1880.12it/s]\n"
          ]
        },
        {
          "output_type": "stream",
          "name": "stdout",
          "text": [
            "\n",
            " category is :  CASE RELATIONS  Object:Instrument  violin:bow \n",
            "Sample test : تار به زخمه مانند سیم به [MASK] است\n",
            "acc_1:  0.0\n",
            "acc_3:  0.0\n",
            "acc_5:  0.06666666666666667\n",
            "acc_10:  0.13333333333333333\n",
            "===================================\n"
          ]
        },
        {
          "output_type": "stream",
          "name": "stderr",
          "text": [
            "6it [00:00, 3350.53it/s]\n"
          ]
        },
        {
          "output_type": "stream",
          "name": "stdout",
          "text": [
            "\n",
            " category is :  CASE RELATIONS  Object:Recipient  speech:audience \n",
            "Sample test : ارث به ورثه مانند سخنرانی به [MASK] است\n",
            "acc_1:  0.0\n",
            "acc_3:  0.0\n",
            "acc_5:  0.0\n",
            "acc_10:  0.0\n",
            "===================================\n"
          ]
        },
        {
          "output_type": "stream",
          "name": "stderr",
          "text": [
            "10it [00:00, 3612.04it/s]\n"
          ]
        },
        {
          "output_type": "stream",
          "name": "stdout",
          "text": [
            "\n",
            " category is :  CAUSE-PURPOSE  Cause:Compensatory Action  hunger:eat \n",
            "Sample test : گرسنگی به خوردن مانند تشنگی به [MASK] است\n",
            "acc_1:  0.0\n",
            "acc_3:  0.1\n",
            "acc_5:  0.2\n",
            "acc_10:  0.2\n",
            "===================================\n"
          ]
        },
        {
          "output_type": "stream",
          "name": "stderr",
          "text": [
            "10it [00:00, 3318.28it/s]\n"
          ]
        },
        {
          "output_type": "stream",
          "name": "stdout",
          "text": [
            "\n",
            " category is :  CAUSE-PURPOSE  Cause:Effect  joke:laughter \n",
            "Sample test : جک به خنده مانند کتک به [MASK] است\n",
            "acc_1:  0.0\n",
            "acc_3:  0.0\n",
            "acc_5:  0.0\n",
            "acc_10:  0.0\n",
            "===================================\n"
          ]
        },
        {
          "output_type": "stream",
          "name": "stderr",
          "text": [
            "10it [00:00, 3869.28it/s]\n"
          ]
        },
        {
          "output_type": "stream",
          "name": "stdout",
          "text": [
            "\n",
            " category is :  CAUSE-PURPOSE  Instrument:Intended Action  gun:shoot \n",
            "Sample test : تفنگ به شلیک مانند چرتکه به [MASK] است\n",
            "acc_1:  0.0\n",
            "acc_3:  0.0\n",
            "acc_5:  0.1\n",
            "acc_10:  0.1\n",
            "===================================\n"
          ]
        },
        {
          "output_type": "stream",
          "name": "stderr",
          "text": [
            "21it [00:00, 3677.98it/s]\n"
          ]
        },
        {
          "output_type": "stream",
          "name": "stdout",
          "text": [
            "\n",
            " category is :  CAUSE-PURPOSE Action/Activity:Goal\n",
            "Sample test : مسابقه به بردن مانند تعقیب به [MASK] است\n",
            "acc_1:  0.0\n",
            "acc_3:  0.047619047619047616\n",
            "acc_5:  0.047619047619047616\n",
            "acc_10:  0.14285714285714285\n",
            "===================================\n"
          ]
        },
        {
          "output_type": "stream",
          "name": "stderr",
          "text": [
            "28it [00:00, 3753.53it/s]\n"
          ]
        },
        {
          "output_type": "stream",
          "name": "stdout",
          "text": [
            "\n",
            " category is :  CAUSE-PURPOSE Agent:Goal\n",
            "Sample test : زایر به زیارت مانند شکارچی به [MASK] است\n",
            "acc_1:  0.03571428571428571\n",
            "acc_3:  0.03571428571428571\n",
            "acc_5:  0.07142857142857142\n",
            "acc_10:  0.14285714285714285\n",
            "===================================\n"
          ]
        },
        {
          "output_type": "stream",
          "name": "stderr",
          "text": [
            "21it [00:00, 1081.47it/s]\n"
          ]
        },
        {
          "output_type": "stream",
          "name": "stdout",
          "text": [
            "\n",
            " category is :  CAUSE-PURPOSE Enabling Agent:Object\n",
            "Sample test : برق به لامپ مانند بنزین به [MASK] است\n",
            "acc_1:  0.0\n",
            "acc_3:  0.0\n",
            "acc_5:  0.0\n",
            "acc_10:  0.0\n",
            "===================================\n"
          ]
        },
        {
          "output_type": "stream",
          "name": "stderr",
          "text": [
            "10it [00:00, 4364.97it/s]\n"
          ]
        },
        {
          "output_type": "stream",
          "name": "stdout",
          "text": [
            "\n",
            " category is :  CAUSE-PURPOSE Instrument:Goal\n",
            "Sample test : ترمز به توقف مانند ماشین به [MASK] است\n",
            "acc_1:  0.0\n",
            "acc_3:  0.1\n",
            "acc_5:  0.3\n",
            "acc_10:  0.3\n",
            "===================================\n"
          ]
        },
        {
          "output_type": "stream",
          "name": "stderr",
          "text": [
            "10it [00:00, 4722.78it/s]\n"
          ]
        },
        {
          "output_type": "stream",
          "name": "stdout",
          "text": [
            "\n",
            " category is :  CAUSE-PURPOSE Prevention\n",
            "Sample test : واکسن به آبله مانند سم به [MASK] است\n",
            "acc_1:  0.0\n",
            "acc_3:  0.0\n",
            "acc_5:  0.0\n",
            "acc_10:  0.0\n",
            "===================================\n"
          ]
        },
        {
          "output_type": "stream",
          "name": "stderr",
          "text": [
            "15it [00:00, 1331.61it/s]\n"
          ]
        },
        {
          "output_type": "stream",
          "name": "stdout",
          "text": [
            "\n",
            " category is :  Class Inclusion  Class Individual  mountain:Everest \n",
            "Sample test : کوه به اورست مانند کشور به [MASK] است\n",
            "acc_1:  0.0\n",
            "acc_3:  0.0\n",
            "acc_5:  0.0\n",
            "acc_10:  0.13333333333333333\n",
            "===================================\n"
          ]
        },
        {
          "output_type": "stream",
          "name": "stderr",
          "text": [
            "6it [00:00, 3997.75it/s]\n"
          ]
        },
        {
          "output_type": "stream",
          "name": "stdout",
          "text": [
            "\n",
            " category is :  Class Inclusion  Functional  weapon:knife \n",
            "Sample test : سلاح به چاقو مانند زینت به [MASK] است\n",
            "acc_1:  0.0\n",
            "acc_3:  0.0\n",
            "acc_5:  0.0\n",
            "acc_10:  0.16666666666666666\n",
            "===================================\n"
          ]
        },
        {
          "output_type": "stream",
          "name": "stderr",
          "text": [
            "1it [00:00, 1743.99it/s]\n"
          ]
        },
        {
          "output_type": "stream",
          "name": "stdout",
          "text": [
            "\n",
            " category is :  Class Inclusion  Singular Collective  clothing:shirt \n",
            "Sample test : لباس به پیراهن مانند ظروف به [MASK] است\n",
            "acc_1:  0.0\n",
            "acc_3:  0.0\n",
            "acc_5:  0.0\n",
            "acc_10:  0.0\n",
            "===================================\n"
          ]
        },
        {
          "output_type": "stream",
          "name": "stderr",
          "text": [
            "21it [00:00, 561.10it/s]\n"
          ]
        },
        {
          "output_type": "stream",
          "name": "stdout",
          "text": [
            "\n",
            " category is :  Class Inclusion  Taxonomic  emotion:rage \n",
            "Sample test : احساسات به عصبانیت مانند پستاندار به [MASK] است\n",
            "acc_1:  0.0\n",
            "acc_3:  0.09523809523809523\n",
            "acc_5:  0.19047619047619047\n",
            "acc_10:  0.3333333333333333\n",
            "===================================\n"
          ]
        },
        {
          "output_type": "stream",
          "name": "stderr",
          "text": [
            "10it [00:00, 1598.44it/s]\n"
          ]
        },
        {
          "output_type": "stream",
          "name": "stdout",
          "text": [
            "\n",
            " category is :  Contrast  Contradictory  masculinity:femininity \n",
            "Sample test : مرده به زنده مانند درست به [MASK] است\n",
            "acc_1:  0.1\n",
            "acc_3:  0.3\n",
            "acc_5:  0.3\n",
            "acc_10:  0.3\n",
            "===================================\n"
          ]
        },
        {
          "output_type": "stream",
          "name": "stderr",
          "text": [
            "15it [00:00, 2040.89it/s]\n"
          ]
        },
        {
          "output_type": "stream",
          "name": "stdout",
          "text": [
            "\n",
            " category is :  Contrast  Contrary  thin:fat \n",
            "Sample test : خوشحال به ناراحت مانند خسته به [MASK] است\n",
            "acc_1:  0.0\n",
            "acc_3:  0.3333333333333333\n",
            "acc_5:  0.6\n",
            "acc_10:  0.6\n",
            "===================================\n"
          ]
        },
        {
          "output_type": "stream",
          "name": "stderr",
          "text": [
            "10it [00:00, 1935.00it/s]\n"
          ]
        },
        {
          "output_type": "stream",
          "name": "stdout",
          "text": [
            "\n",
            " category is :  Contrast  Defective  fallacy:logic \n",
            "Sample test : منطق به مغالطه مانند صحبت به [MASK] است\n",
            "acc_1:  0.0\n",
            "acc_3:  0.0\n",
            "acc_5:  0.0\n",
            "acc_10:  0.0\n",
            "===================================\n"
          ]
        },
        {
          "output_type": "stream",
          "name": "stderr",
          "text": [
            "28it [00:00, 1243.99it/s]\n"
          ]
        },
        {
          "output_type": "stream",
          "name": "stdout",
          "text": [
            "\n",
            " category is :  Contrast  Directional  front:back \n",
            "Sample test : رفتن به برگشتن مانند جلو به [MASK] است\n",
            "acc_1:  0.7142857142857143\n",
            "acc_3:  0.75\n",
            "acc_5:  0.75\n",
            "acc_10:  0.8928571428571429\n",
            "===================================\n"
          ]
        },
        {
          "output_type": "stream",
          "name": "stderr",
          "text": [
            "36it [00:00, 1718.33it/s]\n"
          ]
        },
        {
          "output_type": "stream",
          "name": "stdout",
          "text": [
            "\n",
            " category is :  Contrast  Reverse  buy:sell \n",
            "Sample test : خرید به فروش مانند حمله به [MASK] است\n",
            "acc_1:  0.0\n",
            "acc_3:  0.027777777777777776\n",
            "acc_5:  0.05555555555555555\n",
            "acc_10:  0.05555555555555555\n",
            "===================================\n"
          ]
        },
        {
          "output_type": "stream",
          "name": "stderr",
          "text": [
            "6it [00:00, 3513.31it/s]\n"
          ]
        },
        {
          "output_type": "stream",
          "name": "stdout",
          "text": [
            "\n",
            " category is :  NONATTRIBUTE  Attribute:Nonstate (adjective:noun)  immortal:death \n",
            "Sample test : پاینده به مرگ مانند سازنده به [MASK] است\n",
            "acc_1:  0.0\n",
            "acc_3:  0.0\n",
            "acc_5:  0.0\n",
            "acc_10:  0.0\n",
            "===================================\n"
          ]
        },
        {
          "output_type": "stream",
          "name": "stderr",
          "text": [
            "6it [00:00, 3775.82it/s]\n"
          ]
        },
        {
          "output_type": "stream",
          "name": "stdout",
          "text": [
            "\n",
            " category is :  NONATTRIBUTE  Item:Nonattribute (noun:adjective)  harmony:discordant \n",
            "Sample test : نظم به شلوغی مانند تمیزی به [MASK] است\n",
            "acc_1:  0.0\n",
            "acc_3:  0.0\n",
            "acc_5:  0.0\n",
            "acc_10:  0.0\n",
            "===================================\n"
          ]
        },
        {
          "output_type": "stream",
          "name": "stderr",
          "text": [
            "6it [00:00, 4522.97it/s]\n"
          ]
        },
        {
          "output_type": "stream",
          "name": "stdout",
          "text": [
            "\n",
            " category is :  NONATTRIBUTE  Object Attribute:Noncondition (adjective:adjective)  exemplary:criticized \n",
            "Sample test : ترد به منعطف مانند سست به [MASK] است\n",
            "acc_1:  0.0\n",
            "acc_3:  0.16666666666666666\n",
            "acc_5:  0.16666666666666666\n",
            "acc_10:  0.16666666666666666\n",
            "===================================\n"
          ]
        },
        {
          "output_type": "stream",
          "name": "stderr",
          "text": [
            "21it [00:00, 3169.61it/s]\n"
          ]
        },
        {
          "output_type": "stream",
          "name": "stdout",
          "text": [
            "\n",
            " category is :  NONATTRIBUTE  Object:Atypical Action (noun:verb)  recluse:socialize \n",
            "Sample test : لال به صحبت مانند کور به [MASK] است\n",
            "acc_1:  0.0\n",
            "acc_3:  0.0\n",
            "acc_5:  0.0\n",
            "acc_10:  0.0\n",
            "===================================\n"
          ]
        },
        {
          "output_type": "stream",
          "name": "stderr",
          "text": [
            "15it [00:00, 3165.99it/s]\n"
          ]
        },
        {
          "output_type": "stream",
          "name": "stdout",
          "text": [
            "\n",
            " category is :  NONATTRIBUTE  Object:Nonstate (noun:noun)  famine:plenitude \n",
            "Sample test : قحطی به فراوانی مانند سختی به [MASK] است\n",
            "acc_1:  0.0\n",
            "acc_3:  0.0\n",
            "acc_5:  0.0\n",
            "acc_10:  0.0\n",
            "===================================\n"
          ]
        },
        {
          "output_type": "stream",
          "name": "stderr",
          "text": [
            "10it [00:00, 1974.16it/s]\n"
          ]
        },
        {
          "output_type": "stream",
          "name": "stdout",
          "text": [
            "\n",
            " category is :  Part- Whole  Activity:Stage  shopping:buying \n",
            "Sample test : خرید به پرداخت مانند پروژه به [MASK] است\n",
            "acc_1:  0.0\n",
            "acc_3:  0.1\n",
            "acc_5:  0.2\n",
            "acc_10:  0.2\n",
            "===================================\n"
          ]
        },
        {
          "output_type": "stream",
          "name": "stderr",
          "text": [
            "6it [00:00, 2671.53it/s]\n"
          ]
        },
        {
          "output_type": "stream",
          "name": "stdout",
          "text": [
            "\n",
            " category is :  Part- Whole  Collection:Member  forest:tree \n",
            "Sample test : جنگل به درخت مانند ناوگان به [MASK] است\n",
            "acc_1:  0.0\n",
            "acc_3:  0.16666666666666666\n",
            "acc_5:  0.16666666666666666\n",
            "acc_10:  0.5\n",
            "===================================\n"
          ]
        },
        {
          "output_type": "stream",
          "name": "stderr",
          "text": [
            "6it [00:00, 3191.61it/s]\n"
          ]
        },
        {
          "output_type": "stream",
          "name": "stdout",
          "text": [
            "\n",
            " category is :  Part- Whole  Creature:Possession  robin:nest \n",
            "Sample test : پرنده به آشیانه مانند میلیونر به [MASK] است\n",
            "acc_1:  0.0\n",
            "acc_3:  0.3333333333333333\n",
            "acc_5:  0.3333333333333333\n",
            "acc_10:  0.3333333333333333\n",
            "===================================\n"
          ]
        },
        {
          "output_type": "stream",
          "name": "stderr",
          "text": [
            "15it [00:00, 3893.71it/s]\n"
          ]
        },
        {
          "output_type": "stream",
          "name": "stdout",
          "text": [
            "\n",
            " category is :  Part- Whole  Event:Feature  wedding:bride \n",
            "Sample test : عروسی به داماد مانند عزا به [MASK] است\n",
            "acc_1:  0.0\n",
            "acc_3:  0.0\n",
            "acc_5:  0.0\n",
            "acc_10:  0.0\n",
            "===================================\n"
          ]
        },
        {
          "output_type": "stream",
          "name": "stderr",
          "text": [
            "6it [00:00, 3006.67it/s]\n"
          ]
        },
        {
          "output_type": "stream",
          "name": "stdout",
          "text": [
            "\n",
            " category is :  Part- Whole  Item:Distinctive Nonpart  horse:wings \n",
            "Sample test : عدم به ماده مانند اسب به [MASK] است\n",
            "acc_1:  0.0\n",
            "acc_3:  0.16666666666666666\n",
            "acc_5:  0.3333333333333333\n",
            "acc_10:  0.3333333333333333\n",
            "===================================\n"
          ]
        },
        {
          "output_type": "stream",
          "name": "stderr",
          "text": [
            "15it [00:00, 3028.67it/s]\n"
          ]
        },
        {
          "output_type": "stream",
          "name": "stdout",
          "text": [
            "\n",
            " category is :  Part- Whole  Item:Ex-part/Ex-possession  apostate:belief \n",
            "Sample test : مرتد به عقیده مانند چوب به [MASK] است\n",
            "acc_1:  0.0\n",
            "acc_3:  0.0\n",
            "acc_5:  0.0\n",
            "acc_10:  0.0\n",
            "===================================\n"
          ]
        },
        {
          "output_type": "stream",
          "name": "stderr",
          "text": [
            "10it [00:00, 3997.24it/s]\n"
          ]
        },
        {
          "output_type": "stream",
          "name": "stdout",
          "text": [
            "\n",
            " category is :  Part- Whole  Item:Topological Part  mountain:foot \n",
            "Sample test : اتاق به گوشه مانند کوه به [MASK] است\n",
            "acc_1:  0.0\n",
            "acc_3:  0.3\n",
            "acc_5:  0.4\n",
            "acc_10:  0.4\n",
            "===================================\n"
          ]
        },
        {
          "output_type": "stream",
          "name": "stderr",
          "text": [
            "10it [00:00, 4053.25it/s]\n"
          ]
        },
        {
          "output_type": "stream",
          "name": "stdout",
          "text": [
            "\n",
            " category is :  Part- Whole  Mass:Portion  water:drop \n",
            "Sample test : آب به قطره مانند کیلومتر به [MASK] است\n",
            "acc_1:  0.0\n",
            "acc_3:  0.1\n",
            "acc_5:  0.1\n",
            "acc_10:  0.2\n",
            "===================================\n"
          ]
        },
        {
          "output_type": "stream",
          "name": "stderr",
          "text": [
            "15it [00:00, 611.46it/s]\n"
          ]
        },
        {
          "output_type": "stream",
          "name": "stdout",
          "text": [
            "\n",
            " category is :  Part- Whole  Object:Component  car:engine \n",
            "Sample test : ماشین به موتور مانند دوچرخه به [MASK] است\n",
            "acc_1:  0.0\n",
            "acc_3:  0.06666666666666667\n",
            "acc_5:  0.06666666666666667\n",
            "acc_10:  0.06666666666666667\n",
            "===================================\n"
          ]
        },
        {
          "output_type": "stream",
          "name": "stderr",
          "text": [
            "21it [00:00, 1230.31it/s]\n"
          ]
        },
        {
          "output_type": "stream",
          "name": "stdout",
          "text": [
            "\n",
            " category is :  Part- Whole  Object:Stuff  salt:sodium \n",
            "Sample test : لنز به شیشه مانند نمک به [MASK] است\n",
            "acc_1:  0.0\n",
            "acc_3:  0.047619047619047616\n",
            "acc_5:  0.047619047619047616\n",
            "acc_10:  0.14285714285714285\n",
            "===================================\n"
          ]
        },
        {
          "output_type": "stream",
          "name": "stderr",
          "text": [
            "6it [00:00, 3706.85it/s]\n"
          ]
        },
        {
          "output_type": "stream",
          "name": "stdout",
          "text": [
            "\n",
            " category is :  REFERENCE  Concealment  code:meaning \n",
            "Sample test : مستعار به نام مانند استتار به [MASK] است\n",
            "acc_1:  0.16666666666666666\n",
            "acc_3:  0.3333333333333333\n",
            "acc_5:  0.3333333333333333\n",
            "acc_10:  0.3333333333333333\n",
            "===================================\n"
          ]
        },
        {
          "output_type": "stream",
          "name": "stderr",
          "text": [
            "10it [00:00, 3490.89it/s]\n"
          ]
        },
        {
          "output_type": "stream",
          "name": "stdout",
          "text": [
            "\n",
            " category is :  REFERENCE  Expression  smile:friendliness \n",
            "Sample test : جیغ به ترس مانند اخم به [MASK] است\n",
            "acc_1:  0.0\n",
            "acc_3:  0.1\n",
            "acc_5:  0.2\n",
            "acc_10:  0.2\n",
            "===================================\n"
          ]
        },
        {
          "output_type": "stream",
          "name": "stderr",
          "text": [
            "15it [00:00, 3955.15it/s]\n"
          ]
        },
        {
          "output_type": "stream",
          "name": "stdout",
          "text": [
            "\n",
            " category is :  REFERENCE  Knowledge  psychology:mind \n",
            "Sample test : روانشناسی به روان مانند ریاضیات به [MASK] است\n",
            "acc_1:  0.0\n",
            "acc_3:  0.0\n",
            "acc_5:  0.0\n",
            "acc_10:  0.0\n",
            "===================================\n"
          ]
        },
        {
          "output_type": "stream",
          "name": "stderr",
          "text": [
            "21it [00:00, 2834.17it/s]\n"
          ]
        },
        {
          "output_type": "stream",
          "name": "stdout",
          "text": [
            "\n",
            " category is :  REFERENCE  Plan  agenda:meeting \n",
            "Sample test : دستور به جلسه مانند فهرست به [MASK] است\n",
            "acc_1:  0.0\n",
            "acc_3:  0.0\n",
            "acc_5:  0.0\n",
            "acc_10:  0.0\n",
            "===================================\n"
          ]
        },
        {
          "output_type": "stream",
          "name": "stderr",
          "text": [
            "6it [00:00, 3810.12it/s]\n"
          ]
        },
        {
          "output_type": "stream",
          "name": "stdout",
          "text": [
            "\n",
            " category is :  REFERENCE  Sign:Significant  siren:danger \n",
            "Sample test : آژیر به خطر مانند ابر به [MASK] است\n",
            "acc_1:  0.0\n",
            "acc_3:  0.0\n",
            "acc_5:  0.0\n",
            "acc_10:  0.0\n",
            "===================================\n"
          ]
        },
        {
          "output_type": "stream",
          "name": "stderr",
          "text": [
            "6it [00:00, 3640.89it/s]\n"
          ]
        },
        {
          "output_type": "stream",
          "name": "stdout",
          "text": [
            "\n",
            " category is :  REFERENCE Representationperson:portrait\n",
            "Sample test : چهره به پرتره مانند خاطره به [MASK] است\n",
            "acc_1:  0.0\n",
            "acc_3:  0.0\n",
            "acc_5:  0.0\n",
            "acc_10:  0.0\n",
            "===================================\n"
          ]
        },
        {
          "output_type": "stream",
          "name": "stderr",
          "text": [
            "15it [00:00, 4499.04it/s]\n"
          ]
        },
        {
          "output_type": "stream",
          "name": "stdout",
          "text": [
            "\n",
            " category is :  Similar  Attribute Similarity  painting:movie \n",
            "Sample test : چنگال به شنکش مانند مداد به [MASK] است\n",
            "acc_1:  0.0\n",
            "acc_3:  0.0\n",
            "acc_5:  0.0\n",
            "acc_10:  0.0\n",
            "===================================\n"
          ]
        },
        {
          "output_type": "stream",
          "name": "stderr",
          "text": [
            "28it [00:00, 2367.04it/s]\n"
          ]
        },
        {
          "output_type": "stream",
          "name": "stdout",
          "text": [
            "\n",
            " category is :  Similar  Conversion  apprentice:master \n",
            "Sample test : شاگرد به استاد مانند پیله به [MASK] است\n",
            "acc_1:  0.14285714285714285\n",
            "acc_3:  0.32142857142857145\n",
            "acc_5:  0.32142857142857145\n",
            "acc_10:  0.39285714285714285\n",
            "===================================\n"
          ]
        },
        {
          "output_type": "stream",
          "name": "stderr",
          "text": [
            "55it [00:00, 2062.59it/s]\n"
          ]
        },
        {
          "output_type": "stream",
          "name": "stdout",
          "text": [
            "\n",
            " category is :  Similar  Coordinates  son:daughter \n",
            "Sample test : ملکه به شاه مانند دختر به [MASK] است\n",
            "acc_1:  0.10909090909090909\n",
            "acc_3:  0.38181818181818183\n",
            "acc_5:  0.4909090909090909\n",
            "acc_10:  0.5636363636363636\n",
            "===================================\n"
          ]
        },
        {
          "output_type": "stream",
          "name": "stderr",
          "text": [
            "15it [00:00, 3686.76it/s]\n"
          ]
        },
        {
          "output_type": "stream",
          "name": "stdout",
          "text": [
            "\n",
            " category is :  Similar  Dimensional Excessive  concerned:obsessed \n",
            "Sample test : خوردن به پرخوری مانند نگرانی به [MASK] است\n",
            "acc_1:  0.0\n",
            "acc_3:  0.0\n",
            "acc_5:  0.0\n",
            "acc_10:  0.0\n",
            "===================================\n"
          ]
        },
        {
          "output_type": "stream",
          "name": "stderr",
          "text": [
            "15it [00:00, 1688.26it/s]\n"
          ]
        },
        {
          "output_type": "stream",
          "name": "stdout",
          "text": [
            "\n",
            " category is :  Similar  Dimensional Naughty –  copy:plagiarize \n",
            "Sample test : کپی به تقلب مانند شنیدن به [MASK] است\n",
            "acc_1:  0.0\n",
            "acc_3:  0.0\n",
            "acc_5:  0.0\n",
            "acc_10:  0.0\n",
            "===================================\n"
          ]
        },
        {
          "output_type": "stream",
          "name": "stderr",
          "text": [
            "10it [00:00, 4710.58it/s]\n"
          ]
        },
        {
          "output_type": "stream",
          "name": "stdout",
          "text": [
            "\n",
            " category is :  Similar  Synonymity  buy:purchase \n",
            "Sample test : معامله به سودا مانند سریع به [MASK] است\n",
            "acc_1:  0.0\n",
            "acc_3:  0.0\n",
            "acc_5:  0.0\n",
            "acc_10:  0.0\n",
            "===================================\n"
          ]
        },
        {
          "output_type": "stream",
          "name": "stderr",
          "text": [
            "6it [00:00, 3334.55it/s]\n"
          ]
        },
        {
          "output_type": "stream",
          "name": "stdout",
          "text": [
            "\n",
            " category is :  Similar Changecrescendo:sound\n",
            "Sample test : اوج به ارتفاع مانند تلون به [MASK] است\n",
            "acc_1:  0.0\n",
            "acc_3:  0.0\n",
            "acc_5:  0.0\n",
            "acc_10:  0.16666666666666666\n",
            "===================================\n"
          ]
        },
        {
          "output_type": "stream",
          "name": "stderr",
          "text": [
            "10it [00:00, 3843.40it/s]\n"
          ]
        },
        {
          "output_type": "stream",
          "name": "stdout",
          "text": [
            "\n",
            " category is :  Space-Time  Attachment  belt:waist \n",
            "Sample test : دست به شانه مانند سر به [MASK] است\n",
            "acc_1:  0.3\n",
            "acc_3:  0.5\n",
            "acc_5:  0.5\n",
            "acc_10:  0.5\n",
            "===================================\n"
          ]
        },
        {
          "output_type": "stream",
          "name": "stderr",
          "text": [
            "10it [00:00, 3887.93it/s]\n"
          ]
        },
        {
          "output_type": "stream",
          "name": "stdout",
          "text": [
            "\n",
            " category is :  Space-Time  Item:Location  arsenal:weapon \n",
            "Sample test : زاغه به مهمات مانند مرغ به [MASK] است\n",
            "acc_1:  0.0\n",
            "acc_3:  0.0\n",
            "acc_5:  0.0\n",
            "acc_10:  0.0\n",
            "===================================\n"
          ]
        },
        {
          "output_type": "stream",
          "name": "stderr",
          "text": [
            "10it [00:00, 2558.91it/s]\n"
          ]
        },
        {
          "output_type": "stream",
          "name": "stdout",
          "text": [
            "\n",
            " category is :  Space-Time  Location:Action/Activity  school:learn \n",
            "Sample test : باشگاه به ورزش مانند فروشگاه به [MASK] است\n",
            "acc_1:  0.0\n",
            "acc_3:  0.0\n",
            "acc_5:  0.0\n",
            "acc_10:  0.0\n",
            "===================================\n"
          ]
        },
        {
          "output_type": "stream",
          "name": "stderr",
          "text": [
            "10it [00:00, 3800.91it/s]\n"
          ]
        },
        {
          "output_type": "stream",
          "name": "stdout",
          "text": [
            "\n",
            " category is :  Space-Time  Location:Process/Product  bakery:bread \n",
            "Sample test : نانوایی به نان مانند نجاری به [MASK] است\n",
            "acc_1:  0.0\n",
            "acc_3:  0.0\n",
            "acc_5:  0.1\n",
            "acc_10:  0.2\n",
            "===================================\n"
          ]
        },
        {
          "output_type": "stream",
          "name": "stderr",
          "text": [
            "6it [00:00, 3705.22it/s]\n"
          ]
        },
        {
          "output_type": "stream",
          "name": "stdout",
          "text": [
            "\n",
            " category is :  Space-Time Contiguitycoast:ocean\n",
            "Sample test : ساحل به دریا مانند پیادهرو به [MASK] است\n",
            "acc_1:  0.0\n",
            "acc_3:  0.0\n",
            "acc_5:  0.0\n",
            "acc_10:  0.0\n",
            "===================================\n"
          ]
        },
        {
          "output_type": "stream",
          "name": "stderr",
          "text": [
            "6it [00:00, 3953.16it/s]\n"
          ]
        },
        {
          "output_type": "stream",
          "name": "stdout",
          "text": [
            "\n",
            " category is :  Space-Time Sequencecoda:symphony\n",
            "Sample test : مقدمه به سخنرانی مانند پیشدرآمد به [MASK] است\n",
            "acc_1:  0.0\n",
            "acc_3:  0.0\n",
            "acc_5:  0.16666666666666666\n",
            "acc_10:  0.16666666666666666\n",
            "===================================\n"
          ]
        },
        {
          "output_type": "stream",
          "name": "stderr",
          "text": [
            "55it [00:00, 2654.35it/s]\n"
          ]
        },
        {
          "output_type": "stream",
          "name": "stdout",
          "text": [
            "\n",
            " category is :  Space-Time Time: Action/Activitysummer:harvest\n",
            "Sample test : تابستان به درو مانند زمستان به [MASK] است\n",
            "acc_1:  0.01818181818181818\n",
            "acc_3:  0.07272727272727272\n",
            "acc_5:  0.14545454545454545\n",
            "acc_10:  0.21818181818181817\n",
            "===================================\n"
          ]
        },
        {
          "output_type": "stream",
          "name": "stderr",
          "text": [
            "1it [00:00, 1499.57it/s]\n"
          ]
        },
        {
          "output_type": "stream",
          "name": "stdout",
          "text": [
            "\n",
            " category is :  Space-Time Time:Associated Itemretirement:pension\n",
            "Sample test : بازنشستگی به مستمری مانند نوزادی به [MASK] است\n",
            "acc_1:  0.0\n",
            "acc_3:  0.0\n",
            "acc_5:  0.0\n",
            "acc_10:  0.0\n",
            "===================================\n",
            "file saved to /content/drive/MyDrive/Analogy_NLP_Files/cat_sat_1.csv\n"
          ]
        }
      ]
    },
    {
      "cell_type": "code",
      "source": [
        "dataset_sat2, dataset_sat_response2 = generate_pattern(df_sat_test, pattern[3])"
      ],
      "metadata": {
        "id": "2VcFbj0gtJSU",
        "colab": {
          "base_uri": "https://localhost:8080/"
        },
        "outputId": "3bb79452-cea3-4cfc-b71d-f83ca7b72ce3"
      },
      "execution_count": null,
      "outputs": [
        {
          "output_type": "stream",
          "name": "stdout",
          "text": [
            "Pattern is : ['همانطور', 'که', 'برای', 'است', '[MASK]', 'برای', 'است']\n",
            "Sample test : همانطور که بیپولی برای فقیر است [MASK] برای ملتهب است \n",
            "Sample test answer is : دعوا \n"
          ]
        }
      ]
    },
    {
      "cell_type": "code",
      "source": [
        "result_sat2 = predict_analogy(dataset_sat2, dataset_sat_response2)"
      ],
      "metadata": {
        "id": "Am7r6sBYtJSV",
        "colab": {
          "base_uri": "https://localhost:8080/"
        },
        "outputId": "13fb0686-acf9-49d0-d0dc-bb2b90648d05"
      },
      "execution_count": null,
      "outputs": [
        {
          "output_type": "stream",
          "name": "stdout",
          "text": [
            "1116\n"
          ]
        },
        {
          "output_type": "stream",
          "name": "stderr",
          "text": [
            "100%|██████████| 1116/1116 [00:13<00:00, 81.12it/s]"
          ]
        },
        {
          "output_type": "stream",
          "name": "stdout",
          "text": [
            "\n",
            "acc_1:  0.007168458781362007\n",
            "acc_3:  0.02060931899641577\n",
            "acc_5:  0.05465949820788531\n",
            "acc_10:  0.11200716845878136\n",
            "===================================\n"
          ]
        },
        {
          "output_type": "stream",
          "name": "stderr",
          "text": [
            "\n"
          ]
        }
      ]
    },
    {
      "cell_type": "code",
      "source": [
        "visualize(result_sat2,dataset_sat2, dataset_sat_response2)"
      ],
      "metadata": {
        "colab": {
          "base_uri": "https://localhost:8080/"
        },
        "id": "3b4pVp4Es60T",
        "outputId": "0fc894e4-0efa-4efe-91ef-cec2637e1dce"
      },
      "execution_count": null,
      "outputs": [
        {
          "output_type": "stream",
          "name": "stdout",
          "text": [
            "177\n"
          ]
        },
        {
          "output_type": "stream",
          "name": "stderr",
          "text": [
            "5it [00:00, 3575.10it/s]"
          ]
        },
        {
          "output_type": "stream",
          "name": "stdout",
          "text": [
            "The test is : همانطور که گچ برای گچکار است [MASK] برای بنا است\n",
            "The answer is : آجر\n",
            "The predicted result is : \n",
            "['گچ', 'اجر', '،', 'اب', 'و', 'سنگ', 'هم', 'خاک', 'سیمان', 'هوا']\n",
            "\n",
            "\n",
            "The test is : همانطور که گچ برای گچکار است [MASK] برای خیاط است\n",
            "The answer is : سوزن\n",
            "The predicted result is : \n",
            "['گچ', '،', 'و', 'چوب', 'یا', 'هم', 'چرم', 'پارچه', 'لباس', 'مو']\n",
            "\n",
            "\n",
            "The test is : همانطور که گچ برای گچکار است [MASK] برای آشپز است\n",
            "The answer is : ماهیتابه\n",
            "The predicted result is : \n",
            "['گچ', '،', 'و', 'اب', 'غذا', 'اجر', 'چوب', 'خاک', 'یا', 'هم']\n",
            "\n",
            "\n",
            "The test is : همانطور که گچ برای گچکار است [MASK] برای راننده است\n",
            "The answer is : ماشین\n",
            "The predicted result is : \n",
            "['گچ', '،', 'و', 'سیمان', 'چوب', 'اب', 'اجر', 'هم', 'سنگ', 'بتن']\n",
            "\n",
            "\n",
            "The test is : همانطور که گچ برای گچکار است [MASK] برای دانشجو است\n",
            "The answer is : کتاب\n",
            "The predicted result is : \n",
            "['گچ', '،', 'و', 'یا', 'هنر', 'اب', 'هم', 'سیمان', 'اما', 'اجر']\n",
            "\n",
            "\n"
          ]
        },
        {
          "output_type": "stream",
          "name": "stderr",
          "text": [
            "\n"
          ]
        }
      ]
    },
    {
      "cell_type": "code",
      "source": [
        "save_result(result_sat2,dataset_sat2, dataset_sat_response2, \"sat_2.csv\")"
      ],
      "metadata": {
        "colab": {
          "base_uri": "https://localhost:8080/"
        },
        "id": "8QK2M4pVeoRR",
        "outputId": "0726509e-c631-4731-dbe2-8d839c80a781"
      },
      "execution_count": null,
      "outputs": [
        {
          "output_type": "stream",
          "name": "stderr",
          "text": [
            "1116it [00:00, 672052.16it/s]\n"
          ]
        },
        {
          "output_type": "stream",
          "name": "stdout",
          "text": [
            "file saved to /content/drive/MyDrive/Analogy_NLP_Files/sat_2.csv\n"
          ]
        }
      ]
    },
    {
      "cell_type": "code",
      "source": [
        "df_result = pd.read_csv(ROOT+\"sat_2.csv\", engine='python',encoding='utf-8', error_bad_lines=False)\n",
        "acurracy_category(df_result, df_sat_test,\"cat_sat_2.csv\")"
      ],
      "metadata": {
        "colab": {
          "base_uri": "https://localhost:8080/"
        },
        "id": "yp6a38DJ7CtE",
        "outputId": "ad8711de-b8ba-4c77-a470-01c4f15893a3"
      },
      "execution_count": null,
      "outputs": [
        {
          "output_type": "stream",
          "name": "stderr",
          "text": [
            "/usr/local/lib/python3.7/dist-packages/IPython/core/interactiveshell.py:2882: FutureWarning: The error_bad_lines argument has been deprecated and will be removed in a future version.\n",
            "\n",
            "\n",
            "  exec(code_obj, self.user_global_ns, self.user_ns)\n"
          ]
        },
        {
          "output_type": "stream",
          "name": "stdout",
          "text": [
            "['Attribute  Agent Attribute:State (adjective:noun)  contentious:quarrels '\n",
            " 'Attribute  Agent/Object Attribute:Typical Action (adjective:verb)  mutable:change '\n",
            " 'Attribute  Item:Attribute (noun:adjective)  soldier:wounded '\n",
            " 'Attribute  Object Attribute:Condition (adjective:adjective)  brittle:broken '\n",
            " 'Attribute  Object:Typical Action (noun:verb)  glass:break '\n",
            " 'CASE RELATIONS  Action:Object  tie:knot '\n",
            " 'CASE RELATIONS  Action:Recipient  teach:student '\n",
            " 'CASE RELATIONS  Agent:Object - Associated Objectplumber:pipe'\n",
            " 'CASE RELATIONS  Agent:Object - Product tailor:suit '\n",
            " 'CASE RELATIONS  Agent:Object - Raw Materialbaker:flour'\n",
            " 'CASE RELATIONS  Agent:Recipient  doctor:patient '\n",
            " 'CASE RELATIONS  Object:Instrument  violin:bow '\n",
            " 'CASE RELATIONS  Object:Recipient  speech:audience '\n",
            " 'CAUSE-PURPOSE  Cause:Compensatory Action  hunger:eat '\n",
            " 'CAUSE-PURPOSE  Cause:Effect  joke:laughter '\n",
            " 'CAUSE-PURPOSE  Instrument:Intended Action  gun:shoot '\n",
            " 'CAUSE-PURPOSE Action/Activity:Goal' 'CAUSE-PURPOSE Agent:Goal'\n",
            " 'CAUSE-PURPOSE Enabling Agent:Object' 'CAUSE-PURPOSE Instrument:Goal'\n",
            " 'CAUSE-PURPOSE Prevention'\n",
            " 'Class Inclusion  Class Individual  mountain:Everest '\n",
            " 'Class Inclusion  Functional  weapon:knife '\n",
            " 'Class Inclusion  Singular Collective  clothing:shirt '\n",
            " 'Class Inclusion  Taxonomic  emotion:rage '\n",
            " 'Contrast  Contradictory  masculinity:femininity '\n",
            " 'Contrast  Contrary  thin:fat ' 'Contrast  Defective  fallacy:logic '\n",
            " 'Contrast  Directional  front:back ' 'Contrast  Reverse  buy:sell '\n",
            " 'NONATTRIBUTE  Attribute:Nonstate (adjective:noun)  immortal:death '\n",
            " 'NONATTRIBUTE  Item:Nonattribute (noun:adjective)  harmony:discordant '\n",
            " 'NONATTRIBUTE  Object Attribute:Noncondition (adjective:adjective)  exemplary:criticized '\n",
            " 'NONATTRIBUTE  Object:Atypical Action (noun:verb)  recluse:socialize '\n",
            " 'NONATTRIBUTE  Object:Nonstate (noun:noun)  famine:plenitude '\n",
            " 'Part- Whole  Activity:Stage  shopping:buying '\n",
            " 'Part- Whole  Collection:Member  forest:tree '\n",
            " 'Part- Whole  Creature:Possession  robin:nest '\n",
            " 'Part- Whole  Event:Feature  wedding:bride '\n",
            " 'Part- Whole  Item:Distinctive Nonpart  horse:wings '\n",
            " 'Part- Whole  Item:Ex-part/Ex-possession  apostate:belief '\n",
            " 'Part- Whole  Item:Topological Part  mountain:foot '\n",
            " 'Part- Whole  Mass:Portion  water:drop '\n",
            " 'Part- Whole  Object:Component  car:engine '\n",
            " 'Part- Whole  Object:Stuff  salt:sodium '\n",
            " 'REFERENCE  Concealment  code:meaning '\n",
            " 'REFERENCE  Expression  smile:friendliness '\n",
            " 'REFERENCE  Knowledge  psychology:mind '\n",
            " 'REFERENCE  Plan  agenda:meeting '\n",
            " 'REFERENCE  Sign:Significant  siren:danger '\n",
            " 'REFERENCE Representationperson:portrait'\n",
            " 'Similar  Attribute Similarity  painting:movie '\n",
            " 'Similar  Conversion  apprentice:master '\n",
            " 'Similar  Coordinates  son:daughter '\n",
            " 'Similar  Dimensional Excessive  concerned:obsessed '\n",
            " 'Similar  Dimensional Naughty –  copy:plagiarize '\n",
            " 'Similar  Synonymity  buy:purchase ' 'Similar Changecrescendo:sound'\n",
            " 'Space-Time  Attachment  belt:waist '\n",
            " 'Space-Time  Item:Location  arsenal:weapon '\n",
            " 'Space-Time  Location:Action/Activity  school:learn '\n",
            " 'Space-Time  Location:Process/Product  bakery:bread '\n",
            " 'Space-Time Contiguitycoast:ocean' 'Space-Time Sequencecoda:symphony'\n",
            " 'Space-Time Time: Action/Activitysummer:harvest'\n",
            " 'Space-Time Time:Associated Itemretirement:pension']\n"
          ]
        },
        {
          "output_type": "stream",
          "name": "stderr",
          "text": [
            "6it [00:00, 1284.17it/s]\n"
          ]
        },
        {
          "output_type": "stream",
          "name": "stdout",
          "text": [
            "\n",
            " category is :  Attribute  Agent Attribute:State (adjective:noun)  contentious:quarrels \n",
            "Sample test : همانطور که بیپولی برای فقیر است [MASK] برای ملتهب است\n",
            "acc_1:  0.0\n",
            "acc_3:  0.0\n",
            "acc_5:  0.0\n",
            "acc_10:  0.0\n",
            "===================================\n"
          ]
        },
        {
          "output_type": "stream",
          "name": "stderr",
          "text": [
            "6it [00:00, 3494.28it/s]\n"
          ]
        },
        {
          "output_type": "stream",
          "name": "stdout",
          "text": [
            "\n",
            " category is :  Attribute  Agent/Object Attribute:Typical Action (adjective:verb)  mutable:change \n",
            "Sample test : همانطور که تغییر برای متغیر است [MASK] برای متوهم است\n",
            "acc_1:  0.0\n",
            "acc_3:  0.0\n",
            "acc_5:  0.0\n",
            "acc_10:  0.0\n",
            "===================================\n"
          ]
        },
        {
          "output_type": "stream",
          "name": "stderr",
          "text": [
            "28it [00:00, 8777.32it/s]\n"
          ]
        },
        {
          "output_type": "stream",
          "name": "stdout",
          "text": [
            "\n",
            " category is :  Attribute  Item:Attribute (noun:adjective)  soldier:wounded \n",
            "Sample test : همانطور که بی پول برای گدا است [MASK] برای شیشه است\n",
            "acc_1:  0.0\n",
            "acc_3:  0.0\n",
            "acc_5:  0.0\n",
            "acc_10:  0.0\n",
            "===================================\n"
          ]
        },
        {
          "output_type": "stream",
          "name": "stderr",
          "text": [
            "6it [00:00, 6608.67it/s]\n"
          ]
        },
        {
          "output_type": "stream",
          "name": "stdout",
          "text": [
            "\n",
            " category is :  Attribute  Object Attribute:Condition (adjective:adjective)  brittle:broken \n",
            "Sample test : همانطور که شکسته برای شکستنی است [MASK] برای منعطف است\n",
            "acc_1:  0.0\n",
            "acc_3:  0.0\n",
            "acc_5:  0.0\n",
            "acc_10:  0.16666666666666666\n",
            "===================================\n"
          ]
        },
        {
          "output_type": "stream",
          "name": "stderr",
          "text": [
            "55it [00:00, 4261.72it/s]\n"
          ]
        },
        {
          "output_type": "stream",
          "name": "stdout",
          "text": [
            "\n",
            " category is :  Attribute  Object:Typical Action (noun:verb)  glass:break \n",
            "Sample test : همانطور که شکستن برای شیشه است [MASK] برای سرباز است\n",
            "acc_1:  0.01818181818181818\n",
            "acc_3:  0.01818181818181818\n",
            "acc_5:  0.09090909090909091\n",
            "acc_10:  0.12727272727272726\n",
            "===================================\n"
          ]
        },
        {
          "output_type": "stream",
          "name": "stderr",
          "text": [
            "45it [00:00, 3779.94it/s]\n"
          ]
        },
        {
          "output_type": "stream",
          "name": "stdout",
          "text": [
            "\n",
            " category is :  CASE RELATIONS  Action:Object  tie:knot \n",
            "Sample test : همانطور که طناب برای گره است [MASK] برای شخم است\n",
            "acc_1:  0.044444444444444446\n",
            "acc_3:  0.1111111111111111\n",
            "acc_5:  0.2222222222222222\n",
            "acc_10:  0.28888888888888886\n",
            "===================================\n"
          ]
        },
        {
          "output_type": "stream",
          "name": "stderr",
          "text": [
            "10it [00:00, 6200.92it/s]\n"
          ]
        },
        {
          "output_type": "stream",
          "name": "stdout",
          "text": [
            "\n",
            " category is :  CASE RELATIONS  Action:Recipient  teach:student \n",
            "Sample test : همانطور که مجرم برای دستگیری است [MASK] برای آموزش است\n",
            "acc_1:  0.0\n",
            "acc_3:  0.0\n",
            "acc_5:  0.1\n",
            "acc_10:  0.1\n",
            "===================================\n"
          ]
        },
        {
          "output_type": "stream",
          "name": "stderr",
          "text": [
            "66it [00:00, 5111.60it/s]\n"
          ]
        },
        {
          "output_type": "stream",
          "name": "stdout",
          "text": [
            "\n",
            " category is :  CASE RELATIONS  Agent:Object - Associated Objectplumber:pipe\n",
            "Sample test : همانطور که گچ برای معلم است [MASK] برای لولهکش است\n",
            "acc_1:  0.015151515151515152\n",
            "acc_3:  0.015151515151515152\n",
            "acc_5:  0.030303030303030304\n",
            "acc_10:  0.07575757575757576\n",
            "===================================\n"
          ]
        },
        {
          "output_type": "stream",
          "name": "stderr",
          "text": [
            "78it [00:00, 7588.86it/s]\n"
          ]
        },
        {
          "output_type": "stream",
          "name": "stdout",
          "text": [
            "\n",
            " category is :  CASE RELATIONS  Agent:Object - Product tailor:suit \n",
            "Sample test : همانطور که لباس برای خیاط است [MASK] برای قاضی است\n",
            "acc_1:  0.0\n",
            "acc_3:  0.05128205128205128\n",
            "acc_5:  0.14102564102564102\n",
            "acc_10:  0.28205128205128205\n",
            "===================================\n"
          ]
        },
        {
          "output_type": "stream",
          "name": "stderr",
          "text": [
            "28it [00:00, 6158.71it/s]\n"
          ]
        },
        {
          "output_type": "stream",
          "name": "stdout",
          "text": [
            "\n",
            " category is :  CASE RELATIONS  Agent:Object - Raw Materialbaker:flour\n",
            "Sample test : همانطور که آرد برای نانوا است [MASK] برای خیاط است\n",
            "acc_1:  0.0\n",
            "acc_3:  0.0\n",
            "acc_5:  0.07142857142857142\n",
            "acc_10:  0.2857142857142857\n",
            "===================================\n"
          ]
        },
        {
          "output_type": "stream",
          "name": "stderr",
          "text": [
            "21it [00:00, 6235.34it/s]\n"
          ]
        },
        {
          "output_type": "stream",
          "name": "stdout",
          "text": [
            "\n",
            " category is :  CASE RELATIONS  Agent:Recipient  doctor:patient \n",
            "Sample test : همانطور که مریض برای دکتر است [MASK] برای معلم است\n",
            "acc_1:  0.0\n",
            "acc_3:  0.0\n",
            "acc_5:  0.047619047619047616\n",
            "acc_10:  0.047619047619047616\n",
            "===================================\n"
          ]
        },
        {
          "output_type": "stream",
          "name": "stderr",
          "text": [
            "15it [00:00, 5060.29it/s]\n"
          ]
        },
        {
          "output_type": "stream",
          "name": "stdout",
          "text": [
            "\n",
            " category is :  CASE RELATIONS  Object:Instrument  violin:bow \n",
            "Sample test : همانطور که زخمه برای تار است [MASK] برای سیم است\n",
            "acc_1:  0.0\n",
            "acc_3:  0.0\n",
            "acc_5:  0.0\n",
            "acc_10:  0.0\n",
            "===================================\n"
          ]
        },
        {
          "output_type": "stream",
          "name": "stderr",
          "text": [
            "6it [00:00, 3398.03it/s]\n"
          ]
        },
        {
          "output_type": "stream",
          "name": "stdout",
          "text": [
            "\n",
            " category is :  CASE RELATIONS  Object:Recipient  speech:audience \n",
            "Sample test : همانطور که ورثه برای ارث است [MASK] برای سخنرانی است\n",
            "acc_1:  0.0\n",
            "acc_3:  0.0\n",
            "acc_5:  0.0\n",
            "acc_10:  0.0\n",
            "===================================\n"
          ]
        },
        {
          "output_type": "stream",
          "name": "stderr",
          "text": [
            "10it [00:00, 1230.04it/s]\n"
          ]
        },
        {
          "output_type": "stream",
          "name": "stdout",
          "text": [
            "\n",
            " category is :  CAUSE-PURPOSE  Cause:Compensatory Action  hunger:eat \n",
            "Sample test : همانطور که خوردن برای گرسنگی است [MASK] برای تشنگی است\n",
            "acc_1:  0.0\n",
            "acc_3:  0.0\n",
            "acc_5:  0.1\n",
            "acc_10:  0.2\n",
            "===================================\n"
          ]
        },
        {
          "output_type": "stream",
          "name": "stderr",
          "text": [
            "10it [00:00, 7674.85it/s]\n"
          ]
        },
        {
          "output_type": "stream",
          "name": "stdout",
          "text": [
            "\n",
            " category is :  CAUSE-PURPOSE  Cause:Effect  joke:laughter \n",
            "Sample test : همانطور که خنده برای جک است [MASK] برای کتک است\n",
            "acc_1:  0.0\n",
            "acc_3:  0.0\n",
            "acc_5:  0.0\n",
            "acc_10:  0.0\n",
            "===================================\n"
          ]
        },
        {
          "output_type": "stream",
          "name": "stderr",
          "text": [
            "10it [00:00, 6880.42it/s]\n"
          ]
        },
        {
          "output_type": "stream",
          "name": "stdout",
          "text": [
            "\n",
            " category is :  CAUSE-PURPOSE  Instrument:Intended Action  gun:shoot \n",
            "Sample test : همانطور که شلیک برای تفنگ است [MASK] برای چرتکه است\n",
            "acc_1:  0.0\n",
            "acc_3:  0.0\n",
            "acc_5:  0.0\n",
            "acc_10:  0.0\n",
            "===================================\n"
          ]
        },
        {
          "output_type": "stream",
          "name": "stderr",
          "text": [
            "21it [00:00, 3463.50it/s]\n"
          ]
        },
        {
          "output_type": "stream",
          "name": "stdout",
          "text": [
            "\n",
            " category is :  CAUSE-PURPOSE Action/Activity:Goal\n",
            "Sample test : همانطور که بردن برای مسابقه است [MASK] برای تعقیب است\n",
            "acc_1:  0.0\n",
            "acc_3:  0.047619047619047616\n",
            "acc_5:  0.09523809523809523\n",
            "acc_10:  0.09523809523809523\n",
            "===================================\n"
          ]
        },
        {
          "output_type": "stream",
          "name": "stderr",
          "text": [
            "28it [00:00, 1961.69it/s]\n"
          ]
        },
        {
          "output_type": "stream",
          "name": "stdout",
          "text": [
            "\n",
            " category is :  CAUSE-PURPOSE Agent:Goal\n",
            "Sample test : همانطور که زیارت برای زایر است [MASK] برای شکارچی است\n",
            "acc_1:  0.0\n",
            "acc_3:  0.0\n",
            "acc_5:  0.0\n",
            "acc_10:  0.03571428571428571\n",
            "===================================\n"
          ]
        },
        {
          "output_type": "stream",
          "name": "stderr",
          "text": [
            "21it [00:00, 3658.13it/s]\n"
          ]
        },
        {
          "output_type": "stream",
          "name": "stdout",
          "text": [
            "\n",
            " category is :  CAUSE-PURPOSE Enabling Agent:Object\n",
            "Sample test : همانطور که لامپ برای برق است [MASK] برای بنزین است\n",
            "acc_1:  0.0\n",
            "acc_3:  0.0\n",
            "acc_5:  0.0\n",
            "acc_10:  0.047619047619047616\n",
            "===================================\n"
          ]
        },
        {
          "output_type": "stream",
          "name": "stderr",
          "text": [
            "10it [00:00, 5230.46it/s]\n"
          ]
        },
        {
          "output_type": "stream",
          "name": "stdout",
          "text": [
            "\n",
            " category is :  CAUSE-PURPOSE Instrument:Goal\n",
            "Sample test : همانطور که توقف برای ترمز است [MASK] برای ماشین است\n",
            "acc_1:  0.0\n",
            "acc_3:  0.0\n",
            "acc_5:  0.0\n",
            "acc_10:  0.1\n",
            "===================================\n"
          ]
        },
        {
          "output_type": "stream",
          "name": "stderr",
          "text": [
            "10it [00:00, 3736.57it/s]\n"
          ]
        },
        {
          "output_type": "stream",
          "name": "stdout",
          "text": [
            "\n",
            " category is :  CAUSE-PURPOSE Prevention\n",
            "Sample test : همانطور که آبله برای واکسن است [MASK] برای سم است\n",
            "acc_1:  0.0\n",
            "acc_3:  0.0\n",
            "acc_5:  0.0\n",
            "acc_10:  0.0\n",
            "===================================\n"
          ]
        },
        {
          "output_type": "stream",
          "name": "stderr",
          "text": [
            "15it [00:00, 5322.72it/s]\n"
          ]
        },
        {
          "output_type": "stream",
          "name": "stdout",
          "text": [
            "\n",
            " category is :  Class Inclusion  Class Individual  mountain:Everest \n",
            "Sample test : همانطور که اورست برای کوه است [MASK] برای کشور است\n",
            "acc_1:  0.0\n",
            "acc_3:  0.0\n",
            "acc_5:  0.0\n",
            "acc_10:  0.13333333333333333\n",
            "===================================\n"
          ]
        },
        {
          "output_type": "stream",
          "name": "stderr",
          "text": [
            "6it [00:00, 5324.97it/s]\n"
          ]
        },
        {
          "output_type": "stream",
          "name": "stdout",
          "text": [
            "\n",
            " category is :  Class Inclusion  Functional  weapon:knife \n",
            "Sample test : همانطور که چاقو برای سلاح است [MASK] برای زینت است\n",
            "acc_1:  0.0\n",
            "acc_3:  0.0\n",
            "acc_5:  0.0\n",
            "acc_10:  0.0\n",
            "===================================\n"
          ]
        },
        {
          "output_type": "stream",
          "name": "stderr",
          "text": [
            "1it [00:00, 1771.99it/s]\n"
          ]
        },
        {
          "output_type": "stream",
          "name": "stdout",
          "text": [
            "\n",
            " category is :  Class Inclusion  Singular Collective  clothing:shirt \n",
            "Sample test : همانطور که پیراهن برای لباس است [MASK] برای ظروف است\n",
            "acc_1:  0.0\n",
            "acc_3:  0.0\n",
            "acc_5:  0.0\n",
            "acc_10:  0.0\n",
            "===================================\n"
          ]
        },
        {
          "output_type": "stream",
          "name": "stderr",
          "text": [
            "21it [00:00, 5380.93it/s]\n"
          ]
        },
        {
          "output_type": "stream",
          "name": "stdout",
          "text": [
            "\n",
            " category is :  Class Inclusion  Taxonomic  emotion:rage \n",
            "Sample test : همانطور که عصبانیت برای احساسات است [MASK] برای پستاندار است\n",
            "acc_1:  0.0\n",
            "acc_3:  0.0\n",
            "acc_5:  0.09523809523809523\n",
            "acc_10:  0.09523809523809523\n",
            "===================================\n"
          ]
        },
        {
          "output_type": "stream",
          "name": "stderr",
          "text": [
            "10it [00:00, 4323.58it/s]\n"
          ]
        },
        {
          "output_type": "stream",
          "name": "stdout",
          "text": [
            "\n",
            " category is :  Contrast  Contradictory  masculinity:femininity \n",
            "Sample test : همانطور که زنده برای مرده است [MASK] برای درست است\n",
            "acc_1:  0.0\n",
            "acc_3:  0.0\n",
            "acc_5:  0.0\n",
            "acc_10:  0.0\n",
            "===================================\n"
          ]
        },
        {
          "output_type": "stream",
          "name": "stderr",
          "text": [
            "15it [00:00, 8576.14it/s]\n"
          ]
        },
        {
          "output_type": "stream",
          "name": "stdout",
          "text": [
            "\n",
            " category is :  Contrast  Contrary  thin:fat \n",
            "Sample test : همانطور که ناراحت برای خوشحال است [MASK] برای خسته است\n",
            "acc_1:  0.0\n",
            "acc_3:  0.0\n",
            "acc_5:  0.0\n",
            "acc_10:  0.0\n",
            "===================================\n"
          ]
        },
        {
          "output_type": "stream",
          "name": "stderr",
          "text": [
            "10it [00:00, 4011.00it/s]\n"
          ]
        },
        {
          "output_type": "stream",
          "name": "stdout",
          "text": [
            "\n",
            " category is :  Contrast  Defective  fallacy:logic \n",
            "Sample test : همانطور که مغالطه برای منطق است [MASK] برای صحبت است\n",
            "acc_1:  0.0\n",
            "acc_3:  0.0\n",
            "acc_5:  0.0\n",
            "acc_10:  0.0\n",
            "===================================\n"
          ]
        },
        {
          "output_type": "stream",
          "name": "stderr",
          "text": [
            "28it [00:00, 1884.11it/s]\n"
          ]
        },
        {
          "output_type": "stream",
          "name": "stdout",
          "text": [
            "\n",
            " category is :  Contrast  Directional  front:back \n",
            "Sample test : همانطور که برگشتن برای رفتن است [MASK] برای جلو است\n",
            "acc_1:  0.0\n",
            "acc_3:  0.03571428571428571\n",
            "acc_5:  0.07142857142857142\n",
            "acc_10:  0.2857142857142857\n",
            "===================================\n"
          ]
        },
        {
          "output_type": "stream",
          "name": "stderr",
          "text": [
            "36it [00:00, 3372.68it/s]\n"
          ]
        },
        {
          "output_type": "stream",
          "name": "stdout",
          "text": [
            "\n",
            " category is :  Contrast  Reverse  buy:sell \n",
            "Sample test : همانطور که فروش برای خرید است [MASK] برای حمله است\n",
            "acc_1:  0.0\n",
            "acc_3:  0.0\n",
            "acc_5:  0.0\n",
            "acc_10:  0.05555555555555555\n",
            "===================================\n"
          ]
        },
        {
          "output_type": "stream",
          "name": "stderr",
          "text": [
            "6it [00:00, 5406.19it/s]\n"
          ]
        },
        {
          "output_type": "stream",
          "name": "stdout",
          "text": [
            "\n",
            " category is :  NONATTRIBUTE  Attribute:Nonstate (adjective:noun)  immortal:death \n",
            "Sample test : همانطور که مرگ برای پاینده است [MASK] برای سازنده است\n",
            "acc_1:  0.0\n",
            "acc_3:  0.0\n",
            "acc_5:  0.0\n",
            "acc_10:  0.0\n",
            "===================================\n"
          ]
        },
        {
          "output_type": "stream",
          "name": "stderr",
          "text": [
            "6it [00:00, 5170.71it/s]\n"
          ]
        },
        {
          "output_type": "stream",
          "name": "stdout",
          "text": [
            "\n",
            " category is :  NONATTRIBUTE  Item:Nonattribute (noun:adjective)  harmony:discordant \n",
            "Sample test : همانطور که شلوغی برای نظم است [MASK] برای تمیزی است\n",
            "acc_1:  0.0\n",
            "acc_3:  0.0\n",
            "acc_5:  0.0\n",
            "acc_10:  0.0\n",
            "===================================\n"
          ]
        },
        {
          "output_type": "stream",
          "name": "stderr",
          "text": [
            "6it [00:00, 3575.20it/s]\n"
          ]
        },
        {
          "output_type": "stream",
          "name": "stdout",
          "text": [
            "\n",
            " category is :  NONATTRIBUTE  Object Attribute:Noncondition (adjective:adjective)  exemplary:criticized \n",
            "Sample test : همانطور که منعطف برای ترد است [MASK] برای سست است\n",
            "acc_1:  0.0\n",
            "acc_3:  0.0\n",
            "acc_5:  0.0\n",
            "acc_10:  0.16666666666666666\n",
            "===================================\n"
          ]
        },
        {
          "output_type": "stream",
          "name": "stderr",
          "text": [
            "21it [00:00, 5120.65it/s]\n"
          ]
        },
        {
          "output_type": "stream",
          "name": "stdout",
          "text": [
            "\n",
            " category is :  NONATTRIBUTE  Object:Atypical Action (noun:verb)  recluse:socialize \n",
            "Sample test : همانطور که صحبت برای لال است [MASK] برای کور است\n",
            "acc_1:  0.0\n",
            "acc_3:  0.0\n",
            "acc_5:  0.0\n",
            "acc_10:  0.0\n",
            "===================================\n"
          ]
        },
        {
          "output_type": "stream",
          "name": "stderr",
          "text": [
            "15it [00:00, 1985.56it/s]\n"
          ]
        },
        {
          "output_type": "stream",
          "name": "stdout",
          "text": [
            "\n",
            " category is :  NONATTRIBUTE  Object:Nonstate (noun:noun)  famine:plenitude \n",
            "Sample test : همانطور که فراوانی برای قحطی است [MASK] برای سختی است\n",
            "acc_1:  0.0\n",
            "acc_3:  0.0\n",
            "acc_5:  0.0\n",
            "acc_10:  0.0\n",
            "===================================\n"
          ]
        },
        {
          "output_type": "stream",
          "name": "stderr",
          "text": [
            "10it [00:00, 3693.14it/s]\n"
          ]
        },
        {
          "output_type": "stream",
          "name": "stdout",
          "text": [
            "\n",
            " category is :  Part- Whole  Activity:Stage  shopping:buying \n",
            "Sample test : همانطور که پرداخت برای خرید است [MASK] برای پروژه است\n",
            "acc_1:  0.0\n",
            "acc_3:  0.0\n",
            "acc_5:  0.0\n",
            "acc_10:  0.1\n",
            "===================================\n"
          ]
        },
        {
          "output_type": "stream",
          "name": "stderr",
          "text": [
            "6it [00:00, 1628.12it/s]\n"
          ]
        },
        {
          "output_type": "stream",
          "name": "stdout",
          "text": [
            "\n",
            " category is :  Part- Whole  Collection:Member  forest:tree \n",
            "Sample test : همانطور که درخت برای جنگل است [MASK] برای ناوگان است\n",
            "acc_1:  0.0\n",
            "acc_3:  0.0\n",
            "acc_5:  0.0\n",
            "acc_10:  0.0\n",
            "===================================\n"
          ]
        },
        {
          "output_type": "stream",
          "name": "stderr",
          "text": [
            "6it [00:00, 845.48it/s]\n"
          ]
        },
        {
          "output_type": "stream",
          "name": "stdout",
          "text": [
            "\n",
            " category is :  Part- Whole  Creature:Possession  robin:nest \n",
            "Sample test : همانطور که آشیانه برای پرنده است [MASK] برای میلیونر است\n",
            "acc_1:  0.0\n",
            "acc_3:  0.16666666666666666\n",
            "acc_5:  0.16666666666666666\n",
            "acc_10:  0.16666666666666666\n",
            "===================================\n"
          ]
        },
        {
          "output_type": "stream",
          "name": "stderr",
          "text": [
            "15it [00:00, 4993.62it/s]\n"
          ]
        },
        {
          "output_type": "stream",
          "name": "stdout",
          "text": [
            "\n",
            " category is :  Part- Whole  Event:Feature  wedding:bride \n",
            "Sample test : همانطور که داماد برای عروسی است [MASK] برای عزا است\n",
            "acc_1:  0.0\n",
            "acc_3:  0.0\n",
            "acc_5:  0.0\n",
            "acc_10:  0.0\n",
            "===================================\n"
          ]
        },
        {
          "output_type": "stream",
          "name": "stderr",
          "text": [
            "6it [00:00, 1807.24it/s]\n"
          ]
        },
        {
          "output_type": "stream",
          "name": "stdout",
          "text": [
            "\n",
            " category is :  Part- Whole  Item:Distinctive Nonpart  horse:wings \n",
            "Sample test : همانطور که ماده برای عدم است [MASK] برای اسب است\n",
            "acc_1:  0.16666666666666666\n",
            "acc_3:  0.16666666666666666\n",
            "acc_5:  0.16666666666666666\n",
            "acc_10:  0.3333333333333333\n",
            "===================================\n"
          ]
        },
        {
          "output_type": "stream",
          "name": "stderr",
          "text": [
            "15it [00:00, 4450.03it/s]\n"
          ]
        },
        {
          "output_type": "stream",
          "name": "stdout",
          "text": [
            "\n",
            " category is :  Part- Whole  Item:Ex-part/Ex-possession  apostate:belief \n",
            "Sample test : همانطور که عقیده برای مرتد است [MASK] برای چوب است\n",
            "acc_1:  0.0\n",
            "acc_3:  0.0\n",
            "acc_5:  0.0\n",
            "acc_10:  0.0\n",
            "===================================\n"
          ]
        },
        {
          "output_type": "stream",
          "name": "stderr",
          "text": [
            "10it [00:00, 4039.20it/s]\n"
          ]
        },
        {
          "output_type": "stream",
          "name": "stdout",
          "text": [
            "\n",
            " category is :  Part- Whole  Item:Topological Part  mountain:foot \n",
            "Sample test : همانطور که گوشه برای اتاق است [MASK] برای کوه است\n",
            "acc_1:  0.0\n",
            "acc_3:  0.0\n",
            "acc_5:  0.1\n",
            "acc_10:  0.1\n",
            "===================================\n"
          ]
        },
        {
          "output_type": "stream",
          "name": "stderr",
          "text": [
            "10it [00:00, 2319.22it/s]\n"
          ]
        },
        {
          "output_type": "stream",
          "name": "stdout",
          "text": [
            "\n",
            " category is :  Part- Whole  Mass:Portion  water:drop \n",
            "Sample test : همانطور که قطره برای آب است [MASK] برای کیلومتر است\n",
            "acc_1:  0.0\n",
            "acc_3:  0.0\n",
            "acc_5:  0.0\n",
            "acc_10:  0.0\n",
            "===================================\n"
          ]
        },
        {
          "output_type": "stream",
          "name": "stderr",
          "text": [
            "15it [00:00, 2268.09it/s]\n"
          ]
        },
        {
          "output_type": "stream",
          "name": "stdout",
          "text": [
            "\n",
            " category is :  Part- Whole  Object:Component  car:engine \n",
            "Sample test : همانطور که موتور برای ماشین است [MASK] برای دوچرخه است\n",
            "acc_1:  0.0\n",
            "acc_3:  0.0\n",
            "acc_5:  0.0\n",
            "acc_10:  0.06666666666666667\n",
            "===================================\n"
          ]
        },
        {
          "output_type": "stream",
          "name": "stderr",
          "text": [
            "21it [00:00, 4512.78it/s]\n"
          ]
        },
        {
          "output_type": "stream",
          "name": "stdout",
          "text": [
            "\n",
            " category is :  Part- Whole  Object:Stuff  salt:sodium \n",
            "Sample test : همانطور که شیشه برای لنز است [MASK] برای نمک است\n",
            "acc_1:  0.0\n",
            "acc_3:  0.047619047619047616\n",
            "acc_5:  0.047619047619047616\n",
            "acc_10:  0.14285714285714285\n",
            "===================================\n"
          ]
        },
        {
          "output_type": "stream",
          "name": "stderr",
          "text": [
            "6it [00:00, 4163.08it/s]\n"
          ]
        },
        {
          "output_type": "stream",
          "name": "stdout",
          "text": [
            "\n",
            " category is :  REFERENCE  Concealment  code:meaning \n",
            "Sample test : همانطور که نام برای مستعار است [MASK] برای استتار است\n",
            "acc_1:  0.0\n",
            "acc_3:  0.0\n",
            "acc_5:  0.0\n",
            "acc_10:  0.0\n",
            "===================================\n"
          ]
        },
        {
          "output_type": "stream",
          "name": "stderr",
          "text": [
            "10it [00:00, 2046.60it/s]\n"
          ]
        },
        {
          "output_type": "stream",
          "name": "stdout",
          "text": [
            "\n",
            " category is :  REFERENCE  Expression  smile:friendliness \n",
            "Sample test : همانطور که ترس برای جیغ است [MASK] برای اخم است\n",
            "acc_1:  0.1\n",
            "acc_3:  0.2\n",
            "acc_5:  0.3\n",
            "acc_10:  0.6\n",
            "===================================\n"
          ]
        },
        {
          "output_type": "stream",
          "name": "stderr",
          "text": [
            "15it [00:00, 2817.24it/s]\n"
          ]
        },
        {
          "output_type": "stream",
          "name": "stdout",
          "text": [
            "\n",
            " category is :  REFERENCE  Knowledge  psychology:mind \n",
            "Sample test : همانطور که روان برای روانشناسی است [MASK] برای ریاضیات است\n",
            "acc_1:  0.0\n",
            "acc_3:  0.0\n",
            "acc_5:  0.0\n",
            "acc_10:  0.0\n",
            "===================================\n"
          ]
        },
        {
          "output_type": "stream",
          "name": "stderr",
          "text": [
            "21it [00:00, 2534.83it/s]\n"
          ]
        },
        {
          "output_type": "stream",
          "name": "stdout",
          "text": [
            "\n",
            " category is :  REFERENCE  Plan  agenda:meeting \n",
            "Sample test : همانطور که جلسه برای دستور است [MASK] برای فهرست است\n",
            "acc_1:  0.0\n",
            "acc_3:  0.0\n",
            "acc_5:  0.0\n",
            "acc_10:  0.0\n",
            "===================================\n"
          ]
        },
        {
          "output_type": "stream",
          "name": "stderr",
          "text": [
            "6it [00:00, 4723.32it/s]\n"
          ]
        },
        {
          "output_type": "stream",
          "name": "stdout",
          "text": [
            "\n",
            " category is :  REFERENCE  Sign:Significant  siren:danger \n",
            "Sample test : همانطور که خطر برای آژیر است [MASK] برای ابر است\n",
            "acc_1:  0.0\n",
            "acc_3:  0.0\n",
            "acc_5:  0.0\n",
            "acc_10:  0.0\n",
            "===================================\n"
          ]
        },
        {
          "output_type": "stream",
          "name": "stderr",
          "text": [
            "6it [00:00, 3459.22it/s]\n"
          ]
        },
        {
          "output_type": "stream",
          "name": "stdout",
          "text": [
            "\n",
            " category is :  REFERENCE Representationperson:portrait\n",
            "Sample test : همانطور که پرتره برای چهره است [MASK] برای خاطره است\n",
            "acc_1:  0.0\n",
            "acc_3:  0.0\n",
            "acc_5:  0.0\n",
            "acc_10:  0.0\n",
            "===================================\n"
          ]
        },
        {
          "output_type": "stream",
          "name": "stderr",
          "text": [
            "15it [00:00, 5671.04it/s]\n"
          ]
        },
        {
          "output_type": "stream",
          "name": "stdout",
          "text": [
            "\n",
            " category is :  Similar  Attribute Similarity  painting:movie \n",
            "Sample test : همانطور که شنکش برای چنگال است [MASK] برای مداد است\n",
            "acc_1:  0.0\n",
            "acc_3:  0.0\n",
            "acc_5:  0.0\n",
            "acc_10:  0.0\n",
            "===================================\n"
          ]
        },
        {
          "output_type": "stream",
          "name": "stderr",
          "text": [
            "28it [00:00, 2282.70it/s]\n"
          ]
        },
        {
          "output_type": "stream",
          "name": "stdout",
          "text": [
            "\n",
            " category is :  Similar  Conversion  apprentice:master \n",
            "Sample test : همانطور که استاد برای شاگرد است [MASK] برای پیله است\n",
            "acc_1:  0.03571428571428571\n",
            "acc_3:  0.07142857142857142\n",
            "acc_5:  0.14285714285714285\n",
            "acc_10:  0.32142857142857145\n",
            "===================================\n"
          ]
        },
        {
          "output_type": "stream",
          "name": "stderr",
          "text": [
            "55it [00:00, 2804.84it/s]\n"
          ]
        },
        {
          "output_type": "stream",
          "name": "stdout",
          "text": [
            "\n",
            " category is :  Similar  Coordinates  son:daughter \n",
            "Sample test : همانطور که شاه برای ملکه است [MASK] برای دختر است\n",
            "acc_1:  0.0\n",
            "acc_3:  0.0\n",
            "acc_5:  0.03636363636363636\n",
            "acc_10:  0.10909090909090909\n",
            "===================================\n"
          ]
        },
        {
          "output_type": "stream",
          "name": "stderr",
          "text": [
            "15it [00:00, 2515.17it/s]\n"
          ]
        },
        {
          "output_type": "stream",
          "name": "stdout",
          "text": [
            "\n",
            " category is :  Similar  Dimensional Excessive  concerned:obsessed \n",
            "Sample test : همانطور که پرخوری برای خوردن است [MASK] برای نگرانی است\n",
            "acc_1:  0.0\n",
            "acc_3:  0.0\n",
            "acc_5:  0.0\n",
            "acc_10:  0.0\n",
            "===================================\n"
          ]
        },
        {
          "output_type": "stream",
          "name": "stderr",
          "text": [
            "15it [00:00, 2708.80it/s]\n"
          ]
        },
        {
          "output_type": "stream",
          "name": "stdout",
          "text": [
            "\n",
            " category is :  Similar  Dimensional Naughty –  copy:plagiarize \n",
            "Sample test : همانطور که تقلب برای کپی است [MASK] برای شنیدن است\n",
            "acc_1:  0.0\n",
            "acc_3:  0.0\n",
            "acc_5:  0.0\n",
            "acc_10:  0.0\n",
            "===================================\n"
          ]
        },
        {
          "output_type": "stream",
          "name": "stderr",
          "text": [
            "10it [00:00, 4740.40it/s]\n"
          ]
        },
        {
          "output_type": "stream",
          "name": "stdout",
          "text": [
            "\n",
            " category is :  Similar  Synonymity  buy:purchase \n",
            "Sample test : همانطور که سودا برای معامله است [MASK] برای سریع است\n",
            "acc_1:  0.0\n",
            "acc_3:  0.0\n",
            "acc_5:  0.0\n",
            "acc_10:  0.0\n",
            "===================================\n"
          ]
        },
        {
          "output_type": "stream",
          "name": "stderr",
          "text": [
            "6it [00:00, 4078.74it/s]\n"
          ]
        },
        {
          "output_type": "stream",
          "name": "stdout",
          "text": [
            "\n",
            " category is :  Similar Changecrescendo:sound\n",
            "Sample test : همانطور که ارتفاع برای اوج است [MASK] برای تلون است\n",
            "acc_1:  0.0\n",
            "acc_3:  0.16666666666666666\n",
            "acc_5:  0.16666666666666666\n",
            "acc_10:  0.3333333333333333\n",
            "===================================\n"
          ]
        },
        {
          "output_type": "stream",
          "name": "stderr",
          "text": [
            "10it [00:00, 3244.61it/s]\n"
          ]
        },
        {
          "output_type": "stream",
          "name": "stdout",
          "text": [
            "\n",
            " category is :  Space-Time  Attachment  belt:waist \n",
            "Sample test : همانطور که شانه برای دست است [MASK] برای سر است\n",
            "acc_1:  0.0\n",
            "acc_3:  0.0\n",
            "acc_5:  0.1\n",
            "acc_10:  0.4\n",
            "===================================\n"
          ]
        },
        {
          "output_type": "stream",
          "name": "stderr",
          "text": [
            "10it [00:00, 2080.30it/s]\n"
          ]
        },
        {
          "output_type": "stream",
          "name": "stdout",
          "text": [
            "\n",
            " category is :  Space-Time  Item:Location  arsenal:weapon \n",
            "Sample test : همانطور که مهمات برای زاغه است [MASK] برای مرغ است\n",
            "acc_1:  0.0\n",
            "acc_3:  0.0\n",
            "acc_5:  0.1\n",
            "acc_10:  0.1\n",
            "===================================\n"
          ]
        },
        {
          "output_type": "stream",
          "name": "stderr",
          "text": [
            "10it [00:00, 2484.92it/s]\n"
          ]
        },
        {
          "output_type": "stream",
          "name": "stdout",
          "text": [
            "\n",
            " category is :  Space-Time  Location:Action/Activity  school:learn \n",
            "Sample test : همانطور که ورزش برای باشگاه است [MASK] برای فروشگاه است\n",
            "acc_1:  0.0\n",
            "acc_3:  0.0\n",
            "acc_5:  0.0\n",
            "acc_10:  0.0\n",
            "===================================\n"
          ]
        },
        {
          "output_type": "stream",
          "name": "stderr",
          "text": [
            "10it [00:00, 2517.59it/s]\n"
          ]
        },
        {
          "output_type": "stream",
          "name": "stdout",
          "text": [
            "\n",
            " category is :  Space-Time  Location:Process/Product  bakery:bread \n",
            "Sample test : همانطور که نان برای نانوایی است [MASK] برای نجاری است\n",
            "acc_1:  0.0\n",
            "acc_3:  0.0\n",
            "acc_5:  0.1\n",
            "acc_10:  0.1\n",
            "===================================\n"
          ]
        },
        {
          "output_type": "stream",
          "name": "stderr",
          "text": [
            "6it [00:00, 3308.68it/s]\n"
          ]
        },
        {
          "output_type": "stream",
          "name": "stdout",
          "text": [
            "\n",
            " category is :  Space-Time Contiguitycoast:ocean\n",
            "Sample test : همانطور که دریا برای ساحل است [MASK] برای پیادهرو است\n",
            "acc_1:  0.0\n",
            "acc_3:  0.0\n",
            "acc_5:  0.0\n",
            "acc_10:  0.0\n",
            "===================================\n"
          ]
        },
        {
          "output_type": "stream",
          "name": "stderr",
          "text": [
            "6it [00:00, 3614.74it/s]\n"
          ]
        },
        {
          "output_type": "stream",
          "name": "stdout",
          "text": [
            "\n",
            " category is :  Space-Time Sequencecoda:symphony\n",
            "Sample test : همانطور که سخنرانی برای مقدمه است [MASK] برای پیشدرآمد است\n",
            "acc_1:  0.0\n",
            "acc_3:  0.16666666666666666\n",
            "acc_5:  0.16666666666666666\n",
            "acc_10:  0.16666666666666666\n",
            "===================================\n"
          ]
        },
        {
          "output_type": "stream",
          "name": "stderr",
          "text": [
            "55it [00:00, 3411.16it/s]\n"
          ]
        },
        {
          "output_type": "stream",
          "name": "stdout",
          "text": [
            "\n",
            " category is :  Space-Time Time: Action/Activitysummer:harvest\n",
            "Sample test : همانطور که درو برای تابستان است [MASK] برای زمستان است\n",
            "acc_1:  0.01818181818181818\n",
            "acc_3:  0.01818181818181818\n",
            "acc_5:  0.07272727272727272\n",
            "acc_10:  0.10909090909090909\n",
            "===================================\n"
          ]
        },
        {
          "output_type": "stream",
          "name": "stderr",
          "text": [
            "1it [00:00, 1731.04it/s]\n"
          ]
        },
        {
          "output_type": "stream",
          "name": "stdout",
          "text": [
            "\n",
            " category is :  Space-Time Time:Associated Itemretirement:pension\n",
            "Sample test : همانطور که مستمری برای بازنشستگی است [MASK] برای نوزادی است\n",
            "acc_1:  0.0\n",
            "acc_3:  0.0\n",
            "acc_5:  0.0\n",
            "acc_10:  0.0\n",
            "===================================\n",
            "file saved to /content/drive/MyDrive/Analogy_NLP_Files/cat_sat_2.csv\n"
          ]
        }
      ]
    },
    {
      "cell_type": "markdown",
      "source": [
        "## with new method"
      ],
      "metadata": {
        "id": "RAb-YOrmjaWC"
      }
    },
    {
      "cell_type": "code",
      "source": [
        "analogy_sat3,sat_tests1, sat_tests2, sat_responses4,total_relation_5, relation_5  = new_prediction_method(df_sat_test)"
      ],
      "metadata": {
        "colab": {
          "base_uri": "https://localhost:8080/"
        },
        "id": "LKMfxJ0Cjddy",
        "outputId": "2406e45e-f2c2-4681-ece8-1269d4ae9305"
      },
      "execution_count": null,
      "outputs": [
        {
          "output_type": "stream",
          "name": "stdout",
          "text": [
            "1116\n"
          ]
        },
        {
          "output_type": "stream",
          "name": "stderr",
          "text": [
            "1116it [00:52, 21.07it/s]"
          ]
        },
        {
          "output_type": "stream",
          "name": "stdout",
          "text": [
            "\n",
            "acc_1:  0.010752688172043012\n",
            "acc_3:  0.021505376344086023\n",
            "acc_5:  0.034050179211469536\n",
            "acc_10:  0.06003584229390681\n",
            "===================================\n"
          ]
        },
        {
          "output_type": "stream",
          "name": "stderr",
          "text": [
            "\n"
          ]
        }
      ]
    },
    {
      "cell_type": "code",
      "source": [
        "save_result_new(analogy_sat3,sat_tests1, sat_tests2, sat_responses4,total_relation_5, relation_5, \"new_method_sat.csv\")"
      ],
      "metadata": {
        "id": "r0SNAuwejdtn",
        "colab": {
          "base_uri": "https://localhost:8080/"
        },
        "outputId": "578b0ac3-d43a-47d7-fcdd-e93c6a3b45a5"
      },
      "execution_count": null,
      "outputs": [
        {
          "output_type": "stream",
          "name": "stderr",
          "text": [
            "1116it [00:00, 556448.32it/s]\n"
          ]
        },
        {
          "output_type": "stream",
          "name": "stdout",
          "text": [
            "file saved to /content/drive/MyDrive/Analogy_NLP_Files/new_method_sat.csv\n"
          ]
        }
      ]
    },
    {
      "cell_type": "code",
      "source": [
        "df_sat_result3 = pd.read_csv(ROOT+\"new_method_sat.csv\", engine='python',encoding='utf-8', error_bad_lines=False)\n",
        "df_sat_result3.head()\n",
        "df_sat = df_sat.rename(columns={'Desc': 'cat'})\n",
        "acurracy_category(df_sat_result3, df_sat,\"cat_new_method_sat.csv\")"
      ],
      "metadata": {
        "colab": {
          "base_uri": "https://localhost:8080/"
        },
        "id": "qbEx0bA9DYJ_",
        "outputId": "7447e19f-555b-4a1a-9445-daac9f2137f7"
      },
      "execution_count": null,
      "outputs": [
        {
          "output_type": "stream",
          "name": "stderr",
          "text": [
            "/usr/local/lib/python3.7/dist-packages/IPython/core/interactiveshell.py:2882: FutureWarning: The error_bad_lines argument has been deprecated and will be removed in a future version.\n",
            "\n",
            "\n",
            "  exec(code_obj, self.user_global_ns, self.user_ns)\n"
          ]
        },
        {
          "output_type": "stream",
          "name": "stdout",
          "text": [
            "['Attribute  Agent Attribute:State (adjective:noun)  contentious:quarrels '\n",
            " 'Attribute  Agent/Object Attribute:Typical Action (adjective:verb)  mutable:change '\n",
            " 'Attribute  Item:Attribute (noun:adjective)  soldier:wounded '\n",
            " 'Attribute  Object Attribute:Condition (adjective:adjective)  brittle:broken '\n",
            " 'Attribute  Object:Typical Action (noun:verb)  glass:break '\n",
            " 'CASE RELATIONS  Action:Object  tie:knot '\n",
            " 'CASE RELATIONS  Action:Recipient  teach:student '\n",
            " 'CASE RELATIONS  Agent:Object - Associated Objectplumber:pipe'\n",
            " 'CASE RELATIONS  Agent:Object - Product tailor:suit '\n",
            " 'CASE RELATIONS  Agent:Object - Raw Materialbaker:flour'\n",
            " 'CASE RELATIONS  Agent:Recipient  doctor:patient '\n",
            " 'CASE RELATIONS  Object:Instrument  violin:bow '\n",
            " 'CASE RELATIONS  Object:Recipient  speech:audience '\n",
            " 'CAUSE-PURPOSE  Cause:Compensatory Action  hunger:eat '\n",
            " 'CAUSE-PURPOSE  Cause:Effect  joke:laughter '\n",
            " 'CAUSE-PURPOSE  Instrument:Intended Action  gun:shoot '\n",
            " 'CAUSE-PURPOSE Action/Activity:Goal' 'CAUSE-PURPOSE Agent:Goal'\n",
            " 'CAUSE-PURPOSE Enabling Agent:Object' 'CAUSE-PURPOSE Instrument:Goal'\n",
            " 'CAUSE-PURPOSE Prevention'\n",
            " 'Class Inclusion  Class Individual  mountain:Everest '\n",
            " 'Class Inclusion  Functional  weapon:knife '\n",
            " 'Class Inclusion  Singular Collective  clothing:shirt '\n",
            " 'Class Inclusion  Taxonomic  emotion:rage '\n",
            " 'Contrast  Contradictory  masculinity:femininity '\n",
            " 'Contrast  Contrary  thin:fat ' 'Contrast  Defective  fallacy:logic '\n",
            " 'Contrast  Directional  front:back ' 'Contrast  Reverse  buy:sell '\n",
            " 'NONATTRIBUTE  Attribute:Nonstate (adjective:noun)  immortal:death '\n",
            " 'NONATTRIBUTE  Item:Nonattribute (noun:adjective)  harmony:discordant '\n",
            " 'NONATTRIBUTE  Object Attribute:Noncondition (adjective:adjective)  exemplary:criticized '\n",
            " 'NONATTRIBUTE  Object:Atypical Action (noun:verb)  recluse:socialize '\n",
            " 'NONATTRIBUTE  Object:Nonstate (noun:noun)  famine:plenitude '\n",
            " 'Part- Whole  Activity:Stage  shopping:buying '\n",
            " 'Part- Whole  Collection:Member  forest:tree '\n",
            " 'Part- Whole  Creature:Possession  robin:nest '\n",
            " 'Part- Whole  Event:Feature  wedding:bride '\n",
            " 'Part- Whole  Item:Distinctive Nonpart  horse:wings '\n",
            " 'Part- Whole  Item:Ex-part/Ex-possession  apostate:belief '\n",
            " 'Part- Whole  Item:Topological Part  mountain:foot '\n",
            " 'Part- Whole  Mass:Portion  water:drop '\n",
            " 'Part- Whole  Object:Component  car:engine '\n",
            " 'Part- Whole  Object:Stuff  salt:sodium '\n",
            " 'REFERENCE  Concealment  code:meaning '\n",
            " 'REFERENCE  Expression  smile:friendliness '\n",
            " 'REFERENCE  Knowledge  psychology:mind '\n",
            " 'REFERENCE  Plan  agenda:meeting '\n",
            " 'REFERENCE  Sign:Significant  siren:danger '\n",
            " 'REFERENCE Representationperson:portrait'\n",
            " 'Similar  Attribute Similarity  painting:movie '\n",
            " 'Similar  Conversion  apprentice:master '\n",
            " 'Similar  Coordinates  son:daughter '\n",
            " 'Similar  Dimensional Excessive  concerned:obsessed '\n",
            " 'Similar  Dimensional Naughty –  copy:plagiarize '\n",
            " 'Similar  Dimensional Similarity   stream:river '\n",
            " 'Similar  Synonymity  buy:purchase ' 'Similar Changecrescendo:sound'\n",
            " 'Space-Time  Attachment  belt:waist '\n",
            " 'Space-Time  Item:Location  arsenal:weapon '\n",
            " 'Space-Time  Location:Action/Activity  school:learn '\n",
            " 'Space-Time  Location:Process/Product  bakery:bread '\n",
            " 'Space-Time Contiguitycoast:ocean' 'Space-Time Sequencecoda:symphony'\n",
            " 'Space-Time Time: Action/Activitysummer:harvest'\n",
            " 'Space-Time Time:Associated Itemretirement:pension']\n"
          ]
        },
        {
          "output_type": "stream",
          "name": "stderr",
          "text": [
            "4it [00:00, 2105.57it/s]\n"
          ]
        },
        {
          "output_type": "stream",
          "name": "stdout",
          "text": [
            "\n",
            " category is :  Attribute  Agent Attribute:State (adjective:noun)  contentious:quarrels \n",
            "Sample test1 : گچ [MASK] معلم است\n",
            "Sample test2 : هم نجار [MASK] است\n",
            "acc_1:  0.0\n",
            "acc_3:  0.0\n",
            "acc_5:  0.0\n",
            "acc_10:  0.0\n",
            "===================================\n"
          ]
        },
        {
          "output_type": "stream",
          "name": "stderr",
          "text": [
            "4it [00:00, 4044.65it/s]\n"
          ]
        },
        {
          "output_type": "stream",
          "name": "stdout",
          "text": [
            "\n",
            " category is :  Attribute  Agent/Object Attribute:Typical Action (adjective:verb)  mutable:change \n",
            "Sample test1 : گچ [MASK] گچکار است\n",
            "Sample test2 : : خیاط [MASK] است\n",
            "acc_1:  0.0\n",
            "acc_3:  0.0\n",
            "acc_5:  0.0\n",
            "acc_10:  0.0\n",
            "===================================\n"
          ]
        },
        {
          "output_type": "stream",
          "name": "stderr",
          "text": [
            "8it [00:00, 6179.45it/s]\n"
          ]
        },
        {
          "output_type": "stream",
          "name": "stdout",
          "text": [
            "\n",
            " category is :  Attribute  Item:Attribute (noun:adjective)  soldier:wounded \n",
            "Sample test1 : دانشاموز [MASK] آموزش است\n",
            "Sample test2 : نیازمند درمان [MASK] است\n",
            "acc_1:  0.0\n",
            "acc_3:  0.0\n",
            "acc_5:  0.0\n",
            "acc_10:  0.0\n",
            "===================================\n"
          ]
        },
        {
          "output_type": "stream",
          "name": "stderr",
          "text": [
            "4it [00:00, 3882.72it/s]\n"
          ]
        },
        {
          "output_type": "stream",
          "name": "stdout",
          "text": [
            "\n",
            " category is :  Attribute  Object Attribute:Condition (adjective:adjective)  brittle:broken \n",
            "Sample test1 : گچ [MASK] معلم است\n",
            "Sample test2 : هم خیاط [MASK] است\n",
            "acc_1:  0.0\n",
            "acc_3:  0.0\n",
            "acc_5:  0.0\n",
            "acc_10:  0.25\n",
            "===================================\n"
          ]
        },
        {
          "output_type": "stream",
          "name": "stderr",
          "text": [
            "11it [00:00, 2976.03it/s]\n"
          ]
        },
        {
          "output_type": "stream",
          "name": "stdout",
          "text": [
            "\n",
            " category is :  Attribute  Object:Typical Action (noun:verb)  glass:break \n",
            "Sample test1 : لوله [MASK] لولهکش است\n",
            "Sample test2 : دیگر گچکار [MASK] است\n",
            "acc_1:  0.0\n",
            "acc_3:  0.0\n",
            "acc_5:  0.0\n",
            "acc_10:  0.0\n",
            "===================================\n"
          ]
        },
        {
          "output_type": "stream",
          "name": "stderr",
          "text": [
            "10it [00:00, 2158.45it/s]\n"
          ]
        },
        {
          "output_type": "stream",
          "name": "stdout",
          "text": [
            "\n",
            " category is :  CASE RELATIONS  Action:Object  tie:knot \n",
            "Sample test1 : نان [MASK] نانوا است\n",
            "Sample test2 : روستا قناد [MASK] است\n",
            "acc_1:  0.0\n",
            "acc_3:  0.1\n",
            "acc_5:  0.1\n",
            "acc_10:  0.1\n",
            "===================================\n"
          ]
        },
        {
          "output_type": "stream",
          "name": "stderr",
          "text": [
            "5it [00:00, 4168.46it/s]\n"
          ]
        },
        {
          "output_type": "stream",
          "name": "stdout",
          "text": [
            "\n",
            " category is :  CASE RELATIONS  Action:Recipient  teach:student \n",
            "Sample test1 : کتاب [MASK] نویسنده است\n",
            "Sample test2 : من شاعر [MASK] است\n",
            "acc_1:  0.0\n",
            "acc_3:  0.0\n",
            "acc_5:  0.0\n",
            "acc_10:  0.2\n",
            "===================================\n"
          ]
        },
        {
          "output_type": "stream",
          "name": "stderr",
          "text": [
            "12it [00:00, 2864.31it/s]\n"
          ]
        },
        {
          "output_type": "stream",
          "name": "stdout",
          "text": [
            "\n",
            " category is :  CASE RELATIONS  Agent:Object - Associated Objectplumber:pipe\n",
            "Sample test1 : لباس [MASK] خیاط است\n",
            "Sample test2 : او برنامه نویس [MASK] است\n",
            "acc_1:  0.0\n",
            "acc_3:  0.08333333333333333\n",
            "acc_5:  0.08333333333333333\n",
            "acc_10:  0.08333333333333333\n",
            "===================================\n"
          ]
        },
        {
          "output_type": "stream",
          "name": "stderr",
          "text": [
            "13it [00:00, 3881.40it/s]\n"
          ]
        },
        {
          "output_type": "stream",
          "name": "stdout",
          "text": [
            "\n",
            " category is :  CASE RELATIONS  Agent:Object - Product tailor:suit \n",
            "Sample test1 : ماشین [MASK] راننده است\n",
            "Sample test2 : بدون دانشجو [MASK] است\n",
            "acc_1:  0.0\n",
            "acc_3:  0.0\n",
            "acc_5:  0.0\n",
            "acc_10:  0.0\n",
            "===================================\n"
          ]
        },
        {
          "output_type": "stream",
          "name": "stderr",
          "text": [
            "8it [00:00, 2463.07it/s]\n"
          ]
        },
        {
          "output_type": "stream",
          "name": "stdout",
          "text": [
            "\n",
            " category is :  CASE RELATIONS  Agent:Object - Raw Materialbaker:flour\n",
            "Sample test1 : بوم [MASK] نقاش است\n",
            "Sample test2 : بوم آهنگر [MASK] است\n",
            "acc_1:  0.0\n",
            "acc_3:  0.125\n",
            "acc_5:  0.125\n",
            "acc_10:  0.125\n",
            "===================================\n"
          ]
        },
        {
          "output_type": "stream",
          "name": "stderr",
          "text": [
            "7it [00:00, 4354.81it/s]\n"
          ]
        },
        {
          "output_type": "stream",
          "name": "stdout",
          "text": [
            "\n",
            " category is :  CASE RELATIONS  Agent:Recipient  doctor:patient \n",
            "Sample test1 : حکم [MASK] قاضی است\n",
            "Sample test2 : قصاص آهنگساز [MASK] است\n",
            "acc_1:  0.14285714285714285\n",
            "acc_3:  0.14285714285714285\n",
            "acc_5:  0.14285714285714285\n",
            "acc_10:  0.14285714285714285\n",
            "===================================\n"
          ]
        },
        {
          "output_type": "stream",
          "name": "stderr",
          "text": [
            "6it [00:00, 6529.79it/s]\n"
          ]
        },
        {
          "output_type": "stream",
          "name": "stdout",
          "text": [
            "\n",
            " category is :  CASE RELATIONS  Object:Instrument  violin:bow \n",
            "Sample test1 : آرد [MASK] آسیابان است\n",
            "Sample test2 : گندم برنامه نویس [MASK] است\n",
            "acc_1:  0.0\n",
            "acc_3:  0.0\n",
            "acc_5:  0.0\n",
            "acc_10:  0.0\n",
            "===================================\n"
          ]
        },
        {
          "output_type": "stream",
          "name": "stderr",
          "text": [
            "4it [00:00, 4815.50it/s]\n"
          ]
        },
        {
          "output_type": "stream",
          "name": "stdout",
          "text": [
            "\n",
            " category is :  CASE RELATIONS  Object:Recipient  speech:audience \n",
            "Sample test1 : کتاب [MASK] نویسنده است\n",
            "Sample test2 : من آشپز [MASK] است\n",
            "acc_1:  0.0\n",
            "acc_3:  0.0\n",
            "acc_5:  0.0\n",
            "acc_10:  0.0\n",
            "===================================\n"
          ]
        },
        {
          "output_type": "stream",
          "name": "stderr",
          "text": [
            "5it [00:00, 4725.44it/s]\n"
          ]
        },
        {
          "output_type": "stream",
          "name": "stdout",
          "text": [
            "\n",
            " category is :  CAUSE-PURPOSE  Cause:Compensatory Action  hunger:eat \n",
            "Sample test1 : شیرینی [MASK] قناد است\n",
            "Sample test2 : همیشه آشپز [MASK] است\n",
            "acc_1:  0.0\n",
            "acc_3:  0.0\n",
            "acc_5:  0.0\n",
            "acc_10:  0.0\n",
            "===================================\n"
          ]
        },
        {
          "output_type": "stream",
          "name": "stderr",
          "text": [
            "5it [00:00, 3282.96it/s]\n"
          ]
        },
        {
          "output_type": "stream",
          "name": "stdout",
          "text": [
            "\n",
            " category is :  CAUSE-PURPOSE  Cause:Effect  joke:laughter \n",
            "Sample test1 : شیرینی [MASK] قناد است\n",
            "Sample test2 : همیشه شاعر [MASK] است\n",
            "acc_1:  0.0\n",
            "acc_3:  0.0\n",
            "acc_5:  0.0\n",
            "acc_10:  0.0\n",
            "===================================\n"
          ]
        },
        {
          "output_type": "stream",
          "name": "stderr",
          "text": [
            "5it [00:00, 3690.22it/s]\n"
          ]
        },
        {
          "output_type": "stream",
          "name": "stdout",
          "text": [
            "\n",
            " category is :  CAUSE-PURPOSE  Instrument:Intended Action  gun:shoot \n",
            "Sample test1 : پارچه [MASK] خیاط است\n",
            "Sample test2 : ان نقاش [MASK] است\n",
            "acc_1:  0.0\n",
            "acc_3:  0.0\n",
            "acc_5:  0.0\n",
            "acc_10:  0.0\n",
            "===================================\n"
          ]
        },
        {
          "output_type": "stream",
          "name": "stderr",
          "text": [
            "7it [00:00, 3872.86it/s]\n"
          ]
        },
        {
          "output_type": "stream",
          "name": "stdout",
          "text": [
            "\n",
            " category is :  CAUSE-PURPOSE Action/Activity:Goal\n",
            "Sample test1 : کد [MASK] برنامه نویس است\n",
            "Sample test2 : زیر نجار [MASK] است\n",
            "acc_1:  0.0\n",
            "acc_3:  0.0\n",
            "acc_5:  0.0\n",
            "acc_10:  0.0\n",
            "===================================\n"
          ]
        },
        {
          "output_type": "stream",
          "name": "stderr",
          "text": [
            "8it [00:00, 3676.80it/s]\n"
          ]
        },
        {
          "output_type": "stream",
          "name": "stdout",
          "text": [
            "\n",
            " category is :  CAUSE-PURPOSE Agent:Goal\n",
            "Sample test1 : نقاشی [MASK] نقاش است\n",
            "Sample test2 : یک نجار [MASK] است\n",
            "acc_1:  0.125\n",
            "acc_3:  0.125\n",
            "acc_5:  0.125\n",
            "acc_10:  0.125\n",
            "===================================\n"
          ]
        },
        {
          "output_type": "stream",
          "name": "stderr",
          "text": [
            "7it [00:00, 3809.54it/s]\n"
          ]
        },
        {
          "output_type": "stream",
          "name": "stdout",
          "text": [
            "\n",
            " category is :  CAUSE-PURPOSE Enabling Agent:Object\n",
            "Sample test1 : شعر [MASK] شاعر است\n",
            "Sample test2 : او عکاس [MASK] است\n",
            "acc_1:  0.0\n",
            "acc_3:  0.0\n",
            "acc_5:  0.0\n",
            "acc_10:  0.14285714285714285\n",
            "===================================\n"
          ]
        },
        {
          "output_type": "stream",
          "name": "stderr",
          "text": [
            "5it [00:00, 3280.90it/s]\n"
          ]
        },
        {
          "output_type": "stream",
          "name": "stdout",
          "text": [
            "\n",
            " category is :  CAUSE-PURPOSE Instrument:Goal\n",
            "Sample test1 : آرد [MASK] نانوا است\n",
            "Sample test2 : گندم قناد [MASK] است\n",
            "acc_1:  0.0\n",
            "acc_3:  0.0\n",
            "acc_5:  0.0\n",
            "acc_10:  0.0\n",
            "===================================\n"
          ]
        },
        {
          "output_type": "stream",
          "name": "stderr",
          "text": [
            "5it [00:00, 3738.91it/s]\n"
          ]
        },
        {
          "output_type": "stream",
          "name": "stdout",
          "text": [
            "\n",
            " category is :  CAUSE-PURPOSE Prevention\n",
            "Sample test1 : شواهد [MASK] قاضی است\n",
            "Sample test2 : دست نقاش [MASK] است\n",
            "acc_1:  0.0\n",
            "acc_3:  0.0\n",
            "acc_5:  0.0\n",
            "acc_10:  0.0\n",
            "===================================\n"
          ]
        },
        {
          "output_type": "stream",
          "name": "stderr",
          "text": [
            "6it [00:00, 4201.31it/s]\n"
          ]
        },
        {
          "output_type": "stream",
          "name": "stdout",
          "text": [
            "\n",
            " category is :  Class Inclusion  Class Individual  mountain:Everest \n",
            "Sample test1 : بی پول [MASK] گدا است\n",
            "Sample test2 : ، بنزین [MASK] است\n",
            "acc_1:  0.0\n",
            "acc_3:  0.0\n",
            "acc_5:  0.0\n",
            "acc_10:  0.0\n",
            "===================================\n"
          ]
        },
        {
          "output_type": "stream",
          "name": "stderr",
          "text": [
            "4it [00:00, 3288.36it/s]\n"
          ]
        },
        {
          "output_type": "stream",
          "name": "stdout",
          "text": [
            "\n",
            " category is :  Class Inclusion  Functional  weapon:knife \n",
            "Sample test1 : تغییر [MASK] متغیر است\n",
            "Sample test2 : رنگ متضرر [MASK] است\n",
            "acc_1:  0.0\n",
            "acc_3:  0.0\n",
            "acc_5:  0.0\n",
            "acc_10:  0.0\n",
            "===================================\n"
          ]
        },
        {
          "output_type": "stream",
          "name": "stderr",
          "text": [
            "2it [00:00, 2528.97it/s]\n"
          ]
        },
        {
          "output_type": "stream",
          "name": "stdout",
          "text": [
            "\n",
            " category is :  Class Inclusion  Singular Collective  clothing:shirt \n",
            "Sample test1 : ضرر [MASK] متضرر است\n",
            "Sample test2 : ، متوجه [MASK] است\n",
            "acc_1:  0.0\n",
            "acc_3:  0.0\n",
            "acc_5:  0.0\n",
            "acc_10:  0.0\n",
            "===================================\n"
          ]
        },
        {
          "output_type": "stream",
          "name": "stderr",
          "text": [
            "7it [00:00, 3873.37it/s]\n"
          ]
        },
        {
          "output_type": "stream",
          "name": "stdout",
          "text": [
            "\n",
            " category is :  Class Inclusion  Taxonomic  emotion:rage \n",
            "Sample test1 : بیپولی [MASK] فقیر است\n",
            "Sample test2 : ، ملتهب [MASK] است\n",
            "acc_1:  0.0\n",
            "acc_3:  0.0\n",
            "acc_5:  0.0\n",
            "acc_10:  0.0\n",
            "===================================\n"
          ]
        },
        {
          "output_type": "stream",
          "name": "stderr",
          "text": [
            "5it [00:00, 3564.16it/s]\n"
          ]
        },
        {
          "output_type": "stream",
          "name": "stdout",
          "text": [
            "\n",
            " category is :  Contrast  Contradictory  masculinity:femininity \n",
            "Sample test1 : گلوله [MASK] شلیک است\n",
            "Sample test2 : اماده تقطیر [MASK] است\n",
            "acc_1:  0.2\n",
            "acc_3:  0.4\n",
            "acc_5:  0.4\n",
            "acc_10:  0.8\n",
            "===================================\n"
          ]
        },
        {
          "output_type": "stream",
          "name": "stderr",
          "text": [
            "6it [00:00, 4392.71it/s]\n"
          ]
        },
        {
          "output_type": "stream",
          "name": "stdout",
          "text": [
            "\n",
            " category is :  Contrast  Contrary  thin:fat \n",
            "Sample test1 : گلوله [MASK] شلیک است\n",
            "Sample test2 : اماده پختن [MASK] است\n",
            "acc_1:  0.0\n",
            "acc_3:  0.0\n",
            "acc_5:  0.0\n",
            "acc_10:  0.0\n",
            "===================================\n"
          ]
        },
        {
          "output_type": "stream",
          "name": "stderr",
          "text": [
            "5it [00:00, 3638.36it/s]\n"
          ]
        },
        {
          "output_type": "stream",
          "name": "stdout",
          "text": [
            "\n",
            " category is :  Contrast  Defective  fallacy:logic \n",
            "Sample test1 : مجرم [MASK] دستگیری است\n",
            "Sample test2 : قابل آموزش [MASK] است\n",
            "acc_1:  0.0\n",
            "acc_3:  0.0\n",
            "acc_5:  0.0\n",
            "acc_10:  0.0\n",
            "===================================\n"
          ]
        },
        {
          "output_type": "stream",
          "name": "stderr",
          "text": [
            "8it [00:00, 3715.06it/s]\n"
          ]
        },
        {
          "output_type": "stream",
          "name": "stdout",
          "text": [
            "\n",
            " category is :  Contrast  Directional  front:back \n",
            "Sample test1 : مساله [MASK] حل است\n",
            "Sample test2 : قابل پختن [MASK] است\n",
            "acc_1:  0.0\n",
            "acc_3:  0.0\n",
            "acc_5:  0.0\n",
            "acc_10:  0.125\n",
            "===================================\n"
          ]
        },
        {
          "output_type": "stream",
          "name": "stderr",
          "text": [
            "9it [00:00, 4066.00it/s]\n"
          ]
        },
        {
          "output_type": "stream",
          "name": "stdout",
          "text": [
            "\n",
            " category is :  Contrast  Reverse  buy:sell \n",
            "Sample test1 : آب [MASK] تقطیر است\n",
            "Sample test2 : قابل پختن [MASK] است\n",
            "acc_1:  0.0\n",
            "acc_3:  0.0\n",
            "acc_5:  0.0\n",
            "acc_10:  0.2222222222222222\n",
            "===================================\n"
          ]
        },
        {
          "output_type": "stream",
          "name": "stderr",
          "text": [
            "4it [00:00, 3287.72it/s]\n"
          ]
        },
        {
          "output_type": "stream",
          "name": "stdout",
          "text": [
            "\n",
            " category is :  NONATTRIBUTE  Attribute:Nonstate (adjective:noun)  immortal:death \n",
            "Sample test1 : سوزن [MASK] خیاط است\n",
            "Sample test2 : ان دانشجو [MASK] است\n",
            "acc_1:  0.0\n",
            "acc_3:  0.0\n",
            "acc_5:  0.0\n",
            "acc_10:  0.0\n",
            "===================================\n"
          ]
        },
        {
          "output_type": "stream",
          "name": "stderr",
          "text": [
            "4it [00:00, 3647.22it/s]\n"
          ]
        },
        {
          "output_type": "stream",
          "name": "stdout",
          "text": [
            "\n",
            " category is :  NONATTRIBUTE  Item:Nonattribute (noun:adjective)  harmony:discordant \n",
            "Sample test1 : گچ [MASK] گچکار است\n",
            "Sample test2 : : نجار [MASK] است\n",
            "acc_1:  0.0\n",
            "acc_3:  0.0\n",
            "acc_5:  0.0\n",
            "acc_10:  0.0\n",
            "===================================\n"
          ]
        },
        {
          "output_type": "stream",
          "name": "stderr",
          "text": [
            "4it [00:00, 5410.26it/s]\n"
          ]
        },
        {
          "output_type": "stream",
          "name": "stdout",
          "text": [
            "\n",
            " category is :  NONATTRIBUTE  Object Attribute:Noncondition (adjective:adjective)  exemplary:criticized \n",
            "Sample test1 : آجر [MASK] بنا است\n",
            "Sample test2 : این خیاط [MASK] است\n",
            "acc_1:  0.0\n",
            "acc_3:  0.0\n",
            "acc_5:  0.0\n",
            "acc_10:  0.0\n",
            "===================================\n"
          ]
        },
        {
          "output_type": "stream",
          "name": "stderr",
          "text": [
            "7it [00:00, 3768.47it/s]\n"
          ]
        },
        {
          "output_type": "stream",
          "name": "stdout",
          "text": [
            "\n",
            " category is :  NONATTRIBUTE  Object:Atypical Action (noun:verb)  recluse:socialize \n",
            "Sample test1 : سوزن [MASK] خیاط است\n",
            "Sample test2 : ان آهنگر [MASK] است\n",
            "acc_1:  0.0\n",
            "acc_3:  0.0\n",
            "acc_5:  0.0\n",
            "acc_10:  0.14285714285714285\n",
            "===================================\n"
          ]
        },
        {
          "output_type": "stream",
          "name": "stderr",
          "text": [
            "6it [00:00, 3979.42it/s]\n"
          ]
        },
        {
          "output_type": "stream",
          "name": "stdout",
          "text": [
            "\n",
            " category is :  NONATTRIBUTE  Object:Nonstate (noun:noun)  famine:plenitude \n",
            "Sample test1 : آجر [MASK] بنا است\n",
            "Sample test2 : این نجار [MASK] است\n",
            "acc_1:  0.0\n",
            "acc_3:  0.0\n",
            "acc_5:  0.0\n",
            "acc_10:  0.0\n",
            "===================================\n"
          ]
        },
        {
          "output_type": "stream",
          "name": "stderr",
          "text": [
            "5it [00:00, 3734.25it/s]\n"
          ]
        },
        {
          "output_type": "stream",
          "name": "stdout",
          "text": [
            "\n",
            " category is :  Part- Whole  Activity:Stage  shopping:buying \n",
            "Sample test1 : شکسته [MASK] شکستنی است\n",
            "Sample test2 : شدن منعطف [MASK] است\n",
            "acc_1:  0.0\n",
            "acc_3:  0.0\n",
            "acc_5:  0.0\n",
            "acc_10:  0.0\n",
            "===================================\n"
          ]
        },
        {
          "output_type": "stream",
          "name": "stderr",
          "text": [
            "4it [00:00, 3304.55it/s]\n"
          ]
        },
        {
          "output_type": "stream",
          "name": "stdout",
          "text": [
            "\n",
            " category is :  Part- Whole  Collection:Member  forest:tree \n",
            "Sample test1 : آتشزا  [MASK] بنزین است\n",
            "Sample test2 : همان گیج [MASK] است\n",
            "acc_1:  0.0\n",
            "acc_3:  0.0\n",
            "acc_5:  0.0\n",
            "acc_10:  0.0\n",
            "===================================\n"
          ]
        },
        {
          "output_type": "stream",
          "name": "stderr",
          "text": [
            "4it [00:00, 3587.17it/s]\n"
          ]
        },
        {
          "output_type": "stream",
          "name": "stdout",
          "text": [
            "\n",
            " category is :  Part- Whole  Creature:Possession  robin:nest \n",
            "Sample test1 : جنگ [MASK] سرباز است\n",
            "Sample test2 : بدون پرنده [MASK] است\n",
            "acc_1:  0.0\n",
            "acc_3:  0.0\n",
            "acc_5:  0.0\n",
            "acc_10:  0.0\n",
            "===================================\n"
          ]
        },
        {
          "output_type": "stream",
          "name": "stderr",
          "text": [
            "6it [00:00, 4085.36it/s]\n"
          ]
        },
        {
          "output_type": "stream",
          "name": "stdout",
          "text": [
            "\n",
            " category is :  Part- Whole  Event:Feature  wedding:bride \n",
            "Sample test1 : زخمی [MASK] سرباز است\n",
            "Sample test2 : که لاکپشت [MASK] است\n",
            "acc_1:  0.0\n",
            "acc_3:  0.0\n",
            "acc_5:  0.0\n",
            "acc_10:  0.0\n",
            "===================================\n"
          ]
        },
        {
          "output_type": "stream",
          "name": "stderr",
          "text": [
            "4it [00:00, 3223.91it/s]\n"
          ]
        },
        {
          "output_type": "stream",
          "name": "stdout",
          "text": [
            "\n",
            " category is :  Part- Whole  Item:Distinctive Nonpart  horse:wings \n",
            "Sample test1 : جنگ [MASK] سرباز است\n",
            "Sample test2 : بدون کد [MASK] است\n",
            "acc_1:  0.0\n",
            "acc_3:  0.0\n",
            "acc_5:  0.0\n",
            "acc_10:  0.0\n",
            "===================================\n"
          ]
        },
        {
          "output_type": "stream",
          "name": "stderr",
          "text": [
            "6it [00:00, 3884.81it/s]\n"
          ]
        },
        {
          "output_type": "stream",
          "name": "stdout",
          "text": [
            "\n",
            " category is :  Part- Whole  Item:Ex-part/Ex-possession  apostate:belief \n",
            "Sample test1 : شکار [MASK] شیر است\n",
            "Sample test2 : شیر پرنده [MASK] است\n",
            "acc_1:  0.0\n",
            "acc_3:  0.0\n",
            "acc_5:  0.0\n",
            "acc_10:  0.0\n",
            "===================================\n"
          ]
        },
        {
          "output_type": "stream",
          "name": "stderr",
          "text": [
            "5it [00:00, 3562.95it/s]\n"
          ]
        },
        {
          "output_type": "stream",
          "name": "stdout",
          "text": [
            "\n",
            " category is :  Part- Whole  Item:Topological Part  mountain:foot \n",
            "Sample test1 : عصبانی [MASK] منزجر است\n",
            "Sample test2 : و حساس [MASK] است\n",
            "acc_1:  0.0\n",
            "acc_3:  0.2\n",
            "acc_5:  0.2\n",
            "acc_10:  0.2\n",
            "===================================\n"
          ]
        },
        {
          "output_type": "stream",
          "name": "stderr",
          "text": [
            "5it [00:00, 3138.04it/s]\n"
          ]
        },
        {
          "output_type": "stream",
          "name": "stdout",
          "text": [
            "\n",
            " category is :  Part- Whole  Mass:Portion  water:drop \n",
            "Sample test1 : آتشزا  [MASK] بنزین است\n",
            "Sample test2 : همان خوک [MASK] است\n",
            "acc_1:  0.0\n",
            "acc_3:  0.0\n",
            "acc_5:  0.0\n",
            "acc_10:  0.0\n",
            "===================================\n"
          ]
        },
        {
          "output_type": "stream",
          "name": "stderr",
          "text": [
            "6it [00:00, 3797.47it/s]\n"
          ]
        },
        {
          "output_type": "stream",
          "name": "stdout",
          "text": [
            "\n",
            " category is :  Part- Whole  Object:Component  car:engine \n",
            "Sample test1 : شکستنی [MASK] شیشه است\n",
            "Sample test2 : ، بنزین [MASK] است\n",
            "acc_1:  0.0\n",
            "acc_3:  0.0\n",
            "acc_5:  0.0\n",
            "acc_10:  0.0\n",
            "===================================\n"
          ]
        },
        {
          "output_type": "stream",
          "name": "stderr",
          "text": [
            "7it [00:00, 3626.05it/s]\n"
          ]
        },
        {
          "output_type": "stream",
          "name": "stdout",
          "text": [
            "\n",
            " category is :  Part- Whole  Object:Stuff  salt:sodium \n",
            "Sample test1 : شکستن [MASK] شیشه است\n",
            "Sample test2 : با ماشین [MASK] است\n",
            "acc_1:  0.0\n",
            "acc_3:  0.0\n",
            "acc_5:  0.0\n",
            "acc_10:  0.0\n",
            "===================================\n"
          ]
        },
        {
          "output_type": "stream",
          "name": "stderr",
          "text": [
            "4it [00:00, 3163.13it/s]\n"
          ]
        },
        {
          "output_type": "stream",
          "name": "stdout",
          "text": [
            "\n",
            " category is :  REFERENCE  Concealment  code:meaning \n",
            "Sample test1 : درد [MASK] کتک است\n",
            "Sample test2 : من نیرو [MASK] است\n",
            "acc_1:  0.0\n",
            "acc_3:  0.0\n",
            "acc_5:  0.0\n",
            "acc_10:  0.0\n",
            "===================================\n"
          ]
        },
        {
          "output_type": "stream",
          "name": "stderr",
          "text": [
            "5it [00:00, 3390.71it/s]\n"
          ]
        },
        {
          "output_type": "stream",
          "name": "stdout",
          "text": [
            "\n",
            " category is :  REFERENCE  Expression  smile:friendliness \n",
            "Sample test1 : ورثه [MASK] ارث است\n",
            "Sample test2 : به سخنرانی [MASK] است\n",
            "acc_1:  0.0\n",
            "acc_3:  0.0\n",
            "acc_5:  0.0\n",
            "acc_10:  0.0\n",
            "===================================\n"
          ]
        },
        {
          "output_type": "stream",
          "name": "stderr",
          "text": [
            "6it [00:00, 3492.34it/s]\n"
          ]
        },
        {
          "output_type": "stream",
          "name": "stdout",
          "text": [
            "\n",
            " category is :  REFERENCE  Knowledge  psychology:mind \n",
            "Sample test1 : خنده [MASK] جک است\n",
            "Sample test2 : من کتک [MASK] است\n",
            "acc_1:  0.0\n",
            "acc_3:  0.0\n",
            "acc_5:  0.0\n",
            "acc_10:  0.0\n",
            "===================================\n"
          ]
        },
        {
          "output_type": "stream",
          "name": "stderr",
          "text": [
            "7it [00:00, 3781.57it/s]\n"
          ]
        },
        {
          "output_type": "stream",
          "name": "stdout",
          "text": [
            "\n",
            " category is :  REFERENCE  Plan  agenda:meeting \n",
            "Sample test1 : خوردن [MASK] گرسنگی است\n",
            "Sample test2 : غذا ترس [MASK] است\n",
            "acc_1:  0.0\n",
            "acc_3:  0.0\n",
            "acc_5:  0.0\n",
            "acc_10:  0.0\n",
            "===================================\n"
          ]
        },
        {
          "output_type": "stream",
          "name": "stderr",
          "text": [
            "4it [00:00, 3354.77it/s]\n"
          ]
        },
        {
          "output_type": "stream",
          "name": "stdout",
          "text": [
            "\n",
            " category is :  REFERENCE  Sign:Significant  siren:danger \n",
            "Sample test1 : آرشه [MASK] ویلن است\n",
            "Sample test2 : ان سوراخ [MASK] است\n",
            "acc_1:  0.0\n",
            "acc_3:  0.0\n",
            "acc_5:  0.0\n",
            "acc_10:  0.0\n",
            "===================================\n"
          ]
        },
        {
          "output_type": "stream",
          "name": "stderr",
          "text": [
            "4it [00:00, 3119.60it/s]\n"
          ]
        },
        {
          "output_type": "stream",
          "name": "stdout",
          "text": [
            "\n",
            " category is :  REFERENCE Representationperson:portrait\n",
            "Sample test1 : قهرمان [MASK] مدال است\n",
            "Sample test2 : این مدرک [MASK] است\n",
            "acc_1:  0.0\n",
            "acc_3:  0.0\n",
            "acc_5:  0.0\n",
            "acc_10:  0.0\n",
            "===================================\n"
          ]
        },
        {
          "output_type": "stream",
          "name": "stderr",
          "text": [
            "6it [00:00, 3250.56it/s]\n"
          ]
        },
        {
          "output_type": "stream",
          "name": "stdout",
          "text": [
            "\n",
            " category is :  Similar  Attribute Similarity  painting:movie \n",
            "Sample test1 : اجرا [MASK] کد است\n",
            "Sample test2 : با دهان [MASK] است\n",
            "acc_1:  0.0\n",
            "acc_3:  0.0\n",
            "acc_5:  0.16666666666666666\n",
            "acc_10:  0.16666666666666666\n",
            "===================================\n"
          ]
        },
        {
          "output_type": "stream",
          "name": "stderr",
          "text": [
            "8it [00:00, 3559.40it/s]\n"
          ]
        },
        {
          "output_type": "stream",
          "name": "stdout",
          "text": [
            "\n",
            " category is :  Similar  Conversion  apprentice:master \n",
            "Sample test1 : حرکت [MASK] ماشین است\n",
            "Sample test2 : حرکت چشم [MASK] است\n",
            "acc_1:  0.0\n",
            "acc_3:  0.0\n",
            "acc_5:  0.0\n",
            "acc_10:  0.0\n",
            "===================================\n"
          ]
        },
        {
          "output_type": "stream",
          "name": "stderr",
          "text": [
            "11it [00:00, 4111.33it/s]\n"
          ]
        },
        {
          "output_type": "stream",
          "name": "stdout",
          "text": [
            "\n",
            " category is :  Similar  Coordinates  son:daughter \n",
            "Sample test1 : طناب [MASK] گره است\n",
            "Sample test2 : یک تقطیر [MASK] است\n",
            "acc_1:  0.09090909090909091\n",
            "acc_3:  0.09090909090909091\n",
            "acc_5:  0.09090909090909091\n",
            "acc_10:  0.18181818181818182\n",
            "===================================\n"
          ]
        },
        {
          "output_type": "stream",
          "name": "stderr",
          "text": [
            "6it [00:00, 3492.83it/s]\n"
          ]
        },
        {
          "output_type": "stream",
          "name": "stdout",
          "text": [
            "\n",
            " category is :  Similar  Dimensional Excessive  concerned:obsessed \n",
            "Sample test1 : پرواز [MASK] پرنده است\n",
            "Sample test2 : یک قلب [MASK] است\n",
            "acc_1:  0.0\n",
            "acc_3:  0.0\n",
            "acc_5:  0.0\n",
            "acc_10:  0.0\n",
            "===================================\n"
          ]
        },
        {
          "output_type": "stream",
          "name": "stderr",
          "text": [
            "6it [00:00, 3763.96it/s]\n"
          ]
        },
        {
          "output_type": "stream",
          "name": "stdout",
          "text": [
            "\n",
            " category is :  Similar  Dimensional Naughty –  copy:plagiarize \n",
            "Sample test1 : شنا [MASK] ماهی است\n",
            "Sample test2 : با قلب [MASK] است\n",
            "acc_1:  0.0\n",
            "acc_3:  0.0\n",
            "acc_5:  0.0\n",
            "acc_10:  0.0\n",
            "===================================\n"
          ]
        },
        {
          "output_type": "stream",
          "name": "stderr",
          "text": [
            "1it [00:00, 1769.00it/s]\n"
          ]
        },
        {
          "output_type": "stream",
          "name": "stdout",
          "text": [
            "\n",
            " category is :  Similar  Dimensional Similarity   stream:river \n",
            "Sample test1 : پرواز [MASK] پرنده است\n",
            "Sample test2 : یک کد [MASK] است\n",
            "acc_1:  0.0\n",
            "acc_3:  0.0\n",
            "acc_5:  0.0\n",
            "acc_10:  0.0\n",
            "===================================\n"
          ]
        },
        {
          "output_type": "stream",
          "name": "stderr",
          "text": [
            "5it [00:00, 3477.86it/s]\n"
          ]
        },
        {
          "output_type": "stream",
          "name": "stdout",
          "text": [
            "\n",
            " category is :  Similar  Synonymity  buy:purchase \n",
            "Sample test1 : شکار [MASK] شیر است\n",
            "Sample test2 : شیر چشم [MASK] است\n",
            "acc_1:  0.0\n",
            "acc_3:  0.0\n",
            "acc_5:  0.0\n",
            "acc_10:  0.0\n",
            "===================================\n"
          ]
        },
        {
          "output_type": "stream",
          "name": "stderr",
          "text": [
            "4it [00:00, 2965.22it/s]\n"
          ]
        },
        {
          "output_type": "stream",
          "name": "stdout",
          "text": [
            "\n",
            " category is :  Similar Changecrescendo:sound\n",
            "Sample test1 : زمین [MASK] شخم است\n",
            "Sample test2 : قابل پرسیدن [MASK] است\n",
            "acc_1:  0.0\n",
            "acc_3:  0.0\n",
            "acc_5:  0.0\n",
            "acc_10:  0.0\n",
            "===================================\n"
          ]
        },
        {
          "output_type": "stream",
          "name": "stderr",
          "text": [
            "5it [00:00, 3049.52it/s]\n"
          ]
        },
        {
          "output_type": "stream",
          "name": "stdout",
          "text": [
            "\n",
            " category is :  Space-Time  Attachment  belt:waist \n",
            "Sample test1 : سیمچین [MASK] سیم است\n",
            "Sample test2 : بدون میخ [MASK] است\n",
            "acc_1:  0.0\n",
            "acc_3:  0.0\n",
            "acc_5:  0.0\n",
            "acc_10:  0.0\n",
            "===================================\n"
          ]
        },
        {
          "output_type": "stream",
          "name": "stderr",
          "text": [
            "5it [00:00, 3360.82it/s]\n"
          ]
        },
        {
          "output_type": "stream",
          "name": "stdout",
          "text": [
            "\n",
            " category is :  Space-Time  Item:Location  arsenal:weapon \n",
            "Sample test1 : گندم [MASK] آسیابان است\n",
            "Sample test2 : بهترین قناد [MASK] است\n",
            "acc_1:  0.0\n",
            "acc_3:  0.0\n",
            "acc_5:  0.2\n",
            "acc_10:  0.2\n",
            "===================================\n"
          ]
        },
        {
          "output_type": "stream",
          "name": "stderr",
          "text": [
            "5it [00:00, 3895.16it/s]\n"
          ]
        },
        {
          "output_type": "stream",
          "name": "stdout",
          "text": [
            "\n",
            " category is :  Space-Time  Location:Action/Activity  school:learn \n",
            "Sample test1 : مریض [MASK] دکتر است\n",
            "Sample test2 : ، استاد [MASK] است\n",
            "acc_1:  0.0\n",
            "acc_3:  0.2\n",
            "acc_5:  0.2\n",
            "acc_10:  0.4\n",
            "===================================\n"
          ]
        },
        {
          "output_type": "stream",
          "name": "stderr",
          "text": [
            "5it [00:00, 3212.06it/s]\n"
          ]
        },
        {
          "output_type": "stream",
          "name": "stdout",
          "text": [
            "\n",
            " category is :  Space-Time  Location:Process/Product  bakery:bread \n",
            "Sample test1 : رنگ [MASK] نقاش است\n",
            "Sample test2 : دست نجار [MASK] است\n",
            "acc_1:  0.0\n",
            "acc_3:  0.0\n",
            "acc_5:  0.0\n",
            "acc_10:  0.0\n",
            "===================================\n"
          ]
        },
        {
          "output_type": "stream",
          "name": "stderr",
          "text": [
            "4it [00:00, 3147.70it/s]\n"
          ]
        },
        {
          "output_type": "stream",
          "name": "stdout",
          "text": [
            "\n",
            " category is :  Space-Time Contiguitycoast:ocean\n",
            "Sample test1 : دانشاموز [MASK] معلم است\n",
            "Sample test2 : دوم استاد [MASK] است\n",
            "acc_1:  0.0\n",
            "acc_3:  0.0\n",
            "acc_5:  0.0\n",
            "acc_10:  0.0\n",
            "===================================\n"
          ]
        },
        {
          "output_type": "stream",
          "name": "stderr",
          "text": [
            "4it [00:00, 3234.47it/s]\n"
          ]
        },
        {
          "output_type": "stream",
          "name": "stdout",
          "text": [
            "\n",
            " category is :  Space-Time Sequencecoda:symphony\n",
            "Sample test1 : زخمه [MASK] تار است\n",
            "Sample test2 : دوم میخ [MASK] است\n",
            "acc_1:  0.0\n",
            "acc_3:  0.0\n",
            "acc_5:  0.0\n",
            "acc_10:  0.0\n",
            "===================================\n"
          ]
        },
        {
          "output_type": "stream",
          "name": "stderr",
          "text": [
            "11it [00:00, 4039.34it/s]\n"
          ]
        },
        {
          "output_type": "stream",
          "name": "stdout",
          "text": [
            "\n",
            " category is :  Space-Time Time: Action/Activitysummer:harvest\n",
            "Sample test1 : دانشاموز [MASK] معلم است\n",
            "Sample test2 : دوم زندانبان [MASK] است\n",
            "acc_1:  0.0\n",
            "acc_3:  0.09090909090909091\n",
            "acc_5:  0.09090909090909091\n",
            "acc_10:  0.2727272727272727\n",
            "===================================\n"
          ]
        },
        {
          "output_type": "stream",
          "name": "stderr",
          "text": [
            "2it [00:00, 2243.54it/s]\n"
          ]
        },
        {
          "output_type": "stream",
          "name": "stdout",
          "text": [
            "\n",
            " category is :  Space-Time Time:Associated Itemretirement:pension\n",
            "Sample test1 : زخمه [MASK] تار است\n",
            "Sample test2 : دوم سیم [MASK] است\n",
            "acc_1:  0.0\n",
            "acc_3:  0.0\n",
            "acc_5:  0.0\n",
            "acc_10:  0.0\n",
            "===================================\n",
            "file saved to /content/drive/MyDrive/Analogy_NLP_Files/cat_new_method_sat.csv\n"
          ]
        }
      ]
    },
    {
      "cell_type": "code",
      "source": [
        "df_set_result4 = pd.read_csv(ROOT+\"new_method_sat.csv\", engine='python',encoding='utf-8', error_bad_lines=False) \n",
        "df_set_result4.head() \n",
        "relation_by_cat(df_set_result4, df_sat_test, \"set_cat_rel.csv\")"
      ],
      "metadata": {
        "colab": {
          "base_uri": "https://localhost:8080/"
        },
        "id": "G6CFzEo6Dz_q",
        "outputId": "e8d5a8b2-8da8-4dc5-cc23-1bfb6abdaa38"
      },
      "execution_count": null,
      "outputs": [
        {
          "output_type": "stream",
          "name": "stderr",
          "text": [
            "/usr/local/lib/python3.7/dist-packages/IPython/core/interactiveshell.py:2882: FutureWarning: The error_bad_lines argument has been deprecated and will be removed in a future version.\n",
            "\n",
            "\n",
            "  exec(code_obj, self.user_global_ns, self.user_ns)\n"
          ]
        },
        {
          "output_type": "stream",
          "name": "stdout",
          "text": [
            "['Attribute  Agent Attribute:State (adjective:noun)  contentious:quarrels '\n",
            " 'Attribute  Agent/Object Attribute:Typical Action (adjective:verb)  mutable:change '\n",
            " 'Attribute  Item:Attribute (noun:adjective)  soldier:wounded '\n",
            " 'Attribute  Object Attribute:Condition (adjective:adjective)  brittle:broken '\n",
            " 'Attribute  Object:Typical Action (noun:verb)  glass:break '\n",
            " 'CASE RELATIONS  Action:Object  tie:knot '\n",
            " 'CASE RELATIONS  Action:Recipient  teach:student '\n",
            " 'CASE RELATIONS  Agent:Object - Associated Objectplumber:pipe'\n",
            " 'CASE RELATIONS  Agent:Object - Product tailor:suit '\n",
            " 'CASE RELATIONS  Agent:Object - Raw Materialbaker:flour'\n",
            " 'CASE RELATIONS  Agent:Recipient  doctor:patient '\n",
            " 'CASE RELATIONS  Object:Instrument  violin:bow '\n",
            " 'CASE RELATIONS  Object:Recipient  speech:audience '\n",
            " 'CAUSE-PURPOSE  Cause:Compensatory Action  hunger:eat '\n",
            " 'CAUSE-PURPOSE  Cause:Effect  joke:laughter '\n",
            " 'CAUSE-PURPOSE  Instrument:Intended Action  gun:shoot '\n",
            " 'CAUSE-PURPOSE Action/Activity:Goal' 'CAUSE-PURPOSE Agent:Goal'\n",
            " 'CAUSE-PURPOSE Enabling Agent:Object' 'CAUSE-PURPOSE Instrument:Goal'\n",
            " 'CAUSE-PURPOSE Prevention'\n",
            " 'Class Inclusion  Class Individual  mountain:Everest '\n",
            " 'Class Inclusion  Functional  weapon:knife '\n",
            " 'Class Inclusion  Singular Collective  clothing:shirt '\n",
            " 'Class Inclusion  Taxonomic  emotion:rage '\n",
            " 'Contrast  Contradictory  masculinity:femininity '\n",
            " 'Contrast  Contrary  thin:fat ' 'Contrast  Defective  fallacy:logic '\n",
            " 'Contrast  Directional  front:back ' 'Contrast  Reverse  buy:sell '\n",
            " 'NONATTRIBUTE  Attribute:Nonstate (adjective:noun)  immortal:death '\n",
            " 'NONATTRIBUTE  Item:Nonattribute (noun:adjective)  harmony:discordant '\n",
            " 'NONATTRIBUTE  Object Attribute:Noncondition (adjective:adjective)  exemplary:criticized '\n",
            " 'NONATTRIBUTE  Object:Atypical Action (noun:verb)  recluse:socialize '\n",
            " 'NONATTRIBUTE  Object:Nonstate (noun:noun)  famine:plenitude '\n",
            " 'Part- Whole  Activity:Stage  shopping:buying '\n",
            " 'Part- Whole  Collection:Member  forest:tree '\n",
            " 'Part- Whole  Creature:Possession  robin:nest '\n",
            " 'Part- Whole  Event:Feature  wedding:bride '\n",
            " 'Part- Whole  Item:Distinctive Nonpart  horse:wings '\n",
            " 'Part- Whole  Item:Ex-part/Ex-possession  apostate:belief '\n",
            " 'Part- Whole  Item:Topological Part  mountain:foot '\n",
            " 'Part- Whole  Mass:Portion  water:drop '\n",
            " 'Part- Whole  Object:Component  car:engine '\n",
            " 'Part- Whole  Object:Stuff  salt:sodium '\n",
            " 'REFERENCE  Concealment  code:meaning '\n",
            " 'REFERENCE  Expression  smile:friendliness '\n",
            " 'REFERENCE  Knowledge  psychology:mind '\n",
            " 'REFERENCE  Plan  agenda:meeting '\n",
            " 'REFERENCE  Sign:Significant  siren:danger '\n",
            " 'REFERENCE Representationperson:portrait'\n",
            " 'Similar  Attribute Similarity  painting:movie '\n",
            " 'Similar  Conversion  apprentice:master '\n",
            " 'Similar  Coordinates  son:daughter '\n",
            " 'Similar  Dimensional Excessive  concerned:obsessed '\n",
            " 'Similar  Dimensional Naughty –  copy:plagiarize '\n",
            " 'Similar  Synonymity  buy:purchase ' 'Similar Changecrescendo:sound'\n",
            " 'Space-Time  Attachment  belt:waist '\n",
            " 'Space-Time  Item:Location  arsenal:weapon '\n",
            " 'Space-Time  Location:Action/Activity  school:learn '\n",
            " 'Space-Time  Location:Process/Product  bakery:bread '\n",
            " 'Space-Time Contiguitycoast:ocean' 'Space-Time Sequencecoda:symphony'\n",
            " 'Space-Time Time: Action/Activitysummer:harvest'\n",
            " 'Space-Time Time:Associated Itemretirement:pension']\n"
          ]
        },
        {
          "output_type": "stream",
          "name": "stderr",
          "text": [
            "6it [00:00, 2388.56it/s]\n",
            "6it [00:00, 3400.79it/s]\n",
            "28it [00:00, 4322.59it/s]\n",
            "6it [00:00, 3567.09it/s]\n",
            "55it [00:00, 3376.86it/s]\n",
            "45it [00:00, 2415.70it/s]\n",
            "10it [00:00, 4149.08it/s]\n",
            "66it [00:00, 2196.98it/s]\n",
            "78it [00:00, 3812.38it/s]\n",
            "28it [00:00, 2622.44it/s]\n",
            "21it [00:00, 2984.87it/s]\n",
            "15it [00:00, 2847.20it/s]\n",
            "6it [00:00, 3320.91it/s]\n",
            "10it [00:00, 2788.58it/s]\n",
            "10it [00:00, 3077.26it/s]\n",
            "10it [00:00, 3738.57it/s]\n",
            "21it [00:00, 3820.61it/s]\n",
            "28it [00:00, 1295.78it/s]\n",
            "21it [00:00, 3762.35it/s]\n",
            "10it [00:00, 3269.39it/s]\n",
            "10it [00:00, 3480.75it/s]\n",
            "15it [00:00, 3676.20it/s]\n",
            "6it [00:00, 3665.28it/s]\n",
            "1it [00:00, 1315.24it/s]\n",
            "21it [00:00, 2048.33it/s]\n",
            "10it [00:00, 3696.72it/s]\n",
            "15it [00:00, 3605.42it/s]\n",
            "10it [00:00, 3672.45it/s]\n",
            "28it [00:00, 3982.38it/s]\n",
            "36it [00:00, 1994.20it/s]\n",
            "6it [00:00, 3501.09it/s]\n",
            "6it [00:00, 3601.29it/s]\n",
            "6it [00:00, 1412.86it/s]\n",
            "21it [00:00, 4235.86it/s]\n",
            "15it [00:00, 3570.63it/s]\n",
            "10it [00:00, 5675.65it/s]\n",
            "6it [00:00, 2146.71it/s]\n",
            "6it [00:00, 1734.38it/s]\n",
            "15it [00:00, 2812.45it/s]\n",
            "6it [00:00, 1889.75it/s]\n",
            "15it [00:00, 3612.25it/s]\n",
            "10it [00:00, 5598.38it/s]\n",
            "10it [00:00, 4070.95it/s]\n",
            "15it [00:00, 3812.77it/s]\n",
            "21it [00:00, 3333.85it/s]\n",
            "6it [00:00, 2469.17it/s]\n",
            "10it [00:00, 2922.86it/s]\n",
            "15it [00:00, 3477.86it/s]\n",
            "21it [00:00, 3401.71it/s]\n",
            "6it [00:00, 3630.91it/s]\n",
            "6it [00:00, 3506.94it/s]\n",
            "15it [00:00, 3176.86it/s]\n",
            "28it [00:00, 2373.30it/s]\n",
            "55it [00:00, 3963.76it/s]\n",
            "15it [00:00, 4155.79it/s]\n",
            "15it [00:00, 4282.52it/s]\n",
            "10it [00:00, 3924.31it/s]\n",
            "6it [00:00, 1073.22it/s]\n",
            "10it [00:00, 3830.41it/s]\n",
            "10it [00:00, 4237.95it/s]\n",
            "10it [00:00, 3844.11it/s]\n",
            "10it [00:00, 3463.50it/s]\n",
            "6it [00:00, 4562.33it/s]\n",
            "6it [00:00, 1647.19it/s]\n",
            "55it [00:00, 971.07it/s]\n",
            "1it [00:00, 1348.22it/s]\n"
          ]
        }
      ]
    },
    {
      "cell_type": "markdown",
      "source": [
        "# GPT2"
      ],
      "metadata": {
        "id": "IYMKExEPB5YX"
      }
    },
    {
      "cell_type": "code",
      "source": [
        "normalizer = hazm.Normalizer(persian_numbers=False)\n",
        "\n",
        "def normalize_input(text):\n",
        "    text = normalizer.normalize(text)\n",
        "    return text\n",
        "\n",
        "def sents_as_output(text, num_sents=1):\n",
        "    sents = hazm.sent_tokenize(text)\n",
        "    if num_sents > 0:\n",
        "        return \" \".join(sents[:num_sents])\n",
        "    return \" \".join(sents[0])\n",
        "\n",
        "\n",
        "generator = pipeline('text-generation', \"HooshvareLab/gpt2-fa\")"
      ],
      "metadata": {
        "id": "PcA_KDfRB7_d",
        "colab": {
          "base_uri": "https://localhost:8080/",
          "height": 272,
          "referenced_widgets": [
            "665b93da7b56464d8dc1998e039f5c37",
            "50a4868b4c9246ad989e72adaacac839",
            "85db5875f2b14a5db9b02062ac98e456",
            "6605ed86837a4046be79109b9873fcfd",
            "ee2ebb5a418d42b8b6ef9913e4fee3a8",
            "8c80852c2c6d42b4bfe3e558a62152f1",
            "6137f74b4dad4b7fbdd5216bf81c9f97",
            "81d16f5e45c54197866847b2b7ac9c43",
            "ed91ee5110904cdfa846080d6b2787e9",
            "0ef41bd5f0314302b065e6b3d0beab9b",
            "70ce4b0d8cae41249fa93590356b4f1e",
            "1ceaceb6f3304bf08f655697f55a0c16",
            "a068b0ecf93d4ff18a65e259bc540b34",
            "d4201e6f5cdb42a18aebec736323bf21",
            "f5406f070f0042279e1c14770343610e",
            "c0e271d9ac81404ca7fdb2e642ae5f35",
            "643b895191fa48e3a450b7c6d177d84f",
            "4cf500ef88c1410b88131863655885e3",
            "4047ac1281e54c99a0c9a96845ae83fa",
            "1aba1275a2204e04a7fd9832285fef0c",
            "dbe60103229b4c9fac68a35496ba0785",
            "e8943a40b3814fa792ba6ed6c4cf76f8",
            "5588e33a28d64befa5af617eca4a68fa",
            "b15bdd68be524c7ab793a320ade63529",
            "69de048331444c5abc6bdb2329d3dee9",
            "c1e75c322220420faf636f372a5b06a0",
            "6fd2e8b310d646b891321100500a0305",
            "c447a58d51c24340a0d3504fc6d01af8",
            "fe3fd8e5eb934deb9e50fc3655afa8f3",
            "11cee1c2d1fc4b86b5625fbdcff65868",
            "822e976e12f342f59d114ef09bf2bd15",
            "7b082300b9014eae8aea86df498bc491",
            "7759d0ace3ff4efeb415ba53a225b1f3",
            "1761a6450ab34014a74602bcfc1e3c84",
            "30bb70b05baa4450885df4cf9dfa8d60",
            "02efdf08892e4f798b7c04adc55546e2",
            "5217fbe0a93c47e498cfc3205b1e01bd",
            "af0bf69bbc084c1fb7eaeded14c4c4ea",
            "250b3d420a7245d6be555423c377d940",
            "83ad4fc8a84c4ea0adf5a7ad556790d1",
            "e75514d5b3404c798f52cc76fe58d37e",
            "c0b0a570cb1c40ed97b3c70f55730a81",
            "223ca56fcd2f4bd6889d013cd4a4ab79",
            "ae6f877cf01d4ef49d177aedbea2c4f6",
            "e92650a9679f44149d9e4122fd2fce72",
            "d039ab2fba444cb7ad7d8d6c41dd5a1a",
            "8ef6890f603e4541985387143f807e68",
            "2b4e2ceb6d84431c806220a95311625a",
            "0d1f339885294794b488274299ba814c",
            "9cdb80c7d22e478f91fd9162308a5e05",
            "6a6cc3bb63dc46b08c56f2e0c5e0dd80",
            "c0865011c98e4f58962609d3071ea2a5",
            "0f446e632e29459c84cb88ec943d007a",
            "e8a4787a47c0495ca5d4b2fe42c27631",
            "7e8876589175461595877c4fb328f957",
            "f79adf47b5d94c528af705e338f44064",
            "84f9aa859d9545808e7e6679bbfcb1a8",
            "39508147a27a47c2878c62ec6f567192",
            "fcd77a678f9245bf902fd32345746873",
            "8294cf5d3b344844a4e764940ec46c60",
            "a49cb0861470444486b9c4e972d2c0c6",
            "b363eb7eaa28474689abb64f301a49d7",
            "b6854fa74749416ab6ae55f62a7bfb99",
            "1de53736e15e4cf39971505d7df21fe0",
            "e0e73999d68e401abc54bdd60660823b",
            "29a6086e7bf14baa989e8f203298604b",
            "47836239e3c94342b452fa20f2029e6a",
            "5c8b55caef51436f801a757cb97ac72b",
            "3dfcb63341de4927bd95ad80a35c986d",
            "dfc33e7f53064c788fa109a9d707e376",
            "f55aa62526c14fbca94b87599dd497e2",
            "d873803905a34e7bbcaf893a4e18f444",
            "c1623d7ba3b54eba9cdd68161443df37",
            "a5a0532b97b64f228a7d502bdf624e43",
            "74168aff517f4d79b9478cb6fdfa9805",
            "5f1c74de17e14ea8a44c6bf77efa3e5c",
            "b6156b69e10a4676bc3cd829e6ead41e",
            "06f6938d68a6468ca96801f28104a043",
            "fd99a05f6397417f9645f60b3e992c5d",
            "23047075c3fd4b22b70b9945f4e0c999",
            "890025caf77d47a4b6ff54e58943ed0b",
            "411ff36aca3640bab2095b378f9812bb",
            "6f463b79102d4da288395c4c1c37ec4a",
            "9a304543ba6743fb9b8e88ac16c787b6",
            "b6e6978873f4468497f3f65357ddf05f",
            "8f0575c3457846c29b08ab68863efd21",
            "defcae8772394f24a49cee69f776f0c1",
            "0cca42e78c34491c81367d61801f2a84"
          ]
        },
        "outputId": "2375dc0f-feef-4410-d6df-89d6f1558a7a"
      },
      "execution_count": null,
      "outputs": [
        {
          "output_type": "display_data",
          "data": {
            "application/vnd.jupyter.widget-view+json": {
              "model_id": "665b93da7b56464d8dc1998e039f5c37",
              "version_minor": 0,
              "version_major": 2
            },
            "text/plain": [
              "Downloading:   0%|          | 0.00/808 [00:00<?, ?B/s]"
            ]
          },
          "metadata": {}
        },
        {
          "output_type": "display_data",
          "data": {
            "application/vnd.jupyter.widget-view+json": {
              "model_id": "1ceaceb6f3304bf08f655697f55a0c16",
              "version_minor": 0,
              "version_major": 2
            },
            "text/plain": [
              "Downloading:   0%|          | 0.00/463M [00:00<?, ?B/s]"
            ]
          },
          "metadata": {}
        },
        {
          "output_type": "display_data",
          "data": {
            "application/vnd.jupyter.widget-view+json": {
              "model_id": "5588e33a28d64befa5af617eca4a68fa",
              "version_minor": 0,
              "version_major": 2
            },
            "text/plain": [
              "Downloading:   0%|          | 0.00/728 [00:00<?, ?B/s]"
            ]
          },
          "metadata": {}
        },
        {
          "output_type": "display_data",
          "data": {
            "application/vnd.jupyter.widget-view+json": {
              "model_id": "1761a6450ab34014a74602bcfc1e3c84",
              "version_minor": 0,
              "version_major": 2
            },
            "text/plain": [
              "Downloading:   0%|          | 0.00/1.11M [00:00<?, ?B/s]"
            ]
          },
          "metadata": {}
        },
        {
          "output_type": "display_data",
          "data": {
            "application/vnd.jupyter.widget-view+json": {
              "model_id": "e92650a9679f44149d9e4122fd2fce72",
              "version_minor": 0,
              "version_major": 2
            },
            "text/plain": [
              "Downloading:   0%|          | 0.00/855k [00:00<?, ?B/s]"
            ]
          },
          "metadata": {}
        },
        {
          "output_type": "display_data",
          "data": {
            "application/vnd.jupyter.widget-view+json": {
              "model_id": "f79adf47b5d94c528af705e338f44064",
              "version_minor": 0,
              "version_major": 2
            },
            "text/plain": [
              "Downloading:   0%|          | 0.00/2.62M [00:00<?, ?B/s]"
            ]
          },
          "metadata": {}
        },
        {
          "output_type": "display_data",
          "data": {
            "application/vnd.jupyter.widget-view+json": {
              "model_id": "47836239e3c94342b452fa20f2029e6a",
              "version_minor": 0,
              "version_major": 2
            },
            "text/plain": [
              "Downloading:   0%|          | 0.00/14.0 [00:00<?, ?B/s]"
            ]
          },
          "metadata": {}
        },
        {
          "output_type": "display_data",
          "data": {
            "application/vnd.jupyter.widget-view+json": {
              "model_id": "06f6938d68a6468ca96801f28104a043",
              "version_minor": 0,
              "version_major": 2
            },
            "text/plain": [
              "Downloading:   0%|          | 0.00/104 [00:00<?, ?B/s]"
            ]
          },
          "metadata": {}
        }
      ]
    },
    {
      "cell_type": "code",
      "source": [
        "text = \"تهران به ایران مانند پاریس به\"\n",
        "text = normalize_input(text)\n",
        "\n",
        "outputs = generator(text)\n",
        "for output in outputs:\n",
        "    generated = output[\"generated_text\"]\n",
        "    print(sents_as_output(generated))"
      ],
      "metadata": {
        "id": "9VMBJGKTB87f",
        "colab": {
          "base_uri": "https://localhost:8080/"
        },
        "outputId": "f5710e41-529b-435b-b2af-d38f0811c74b"
      },
      "execution_count": null,
      "outputs": [
        {
          "output_type": "stream",
          "name": "stderr",
          "text": [
            "Setting `pad_token_id` to `eos_token_id`:5 for open-end generation.\n"
          ]
        },
        {
          "output_type": "stream",
          "name": "stdout",
          "text": [
            "تهران به ایران مانند پاریس به چشم می‌خورد.\n"
          ]
        }
      ]
    },
    {
      "cell_type": "code",
      "source": [
        ""
      ],
      "metadata": {
        "id": "1aHpqTtJEVzA"
      },
      "execution_count": null,
      "outputs": []
    }
  ]
}